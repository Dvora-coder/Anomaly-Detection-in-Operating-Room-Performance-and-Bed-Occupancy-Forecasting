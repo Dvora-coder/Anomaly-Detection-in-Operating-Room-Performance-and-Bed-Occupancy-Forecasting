{
  "cells": [
    {
      "cell_type": "markdown",
      "source": [
        "# Operating Room Utilization Rate Calculation for 2018\n",
        "\n",
        "In this notebook, we calculate the daily operating room utilization rate for each theatre during 2018 using the cleaned Assuta Ramat HaHayal dataset. Our aim is to quantify how effectively scheduled and unscheduled procedure hours occupy the total available block time, producing a key performance indicator for capacity planning and efficiency analysis.\n",
        "\n",
        "**1. Imports and Data Loading**  \n",
        "- We import essential libraries (`pandas`, `numpy`, `matplotlib.pyplot`, `datetime`, etc.).  \n",
        "- We load the cleaned Excel file (`2018_data_Assuta_nomissings_for_stat_final_1205.xlsx`) into a pandas DataFrame and inspect the first rows to confirm correct parsing.\n",
        "\n",
        "**2. Initial Inspection and Copy**  \n",
        "- We display basic DataFrame info (columns, dtypes, head) to verify data integrity.  \n",
        "- We create a working copy (`df_copy`) to preserve the original raw data.\n",
        "\n",
        "**3. Data Cleaning and Duplicate Check**  \n",
        "- We count and report any fully duplicated rows to gauge data redundancy.  \n",
        "- We examine “No Show” status and remove such entries, since they do not contribute to room utilization.\n",
        "\n",
        "**4. Date and Time Parsing**  \n",
        "- We convert key date columns (`Actual Surgery Room Entry Date`, `End of Surgery Date (Exit from OR)`, `Planned Start/End Date for Doctor Block`) to `datetime`.  \n",
        "- We parse multiple time-only fields—`Planned Start/End Time for Doctor Block`, `Incision Time`, `Closure Time`, `Actual Surgery Room Entry/Exit Time`, `End of Surgery Time (Exit from OR)`—first to `datetime.time` or `timedelta`, handling invalid values and counting missing entries after each conversion.\n",
        "\n",
        "**5. Timestamp Construction**  \n",
        "- We merge each planned date with its corresponding planned start/end time to form full `Planned Start DateTime` and `Planned End DateTime` columns, enabling accurate duration calculations.\n",
        "\n",
        "**6. Block Duration and Service Hours**  \n",
        "- We compute each block’s total available hours (`Block Duration Hours`) as the difference between planned end and start datetimes (converted to hours).  \n",
        "- We group by surgeon, date, and operating room to extract the maximum block duration per room per day, then sum these maxima to define that day’s total service hours (`SH_r_hours`).\n",
        "\n",
        "**7. Scheduled and Unscheduled Procedure Hours**  \n",
        "- We calculate **Scheduled Procedure (SP) hours** by limiting actual surgery times to the planned block window and summing per room per day.  \n",
        "- We calculate **Unscheduled (SU) hours** by summing any time before incision and after closure that falls within the block window.  \n",
        "- We aggregate these values into `total_SP_per_day_room` and `SU_p_limited_hours`.\n",
        "\n",
        "**8. Utilization Rate Calculation**  \n",
        "- We define the daily utilization rate as:  \n",
        "  ```python\n",
        "  daily_utilization_rate = (total_SP_per_day_room + SU_p_limited_hours) / SH_r_hours * 100\n",
        "\n",
        "We handle edge cases by assigning NaN where service hours are zero or missing, and report the number of rows with a valid utilization rate.\n",
        "\n",
        "**9. Final Merge, Formatting, and Export**\n",
        "\n",
        "We merge daily_utilization_rate back onto the main DataFrame by date and room number.\n",
        "\n",
        "We format all time-related columns consistently as HH:MM:SS strings for reporting.\n",
        "\n",
        "We save the enriched dataset to 2018_data_with_UTR.xlsx for further analysis and visualization.\n",
        "\n",
        "By following these steps, we produce a robust utilization metric for each operating room in 2018, laying the groundwork for in-depth efficiency studies, trend identification, and strategic resource allocation."
      ],
      "metadata": {
        "id": "V2A-tUNlwhLY"
      },
      "id": "V2A-tUNlwhLY"
    },
    {
      "cell_type": "markdown",
      "id": "87882ba5",
      "metadata": {
        "id": "87882ba5"
      },
      "source": [
        "Calculating the target variable - utilization percentage:"
      ]
    },
    {
      "cell_type": "code",
      "execution_count": 1,
      "id": "890dc9d3",
      "metadata": {
        "id": "890dc9d3"
      },
      "outputs": [],
      "source": [
        "#Import the libraries:\n",
        "\n",
        "import pandas as pd\n",
        "import numpy as np\n",
        "import matplotlib.pyplot as plt\n",
        "import seaborn as sns\n",
        "from scipy import stats\n",
        "import warnings\n",
        "import itertools\n",
        "from pandas.api.types import is_numeric_dtype\n",
        "from scipy.stats import shapiro"
      ]
    },
    {
      "cell_type": "code",
      "source": [
        "file_path = r\"/content/2018_data_Assuta_nomissings_for_stat_final_1205.xlsx\"\n",
        "df = pd.read_excel(file_path)\n",
        "print(df.head())"
      ],
      "metadata": {
        "id": "L7s3T9uG7pH-",
        "colab": {
          "base_uri": "https://localhost:8080/"
        },
        "outputId": "557022f3-71e4-4ae9-90b8-f3a2478d6aa4"
      },
      "id": "L7s3T9uG7pH-",
      "execution_count": 2,
      "outputs": [
        {
          "output_type": "stream",
          "name": "stdout",
          "text": [
            "   patient_id  Site Code Main Surgeon Code  Activity Code  Activity Type Code  \\\n",
            "0          43         20              2982          26.33                  19   \n",
            "1          44         20              2982          26.33                  19   \n",
            "2          45         20              2982          26.33                  19   \n",
            "3          46         20              2982          26.33                  19   \n",
            "4          47         20              2982          26.33                  19   \n",
            "\n",
            "   Planned SU Time (Large/Medium/Small) Pre-Surgery Admission Date  Height  \\\n",
            "0                                   0.0                 2018-01-01    1.78   \n",
            "1                                  13.0                 2018-03-12    1.73   \n",
            "2                                  18.0                 2018-07-09    1.86   \n",
            "3                                  19.0                 2018-04-09    1.58   \n",
            "4                                  19.0                 2018-04-30    1.65   \n",
            "\n",
            "   Weight  Patient Age (on Surgery Day)  ...  \\\n",
            "0    84.0                          68.0  ...   \n",
            "1    72.0                          67.0  ...   \n",
            "2    92.0                          53.0  ...   \n",
            "3    54.0                          23.0  ...   \n",
            "4    55.0                          39.0  ...   \n",
            "\n",
            "  Pre-Surgical Admission Time Before Surgery_Minutes  \\\n",
            "0                                                  1   \n",
            "1                                                  2   \n",
            "2                                                  1   \n",
            "3                                                  1   \n",
            "4                                                  2   \n",
            "\n",
            "  Actual Surgery Room Entry Time_Minutes Incision Time_Minutes  \\\n",
            "0                                      1                     1   \n",
            "1                                      2                     2   \n",
            "2                                      1                     1   \n",
            "3                                      1                     1   \n",
            "4                                      2                     2   \n",
            "\n",
            "  Closure Time_Minutes End of Surgery Time (Exit from OR)_Minutes  \\\n",
            "0                    1                                          1   \n",
            "1                    2                                          2   \n",
            "2                    1                                          1   \n",
            "3                    1                                          1   \n",
            "4                    2                                          2   \n",
            "\n",
            "  Recovery Room Entry Time_Minutes Recovery Room Exit Time_Minutes  \\\n",
            "0                                1                               1   \n",
            "1                                2                               3   \n",
            "2                                1                               1   \n",
            "3                                1                               2   \n",
            "4                                2                               2   \n",
            "\n",
            "  Post-Surgery Discharge Time_Minutes  \\\n",
            "0                                   4   \n",
            "1                                   1   \n",
            "2                                   4   \n",
            "3                                   1   \n",
            "4                                   1   \n",
            "\n",
            "  Planned Start Time for Doctor Block_Minutes  \\\n",
            "0                                           1   \n",
            "1                                           1   \n",
            "2                                           1   \n",
            "3                                           1   \n",
            "4                                           1   \n",
            "\n",
            "  Planned End Time for Doctor Block_Minutes  \n",
            "0                                         1  \n",
            "1                                         1  \n",
            "2                                         1  \n",
            "3                                         1  \n",
            "4                                         1  \n",
            "\n",
            "[5 rows x 62 columns]\n"
          ]
        }
      ]
    },
    {
      "cell_type": "code",
      "execution_count": 3,
      "id": "17ab80a8",
      "metadata": {
        "id": "17ab80a8",
        "colab": {
          "base_uri": "https://localhost:8080/"
        },
        "outputId": "f6f917a6-266f-4055-c147-cb2cd8f94939"
      },
      "outputs": [
        {
          "output_type": "stream",
          "name": "stdout",
          "text": [
            "Index(['patient_id', 'Site Code', 'Main Surgeon Code', 'Activity Code',\n",
            "       'Activity Type Code', 'Planned SU Time (Large/Medium/Small)',\n",
            "       'Pre-Surgery Admission Date', 'Height', 'Weight',\n",
            "       'Patient Age (on Surgery Day)', 'Background Diseases/Diagnoses',\n",
            "       'Planned Surgery Date', 'Planned Surgery Time',\n",
            "       'Surgery Admission Date', 'Administrative Admission Time',\n",
            "       'Planned Operating Room Number',\n",
            "       'Pre-Surgery Hospitalization Admission Date',\n",
            "       'Pre-Surgery Hospitalization Admission Time',\n",
            "       'Pre-Surgical Admission Time Before Surgery', 'Surgical Team Codes',\n",
            "       'Anesthesiologist Code', 'Anesthesia Code', 'Type of Anesthesia',\n",
            "       'Cancellation Reason on Surgery Day', 'Actual Operating Room Number',\n",
            "       'Actual Surgery Room Entry Date', 'Actual Surgery Room Entry Time',\n",
            "       'Incision Time', 'Closure Time', 'End of Surgery Date (Exit from OR)',\n",
            "       'End of Surgery Time (Exit from OR)', 'Planned Surgery Duration',\n",
            "       'Recovery Room Entry Date', 'Recovery Room Entry Time',\n",
            "       'Recovery Room Exit Date', 'Recovery Room Exit Time',\n",
            "       'Post-Surgery Discharge Date', 'Post-Surgery Discharge Time',\n",
            "       'Planned Start Date for Doctor Block',\n",
            "       'Planned Start Time for Doctor Block',\n",
            "       'Planned End Date for Doctor Block',\n",
            "       'Planned End Time for Doctor Block', 'Readmission', 'strict_signature',\n",
            "       'No Show', 'Entry DateTime', 'Incision DateTime', 'Closure DateTime',\n",
            "       'Exit DateTime', 'Planned Surgery Time_Minutes',\n",
            "       'Administrative Admission Time_Minutes',\n",
            "       'Pre-Surgery Hospitalization Admission Time_Minutes',\n",
            "       'Pre-Surgical Admission Time Before Surgery_Minutes',\n",
            "       'Actual Surgery Room Entry Time_Minutes', 'Incision Time_Minutes',\n",
            "       'Closure Time_Minutes', 'End of Surgery Time (Exit from OR)_Minutes',\n",
            "       'Recovery Room Entry Time_Minutes', 'Recovery Room Exit Time_Minutes',\n",
            "       'Post-Surgery Discharge Time_Minutes',\n",
            "       'Planned Start Time for Doctor Block_Minutes',\n",
            "       'Planned End Time for Doctor Block_Minutes'],\n",
            "      dtype='object')\n"
          ]
        }
      ],
      "source": [
        "print(df.columns)"
      ]
    },
    {
      "cell_type": "code",
      "execution_count": 4,
      "id": "31753d4d",
      "metadata": {
        "id": "31753d4d",
        "colab": {
          "base_uri": "https://localhost:8080/"
        },
        "outputId": "0bc2fc67-1458-4c5e-c4cb-3374659fc4d6"
      },
      "outputs": [
        {
          "output_type": "stream",
          "name": "stdout",
          "text": [
            "patient_id                                       int64\n",
            "Site Code                                        int64\n",
            "Main Surgeon Code                               object\n",
            "Activity Code                                  float64\n",
            "Activity Type Code                               int64\n",
            "                                                ...   \n",
            "Recovery Room Entry Time_Minutes                 int64\n",
            "Recovery Room Exit Time_Minutes                  int64\n",
            "Post-Surgery Discharge Time_Minutes              int64\n",
            "Planned Start Time for Doctor Block_Minutes      int64\n",
            "Planned End Time for Doctor Block_Minutes        int64\n",
            "Length: 62, dtype: object\n"
          ]
        }
      ],
      "source": [
        "print(df.dtypes)"
      ]
    },
    {
      "cell_type": "markdown",
      "id": "80f74dd7",
      "metadata": {
        "id": "80f74dd7"
      },
      "source": [
        "Preparing and checking the time and date columns - converting to an appropriate data type"
      ]
    },
    {
      "cell_type": "code",
      "execution_count": 5,
      "id": "3dda8092",
      "metadata": {
        "id": "3dda8092"
      },
      "outputs": [],
      "source": [
        "df_copy=df.copy()"
      ]
    },
    {
      "cell_type": "code",
      "execution_count": 6,
      "id": "34112e6b",
      "metadata": {
        "id": "34112e6b",
        "colab": {
          "base_uri": "https://localhost:8080/"
        },
        "outputId": "52a7a711-1ee9-4bc2-8b96-b44e599fa921"
      },
      "outputs": [
        {
          "output_type": "stream",
          "name": "stdout",
          "text": [
            "Number of rows: 12921\n",
            "Number of columns: 62\n"
          ]
        }
      ],
      "source": [
        "print(f\"Number of rows: {df_copy.shape[0]}\")\n",
        "print(f\"Number of columns: {df_copy.shape[1]}\")"
      ]
    },
    {
      "cell_type": "code",
      "execution_count": 7,
      "id": "5359b7f2",
      "metadata": {
        "id": "5359b7f2",
        "colab": {
          "base_uri": "https://localhost:8080/"
        },
        "outputId": "2c8e862a-0c44-43d2-800a-42e15c11dc04"
      },
      "outputs": [
        {
          "output_type": "stream",
          "name": "stdout",
          "text": [
            "   patient_id  Site Code Main Surgeon Code  Activity Code  Activity Type Code  \\\n",
            "0          43         20              2982          26.33                  19   \n",
            "1          44         20              2982          26.33                  19   \n",
            "2          45         20              2982          26.33                  19   \n",
            "3          46         20              2982          26.33                  19   \n",
            "4          47         20              2982          26.33                  19   \n",
            "5          48         20              2982          26.33                  19   \n",
            "6          50         20              2982          26.33                  19   \n",
            "7          53         20              2982          26.33                  19   \n",
            "8          55         20              2982          26.33                  19   \n",
            "9          56         20              2982          26.33                  19   \n",
            "\n",
            "   Planned SU Time (Large/Medium/Small) Pre-Surgery Admission Date  Height  \\\n",
            "0                                   0.0                 2018-01-01    1.78   \n",
            "1                                  13.0                 2018-03-12    1.73   \n",
            "2                                  18.0                 2018-07-09    1.86   \n",
            "3                                  19.0                 2018-04-09    1.58   \n",
            "4                                  19.0                 2018-04-30    1.65   \n",
            "5                                  20.0                 2018-02-05    1.74   \n",
            "6                                  11.0                 2018-03-05    1.61   \n",
            "7                                  20.0                 2018-02-05    1.53   \n",
            "8                                  20.0                 2018-04-09    1.67   \n",
            "9                                  20.0                 2018-04-30    1.74   \n",
            "\n",
            "   Weight  Patient Age (on Surgery Day)  ...  \\\n",
            "0    84.0                          68.0  ...   \n",
            "1    72.0                          67.0  ...   \n",
            "2    92.0                          53.0  ...   \n",
            "3    54.0                          23.0  ...   \n",
            "4    55.0                          39.0  ...   \n",
            "5    82.0                          45.0  ...   \n",
            "6    72.0                          56.0  ...   \n",
            "7    67.0                          73.0  ...   \n",
            "8    76.0                          60.0  ...   \n",
            "9    71.0                          28.0  ...   \n",
            "\n",
            "  Pre-Surgical Admission Time Before Surgery_Minutes  \\\n",
            "0                                                  1   \n",
            "1                                                  2   \n",
            "2                                                  1   \n",
            "3                                                  1   \n",
            "4                                                  2   \n",
            "5                                                  2   \n",
            "6                                                  1   \n",
            "7                                                  2   \n",
            "8                                                  1   \n",
            "9                                                  2   \n",
            "\n",
            "  Actual Surgery Room Entry Time_Minutes Incision Time_Minutes  \\\n",
            "0                                      1                     1   \n",
            "1                                      2                     2   \n",
            "2                                      1                     1   \n",
            "3                                      1                     1   \n",
            "4                                      2                     2   \n",
            "5                                      2                     2   \n",
            "6                                      1                     1   \n",
            "7                                      2                     2   \n",
            "8                                      1                     1   \n",
            "9                                      2                     2   \n",
            "\n",
            "  Closure Time_Minutes End of Surgery Time (Exit from OR)_Minutes  \\\n",
            "0                    1                                          1   \n",
            "1                    2                                          2   \n",
            "2                    1                                          1   \n",
            "3                    1                                          1   \n",
            "4                    2                                          2   \n",
            "5                    3                                          2   \n",
            "6                    1                                          1   \n",
            "7                    2                                          2   \n",
            "8                    1                                          1   \n",
            "9                    3                                          3   \n",
            "\n",
            "  Recovery Room Entry Time_Minutes Recovery Room Exit Time_Minutes  \\\n",
            "0                                1                               1   \n",
            "1                                2                               3   \n",
            "2                                1                               1   \n",
            "3                                1                               2   \n",
            "4                                2                               2   \n",
            "5                                3                               3   \n",
            "6                                1                               1   \n",
            "7                                2                               2   \n",
            "8                                1                               1   \n",
            "9                                3                               3   \n",
            "\n",
            "  Post-Surgery Discharge Time_Minutes  \\\n",
            "0                                   4   \n",
            "1                                   1   \n",
            "2                                   4   \n",
            "3                                   1   \n",
            "4                                   1   \n",
            "5                                   2   \n",
            "6                                   1   \n",
            "7                                   2   \n",
            "8                                   2   \n",
            "9                                   1   \n",
            "\n",
            "  Planned Start Time for Doctor Block_Minutes  \\\n",
            "0                                           1   \n",
            "1                                           1   \n",
            "2                                           1   \n",
            "3                                           1   \n",
            "4                                           1   \n",
            "5                                           1   \n",
            "6                                           1   \n",
            "7                                           1   \n",
            "8                                           2   \n",
            "9                                           1   \n",
            "\n",
            "  Planned End Time for Doctor Block_Minutes  \n",
            "0                                         1  \n",
            "1                                         1  \n",
            "2                                         1  \n",
            "3                                         1  \n",
            "4                                         1  \n",
            "5                                         2  \n",
            "6                                         1  \n",
            "7                                         2  \n",
            "8                                         1  \n",
            "9                                         1  \n",
            "\n",
            "[10 rows x 62 columns]\n"
          ]
        }
      ],
      "source": [
        "print(df_copy.head(10))"
      ]
    },
    {
      "cell_type": "markdown",
      "id": "67e739b3",
      "metadata": {
        "id": "67e739b3"
      },
      "source": [
        "Handling duplicates and missing values of type NALL:"
      ]
    },
    {
      "cell_type": "code",
      "execution_count": 8,
      "id": "49b62afe",
      "metadata": {
        "id": "49b62afe",
        "colab": {
          "base_uri": "https://localhost:8080/"
        },
        "outputId": "fc144a8c-268c-4869-edb3-ba5df8b5f81a"
      },
      "outputs": [
        {
          "output_type": "stream",
          "name": "stdout",
          "text": [
            "The number of completely repeating lines: 0\n"
          ]
        }
      ],
      "source": [
        "# Overall duplicate count (all rows):\n",
        "num_duplicates = df_copy.duplicated().sum()\n",
        "print(f\"The number of completely repeating lines: {num_duplicates}\")"
      ]
    },
    {
      "cell_type": "markdown",
      "source": [
        "We tried to merge the duplicate rows more effectively based on the following parameters: age, weight, height, surgery entry date, and surgeon code. We attempted to prevent data loss by combining the different values from the duplicate rows. However, the code did not work as expected and distorted the time-related data, resulting in incorrect utilization calculations."
      ],
      "metadata": {
        "id": "cxNQFwQLCDY4"
      },
      "id": "cxNQFwQLCDY4"
    },
    {
      "cell_type": "markdown",
      "id": "cd07f34a",
      "metadata": {
        "id": "cd07f34a"
      },
      "source": [
        "Planned End Time for Doctor Block:"
      ]
    },
    {
      "cell_type": "code",
      "execution_count": 9,
      "id": "1ed62bae",
      "metadata": {
        "id": "1ed62bae",
        "colab": {
          "base_uri": "https://localhost:8080/"
        },
        "outputId": "003c24d3-c085-403c-e296-3c36de70afe5"
      },
      "outputs": [
        {
          "output_type": "stream",
          "name": "stdout",
          "text": [
            "['08:33:00' '13:12:00' '12:36:00' '12:57:00' '13:50:00' '12:48:00'\n",
            " '13:43:00' '10:06:00' '11:43:00' '14:41:00' '11:58:00' '08:36:00'\n",
            " '11:50:00' '11:35:00' '11:05:00' '11:55:00' '12:11:00' '13:55:00'\n",
            " '09:24:00' '12:30:00' '10:34:00' '09:30:00' '09:59:00' '11:49:00'\n",
            " '12:44:00' '13:48:00' '10:44:00' '12:05:00' '10:00:00' '09:44:00'\n",
            " '13:10:00' '13:54:00' '08:45:00' '12:49:00' '12:39:00' '08:54:00'\n",
            " '11:33:00' '11:46:00' '11:22:00' '09:00:00' '14:02:00' '14:36:00'\n",
            " '13:57:00' '14:10:00' '14:30:00' '11:40:00' '11:00:00' '14:40:00'\n",
            " '12:50:00' '15:00:00' '14:05:00' '12:25:00' '12:34:00' '14:55:00'\n",
            " '14:50:00' '14:54:00' '09:14:00' '10:10:00' '13:42:00' '12:27:00'\n",
            " '10:30:00' '14:57:00' '12:55:00' '12:07:00' '14:37:00' '10:12:00'\n",
            " '12:00:00' '14:27:00' '14:00:00' '14:42:00' '13:37:00' '09:55:00'\n",
            " '12:54:00' '14:14:00' '12:14:00' '12:58:00' '09:46:00' '10:54:00'\n",
            " '13:00:00' '13:25:00' '08:50:00' '08:30:00' '11:39:00' '11:56:00'\n",
            " '12:56:00' '08:55:00' '09:25:00' '08:41:00' '13:03:00' '12:38:00'\n",
            " '10:59:00' '09:37:00' '08:57:00' '10:55:00' '12:53:00' '10:26:00'\n",
            " '10:13:00' '10:28:00' '12:35:00' '14:19:00' '13:40:00' '10:25:00'\n",
            " '10:15:00' '13:20:00' '12:23:00' '09:20:00' '10:23:00' '12:45:00'\n",
            " '08:03:00' '07:43:00' '09:16:00' '10:16:00' '13:30:00' '18:12:00'\n",
            " '09:42:00' '21:12:00' '21:00:00' '10:45:00' '15:19:00' '16:00:00'\n",
            " '15:53:00' '09:15:00' '07:40:00' '07:54:00' '10:58:00' '11:59:00'\n",
            " '08:40:00' '09:54:00' '09:40:00' '11:32:00' '10:47:00' '09:45:00'\n",
            " '08:59:00' '10:52:00' '08:53:00' '08:20:00' '09:52:00' '10:35:00'\n",
            " '09:36:00' '07:59:00' '08:48:00' '11:04:00' '22:25:00' '11:25:00'\n",
            " '09:07:00' '09:53:00' '12:37:00' '08:09:00' '10:29:00' '15:44:00'\n",
            " '09:48:00' '19:49:00' '09:05:00' '08:04:00' '11:57:00' '13:44:00'\n",
            " '08:26:00' '08:00:00' '15:20:00' '11:15:00' '10:20:00' '10:50:00'\n",
            " '11:26:00' '15:30:00' '10:05:00' '11:21:00' '12:16:00' '12:51:00'\n",
            " '15:54:00' '11:17:00' '12:46:00' '10:02:00' '14:11:00' '11:10:00'\n",
            " '09:41:00' '15:57:00' '14:52:00' '08:01:00' '14:49:00' '13:09:00'\n",
            " '14:58:00' '21:43:00' '16:45:00' '15:40:00' '13:56:00' '11:28:00'\n",
            " '13:14:00' '13:16:00' '13:49:00' '12:26:00' '11:16:00' '15:50:00'\n",
            " '11:41:00' '13:58:00' '11:01:00' '09:09:00' '10:09:00' '13:17:00'\n",
            " '15:23:00' '08:58:00' '23:00:00' '16:30:00' '19:25:00' '19:30:00'\n",
            " '18:52:00' '15:58:00' '14:22:00' '21:30:00' '20:40:00' '16:50:00'\n",
            " '09:58:00' '20:00:00' '14:07:00' '17:19:00' '17:50:00' '19:00:00'\n",
            " '15:33:00' '14:56:00' '15:56:00' '19:21:00' '18:14:00' '15:14:00'\n",
            " '17:32:00' '17:45:00' '18:15:00' '19:41:00' '16:20:00' '16:17:00'\n",
            " '20:43:00' '15:55:00' '15:37:00' '18:13:00' '15:10:00' '14:43:00'\n",
            " '17:31:00' '15:15:00' '14:46:00' '15:04:00' '10:33:00' '14:48:00'\n",
            " '18:50:00' '16:24:00' '12:22:00' '08:43:00' '13:35:00' '15:06:00'\n",
            " '17:55:00' '10:36:00' '10:38:00' '10:27:00' '12:01:00' '13:05:00'\n",
            " '08:32:00' '14:47:00' '15:05:00' '11:45:00' '11:42:00' '13:39:00'\n",
            " '10:40:00' '11:36:00' '16:06:00' '11:30:00' '13:06:00' '09:43:00'\n",
            " '22:21:00' '10:56:00' '09:39:00' '13:41:00' '17:38:00' '20:56:00'\n",
            " '21:13:00' '19:53:00' '22:53:00' '12:52:00' '16:58:00' '22:23:00'\n",
            " '15:34:00' '16:04:00' '22:17:00' '19:04:00' '17:00:00' '22:50:00'\n",
            " '20:29:00' '19:44:00' '16:44:00' '14:45:00' '16:27:00' '22:16:00'\n",
            " '17:39:00' '19:55:00' '22:19:00' '18:35:00' '22:10:00' '15:36:00'\n",
            " '16:43:00' '22:59:00' '18:45:00' '17:56:00' '18:55:00' '22:03:00'\n",
            " '19:56:00' '16:33:00' '17:13:00' '15:48:00' '21:39:00' '18:26:00'\n",
            " '13:04:00' '12:15:00' '18:44:00' '21:35:00' '14:24:00' '21:07:00'\n",
            " '19:18:00' '19:58:00' '19:19:00' '19:03:00' '22:05:00' '18:05:00'\n",
            " '14:23:00' '20:11:00' '19:43:00' '18:00:00' '17:26:00' '18:54:00'\n",
            " '16:41:00' '18:51:00' '17:02:00' '17:18:00' '16:53:00' '19:31:00'\n",
            " '17:49:00' '19:27:00' '19:42:00' '17:57:00' '17:52:00' '18:09:00'\n",
            " '18:11:00' '17:09:00' '18:25:00' '21:25:00' '18:58:00' '18:23:00'\n",
            " '18:20:00' '17:53:00' '18:19:00' '16:49:00' '16:48:00' '20:16:00'\n",
            " '20:50:00' '18:28:00' '13:27:00' '20:55:00' '14:33:00' '10:41:00'\n",
            " '11:11:00' '13:22:00' '13:52:00' '15:41:00' '13:26:00' '12:41:00'\n",
            " '15:31:00' '13:11:00' '11:52:00' '13:51:00' '12:31:00' '15:11:00'\n",
            " '11:51:00' '16:25:00' '13:01:00' '12:20:00' '17:25:00' '15:25:00'\n",
            " '15:16:00' '14:01:00' '17:24:00' '19:07:00' '13:46:00' '12:42:00'\n",
            " '12:59:00' '11:14:00' '14:29:00' '09:29:00' '13:23:00' '12:04:00'\n",
            " '14:35:00' '17:17:00' '15:43:00' '18:21:00' '20:27:00' '18:29:00'\n",
            " '19:05:00' '22:41:00' '18:17:00' '16:56:00' '22:40:00' '16:46:00'\n",
            " '18:56:00' '22:45:00' '22:35:00' '22:36:00' '22:51:00' '22:27:00'\n",
            " '22:08:00' '18:24:00' '21:40:00' '17:07:00' '14:32:00' '15:45:00'\n",
            " '19:17:00' '15:07:00' '22:57:00' '22:46:00' '19:15:00' '13:38:00'\n",
            " '11:54:00' '12:40:00' '14:25:00' '18:46:00' '20:25:00' '21:27:00'\n",
            " '13:32:00' '21:19:00' '08:06:00' '20:30:00' '14:17:00' '08:51:00'\n",
            " '09:51:00' '10:51:00' '10:22:00' '07:55:00' '22:29:00' '22:30:00'\n",
            " '22:14:00' '11:24:00' '17:54:00' '10:31:00' '12:09:00' '10:03:00'\n",
            " '11:47:00' '10:49:00' '09:47:00' '10:24:00' '16:40:00' '11:38:00'\n",
            " '14:34:00' '14:20:00' '11:48:00' '14:15:00' '14:44:00' '11:31:00'\n",
            " '14:38:00' '14:51:00' '14:03:00' '16:10:00' '13:45:00' '21:10:00'\n",
            " '22:34:00' '19:24:00' '22:13:00' '17:59:00' '21:51:00' '20:41:00'\n",
            " '22:22:00' '22:02:00' '12:03:00' '09:27:00' '08:27:00' '20:49:00'\n",
            " '09:18:00' '09:31:00' '21:18:00' '12:24:00' '08:44:00' '19:40:00'\n",
            " '21:26:00' '15:42:00' '18:57:00' '22:20:00' '09:35:00' '08:15:00'\n",
            " '13:29:00' '09:33:00' '15:27:00' '14:21:00' '13:47:00' '21:37:00'\n",
            " '16:12:00' '14:08:00' '11:29:00' '14:59:00' '15:59:00' '13:24:00'\n",
            " '09:12:00' '14:09:00' '11:44:00' '12:29:00' '15:39:00' '13:59:00'\n",
            " '18:31:00' '16:15:00' '19:45:00' '20:08:00' '22:47:00' '19:51:00'\n",
            " '21:14:00' '19:48:00' '18:37:00' '22:00:00' '22:31:00' '21:24:00'\n",
            " '21:22:00' '21:52:00' '22:55:00' '20:24:00' '21:56:00' '20:59:00'\n",
            " '18:10:00' '21:20:00' '20:54:00' '08:10:00' '20:48:00' '20:45:00'\n",
            " '22:15:00' '17:30:00' '15:49:00' '14:18:00' '17:47:00' '14:12:00'\n",
            " '21:46:00' '22:32:00' '19:50:00' '09:26:00' '17:37:00' '21:28:00'\n",
            " '17:44:00' '13:19:00' '11:53:00' '11:18:00' '11:09:00' '11:23:00'\n",
            " '07:52:00' '10:07:00' '08:28:00' '13:53:00' '21:44:00' '10:48:00'\n",
            " '13:34:00' '12:21:00' '10:19:00' '14:26:00' '08:56:00' '14:28:00'\n",
            " '09:38:00' '22:52:00' '22:56:00' '23:01:00' '22:49:00' '22:48:00'\n",
            " '22:37:00' '22:42:00' '22:44:00' '19:46:00' '22:38:00' '20:17:00'\n",
            " '22:58:00' '22:28:00' '22:18:00' '21:48:00' '21:11:00' '19:37:00'\n",
            " '20:51:00' '21:41:00' '20:47:00' '22:24:00' '19:59:00' '20:13:00'\n",
            " '14:04:00' '19:35:00' '19:20:00' '20:09:00' '18:39:00' '19:28:00'\n",
            " '17:20:00' '17:10:00' '18:40:00' '15:03:00' '13:15:00' '14:39:00'\n",
            " '15:28:00' '15:18:00' '14:13:00' '07:53:00' '12:12:00' '12:10:00'\n",
            " '11:12:00' '10:53:00' '12:18:00' '10:08:00' '16:52:00' '17:40:00'\n",
            " '16:23:00' '15:47:00' '20:57:00' '13:13:00' '20:42:00' '17:48:00'\n",
            " '17:12:00' '17:42:00' '18:07:00' '16:35:00' '10:43:00' '13:33:00'\n",
            " '20:38:00' '14:16:00' '15:26:00' '21:45:00' '16:14:00' '08:05:00'\n",
            " '16:34:00' '09:56:00' '14:53:00' '22:43:00' '22:07:00' '23:30:00'\n",
            " '21:02:00' '21:31:00' '16:55:00' '19:13:00' '22:11:00' '21:53:00'\n",
            " '21:38:00' '20:26:00' '17:51:00' '19:32:00' '19:26:00' '21:05:00'\n",
            " '18:42:00' '19:06:00' '09:08:00' '19:57:00' '20:12:00' '22:12:00'\n",
            " '20:46:00' '21:32:00' '21:21:00' '20:07:00' '17:29:00' '16:39:00'\n",
            " '20:14:00' '20:02:00' '21:16:00' '18:04:00' '19:34:00' '16:42:00'\n",
            " '09:32:00' '21:58:00' '15:32:00' '13:18:00' '17:22:00' '19:54:00'\n",
            " '16:38:00' '19:02:00' '10:17:00' '18:47:00' '19:39:00' '20:37:00'\n",
            " '12:32:00' '19:14:00' '09:10:00' '16:54:00' '12:47:00' '18:59:00'\n",
            " '17:06:00' '18:53:00' '19:52:00' '18:49:00' '20:15:00' '12:19:00'\n",
            " '09:34:00' '11:27:00' '20:35:00' '18:48:00' '16:51:00' '21:50:00'\n",
            " '16:08:00' '18:43:00' '18:01:00' '16:18:00' '18:18:00' '17:01:00'\n",
            " '21:17:00' '13:28:00' '22:33:00' '13:31:00' '21:34:00' '20:05:00'\n",
            " '17:21:00' '11:02:00' '11:08:00' '11:20:00' '09:06:00' '11:13:00'\n",
            " '10:37:00' '18:30:00' '22:54:00' '18:36:00' '17:43:00' '09:50:00'\n",
            " '10:21:00' '10:01:00' '10:11:00' '20:33:00' '09:21:00' '12:06:00'\n",
            " '17:15:00' '10:57:00' '20:34:00' '16:57:00' '20:20:00' '19:12:00'\n",
            " '11:34:00' '13:21:00' '15:51:00' '21:49:00' '15:24:00' '15:13:00'\n",
            " '19:47:00' '20:10:00' '19:36:00' '13:36:00' '21:15:00' '18:03:00'\n",
            " '20:36:00' '20:03:00' '21:08:00' '18:06:00' '15:17:00' '15:08:00'\n",
            " '15:12:00' '12:17:00' '15:22:00' '22:06:00' '21:33:00' '20:39:00'\n",
            " '21:36:00' '22:09:00' '10:32:00' '11:37:00' '11:03:00' '20:53:00'\n",
            " '20:21:00' '17:05:00' '08:39:00' '16:37:00' '22:26:00' '12:33:00'\n",
            " '13:07:00' '20:01:00' '21:55:00' '12:43:00' '15:35:00' '21:59:00'\n",
            " '22:04:00' '22:39:00' '22:01:00' '09:03:00' '19:33:00' '21:57:00'\n",
            " '21:01:00' '09:57:00' '10:46:00' '19:01:00' '20:52:00' '20:58:00'\n",
            " '21:54:00' '18:41:00' '19:11:00' '18:27:00' '15:38:00' '15:52:00'\n",
            " '15:21:00' '15:46:00' '13:02:00' '21:29:00' '16:32:00' '08:47:00'\n",
            " '13:08:00' '09:17:00' '08:17:00' '15:29:00' '11:06:00' '21:42:00'\n",
            " '10:18:00' '17:36:00' '18:22:00' '16:36:00' '17:41:00' '00:43:00'\n",
            " '19:29:00' '14:06:00' '19:10:00' '16:59:00' '14:31:00' '18:34:00'\n",
            " '08:23:00' '20:28:00' '08:07:00' '12:13:00' '07:48:00' '12:28:00'\n",
            " '11:19:00' '17:33:00' '16:22:00' '19:16:00' '08:19:00' '18:02:00'\n",
            " '20:22:00' '16:09:00' '21:09:00' '21:04:00' '07:56:00' '20:44:00'\n",
            " '17:11:00' '16:05:00' '15:09:00' '17:28:00' '18:16:00' '15:02:00'\n",
            " '16:31:00' '20:23:00' '07:45:00' '16:19:00' '19:23:00' '19:08:00'\n",
            " '08:22:00' '21:03:00' '08:25:00' '19:09:00' '07:50:00' '09:49:00'\n",
            " '10:42:00' '21:23:00' '17:35:00' '18:32:00' '09:04:00' '16:29:00'\n",
            " '08:34:00' '20:19:00' '23:03:00' '16:21:00' '16:03:00' '17:46:00'\n",
            " '07:58:00' '20:32:00' '19:38:00' '08:11:00' '08:46:00' '11:07:00'\n",
            " '19:22:00' '08:21:00' '07:39:00' '08:18:00' '09:22:00' '21:47:00'\n",
            " '17:16:00' '08:02:00' '16:28:00' '20:04:00' '16:47:00' '08:29:00'\n",
            " '15:01:00' '17:03:00' '17:58:00' '16:02:00' '08:35:00' '08:13:00'\n",
            " '08:08:00' '18:08:00' '17:23:00' '08:49:00' '20:06:00' '07:47:00'\n",
            " '07:46:00' '12:08:00' '16:16:00' '08:52:00' '16:01:00' '17:14:00'\n",
            " '08:16:00' '20:31:00' '07:57:00' '08:37:00']\n"
          ]
        }
      ],
      "source": [
        "# Print the unique values in a column:\n",
        "print(df_copy['Planned End Time for Doctor Block'].unique())"
      ]
    },
    {
      "cell_type": "code",
      "execution_count": 10,
      "id": "2e0f2bcd",
      "metadata": {
        "id": "2e0f2bcd",
        "colab": {
          "base_uri": "https://localhost:8080/"
        },
        "outputId": "08016a6e-bbd4-4811-a518-b1de77f978a9"
      },
      "outputs": [
        {
          "output_type": "stream",
          "name": "stdout",
          "text": [
            "object\n",
            "0    08:33:00\n",
            "1    13:12:00\n",
            "2    12:36:00\n",
            "3    12:57:00\n",
            "4    12:57:00\n",
            "5    13:50:00\n",
            "6    13:12:00\n",
            "7    13:50:00\n",
            "8    12:48:00\n",
            "9    12:57:00\n",
            "Name: Planned End Time for Doctor Block, dtype: object\n"
          ]
        }
      ],
      "source": [
        "print(df_copy['Planned End Time for Doctor Block'].dtype)\n",
        "print(df_copy['Planned End Time for Doctor Block'].head(10))"
      ]
    },
    {
      "cell_type": "code",
      "execution_count": 11,
      "id": "59bc68fb",
      "metadata": {
        "id": "59bc68fb"
      },
      "outputs": [],
      "source": [
        "# Convert to datetime format and then save only the time:\n",
        "df_copy['Planned End Time for Doctor Block'] = pd.to_datetime(\n",
        "    df_copy['Planned End Time for Doctor Block'],\n",
        "    format='%H:%M:%S',\n",
        "    errors='coerce'  # Converts invalid values to NaT\n",
        ").dt.time"
      ]
    },
    {
      "cell_type": "code",
      "execution_count": 12,
      "id": "4d14c4a9",
      "metadata": {
        "id": "4d14c4a9",
        "colab": {
          "base_uri": "https://localhost:8080/"
        },
        "outputId": "d6967298-8872-4787-bc22-249caadea0e4"
      },
      "outputs": [
        {
          "output_type": "stream",
          "name": "stdout",
          "text": [
            "object\n",
            "0    08:33:00\n",
            "1    13:12:00\n",
            "2    12:36:00\n",
            "3    12:57:00\n",
            "4    12:57:00\n",
            "5    13:50:00\n",
            "6    13:12:00\n",
            "7    13:50:00\n",
            "8    12:48:00\n",
            "9    12:57:00\n",
            "Name: Planned End Time for Doctor Block, dtype: object\n",
            "Missing values: 0\n"
          ]
        }
      ],
      "source": [
        "# Checking the column type and values\n",
        "print(df_copy['Planned End Time for Doctor Block'].dtype)  # Should return object but with type time\n",
        "print(df_copy['Planned End Time for Doctor Block'].head(10))\n",
        "print(\"Missing values:\", df_copy['Planned End Time for Doctor Block'].isna().sum())"
      ]
    },
    {
      "cell_type": "code",
      "execution_count": 13,
      "id": "d999b845",
      "metadata": {
        "id": "d999b845"
      },
      "outputs": [],
      "source": [
        "df_copy['Planned End Time for Doctor Block'] = pd.to_timedelta(\n",
        "    df_copy['Planned End Time for Doctor Block'].astype(str),\n",
        "    errors='coerce')"
      ]
    },
    {
      "cell_type": "code",
      "execution_count": 14,
      "id": "8628bead",
      "metadata": {
        "id": "8628bead",
        "colab": {
          "base_uri": "https://localhost:8080/"
        },
        "outputId": "cae63d25-1676-4ef2-f399-780789e890d4"
      },
      "outputs": [
        {
          "output_type": "stream",
          "name": "stdout",
          "text": [
            "timedelta64[ns]\n"
          ]
        }
      ],
      "source": [
        "print(df_copy['Planned End Time for Doctor Block'].dtype)"
      ]
    },
    {
      "cell_type": "markdown",
      "id": "d26c4f26",
      "metadata": {
        "id": "d26c4f26"
      },
      "source": [
        "Closure Time:"
      ]
    },
    {
      "cell_type": "code",
      "execution_count": 15,
      "id": "7ffe9da2",
      "metadata": {
        "id": "7ffe9da2",
        "colab": {
          "base_uri": "https://localhost:8080/"
        },
        "outputId": "6fbafec3-7e47-4152-afbf-f5350523db6a"
      },
      "outputs": [
        {
          "output_type": "stream",
          "name": "stdout",
          "text": [
            "['09:16:00' '13:49:00' '08:31:00' ... '00:35:00' '01:50:00' '00:43:00']\n"
          ]
        }
      ],
      "source": [
        "print(df_copy['Closure Time'].unique())"
      ]
    },
    {
      "cell_type": "code",
      "execution_count": 16,
      "id": "9f641db8",
      "metadata": {
        "id": "9f641db8",
        "colab": {
          "base_uri": "https://localhost:8080/"
        },
        "outputId": "8b9dd07a-1319-4eb9-f77a-0ec06e7500d1"
      },
      "outputs": [
        {
          "output_type": "stream",
          "name": "stdout",
          "text": [
            "object\n",
            "0    09:16:00\n",
            "1    13:49:00\n",
            "2    08:31:00\n",
            "3    10:27:00\n",
            "4    12:07:00\n",
            "5    14:19:00\n",
            "6    08:34:00\n",
            "7    12:20:00\n",
            "8    09:11:00\n",
            "9    14:20:00\n",
            "Name: Closure Time, dtype: object\n"
          ]
        }
      ],
      "source": [
        "print(df_copy['Closure Time'].dtype)\n",
        "print(df_copy['Closure Time'].head(10))"
      ]
    },
    {
      "cell_type": "code",
      "execution_count": 17,
      "id": "5c981b18",
      "metadata": {
        "id": "5c981b18"
      },
      "outputs": [],
      "source": [
        "df_copy['Closure Time'] = pd.to_datetime(\n",
        "    df_copy['Closure Time'],\n",
        "    format='%H:%M:%S',\n",
        "    errors='coerce'\n",
        ").dt.time"
      ]
    },
    {
      "cell_type": "code",
      "execution_count": 18,
      "id": "18cae45f",
      "metadata": {
        "id": "18cae45f",
        "colab": {
          "base_uri": "https://localhost:8080/"
        },
        "outputId": "a1f0a9fa-5181-406b-ee69-867383b0177c"
      },
      "outputs": [
        {
          "output_type": "stream",
          "name": "stdout",
          "text": [
            "object\n",
            "0    09:16:00\n",
            "1    13:49:00\n",
            "2    08:31:00\n",
            "3    10:27:00\n",
            "4    12:07:00\n",
            "5    14:19:00\n",
            "6    08:34:00\n",
            "7    12:20:00\n",
            "8    09:11:00\n",
            "9    14:20:00\n",
            "Name: Closure Time, dtype: object\n",
            "Missing values: 0\n"
          ]
        }
      ],
      "source": [
        "print(df_copy['Closure Time'].dtype)\n",
        "print(df_copy['Closure Time'].head(10))\n",
        "print(\"Missing values:\", df_copy['Closure Time'].isna().sum())"
      ]
    },
    {
      "cell_type": "code",
      "execution_count": 19,
      "id": "ec1530f6",
      "metadata": {
        "id": "ec1530f6"
      },
      "outputs": [],
      "source": [
        "df_copy['Closure Time'] = pd.to_timedelta(\n",
        "    df_copy['Closure Time'].astype(str),\n",
        "    errors='coerce')"
      ]
    },
    {
      "cell_type": "code",
      "execution_count": 20,
      "id": "2ce92c00",
      "metadata": {
        "id": "2ce92c00",
        "colab": {
          "base_uri": "https://localhost:8080/"
        },
        "outputId": "6aca0575-2c05-4259-c093-e42931f5bf88"
      },
      "outputs": [
        {
          "output_type": "stream",
          "name": "stdout",
          "text": [
            "timedelta64[ns]\n",
            "0   0 days 09:16:00\n",
            "1   0 days 13:49:00\n",
            "2   0 days 08:31:00\n",
            "3   0 days 10:27:00\n",
            "4   0 days 12:07:00\n",
            "5   0 days 14:19:00\n",
            "6   0 days 08:34:00\n",
            "7   0 days 12:20:00\n",
            "8   0 days 09:11:00\n",
            "9   0 days 14:20:00\n",
            "Name: Closure Time, dtype: timedelta64[ns]\n",
            "Missing values: 0\n"
          ]
        }
      ],
      "source": [
        "print(df_copy['Closure Time'].dtype)\n",
        "print(df_copy['Closure Time'].head(10))\n",
        "print(\"Missing values:\", df_copy['Closure Time'].isna().sum())"
      ]
    },
    {
      "cell_type": "markdown",
      "id": "3a4a8ba1",
      "metadata": {
        "id": "3a4a8ba1"
      },
      "source": [
        "Incision Time:"
      ]
    },
    {
      "cell_type": "code",
      "execution_count": 21,
      "id": "0e5822ec",
      "metadata": {
        "id": "0e5822ec"
      },
      "outputs": [],
      "source": [
        "df_copy['Incision Time'] = pd.to_datetime(\n",
        "    df_copy['Incision Time'],\n",
        "    format='%H:%M:%S',\n",
        "    errors='coerce'\n",
        ").dt.time"
      ]
    },
    {
      "cell_type": "code",
      "execution_count": 22,
      "id": "2f9b5f30",
      "metadata": {
        "id": "2f9b5f30",
        "colab": {
          "base_uri": "https://localhost:8080/"
        },
        "outputId": "6a855dad-01ba-4cf7-9b18-cf990e1fd4e6"
      },
      "outputs": [
        {
          "output_type": "stream",
          "name": "stdout",
          "text": [
            "object\n",
            "0    07:45:00\n",
            "1    12:54:00\n",
            "2    07:33:00\n",
            "3    09:52:00\n",
            "4    11:08:00\n",
            "5    13:13:00\n",
            "6    07:36:00\n",
            "7    11:37:00\n",
            "8    07:46:00\n",
            "9    12:48:00\n",
            "Name: Incision Time, dtype: object\n",
            "Missing values: 0\n"
          ]
        }
      ],
      "source": [
        "print(df_copy['Incision Time'].dtype)\n",
        "print(df_copy['Incision Time'].head(10))\n",
        "print(\"Missing values:\", df_copy['Incision Time'].isna().sum())"
      ]
    },
    {
      "cell_type": "code",
      "execution_count": 23,
      "id": "f3fa0d97",
      "metadata": {
        "id": "f3fa0d97"
      },
      "outputs": [],
      "source": [
        "df_copy['Incision Time'] = pd.to_timedelta(\n",
        "    df_copy['Incision Time'].astype(str),\n",
        "    errors='coerce')"
      ]
    },
    {
      "cell_type": "code",
      "execution_count": 24,
      "id": "6b778cf5",
      "metadata": {
        "id": "6b778cf5",
        "colab": {
          "base_uri": "https://localhost:8080/"
        },
        "outputId": "3da8404a-993f-4021-cb83-924bd6a660a9"
      },
      "outputs": [
        {
          "output_type": "stream",
          "name": "stdout",
          "text": [
            "timedelta64[ns]\n",
            "0   0 days 07:45:00\n",
            "1   0 days 12:54:00\n",
            "2   0 days 07:33:00\n",
            "3   0 days 09:52:00\n",
            "4   0 days 11:08:00\n",
            "5   0 days 13:13:00\n",
            "6   0 days 07:36:00\n",
            "7   0 days 11:37:00\n",
            "8   0 days 07:46:00\n",
            "9   0 days 12:48:00\n",
            "Name: Incision Time, dtype: timedelta64[ns]\n",
            "Missing values: 0\n"
          ]
        }
      ],
      "source": [
        "print(df_copy['Incision Time'].dtype)\n",
        "print(df_copy['Incision Time'].head(10))\n",
        "print(\"Missing values:\", df_copy['Incision Time'].isna().sum())"
      ]
    },
    {
      "cell_type": "markdown",
      "id": "0dbee873",
      "metadata": {
        "id": "0dbee873"
      },
      "source": [
        "Planned Start Time for Doctor Block:"
      ]
    },
    {
      "cell_type": "code",
      "execution_count": 25,
      "id": "70b52875",
      "metadata": {
        "id": "70b52875"
      },
      "outputs": [],
      "source": [
        "df_copy['Planned Start Time for Doctor Block'] = pd.to_datetime(\n",
        "    df_copy['Planned Start Time for Doctor Block'],\n",
        "    format='%H:%M:%S',\n",
        "    errors='coerce'\n",
        ").dt.time"
      ]
    },
    {
      "cell_type": "code",
      "execution_count": 26,
      "id": "91c44378",
      "metadata": {
        "id": "91c44378",
        "colab": {
          "base_uri": "https://localhost:8080/"
        },
        "outputId": "10eac6bb-56f0-4720-d433-23553a56e853"
      },
      "outputs": [
        {
          "output_type": "stream",
          "name": "stdout",
          "text": [
            "object\n",
            "0    07:00:00\n",
            "1    07:00:00\n",
            "2    07:00:00\n",
            "3    07:00:00\n",
            "4    07:00:00\n",
            "5    07:00:00\n",
            "6    07:00:00\n",
            "7    07:00:00\n",
            "8    07:05:00\n",
            "9    07:00:00\n",
            "Name: Planned Start Time for Doctor Block, dtype: object\n",
            "Missing values: 0\n"
          ]
        }
      ],
      "source": [
        "print(df_copy['Planned Start Time for Doctor Block'].dtype)\n",
        "print(df_copy['Planned Start Time for Doctor Block'].head(10))\n",
        "print(\"Missing values:\", df_copy['Planned Start Time for Doctor Block'].isna().sum())"
      ]
    },
    {
      "cell_type": "code",
      "execution_count": 27,
      "id": "83742496",
      "metadata": {
        "id": "83742496"
      },
      "outputs": [],
      "source": [
        "df_copy['Planned Start Time for Doctor Block'] = pd.to_timedelta(\n",
        "    df_copy['Planned Start Time for Doctor Block'].astype(str),\n",
        "    errors='coerce')"
      ]
    },
    {
      "cell_type": "code",
      "execution_count": 28,
      "id": "bf7d95e3",
      "metadata": {
        "id": "bf7d95e3",
        "colab": {
          "base_uri": "https://localhost:8080/"
        },
        "outputId": "600c719a-bfdc-4ed9-f074-069575c5cbb4"
      },
      "outputs": [
        {
          "output_type": "stream",
          "name": "stdout",
          "text": [
            "timedelta64[ns]\n",
            "0   0 days 07:00:00\n",
            "1   0 days 07:00:00\n",
            "2   0 days 07:00:00\n",
            "3   0 days 07:00:00\n",
            "4   0 days 07:00:00\n",
            "5   0 days 07:00:00\n",
            "6   0 days 07:00:00\n",
            "7   0 days 07:00:00\n",
            "8   0 days 07:05:00\n",
            "9   0 days 07:00:00\n",
            "Name: Planned Start Time for Doctor Block, dtype: timedelta64[ns]\n",
            "Missing values: 0\n"
          ]
        }
      ],
      "source": [
        "print(df_copy['Planned Start Time for Doctor Block'].dtype)\n",
        "print(df_copy['Planned Start Time for Doctor Block'].head(10))\n",
        "print(\"Missing values:\", df_copy['Planned Start Time for Doctor Block'].isna().sum())"
      ]
    },
    {
      "cell_type": "markdown",
      "id": "9c731492",
      "metadata": {
        "id": "9c731492"
      },
      "source": [
        "Actual Surgery Room Entry Time:"
      ]
    },
    {
      "cell_type": "code",
      "execution_count": 29,
      "id": "91f70f9c",
      "metadata": {
        "id": "91f70f9c"
      },
      "outputs": [],
      "source": [
        "df_copy['Actual Surgery Room Entry Time'] = pd.to_datetime(\n",
        "    df_copy['Actual Surgery Room Entry Time'],\n",
        "    format='%H:%M:%S',\n",
        "    errors='coerce'\n",
        ").dt.time"
      ]
    },
    {
      "cell_type": "code",
      "execution_count": 30,
      "id": "399f7d03",
      "metadata": {
        "id": "399f7d03",
        "colab": {
          "base_uri": "https://localhost:8080/"
        },
        "outputId": "b86f6a36-d630-43eb-8969-ce174cd2ce32"
      },
      "outputs": [
        {
          "output_type": "stream",
          "name": "stdout",
          "text": [
            "object\n",
            "0    07:05:00\n",
            "1    12:40:00\n",
            "2    07:22:00\n",
            "3    09:36:00\n",
            "4    10:52:00\n",
            "5    12:45:00\n",
            "6    07:14:00\n",
            "7    11:15:00\n",
            "8    07:20:00\n",
            "9    12:28:00\n",
            "Name: Actual Surgery Room Entry Time, dtype: object\n",
            "Missing values: 0\n"
          ]
        }
      ],
      "source": [
        "print(df_copy['Actual Surgery Room Entry Time'].dtype)\n",
        "print(df_copy['Actual Surgery Room Entry Time'].head(10))\n",
        "print(\"Missing values:\", df_copy['Actual Surgery Room Entry Time'].isna().sum())"
      ]
    },
    {
      "cell_type": "code",
      "execution_count": 31,
      "id": "52c9603c",
      "metadata": {
        "id": "52c9603c"
      },
      "outputs": [],
      "source": [
        "df_copy['Actual Surgery Room Entry Time'] = pd.to_timedelta(\n",
        "    df_copy['Actual Surgery Room Entry Time'].astype(str),\n",
        "    errors='coerce')"
      ]
    },
    {
      "cell_type": "code",
      "execution_count": 32,
      "id": "98ba9459",
      "metadata": {
        "id": "98ba9459",
        "colab": {
          "base_uri": "https://localhost:8080/"
        },
        "outputId": "296be4ef-1399-476f-92f9-117ebf7e5ac5"
      },
      "outputs": [
        {
          "output_type": "stream",
          "name": "stdout",
          "text": [
            "timedelta64[ns]\n",
            "0   0 days 07:05:00\n",
            "1   0 days 12:40:00\n",
            "2   0 days 07:22:00\n",
            "3   0 days 09:36:00\n",
            "4   0 days 10:52:00\n",
            "5   0 days 12:45:00\n",
            "6   0 days 07:14:00\n",
            "7   0 days 11:15:00\n",
            "8   0 days 07:20:00\n",
            "9   0 days 12:28:00\n",
            "Name: Actual Surgery Room Entry Time, dtype: timedelta64[ns]\n",
            "Missing values: 0\n"
          ]
        }
      ],
      "source": [
        "print(df_copy['Actual Surgery Room Entry Time'].dtype)\n",
        "print(df_copy['Actual Surgery Room Entry Time'].head(10))\n",
        "print(\"Missing values:\", df_copy['Actual Surgery Room Entry Time'].isna().sum())"
      ]
    },
    {
      "cell_type": "code",
      "execution_count": 33,
      "id": "99e683eb",
      "metadata": {
        "id": "99e683eb"
      },
      "outputs": [],
      "source": [
        "# List of columns that contain values in hours format only\n",
        "time_columns = [\n",
        "    'Actual Surgery Room Entry Time',\n",
        "    'Planned Start Time for Doctor Block',\n",
        "    'Incision Time',\n",
        "    'Closure Time',\n",
        "    'Planned End Time for Doctor Block']"
      ]
    },
    {
      "cell_type": "code",
      "source": [
        "import pandas as pd\n",
        "\n",
        "# List of columns being checked\n",
        "time_cols = [\"Entry DateTime\", \"Incision DateTime\", \"Closure DateTime\", \"Exit DateTime\"]\n",
        "\n",
        "# Columns in datetime format\n",
        "for col in time_cols:\n",
        "    df_copy[col] = pd.to_datetime(df_copy[col], errors='coerce')\n",
        "\n",
        "# Error count and list of deleted cells\n",
        "internal_corrections = 0\n",
        "external_corrections = 0\n",
        "deleted_cells = []\n",
        "\n",
        "# Cleaning up internal inconsistencies within a row\n",
        "def clean_internal_conflicts(row):\n",
        "    global internal_corrections\n",
        "    for i in range(len(time_cols) - 1):\n",
        "        col1 = time_cols[i]\n",
        "        col2 = time_cols[i + 1]\n",
        "        t1 = row[col1]\n",
        "        t2 = row[col2]\n",
        "\n",
        "        if pd.notnull(t1) and pd.notnull(t2) and t1 > t2:\n",
        "            prev_time = row[time_cols[i - 1]] if i > 0 else None\n",
        "            next_time = row[time_cols[i + 2]] if i + 2 < len(time_cols) else None\n",
        "\n",
        "            if prev_time is not None and pd.notnull(prev_time) and prev_time > t1:\n",
        "                bad_col = col1\n",
        "            elif next_time is not None and pd.notnull(next_time) and t2 > next_time:\n",
        "                bad_col = col2\n",
        "            else:\n",
        "                bad_col = col1  # default\n",
        "            deleted_cells.append((row.name, bad_col, row[bad_col]))\n",
        "            row[bad_col] = pd.NaT\n",
        "            internal_corrections += 1\n",
        "    return row\n",
        "\n",
        "df_copy = df_copy.apply(clean_internal_conflicts, axis=1)\n",
        "\n",
        "# Conflict between current Exit and next Entry\n",
        "df_copy[\"next_Entry DateTime\"] = df_copy[\"Entry DateTime\"].shift(-1)\n",
        "\n",
        "def fix_external_conflict(row):\n",
        "    global external_corrections\n",
        "    if pd.notnull(row[\"Exit DateTime\"]) and pd.notnull(row[\"next_Entry DateTime\"]):\n",
        "        if row[\"Exit DateTime\"] > row[\"next_Entry DateTime\"]:\n",
        "            deleted_cells.append((row.name, \"Exit DateTime\", row[\"Exit DateTime\"]))\n",
        "            row[\"Exit DateTime\"] = pd.NaT\n",
        "            external_corrections += 1\n",
        "    return row\n",
        "\n",
        "df_copy = df_copy.apply(fix_external_conflict, axis=1)\n",
        "df_copy.drop(columns=[\"next_Entry DateTime\"], inplace=True)\n",
        "\n",
        "# Conflict between current Entry and previous Exit → Always delete the Exit of the previous line\n",
        "df_copy[\"prev_Exit DateTime\"] = df_copy[\"Exit DateTime\"].shift(1)\n",
        "\n",
        "def fix_inter_row_conflict_strict(row):\n",
        "    global external_corrections\n",
        "    entry = row[\"Entry DateTime\"]\n",
        "    prev_exit = row[\"prev_Exit DateTime\"]\n",
        "\n",
        "    if pd.notnull(entry) and pd.notnull(prev_exit) and entry < prev_exit:\n",
        "        idx_prev = row.name - 1\n",
        "        deleted_cells.append((idx_prev, \"Exit DateTime\", df_copy.at[idx_prev, \"Exit DateTime\"]))\n",
        "        df_copy.at[idx_prev, \"Exit DateTime\"] = pd.NaT\n",
        "        external_corrections += 1\n",
        "\n",
        "    return row\n",
        "\n",
        "df_copy = df_copy.apply(fix_inter_row_conflict_strict, axis=1)\n",
        "df_copy.drop(columns=[\"prev_Exit DateTime\"], inplace=True)\n",
        "\n",
        "# summary\n",
        "print(f\"Cleaning finished:\")\n",
        "print(f\"{internal_corrections} Internal corrections were made within lines.\")\n",
        "print(f\"{external_corrections} Corrections of conflicts between lines have been made.\")\n",
        "\n",
        "# Show an example of deleted entries\n",
        "if deleted_cells:\n",
        "    print(\"\\n Example of deleted values (up to the first 5):\")\n",
        "    for row_idx, col, val in deleted_cells[:5]:\n",
        "        print(f\" row {row_idx}, column '{col}', Deleted entry: {val}\")\n",
        "else:\n",
        "    print(\"No entries were deleted.\")"
      ],
      "metadata": {
        "colab": {
          "base_uri": "https://localhost:8080/"
        },
        "id": "MyTlye5PIlhY",
        "outputId": "432c5864-db91-4dda-a1a1-f600af59c1b8"
      },
      "id": "MyTlye5PIlhY",
      "execution_count": 34,
      "outputs": [
        {
          "output_type": "stream",
          "name": "stdout",
          "text": [
            "Cleaning finished:\n",
            "0 Internal corrections were made within lines.\n",
            "1067 Corrections of conflicts between lines have been made.\n",
            "\n",
            " Example of deleted values (up to the first 5):\n",
            " row 6, column 'Exit DateTime', Deleted entry: 2018-03-23 08:47:00\n",
            " row 11, column 'Exit DateTime', Deleted entry: 2018-07-13 12:45:00\n",
            " row 17, column 'Exit DateTime', Deleted entry: 2018-09-07 12:26:00\n",
            " row 21, column 'Exit DateTime', Deleted entry: 2018-06-08 10:53:00\n",
            " row 42, column 'Exit DateTime', Deleted entry: 2018-06-12 10:43:00\n"
          ]
        }
      ]
    },
    {
      "cell_type": "markdown",
      "id": "5d508949",
      "metadata": {
        "id": "5d508949"
      },
      "source": [
        "SP, only consider shift boundaries!"
      ]
    },
    {
      "cell_type": "code",
      "execution_count": 35,
      "id": "81b9d685",
      "metadata": {
        "id": "81b9d685",
        "colab": {
          "base_uri": "https://localhost:8080/"
        },
        "outputId": "fb370bde-04b4-449c-fbdd-0602acf11636"
      },
      "outputs": [
        {
          "output_type": "stream",
          "name": "stdout",
          "text": [
            "Missing values at shift boundaries:\n",
            " Planned Start Time for Doctor Block    0\n",
            "Planned End Time for Doctor Block      0\n",
            "dtype: int64\n"
          ]
        }
      ],
      "source": [
        "# Checking how many missing values there are in the shift columns\n",
        "missing_values = df_copy[['Planned Start Time for Doctor Block', 'Planned End Time for Doctor Block']].isna().sum()\n",
        "print(\"Missing values at shift boundaries:\\n\", missing_values)"
      ]
    },
    {
      "cell_type": "code",
      "execution_count": 36,
      "id": "d436fba0",
      "metadata": {
        "id": "d436fba0"
      },
      "outputs": [],
      "source": [
        "# Convert date columns to datetime format\n",
        "date_columns = [\"Actual Surgery Room Entry Date\", \"Planned Start Date for Doctor Block\"]\n",
        "for col in date_columns:\n",
        "    df_copy[col] = pd.to_datetime(df[col], errors='coerce')  # Save the date only"
      ]
    },
    {
      "cell_type": "code",
      "execution_count": 37,
      "id": "23941606",
      "metadata": {
        "id": "23941606",
        "colab": {
          "base_uri": "https://localhost:8080/"
        },
        "outputId": "9d090f3c-6065-4a70-e556-1d65aef8e4db"
      },
      "outputs": [
        {
          "output_type": "stream",
          "name": "stdout",
          "text": [
            "datetime64[ns]\n"
          ]
        }
      ],
      "source": [
        "print(df_copy['Planned Start Date for Doctor Block'].dtype)"
      ]
    },
    {
      "cell_type": "code",
      "source": [
        "import pandas as pd\n",
        "import numpy as np\n",
        "\n",
        "# Convert columns to dates:\n",
        "datetime_cols = [\n",
        "    \"Actual Surgery Room Entry Date\",\n",
        "    \"End of Surgery Date (Exit from OR)\",\n",
        "    \"Planned Start Date for Doctor Block\",\n",
        "    \"Planned End Date for Doctor Block\"\n",
        "]\n",
        "for col in datetime_cols:\n",
        "    df_copy[col] = pd.to_datetime(df_copy[col], errors='coerce')\n",
        "\n",
        "# Creating new consolidated columns:\n",
        "df_copy[\"Planned Start DateTime\"] = df_copy[\"Planned Start Date for Doctor Block\"] + pd.to_timedelta(df_copy[\"Planned Start Time for Doctor Block\"].astype(str), errors='coerce')\n",
        "df_copy[\"Planned End DateTime\"] = df_copy[\"Planned End Date for Doctor Block\"] + pd.to_timedelta(df_copy[\"Planned End Time for Doctor Block\"].astype(str), errors='coerce')\n",
        "\n",
        "# Actual full surgery duration without shift restrictions:\n",
        "df_copy[\"S_p_raw\"] = df_copy[\"Closure DateTime\"] - df_copy[\"Incision DateTime\"]\n",
        "\n",
        "# Convert duration to decimal hours:\n",
        "df_copy[\"S_p_raw_hours\"] = df_copy[\"S_p_raw\"].dt.total_seconds() / 3600\n",
        "df_copy[\"S_p_raw_hours\"] = df_copy[\"S_p_raw_hours\"].round(5)\n",
        "\n",
        "# Actual duration of surgery within the block (shift) boundaries:\n",
        "df_copy[\"S_p_limited\"] = (\n",
        "    df_copy[[\"Closure DateTime\", \"Planned End DateTime\"]].min(axis=1) -\n",
        "    df_copy[[\"Incision DateTime\", \"Planned Start DateTime\"]].max(axis=1)\n",
        ").clip(lower=pd.Timedelta(0))\n",
        "\n",
        "df_copy.loc[\n",
        "    df_copy[['Incision DateTime', 'Closure DateTime', 'Planned Start DateTime', 'Planned End DateTime']].isnull().any(axis=1),\n",
        "    \"S_p_limited\"\n",
        "] = pd.NaT\n",
        "\n",
        "df_copy[\"S_p_hours_limited\"] = df_copy[\"S_p_limited\"].dt.total_seconds() / 3600\n",
        "df_copy.loc[df_copy[\"S_p_limited\"].isna(), \"S_p_hours_limited\"] = np.nan\n",
        "df_copy[\"S_p_hours_limited\"] = df_copy[\"S_p_hours_limited\"].round(5)\n",
        "\n",
        "df_sp_sum = df_copy.groupby(\n",
        "    ['Actual Surgery Room Entry Date', 'Actual Operating Room Number'],\n",
        "    as_index=False\n",
        ")['S_p_hours_limited'].sum()\n",
        "\n",
        "df_sp_sum.rename(columns={'S_p_hours_limited': 'total_SP_per_day_room'}, inplace=True)\n",
        "\n",
        "assert not df_sp_sum.duplicated(subset=[\"Actual Surgery Room Entry Date\", \"Actual Operating Room Number\"]).any()\n",
        "\n",
        "df_copy = df_copy.merge(\n",
        "    df_sp_sum,\n",
        "    on=['Actual Surgery Room Entry Date', 'Actual Operating Room Number'],\n",
        "    how='left'\n",
        ")"
      ],
      "metadata": {
        "id": "FM1bE9OvX7Ul"
      },
      "id": "FM1bE9OvX7Ul",
      "execution_count": 38,
      "outputs": []
    },
    {
      "cell_type": "markdown",
      "id": "fefa2603",
      "metadata": {
        "id": "fefa2603"
      },
      "source": [
        "SUP:"
      ]
    },
    {
      "cell_type": "code",
      "source": [
        "dt_cols = [\n",
        "    \"Planned Start DateTime\", \"Planned End DateTime\",\n",
        "    \"Entry DateTime\", \"Exit DateTime\",\n",
        "    \"Incision DateTime\", \"Closure DateTime\"\n",
        "]\n",
        "for col in dt_cols:\n",
        "    df_copy[col] = pd.to_datetime(df_copy[col], errors='coerce')\n",
        "\n",
        "df_copy[\"SU_p_before_limited\"] = (\n",
        "    (df_copy[\"Incision DateTime\"] - df_copy[\"Entry DateTime\"]).clip(lower=pd.Timedelta(0)) +\n",
        "    (df_copy[\"Exit DateTime\"] - df_copy[\"Closure DateTime\"]).clip(lower=pd.Timedelta(0))\n",
        ")\n",
        "df_copy[\"SU_p_before_hours\"] = df_copy[\"SU_p_before_limited\"].dt.total_seconds() / 3600\n",
        "\n",
        "prep_start = df_copy[[\"Entry DateTime\", \"Planned Start DateTime\"]].max(axis=1)\n",
        "prep_end = df_copy[[\"Incision DateTime\", \"Planned End DateTime\"]].min(axis=1)\n",
        "prep_duration = (prep_end - prep_start).clip(lower=pd.Timedelta(0))\n",
        "\n",
        "post_start = df_copy[[\"Closure DateTime\", \"Planned Start DateTime\"]].max(axis=1)\n",
        "post_end = df_copy[[\"Exit DateTime\", \"Planned End DateTime\"]].min(axis=1)\n",
        "post_duration = (post_end - post_start).clip(lower=pd.Timedelta(0))\n",
        "\n",
        "df_copy[\"SU_p_after_limited\"] = prep_duration + post_duration\n",
        "df_copy[\"SU_p_after_hours\"] = df_copy[\"SU_p_after_limited\"].dt.total_seconds() / 3600\n",
        "\n",
        "df_copy.loc[df_copy[[\n",
        "    'Entry DateTime', 'Incision DateTime', 'Closure DateTime', 'Exit DateTime',\n",
        "    'Planned Start DateTime', 'Planned End DateTime'\n",
        "]].isnull().any(axis=1), \"SU_p_after_limited\"] = pd.NaT\n",
        "\n",
        "df_copy[\"SU_p_after_hours\"] = df_copy[\"SU_p_after_limited\"].dt.total_seconds() / 3600\n",
        "df_copy.loc[df_copy[\"SU_p_after_limited\"].isna(), \"SU_p_after_hours\"] = np.nan\n",
        "\n",
        "su_grouped = df_copy.groupby(\n",
        "    [\"Actual Surgery Room Entry Date\", \"Actual Operating Room Number\"],\n",
        "    as_index=False\n",
        ")[\"SU_p_after_hours\"].sum().rename(columns={\"SU_p_after_hours\": \"SU_p_limited_hours\"})\n",
        "\n",
        "df_copy = df_copy.merge(\n",
        "    su_grouped,\n",
        "    on=[\"Actual Surgery Room Entry Date\", \"Actual Operating Room Number\"],\n",
        "    how=\"left\"\n",
        ")\n",
        "\n",
        "print(df_copy[[\n",
        "    \"Actual Surgery Room Entry Date\", \"Actual Operating Room Number\",\n",
        "    \"SU_p_before_hours\", \"SU_p_after_hours\", \"SU_p_limited_hours\"\n",
        "]].head())"
      ],
      "metadata": {
        "id": "b6AJL6lDaJ1h",
        "colab": {
          "base_uri": "https://localhost:8080/"
        },
        "outputId": "855ad719-0764-4108-b5f1-39bda402dd76"
      },
      "id": "b6AJL6lDaJ1h",
      "execution_count": 39,
      "outputs": [
        {
          "output_type": "stream",
          "name": "stdout",
          "text": [
            "  Actual Surgery Room Entry Date  Actual Operating Room Number  \\\n",
            "0                     2018-01-05                         20013   \n",
            "1                     2018-03-23                         20006   \n",
            "2                     2018-07-13                         20002   \n",
            "3                     2018-05-11                         20012   \n",
            "4                     2018-05-11                         20012   \n",
            "\n",
            "   SU_p_before_hours  SU_p_after_hours  SU_p_limited_hours  \n",
            "0                NaN               NaN            0.000000  \n",
            "1           0.383333          0.233333            0.666667  \n",
            "2                NaN               NaN            0.366667  \n",
            "3           0.366667          0.366667            1.350000  \n",
            "4                NaN               NaN            1.350000  \n"
          ]
        }
      ]
    },
    {
      "cell_type": "markdown",
      "id": "45d67968",
      "metadata": {
        "id": "45d67968"
      },
      "source": [
        "SHR:"
      ]
    },
    {
      "cell_type": "code",
      "source": [
        "# Calculate block duration in hours\n",
        "df_copy[\"Block Duration Hours\"] = (\n",
        "    df_copy[\"Planned End DateTime\"] - df_copy[\"Planned Start DateTime\"]\n",
        ").dt.total_seconds() / 3600\n",
        "\n",
        "# Get max block duration per surgeon per day and room\n",
        "df_max = df_copy.groupby(\n",
        "    ['Main Surgeon Code', 'Actual Surgery Room Entry Date', 'Actual Operating Room Number'],\n",
        "    as_index=False\n",
        ")['Block Duration Hours'].max()\n",
        "\n",
        "df_max.rename(columns={'Block Duration Hours': 'max_hours'}, inplace=True)\n",
        "\n",
        "# Sum the max values per day and room\n",
        "df_sum = df_max.groupby(\n",
        "    ['Actual Surgery Room Entry Date', 'Actual Operating Room Number'],\n",
        "    as_index=False\n",
        ")['max_hours'].sum()\n",
        "\n",
        "# Rename the result column to SH_r_hours\n",
        "df_sum.rename(columns={'max_hours': 'SH_r_hours'}, inplace=True)\n",
        "\n",
        "#Merge SH_r_hours back to df_copy\n",
        "df_copy = df_copy.merge(df_sum, on=['Actual Surgery Room Entry Date', 'Actual Operating Room Number'], how='left')"
      ],
      "metadata": {
        "id": "mXltxa-uezbl"
      },
      "id": "mXltxa-uezbl",
      "execution_count": 40,
      "outputs": []
    },
    {
      "cell_type": "markdown",
      "id": "ee641407",
      "metadata": {
        "id": "ee641407"
      },
      "source": [
        "Utilization rate:"
      ]
    },
    {
      "cell_type": "code",
      "execution_count": 41,
      "id": "00b31f40",
      "metadata": {
        "id": "00b31f40",
        "colab": {
          "base_uri": "https://localhost:8080/"
        },
        "outputId": "9b34e2ab-2e69-4aa4-b73b-f3219aa30079"
      },
      "outputs": [
        {
          "output_type": "stream",
          "name": "stdout",
          "text": [
            "['patient_id', 'Site Code', 'Main Surgeon Code', 'Activity Code', 'Activity Type Code', 'Planned SU Time (Large/Medium/Small)', 'Pre-Surgery Admission Date', 'Height', 'Weight', 'Patient Age (on Surgery Day)', 'Background Diseases/Diagnoses', 'Planned Surgery Date', 'Planned Surgery Time', 'Surgery Admission Date', 'Administrative Admission Time', 'Planned Operating Room Number', 'Pre-Surgery Hospitalization Admission Date', 'Pre-Surgery Hospitalization Admission Time', 'Pre-Surgical Admission Time Before Surgery', 'Surgical Team Codes', 'Anesthesiologist Code', 'Anesthesia Code', 'Type of Anesthesia', 'Cancellation Reason on Surgery Day', 'Actual Operating Room Number', 'Actual Surgery Room Entry Date', 'Actual Surgery Room Entry Time', 'Incision Time', 'Closure Time', 'End of Surgery Date (Exit from OR)', 'End of Surgery Time (Exit from OR)', 'Planned Surgery Duration', 'Recovery Room Entry Date', 'Recovery Room Entry Time', 'Recovery Room Exit Date', 'Recovery Room Exit Time', 'Post-Surgery Discharge Date', 'Post-Surgery Discharge Time', 'Planned Start Date for Doctor Block', 'Planned Start Time for Doctor Block', 'Planned End Date for Doctor Block', 'Planned End Time for Doctor Block', 'Readmission', 'strict_signature', 'No Show', 'Entry DateTime', 'Incision DateTime', 'Closure DateTime', 'Exit DateTime', 'Planned Surgery Time_Minutes', 'Administrative Admission Time_Minutes', 'Pre-Surgery Hospitalization Admission Time_Minutes', 'Pre-Surgical Admission Time Before Surgery_Minutes', 'Actual Surgery Room Entry Time_Minutes', 'Incision Time_Minutes', 'Closure Time_Minutes', 'End of Surgery Time (Exit from OR)_Minutes', 'Recovery Room Entry Time_Minutes', 'Recovery Room Exit Time_Minutes', 'Post-Surgery Discharge Time_Minutes', 'Planned Start Time for Doctor Block_Minutes', 'Planned End Time for Doctor Block_Minutes', 'Planned Start DateTime', 'Planned End DateTime', 'S_p_raw', 'S_p_raw_hours', 'S_p_limited', 'S_p_hours_limited', 'total_SP_per_day_room', 'SU_p_before_limited', 'SU_p_before_hours', 'SU_p_after_limited', 'SU_p_after_hours', 'SU_p_limited_hours', 'Block Duration Hours', 'SH_r_hours']\n"
          ]
        }
      ],
      "source": [
        "print(df_copy.columns.tolist())"
      ]
    },
    {
      "cell_type": "code",
      "source": [
        "# Clean the data before utilization calculation\n",
        "\n",
        "# Remove rows where there was a No-Show\n",
        "num_noshow = df_copy[\"No Show\"].sum()\n",
        "print(f\"Removed {num_noshow} rows due to No-Show status.\")\n",
        "df_copy = df_copy[df_copy[\"No Show\"] != True]\n",
        "\n",
        "# Remove rows with missing time components needed for utilization calculation\n",
        "required_cols = [\n",
        "    \"Incision DateTime\",\n",
        "    \"Closure DateTime\",\n",
        "    \"Planned Start DateTime\",\n",
        "    \"Planned End DateTime\",\n",
        "    \"Actual Surgery Room Entry Date\",\n",
        "    \"Actual Surgery Room Entry Time\",\n",
        "    \"End of Surgery Time (Exit from OR)\"\n",
        "]\n",
        "df_copy = df_copy.dropna(subset=required_cols)\n",
        "\n",
        "print(f\"Remaining rows for utilization calculation: {len(df_copy)}\")\n",
        "\n",
        "if all(col in df_copy.columns for col in [\"total_SP_per_day_room\", \"SU_p_limited_hours\", \"SH_r_hours\"]):\n",
        "    df_copy[\"daily_utilization_rate\"] = (\n",
        "        (df_copy[\"total_SP_per_day_room\"] + df_copy[\"SU_p_limited_hours\"]) /\n",
        "        df_copy[\"SH_r_hours\"]\n",
        "    ) * 100\n",
        "    print(f\"Calculated utilization for {df_copy['daily_utilization_rate'].notna().sum()} rows.\")\n",
        "\n",
        "    df_copy.loc[df_copy[\"SH_r_hours\"].isna(), \"daily_utilization_rate\"] = np.nan\n",
        "    df_copy.loc[df_copy[\"SH_r_hours\"] == 0, \"daily_utilization_rate\"] = np.nan\n",
        "else:\n",
        "    print(\"Missing columns required to calculate utilization\")"
      ],
      "metadata": {
        "id": "anBiQ7FKTFUw",
        "colab": {
          "base_uri": "https://localhost:8080/"
        },
        "outputId": "0912dce9-0d48-4f50-e89a-5a0f10d83aad"
      },
      "id": "anBiQ7FKTFUw",
      "execution_count": 42,
      "outputs": [
        {
          "output_type": "stream",
          "name": "stdout",
          "text": [
            "Removed 0 rows due to No-Show status.\n",
            "Remaining rows for utilization calculation: 12351\n",
            "Calculated utilization for 12351 rows.\n"
          ]
        }
      ]
    },
    {
      "cell_type": "code",
      "source": [
        "df_copy = df_copy.merge(df_copy[[\"Planned Start Date for Doctor Block\",\n",
        "                                        \"Actual Operating Room Number\",\n",
        "                                        \"daily_utilization_rate\"]],\n",
        "                        on=[\"Planned Start Date for Doctor Block\", \"Actual Operating Room Number\"],\n",
        "                        how=\"left\")"
      ],
      "metadata": {
        "id": "2rJ05nlBHQyD"
      },
      "id": "2rJ05nlBHQyD",
      "execution_count": 43,
      "outputs": []
    },
    {
      "cell_type": "code",
      "source": [
        "from datetime import timedelta\n",
        "\n",
        "for col in time_columns:\n",
        "    if col in df_copy.columns:\n",
        "        df_copy[col] = df_copy[col].apply(\n",
        "            lambda x: f\"{int(x.total_seconds() // 3600):02}:{int((x.total_seconds() % 3600) // 60):02}:{int(x.total_seconds() % 60):02}\"\n",
        "            if isinstance(x, timedelta) else (x if isinstance(x, str) else \"\")\n",
        "        )"
      ],
      "metadata": {
        "id": "y_KGCp5KsmGt"
      },
      "id": "y_KGCp5KsmGt",
      "execution_count": 44,
      "outputs": []
    },
    {
      "cell_type": "code",
      "source": [
        "df_copy.to_excel(\"2018_data_with_UTR.xlsx\", index=False)"
      ],
      "metadata": {
        "id": "2yV8jRPZFT_-"
      },
      "id": "2yV8jRPZFT_-",
      "execution_count": 45,
      "outputs": []
    }
  ],
  "metadata": {
    "kernelspec": {
      "display_name": "Python 3",
      "name": "python3"
    },
    "language_info": {
      "codemirror_mode": {
        "name": "ipython",
        "version": 3
      },
      "file_extension": ".py",
      "mimetype": "text/x-python",
      "name": "python",
      "nbconvert_exporter": "python",
      "pygments_lexer": "ipython3",
      "version": "3.11.5"
    },
    "colab": {
      "provenance": [],
      "gpuType": "T4"
    },
    "accelerator": "GPU"
  },
  "nbformat": 4,
  "nbformat_minor": 5
}