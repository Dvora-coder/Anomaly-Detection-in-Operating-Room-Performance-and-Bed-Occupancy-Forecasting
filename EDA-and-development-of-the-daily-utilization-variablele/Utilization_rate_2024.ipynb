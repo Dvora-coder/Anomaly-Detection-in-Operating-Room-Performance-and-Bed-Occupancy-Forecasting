{
  "cells": [
    {
      "cell_type": "markdown",
      "source": [
        "# Operating Room Utilization Rate Calculation for 2024\n",
        "\n",
        "In this notebook, we calculate the daily operating room utilization rate during 2024 using the cleaned Assuta Ramat HaHayal dataset. Our objective is to produce a key performance indicator that reflects how effectively scheduled and unscheduled procedure hours occupy the total available block time, thereby supporting capacity planning, efficiency analysis, and year-over-year comparisons.\n",
        "\n",
        "**1. Imports and Data Loading**  \n",
        "- We import essential libraries (`pandas`, `numpy`, `matplotlib.pyplot`, `seaborn`, `scipy.stats`, etc.).  \n",
        "- We load the pre-cleaned 2024 Excel file into a pandas DataFrame and inspect its head, schema, and basic summary statistics.\n",
        "\n",
        "**2. Initial Inspection and Copy**  \n",
        "- We examine the DataFrame’s structure, column names, and data types to ensure correct parsing.  \n",
        "- We create a working copy (`df_copy`) to preserve the original raw data for reproducibility.\n",
        "\n",
        "**3. Removal of Irrelevant Records**  \n",
        "- We filter out any “No Show” entries and drop fully duplicated rows to avoid inflating utilization calculations.\n",
        "\n",
        "**4. Date and Time Parsing**  \n",
        "- We convert planned block dates and actual entry/exit dates into proper `datetime` objects.  \n",
        "- We parse time-only fields (planned start/end, incision, closure, actual entry/exit) into `datetime.time` or `timedelta`, handling invalid or missing values.\n",
        "\n",
        "**5. Timestamp Construction**  \n",
        "- We merge each planned date with its corresponding planned start and end times to form unified `Planned Start DateTime` and `Planned End DateTime` columns, enabling precise duration computations.\n",
        "\n",
        "**6. Service Hours (SH) Calculation**  \n",
        "- We compute each block's available hours as the difference between planned end and start datetimes, converted to hours.  \n",
        "- We group by operating room and date, take the maximum block hours per room per day, and sum these to obtain total service hours (`SH_r_hours`).\n",
        "\n",
        "**7. Scheduled and Unscheduled Procedure Hours**  \n",
        "- **Scheduled Procedure Hours (SP):** We limit actual surgery durations to within each block window, convert to hours, and aggregate per room per day into `total_SP_per_day_room`.  \n",
        "- **Unscheduled Procedure Hours (SU):** We calculate any additional time used before incision or after closure but still within the block window, convert to hours, and aggregate per room per day into `SU_p_limited_hours`.\n",
        "\n",
        "**8. Utilization Rate Calculation**  \n",
        "- We define the daily utilization rate as:  \n",
        "  ```python\n",
        "  daily_utilization_rate = (total_SP_per_day_room + SU_p_limited_hours) / SH_r_hours * 100\n",
        "We assign NaN for days or rooms with zero or missing service hours to prevent invalid ratios.\n",
        "\n",
        "**9. Merging Results and Summary**\n",
        "\n",
        "We merge the calculated daily_utilization_rate back onto the main DataFrame by block date and operating room number.\n",
        "\n",
        "We compute summary statistics and generate distribution plots for both SH_r_hours and daily_utilization_rate to analyze efficiency patterns across 2024.\n",
        "\n",
        "**10. Export**\n",
        "\n",
        "We save the enriched dataset, including the new utilization metric, to an Excel file for downstream analysis, visualization, and strategic decision-making.\n",
        "\n",
        "By following these steps, we produce a robust utilization metric for each operating room in 2024, enabling in-depth capacity assessments, identification of under- or over-utilized periods, and informed resource allocation."
      ],
      "metadata": {
        "id": "kSdVxiCDEjfF"
      },
      "id": "kSdVxiCDEjfF"
    },
    {
      "cell_type": "markdown",
      "id": "87882ba5",
      "metadata": {
        "id": "87882ba5"
      },
      "source": [
        "Calculating the target variable - utilization percentage:"
      ]
    },
    {
      "cell_type": "code",
      "execution_count": 1,
      "id": "890dc9d3",
      "metadata": {
        "id": "890dc9d3"
      },
      "outputs": [],
      "source": [
        "#Import the libraries:\n",
        "import pandas as pd\n",
        "import numpy as np\n",
        "import matplotlib.pyplot as plt\n",
        "import seaborn as sns\n",
        "from scipy import stats\n",
        "import warnings\n",
        "import itertools\n",
        "from pandas.api.types import is_numeric_dtype\n",
        "from scipy.stats import shapiro"
      ]
    },
    {
      "cell_type": "code",
      "source": [
        "file_path = r\"/content/2024_data_Assuta_nomissings_for_stat_final_2705.xlsx\"\n",
        "df = pd.read_excel(file_path)\n",
        "print(df.head())"
      ],
      "metadata": {
        "id": "L7s3T9uG7pH-",
        "colab": {
          "base_uri": "https://localhost:8080/"
        },
        "outputId": "a6f21823-093a-43de-e3ae-098e8b96f6ab"
      },
      "id": "L7s3T9uG7pH-",
      "execution_count": 2,
      "outputs": [
        {
          "output_type": "stream",
          "name": "stdout",
          "text": [
            "   patient_id  Site Code Main Surgeon Code  Activity Code  Activity Type Code  \\\n",
            "0          37         20              2982          26.33                  19   \n",
            "1          38         20              2982          26.33                  19   \n",
            "2          39         20              2982          26.33                  19   \n",
            "3          40         20              2982          26.33                  19   \n",
            "4          41         20              2982          26.33                  19   \n",
            "\n",
            "   Planned SU Time (Large/Medium/Small) Pre-Surgery Admission Date  Height  \\\n",
            "0                                   0.0                 2023-07-06    1.66   \n",
            "1                                   0.0                 2023-07-09    1.76   \n",
            "2                                  17.0                 2023-10-29    1.60   \n",
            "3                                  18.0                 2023-09-20    1.72   \n",
            "4                                  18.0                 2023-11-02    1.69   \n",
            "\n",
            "   Weight  Patient Age (on Surgery Day)  ...  \\\n",
            "0    63.7                            50  ...   \n",
            "1    71.0                            46  ...   \n",
            "2    36.0                            83  ...   \n",
            "3    65.0                            29  ...   \n",
            "4    64.0                            48  ...   \n",
            "\n",
            "  Administrative Admission Time_Minutes  \\\n",
            "0                                     2   \n",
            "1                                     2   \n",
            "2                                     1   \n",
            "3                                     1   \n",
            "4                                     1   \n",
            "\n",
            "  Pre-Surgical Admission Time Before Surgery_Minutes  \\\n",
            "0                                                  2   \n",
            "1                                                  2   \n",
            "2                                                  1   \n",
            "3                                                  1   \n",
            "4                                                  1   \n",
            "\n",
            "  Actual Surgery Room Entry Time_Minutes Incision Time_Minutes  \\\n",
            "0                                      2                     2   \n",
            "1                                      2                     2   \n",
            "2                                      1                     1   \n",
            "3                                      1                     1   \n",
            "4                                      1                     1   \n",
            "\n",
            "  Closure Time_Minutes End of Surgery Time (Exit from OR)_Minutes  \\\n",
            "0                    2                                          2   \n",
            "1                    2                                          2   \n",
            "2                    1                                          1   \n",
            "3                    1                                          1   \n",
            "4                    1                                          1   \n",
            "\n",
            "  Recovery Room Entry Time_Minutes Recovery Room Exit Time_Minutes  \\\n",
            "0                                2                               2   \n",
            "1                                2                               3   \n",
            "2                                1                               1   \n",
            "3                                1                               1   \n",
            "4                                1                               2   \n",
            "\n",
            "  Planned Start Time for Doctor Block_Minutes  \\\n",
            "0                                         420   \n",
            "1                                         420   \n",
            "2                                         420   \n",
            "3                                         420   \n",
            "4                                         420   \n",
            "\n",
            "   Planned End Time for Doctor Block_Minutes  \n",
            "0                                          1  \n",
            "1                                          1  \n",
            "2                                          1  \n",
            "3                                          1  \n",
            "4                                          1  \n",
            "\n",
            "[5 rows x 57 columns]\n"
          ]
        }
      ]
    },
    {
      "cell_type": "code",
      "execution_count": 3,
      "id": "17ab80a8",
      "metadata": {
        "id": "17ab80a8",
        "colab": {
          "base_uri": "https://localhost:8080/"
        },
        "outputId": "aed216cc-dc55-4e09-c4b7-23de569a9748"
      },
      "outputs": [
        {
          "output_type": "stream",
          "name": "stdout",
          "text": [
            "Index(['patient_id', 'Site Code', 'Main Surgeon Code', 'Activity Code',\n",
            "       'Activity Type Code', 'Planned SU Time (Large/Medium/Small)',\n",
            "       'Pre-Surgery Admission Date', 'Height', 'Weight',\n",
            "       'Patient Age (on Surgery Day)', 'Background Diseases/Diagnoses',\n",
            "       'Planned Surgery Date', 'Planned Surgery Time',\n",
            "       'Surgery Admission Date', 'Administrative Admission Time', 'אתר מתוכנן',\n",
            "       'Planned Operating Room Number',\n",
            "       'Pre-Surgical Admission Time Before Surgery', 'Surgical Team Codes',\n",
            "       'Anesthesiologist Code', 'Anesthesia Code', 'Type of Anesthesia',\n",
            "       'Cancellation Reason on Surgery Day', 'Actual Operating Room Number',\n",
            "       'Actual Surgery Room Entry Date', 'Actual Surgery Room Entry Time',\n",
            "       'Incision Time', 'Closure Time', 'End of Surgery Date (Exit from OR)',\n",
            "       'End of Surgery Time (Exit from OR)', 'Planned Surgery Duration',\n",
            "       'Recovery Room Entry Date', 'Recovery Room Entry Time',\n",
            "       'Recovery Room Exit Date', 'Recovery Room Exit Time',\n",
            "       'Planned Start Date for Doctor Block',\n",
            "       'Planned Start Time for Doctor Block',\n",
            "       'Planned End Date for Doctor Block',\n",
            "       'Planned End Time for Doctor Block', 'Readmission', 'strict_signature',\n",
            "       'No Show', 'Entry DateTime', 'Incision DateTime', 'Closure DateTime',\n",
            "       'Exit DateTime', 'Planned Surgery Time_Minutes',\n",
            "       'Administrative Admission Time_Minutes',\n",
            "       'Pre-Surgical Admission Time Before Surgery_Minutes',\n",
            "       'Actual Surgery Room Entry Time_Minutes', 'Incision Time_Minutes',\n",
            "       'Closure Time_Minutes', 'End of Surgery Time (Exit from OR)_Minutes',\n",
            "       'Recovery Room Entry Time_Minutes', 'Recovery Room Exit Time_Minutes',\n",
            "       'Planned Start Time for Doctor Block_Minutes',\n",
            "       'Planned End Time for Doctor Block_Minutes'],\n",
            "      dtype='object')\n"
          ]
        }
      ],
      "source": [
        "print(df.columns)"
      ]
    },
    {
      "cell_type": "code",
      "execution_count": 4,
      "id": "31753d4d",
      "metadata": {
        "id": "31753d4d",
        "colab": {
          "base_uri": "https://localhost:8080/"
        },
        "outputId": "07c52460-88fa-4bb2-e987-4a33e035fd43"
      },
      "outputs": [
        {
          "output_type": "stream",
          "name": "stdout",
          "text": [
            "patient_id                                                     int64\n",
            "Site Code                                                      int64\n",
            "Main Surgeon Code                                             object\n",
            "Activity Code                                                float64\n",
            "Activity Type Code                                             int64\n",
            "Planned SU Time (Large/Medium/Small)                         float64\n",
            "Pre-Surgery Admission Date                            datetime64[ns]\n",
            "Height                                                       float64\n",
            "Weight                                                       float64\n",
            "Patient Age (on Surgery Day)                                   int64\n",
            "Background Diseases/Diagnoses                                 object\n",
            "Planned Surgery Date                                  datetime64[ns]\n",
            "Planned Surgery Time                                          object\n",
            "Surgery Admission Date                                datetime64[ns]\n",
            "Administrative Admission Time                                 object\n",
            "אתר מתוכנן                                                    object\n",
            "Planned Operating Room Number                                 object\n",
            "Pre-Surgical Admission Time Before Surgery                    object\n",
            "Surgical Team Codes                                           object\n",
            "Anesthesiologist Code                                        float64\n",
            "Anesthesia Code                                               object\n",
            "Type of Anesthesia                                            object\n",
            "Cancellation Reason on Surgery Day                           float64\n",
            "Actual Operating Room Number                                   int64\n",
            "Actual Surgery Room Entry Date                        datetime64[ns]\n",
            "Actual Surgery Room Entry Time                                object\n",
            "Incision Time                                                 object\n",
            "Closure Time                                                  object\n",
            "End of Surgery Date (Exit from OR)                    datetime64[ns]\n",
            "End of Surgery Time (Exit from OR)                            object\n",
            "Planned Surgery Duration                                      object\n",
            "Recovery Room Entry Date                              datetime64[ns]\n",
            "Recovery Room Entry Time                                      object\n",
            "Recovery Room Exit Date                               datetime64[ns]\n",
            "Recovery Room Exit Time                                       object\n",
            "Planned Start Date for Doctor Block                   datetime64[ns]\n",
            "Planned Start Time for Doctor Block                           object\n",
            "Planned End Date for Doctor Block                     datetime64[ns]\n",
            "Planned End Time for Doctor Block                             object\n",
            "Readmission                                                    int64\n",
            "strict_signature                                              object\n",
            "No Show                                                         bool\n",
            "Entry DateTime                                                object\n",
            "Incision DateTime                                             object\n",
            "Closure DateTime                                              object\n",
            "Exit DateTime                                                 object\n",
            "Planned Surgery Time_Minutes                                   int64\n",
            "Administrative Admission Time_Minutes                          int64\n",
            "Pre-Surgical Admission Time Before Surgery_Minutes             int64\n",
            "Actual Surgery Room Entry Time_Minutes                         int64\n",
            "Incision Time_Minutes                                          int64\n",
            "Closure Time_Minutes                                           int64\n",
            "End of Surgery Time (Exit from OR)_Minutes                     int64\n",
            "Recovery Room Entry Time_Minutes                               int64\n",
            "Recovery Room Exit Time_Minutes                                int64\n",
            "Planned Start Time for Doctor Block_Minutes                    int64\n",
            "Planned End Time for Doctor Block_Minutes                      int64\n",
            "dtype: object\n"
          ]
        }
      ],
      "source": [
        "print(df.dtypes)"
      ]
    },
    {
      "cell_type": "markdown",
      "id": "80f74dd7",
      "metadata": {
        "id": "80f74dd7"
      },
      "source": [
        "Step 1: Preparing and checking the time and date columns - converting to an appropriate data type"
      ]
    },
    {
      "cell_type": "code",
      "execution_count": 5,
      "id": "3dda8092",
      "metadata": {
        "id": "3dda8092"
      },
      "outputs": [],
      "source": [
        "df_copy=df.copy()"
      ]
    },
    {
      "cell_type": "code",
      "execution_count": 6,
      "id": "34112e6b",
      "metadata": {
        "id": "34112e6b",
        "colab": {
          "base_uri": "https://localhost:8080/"
        },
        "outputId": "7f3a3818-16e2-4c8c-bc4a-13c7befea552"
      },
      "outputs": [
        {
          "output_type": "stream",
          "name": "stdout",
          "text": [
            "Number of rows: 4631\n",
            "Number of columns: 57\n"
          ]
        }
      ],
      "source": [
        "print(f\"Number of rows: {df_copy.shape[0]}\")\n",
        "print(f\"Number of columns: {df_copy.shape[1]}\")"
      ]
    },
    {
      "cell_type": "code",
      "execution_count": 7,
      "id": "5359b7f2",
      "metadata": {
        "id": "5359b7f2",
        "colab": {
          "base_uri": "https://localhost:8080/"
        },
        "outputId": "22afb24c-ae1a-48dd-99d8-8ac571949451"
      },
      "outputs": [
        {
          "output_type": "stream",
          "name": "stdout",
          "text": [
            "   patient_id  Site Code Main Surgeon Code  Activity Code  Activity Type Code  \\\n",
            "0          37         20              2982          26.33                  19   \n",
            "1          38         20              2982          26.33                  19   \n",
            "2          39         20              2982          26.33                  19   \n",
            "3          40         20              2982          26.33                  19   \n",
            "4          41         20              2982          26.33                  19   \n",
            "5          44         20              2982          26.33                  19   \n",
            "6          45         20              2982          26.33                  19   \n",
            "7          46         20              2982          26.33                  19   \n",
            "8          48         20              2982          26.33                  19   \n",
            "9          49         20              2982          26.33                  19   \n",
            "\n",
            "   Planned SU Time (Large/Medium/Small) Pre-Surgery Admission Date  Height  \\\n",
            "0                                   0.0                 2023-07-06    1.66   \n",
            "1                                   0.0                 2023-07-09    1.76   \n",
            "2                                  17.0                 2023-10-29    1.60   \n",
            "3                                  18.0                 2023-09-20    1.72   \n",
            "4                                  18.0                 2023-11-02    1.69   \n",
            "5                                  20.0                 2023-07-10    1.68   \n",
            "6                                  20.0                 2023-08-08    1.65   \n",
            "7                                  20.0                 2023-09-18    1.74   \n",
            "8                                  20.0                 2023-10-30    1.55   \n",
            "9                                  20.0                 2023-11-02    1.60   \n",
            "\n",
            "   Weight  Patient Age (on Surgery Day)  ...  \\\n",
            "0    63.7                            50  ...   \n",
            "1    71.0                            46  ...   \n",
            "2    36.0                            83  ...   \n",
            "3    65.0                            29  ...   \n",
            "4    64.0                            48  ...   \n",
            "5    94.0                            44  ...   \n",
            "6    60.0                            54  ...   \n",
            "7   116.0                            62  ...   \n",
            "8    50.0                            34  ...   \n",
            "9    55.0                            63  ...   \n",
            "\n",
            "  Administrative Admission Time_Minutes  \\\n",
            "0                                     2   \n",
            "1                                     2   \n",
            "2                                     1   \n",
            "3                                     1   \n",
            "4                                     1   \n",
            "5                                     1   \n",
            "6                                     2   \n",
            "7                                     1   \n",
            "8                                     1   \n",
            "9                                     2   \n",
            "\n",
            "  Pre-Surgical Admission Time Before Surgery_Minutes  \\\n",
            "0                                                  2   \n",
            "1                                                  2   \n",
            "2                                                  1   \n",
            "3                                                  1   \n",
            "4                                                  1   \n",
            "5                                                  1   \n",
            "6                                                  2   \n",
            "7                                                  1   \n",
            "8                                                  1   \n",
            "9                                                  2   \n",
            "\n",
            "  Actual Surgery Room Entry Time_Minutes Incision Time_Minutes  \\\n",
            "0                                      2                     2   \n",
            "1                                      2                     2   \n",
            "2                                      1                     1   \n",
            "3                                      1                     1   \n",
            "4                                      1                     1   \n",
            "5                                      1                     1   \n",
            "6                                      2                     2   \n",
            "7                                      1                     1   \n",
            "8                                      1                     1   \n",
            "9                                      2                     2   \n",
            "\n",
            "  Closure Time_Minutes End of Surgery Time (Exit from OR)_Minutes  \\\n",
            "0                    2                                          2   \n",
            "1                    2                                          2   \n",
            "2                    1                                          1   \n",
            "3                    1                                          1   \n",
            "4                    1                                          1   \n",
            "5                    1                                          1   \n",
            "6                    2                                          2   \n",
            "7                    1                                          1   \n",
            "8                    2                                          2   \n",
            "9                    2                                          2   \n",
            "\n",
            "  Recovery Room Entry Time_Minutes Recovery Room Exit Time_Minutes  \\\n",
            "0                                2                               2   \n",
            "1                                2                               3   \n",
            "2                                1                               1   \n",
            "3                                1                               1   \n",
            "4                                1                               2   \n",
            "5                                1                               1   \n",
            "6                                2                               2   \n",
            "7                                1                               1   \n",
            "8                                2                               2   \n",
            "9                                2                               2   \n",
            "\n",
            "  Planned Start Time for Doctor Block_Minutes  \\\n",
            "0                                         420   \n",
            "1                                         420   \n",
            "2                                         420   \n",
            "3                                         420   \n",
            "4                                         420   \n",
            "5                                         420   \n",
            "6                                         600   \n",
            "7                                         420   \n",
            "8                                         420   \n",
            "9                                         420   \n",
            "\n",
            "   Planned End Time for Doctor Block_Minutes  \n",
            "0                                          1  \n",
            "1                                          1  \n",
            "2                                          1  \n",
            "3                                          1  \n",
            "4                                          1  \n",
            "5                                          1  \n",
            "6                                          2  \n",
            "7                                          1  \n",
            "8                                          1  \n",
            "9                                          1  \n",
            "\n",
            "[10 rows x 57 columns]\n"
          ]
        }
      ],
      "source": [
        "print(df_copy.head(10))"
      ]
    },
    {
      "cell_type": "markdown",
      "id": "67e739b3",
      "metadata": {
        "id": "67e739b3"
      },
      "source": [
        "Handling duplicates and missing values of type NALL:"
      ]
    },
    {
      "cell_type": "code",
      "execution_count": 8,
      "id": "49b62afe",
      "metadata": {
        "id": "49b62afe",
        "colab": {
          "base_uri": "https://localhost:8080/"
        },
        "outputId": "559eff76-6941-4703-ac4e-8760c183d5b6"
      },
      "outputs": [
        {
          "output_type": "stream",
          "name": "stdout",
          "text": [
            "The number of completely repeating lines: 0\n"
          ]
        }
      ],
      "source": [
        "# Overall duplicate count (all rows):\n",
        "num_duplicates = df_copy.duplicated().sum()\n",
        "print(f\"The number of completely repeating lines: {num_duplicates}\")"
      ]
    },
    {
      "cell_type": "markdown",
      "source": [
        "We tried to merge the duplicate rows more effectively based on the following parameters: age, weight, height, surgery entry date, and surgeon code. We attempted to prevent data loss by combining the different values from the duplicate rows. However, the code did not work as expected and distorted the time-related data, resulting in incorrect utilization calculations."
      ],
      "metadata": {
        "id": "cxNQFwQLCDY4"
      },
      "id": "cxNQFwQLCDY4"
    },
    {
      "cell_type": "markdown",
      "id": "cd07f34a",
      "metadata": {
        "id": "cd07f34a"
      },
      "source": [
        "Planned End Time for Doctor Block:"
      ]
    },
    {
      "cell_type": "code",
      "execution_count": 9,
      "id": "1ed62bae",
      "metadata": {
        "id": "1ed62bae",
        "colab": {
          "base_uri": "https://localhost:8080/"
        },
        "outputId": "ec7257f5-9778-4aa3-e997-fd41b1f390be"
      },
      "outputs": [
        {
          "output_type": "stream",
          "name": "stdout",
          "text": [
            "['12:56:00' '11:06:00' '09:36:00' '09:41:00' '14:53:00' '12:10:00'\n",
            " '09:50:00' '10:47:00' '16:00:00' '13:32:00' '13:39:00' '15:00:00'\n",
            " '10:57:00' '09:00:00' '10:59:00' '10:23:00' '07:53:00' '12:20:00'\n",
            " '14:35:00' '14:50:00' '11:35:00' '17:30:00' '08:41:00' '08:38:00'\n",
            " '15:41:00' '10:20:00' '10:50:00' '16:16:00' '13:20:00' '19:25:00'\n",
            " '09:40:00' '12:44:00' '08:20:00' '10:30:00' '09:32:00' '12:29:00'\n",
            " '10:24:00' '10:09:00' '22:45:00' '15:30:00' '14:23:00' '13:00:00'\n",
            " '17:50:00' '18:46:00' '14:46:00' '13:03:00' '13:59:00' '12:09:00'\n",
            " '11:26:00' '17:11:00' '15:52:00' '15:48:00' '18:59:00' '12:24:00'\n",
            " '12:47:00' '12:05:00' '14:40:00' '14:00:00' '11:55:00' '13:54:00'\n",
            " '14:22:00' '10:40:00' '11:50:00' '14:08:00' '17:07:00' '21:22:00'\n",
            " '21:06:00' '21:51:00' '20:06:00' '20:50:00' '20:54:00' '20:38:00'\n",
            " '18:02:00' '22:56:00' '16:20:00' '19:51:00' '21:21:00' '20:59:00'\n",
            " '21:30:00' '19:38:00' '20:09:00' '10:48:00' '14:38:00' '11:00:00'\n",
            " '12:55:00' '12:58:00' '13:30:00' '08:36:00' '10:54:00' '10:34:00'\n",
            " '08:52:00' '13:55:00' '12:36:00' '08:05:00' '13:10:00' '10:10:00'\n",
            " '12:11:00' '11:11:00' '10:00:00' '09:53:00' '14:25:00' '14:57:00'\n",
            " '11:47:00' '22:40:00' '23:00:00' '10:38:00' '08:49:00' '10:16:00'\n",
            " '09:43:00' '10:53:00' '12:54:00' '09:22:00' '13:06:00' '15:50:00'\n",
            " '14:56:00' '15:56:00' '13:25:00' '15:35:00' '13:09:00' '14:16:00'\n",
            " '14:55:00' '13:15:00' '14:33:00' '14:07:00' '12:46:00' '15:16:00'\n",
            " '13:56:00' '19:56:00' '19:20:00' '20:20:00' '20:00:00' '21:50:00'\n",
            " '09:31:00' '20:52:00' '12:53:00' '17:43:00' '19:32:00' '19:28:00'\n",
            " '20:25:00' '11:52:00' '11:28:00' '13:08:00' '09:34:00' '08:18:00'\n",
            " '08:19:00' '09:57:00' '10:17:00' '09:56:00' '09:46:00' '15:40:00'\n",
            " '17:47:00' '11:22:00' '11:57:00' '09:58:00' '10:33:00' '10:29:00'\n",
            " '11:30:00' '10:45:00' '09:17:00' '12:39:00' '22:30:00' '21:57:00'\n",
            " '22:10:00' '22:43:00' '22:17:00' '22:58:00' '22:57:00' '13:31:00'\n",
            " '12:19:00' '14:09:00' '13:52:00' '12:07:00' '12:15:00' '10:03:00'\n",
            " '11:33:00' '13:44:00' '12:06:00' '09:45:00' '12:34:00' '14:41:00'\n",
            " '12:37:00' '15:24:00' '10:55:00' '15:38:00' '13:37:00' '20:18:00'\n",
            " '15:34:00' '13:53:00' '13:29:00' '14:42:00' '13:42:00' '15:20:00'\n",
            " '14:27:00' '12:42:00' '10:51:00' '13:49:00' '11:01:00' '12:08:00'\n",
            " '14:01:00' '11:15:00' '13:05:00' '12:38:00' '13:40:00' '10:35:00'\n",
            " '14:28:00' '08:34:00' '11:48:00' '16:55:00' '21:25:00' '22:00:00'\n",
            " '15:49:00' '17:55:00' '20:48:00' '20:43:00' '15:59:00' '16:45:00'\n",
            " '16:19:00' '17:00:00' '22:22:00' '15:37:00' '19:04:00' '16:21:00'\n",
            " '19:49:00' '16:08:00' '19:33:00' '22:48:00' '16:15:00' '20:57:00'\n",
            " '19:46:00' '16:10:00' '21:10:00' '20:45:00' '21:00:00' '14:05:00'\n",
            " '14:44:00' '15:09:00' '15:55:00' '16:52:00' '16:50:00' '16:25:00'\n",
            " '13:34:00' '14:34:00' '12:18:00' '13:13:00' '13:43:00' '13:28:00'\n",
            " '19:24:00' '22:47:00' '19:11:00' '22:50:00' '11:40:00' '13:58:00'\n",
            " '11:16:00' '11:19:00' '10:49:00' '12:49:00' '21:48:00' '22:59:00'\n",
            " '21:16:00' '20:32:00' '17:34:00' '22:29:00' '10:43:00' '12:12:00'\n",
            " '12:30:00' '19:42:00' '22:23:00' '22:39:00' '19:36:00' '20:47:00'\n",
            " '20:15:00' '08:32:00' '12:00:00' '12:32:00' '11:56:00' '08:45:00'\n",
            " '10:04:00' '09:59:00' '09:14:00' '09:16:00' '09:48:00' '11:46:00'\n",
            " '14:58:00' '15:42:00' '15:21:00' '14:24:00' '13:27:00' '13:12:00'\n",
            " '14:10:00' '13:01:00' '15:06:00' '11:04:00' '11:27:00' '11:34:00'\n",
            " '13:36:00' '12:02:00' '09:02:00' '10:32:00' '12:59:00' '10:12:00'\n",
            " '10:25:00' '11:45:00' '13:21:00' '10:52:00' '13:57:00' '14:52:00'\n",
            " '11:42:00' '12:04:00' '12:21:00' '13:24:00' '15:29:00' '14:37:00'\n",
            " '12:35:00' '18:56:00' '15:46:00' '12:25:00' '11:18:00' '09:30:00'\n",
            " '11:41:00' '08:06:00' '15:10:00' '10:27:00' '10:46:00' '09:38:00'\n",
            " '12:26:00' '18:33:00' '17:20:00' '17:03:00' '13:14:00' '10:44:00'\n",
            " '19:22:00' '19:41:00' '19:00:00' '20:28:00' '22:03:00' '21:38:00'\n",
            " '21:46:00' '20:10:00' '18:26:00' '20:39:00' '19:01:00' '18:40:00'\n",
            " '20:08:00' '20:12:00' '17:15:00' '19:52:00' '17:28:00' '17:18:00'\n",
            " '07:56:00' '14:20:00' '13:16:00' '11:12:00' '11:59:00' '21:45:00'\n",
            " '18:09:00' '22:12:00' '08:53:00' '20:36:00' '22:18:00' '22:55:00'\n",
            " '21:13:00' '08:56:00' '13:35:00' '12:40:00' '11:53:00' '08:55:00'\n",
            " '22:15:00' '21:43:00' '11:21:00' '08:16:00' '12:14:00' '13:26:00'\n",
            " '12:41:00' '14:29:00' '08:31:00' '12:17:00' '11:36:00' '14:47:00'\n",
            " '14:13:00' '16:54:00' '20:17:00' '20:27:00' '18:00:00' '19:34:00'\n",
            " '17:48:00' '11:39:00' '21:40:00' '21:09:00' '22:36:00' '22:11:00'\n",
            " '19:29:00' '17:53:00' '18:16:00' '19:59:00' '14:39:00' '13:33:00'\n",
            " '08:40:00' '18:57:00' '21:20:00' '15:36:00' '14:31:00' '13:23:00'\n",
            " '14:54:00' '22:20:00' '18:35:00' '11:58:00' '19:43:00' '14:51:00'\n",
            " '17:31:00' '14:45:00' '15:51:00' '16:57:00' '15:28:00' '15:15:00'\n",
            " '15:57:00' '13:50:00' '15:12:00' '15:45:00' '16:58:00' '14:59:00'\n",
            " '12:45:00' '15:32:00' '15:17:00' '14:21:00' '16:48:00' '11:29:00'\n",
            " '12:57:00' '08:28:00' '14:30:00' '15:18:00' '19:09:00' '22:06:00'\n",
            " '11:08:00' '08:44:00' '15:22:00' '08:25:00' '16:30:00' '14:06:00'\n",
            " '09:35:00' '15:53:00' '22:24:00' '21:35:00' '18:05:00' '17:37:00'\n",
            " '19:57:00' '19:35:00' '21:44:00' '08:57:00' '10:58:00' '08:58:00'\n",
            " '18:17:00' '20:51:00' '22:09:00' '14:15:00' '22:08:00' '20:56:00'\n",
            " '14:17:00' '13:45:00' '09:10:00' '09:55:00' '08:15:00' '12:03:00'\n",
            " '09:54:00' '18:48:00' '21:14:00' '21:37:00' '19:05:00' '18:55:00'\n",
            " '13:41:00' '14:14:00' '15:23:00' '14:02:00' '18:39:00' '20:01:00'\n",
            " '21:08:00' '20:55:00' '22:14:00' '22:34:00' '20:26:00' '22:26:00'\n",
            " '22:44:00' '21:31:00' '22:46:00' '22:07:00' '22:41:00' '16:31:00'\n",
            " '13:02:00' '20:11:00' '16:38:00' '17:17:00' '15:39:00' '16:12:00'\n",
            " '18:20:00' '19:30:00' '17:49:00' '18:45:00' '18:54:00' '18:34:00'\n",
            " '22:54:00' '22:37:00' '21:59:00' '19:47:00' '18:58:00' '22:31:00'\n",
            " '21:33:00' '11:13:00' '20:14:00' '18:19:00' '22:02:00' '21:12:00'\n",
            " '20:53:00' '22:35:00' '22:21:00' '21:07:00' '18:18:00' '15:02:00'\n",
            " '14:04:00' '14:12:00' '16:29:00' '11:10:00' '15:54:00' '15:43:00'\n",
            " '11:38:00' '08:21:00' '08:59:00' '19:54:00' '17:41:00' '19:45:00'\n",
            " '18:24:00' '19:26:00' '22:05:00' '18:28:00' '22:28:00' '21:28:00'\n",
            " '15:05:00' '22:38:00' '21:54:00' '19:12:00' '19:07:00' '09:06:00'\n",
            " '17:35:00' '16:22:00' '19:50:00' '18:15:00' '18:01:00' '19:13:00'\n",
            " '20:35:00' '18:30:00' '20:33:00' '18:22:00' '13:48:00' '18:50:00'\n",
            " '17:52:00' '22:42:00' '20:24:00' '11:14:00' '16:33:00' '15:14:00'\n",
            " '18:25:00' '14:11:00' '12:31:00' '13:19:00' '17:39:00' '10:19:00'\n",
            " '18:37:00' '19:44:00' '17:38:00' '21:15:00' '20:30:00' '20:37:00'\n",
            " '21:58:00' '21:05:00' '13:51:00' '14:32:00' '14:49:00' '13:22:00'\n",
            " '10:06:00' '13:47:00' '19:55:00' '21:49:00' '21:56:00' '10:56:00'\n",
            " '11:07:00' '10:26:00' '12:28:00' '18:03:00' '21:42:00' '22:51:00'\n",
            " '19:08:00' '20:23:00' '21:17:00' '08:22:00' '21:39:00' '15:27:00'\n",
            " '11:54:00' '16:13:00' '22:01:00' '20:49:00' '20:16:00' '18:27:00'\n",
            " '20:44:00' '20:13:00' '20:58:00' '20:41:00' '20:03:00' '19:14:00'\n",
            " '22:25:00' '22:49:00' '21:52:00' '17:54:00' '18:47:00' '18:41:00'\n",
            " '19:19:00' '16:39:00' '22:19:00' '22:33:00' '21:34:00' '21:29:00'\n",
            " '21:24:00' '22:53:00' '21:53:00' '21:32:00' '21:55:00' '18:21:00'\n",
            " '18:38:00' '17:57:00' '21:02:00' '20:40:00' '21:03:00' '21:47:00'\n",
            " '22:27:00' '13:46:00' '16:36:00' '18:53:00' '11:23:00' '18:52:00'\n",
            " '17:23:00' '14:18:00' '19:16:00' '10:22:00' '12:50:00' '20:29:00'\n",
            " '20:05:00' '19:48:00' '09:39:00' '17:22:00' '16:56:00' '17:36:00'\n",
            " '16:27:00' '16:17:00' '12:48:00' '19:02:00' '17:45:00' '19:27:00'\n",
            " '19:15:00' '09:05:00' '14:36:00' '16:02:00' '16:23:00' '16:53:00'\n",
            " '19:40:00' '20:19:00' '10:37:00' '11:17:00' '11:44:00' '12:22:00'\n",
            " '13:38:00' '16:40:00' '20:21:00' '18:44:00' '21:36:00' '18:10:00'\n",
            " '16:32:00' '11:32:00' '11:43:00' '11:37:00' '12:13:00' '20:04:00'\n",
            " '20:31:00' '19:18:00' '22:13:00' '18:14:00' '08:30:00' '10:08:00'\n",
            " '08:47:00' '09:15:00' '19:10:00' '15:26:00' '15:58:00' '17:58:00'\n",
            " '11:51:00' '08:51:00' '16:46:00' '15:04:00' '17:40:00' '08:00:00'\n",
            " '22:32:00' '17:25:00' '21:18:00' '21:27:00' '11:20:00' '13:18:00'\n",
            " '19:53:00' '15:44:00' '22:16:00' '16:07:00' '21:11:00' '17:24:00'\n",
            " '12:27:00' '20:02:00' '20:46:00' '11:49:00' '20:34:00' '20:42:00'\n",
            " '14:43:00' '16:35:00' '14:26:00' '18:36:00' '19:17:00' '09:27:00'\n",
            " '11:05:00' '12:16:00' '08:46:00' '15:11:00' '07:55:00' '19:06:00'\n",
            " '17:21:00' '17:56:00' '18:51:00' '21:04:00' '21:23:00' '16:26:00'\n",
            " '16:24:00' '10:28:00' '11:02:00' '09:20:00' '19:58:00' '22:04:00'\n",
            " '22:52:00' '23:18:00' '11:25:00' '17:59:00' '09:29:00' '10:42:00'\n",
            " '17:02:00' '11:31:00' '00:15:00' '15:31:00' '08:48:00' '21:19:00'\n",
            " '19:37:00' '17:44:00' '16:04:00' '15:47:00' '18:32:00' '18:23:00'\n",
            " '14:48:00']\n"
          ]
        }
      ],
      "source": [
        "# Print the unique values in a column:\n",
        "print(df_copy['Planned End Time for Doctor Block'].unique())"
      ]
    },
    {
      "cell_type": "code",
      "execution_count": 10,
      "id": "2e0f2bcd",
      "metadata": {
        "id": "2e0f2bcd",
        "colab": {
          "base_uri": "https://localhost:8080/"
        },
        "outputId": "1461b782-ccfc-4516-e049-30e588d29bb1"
      },
      "outputs": [
        {
          "output_type": "stream",
          "name": "stdout",
          "text": [
            "object\n",
            "0    12:56:00\n",
            "1    12:56:00\n",
            "2    11:06:00\n",
            "3    09:36:00\n",
            "4    09:41:00\n",
            "5    12:56:00\n",
            "6    14:53:00\n",
            "7    09:36:00\n",
            "8    11:06:00\n",
            "9    11:06:00\n",
            "Name: Planned End Time for Doctor Block, dtype: object\n"
          ]
        }
      ],
      "source": [
        "print(df_copy['Planned End Time for Doctor Block'].dtype)\n",
        "print(df_copy['Planned End Time for Doctor Block'].head(10))"
      ]
    },
    {
      "cell_type": "code",
      "execution_count": 11,
      "id": "59bc68fb",
      "metadata": {
        "id": "59bc68fb"
      },
      "outputs": [],
      "source": [
        "# Convert to datetime format and then save only the time:\n",
        "df_copy['Planned End Time for Doctor Block'] = pd.to_datetime(\n",
        "    df_copy['Planned End Time for Doctor Block'],\n",
        "    format='%H:%M:%S',\n",
        "    errors='coerce'  # Converts invalid values to NaT\n",
        ").dt.time"
      ]
    },
    {
      "cell_type": "code",
      "execution_count": 12,
      "id": "4d14c4a9",
      "metadata": {
        "id": "4d14c4a9",
        "colab": {
          "base_uri": "https://localhost:8080/"
        },
        "outputId": "8a2fa900-0e64-49b4-a985-ceda5ec6ca50"
      },
      "outputs": [
        {
          "output_type": "stream",
          "name": "stdout",
          "text": [
            "object\n",
            "0    12:56:00\n",
            "1    12:56:00\n",
            "2    11:06:00\n",
            "3    09:36:00\n",
            "4    09:41:00\n",
            "5    12:56:00\n",
            "6    14:53:00\n",
            "7    09:36:00\n",
            "8    11:06:00\n",
            "9    11:06:00\n",
            "Name: Planned End Time for Doctor Block, dtype: object\n",
            "Missing values: 0\n"
          ]
        }
      ],
      "source": [
        "# Checking the column type and values\n",
        "print(df_copy['Planned End Time for Doctor Block'].dtype)  # Should return object but with type time\n",
        "print(df_copy['Planned End Time for Doctor Block'].head(10))\n",
        "print(\"Missing values:\", df_copy['Planned End Time for Doctor Block'].isna().sum())"
      ]
    },
    {
      "cell_type": "code",
      "execution_count": 13,
      "id": "d999b845",
      "metadata": {
        "id": "d999b845"
      },
      "outputs": [],
      "source": [
        "df_copy['Planned End Time for Doctor Block'] = pd.to_timedelta(\n",
        "    df_copy['Planned End Time for Doctor Block'].astype(str),\n",
        "    errors='coerce')"
      ]
    },
    {
      "cell_type": "code",
      "execution_count": 14,
      "id": "8628bead",
      "metadata": {
        "id": "8628bead",
        "colab": {
          "base_uri": "https://localhost:8080/"
        },
        "outputId": "ca4d9d30-a94f-4b5a-eb46-6a6494355852"
      },
      "outputs": [
        {
          "output_type": "stream",
          "name": "stdout",
          "text": [
            "timedelta64[ns]\n"
          ]
        }
      ],
      "source": [
        "print(df_copy['Planned End Time for Doctor Block'].dtype)"
      ]
    },
    {
      "cell_type": "markdown",
      "id": "d26c4f26",
      "metadata": {
        "id": "d26c4f26"
      },
      "source": [
        "Closure Time:"
      ]
    },
    {
      "cell_type": "code",
      "execution_count": 15,
      "id": "7ffe9da2",
      "metadata": {
        "id": "7ffe9da2",
        "colab": {
          "base_uri": "https://localhost:8080/"
        },
        "outputId": "1248d5a7-2ce7-4711-d0f7-18dedb84b015"
      },
      "outputs": [
        {
          "output_type": "stream",
          "name": "stdout",
          "text": [
            "['12:08:00' '13:57:00' '08:59:00' '08:22:00' '10:46:00' '09:42:00'\n",
            " '11:36:00' '09:37:00' '11:33:00' '12:50:00' '11:15:00' '09:00:00'\n",
            " '12:55:00' '11:20:00' '11:14:00' '10:50:00' '10:48:00' '14:00:00'\n",
            " '10:44:00' '08:48:00' '12:23:00' '19:54:00' '10:16:00' '08:23:00'\n",
            " '09:01:00' '09:31:00' '09:59:00' '07:38:00' '08:10:00' '12:29:00'\n",
            " '14:17:00' '14:50:00' '15:02:00' '14:40:00' '15:15:00' '13:37:00'\n",
            " '17:56:00' '15:55:00' '08:17:00' '08:55:00' '12:10:00' '11:09:00'\n",
            " '17:24:00' '09:30:00' '12:45:00' '14:02:00' '14:03:00' '18:55:00'\n",
            " '10:10:00' '08:50:00' '11:34:00' '08:09:00' '08:58:00' '12:47:00'\n",
            " '10:34:00' '09:17:00' '21:35:00' '14:08:00' '15:39:00' '14:42:00'\n",
            " '12:59:00' '15:20:00' '15:52:00' '19:29:00' '10:38:00' '12:03:00'\n",
            " '11:22:00' '13:55:00' '10:49:00' '10:59:00' '13:12:00' '12:14:00'\n",
            " '13:22:00' '18:18:00' '13:53:00' '12:19:00' '12:21:00' '11:03:00'\n",
            " '13:03:00' '13:00:00' '14:41:00' '16:23:00' '13:05:00' '14:35:00'\n",
            " '11:25:00' '13:49:00' '10:41:00' '15:18:00' '09:15:00' '12:40:00'\n",
            " '12:18:00' '15:16:00' '11:28:00' '12:02:00' '13:42:00' '11:27:00'\n",
            " '09:26:00' '11:21:00' '13:54:00' '17:47:00' '22:14:00' '20:57:00'\n",
            " '21:58:00' '20:27:00' '20:38:00' '18:51:00' '19:46:00' '19:07:00'\n",
            " '19:39:00' '20:40:00' '22:28:00' '16:55:00' '21:15:00' '16:05:00'\n",
            " '19:37:00' '18:57:00' '21:16:00' '20:18:00' '19:02:00' '19:27:00'\n",
            " '18:09:00' '17:42:00' '21:18:00' '15:07:00' '19:00:00' '17:15:00'\n",
            " '21:50:00' '18:47:00' '18:41:00' '11:18:00' '10:56:00' '12:04:00'\n",
            " '09:49:00' '09:06:00' '09:40:00' '17:43:00' '15:00:00' '09:11:00'\n",
            " '14:21:00' '09:10:00' '12:49:00' '12:54:00' '09:45:00' '09:05:00'\n",
            " '11:38:00' '11:46:00' '09:56:00' '17:57:00' '09:47:00' '10:11:00'\n",
            " '10:19:00' '08:36:00' '10:17:00' '10:15:00' '10:24:00' '08:51:00'\n",
            " '08:11:00' '11:00:00' '14:07:00' '08:46:00' '11:53:00' '12:24:00'\n",
            " '22:32:00' '13:26:00' '21:30:00' '10:07:00' '08:43:00' '10:13:00'\n",
            " '08:07:00' '07:44:00' '09:25:00' '07:57:00' '08:05:00' '09:41:00'\n",
            " '11:01:00' '10:02:00' '10:18:00' '12:42:00' '07:52:00' '11:48:00'\n",
            " '11:24:00' '08:12:00' '14:22:00' '08:37:00' '07:42:00' '07:41:00'\n",
            " '13:04:00' '12:35:00' '11:06:00' '08:25:00' '11:37:00' '15:44:00'\n",
            " '12:39:00' '13:15:00' '07:55:00' '10:12:00' '08:18:00' '13:19:00'\n",
            " '15:59:00' '15:23:00' '16:01:00' '13:50:00' '12:27:00' '18:25:00'\n",
            " '13:17:00' '19:14:00' '15:26:00' '17:40:00' '19:38:00' '17:52:00'\n",
            " '20:20:00' '14:54:00' '17:11:00' '16:52:00' '16:20:00' '20:00:00'\n",
            " '17:58:00' '16:07:00' '09:18:00' '17:09:00' '11:07:00' '10:01:00'\n",
            " '07:39:00' '10:22:00' '08:01:00' '10:53:00' '08:49:00' '09:32:00'\n",
            " '09:20:00' '10:32:00' '13:32:00' '08:47:00' '18:02:00' '12:31:00'\n",
            " '09:44:00' '10:00:00' '12:51:00' '11:43:00' '11:40:00' '11:32:00'\n",
            " '13:47:00' '10:08:00' '10:29:00' '11:50:00' '10:23:00' '07:48:00'\n",
            " '08:21:00' '09:14:00' '12:05:00' '08:14:00' '08:26:00' '20:55:00'\n",
            " '19:58:00' '21:52:00' '21:28:00' '21:57:00' '19:55:00' '20:01:00'\n",
            " '20:30:00' '21:56:00' '20:32:00' '21:04:00' '20:26:00' '20:54:00'\n",
            " '20:59:00' '20:11:00' '08:57:00' '09:38:00' '11:45:00' '13:06:00'\n",
            " '11:44:00' '10:20:00' '16:27:00' '12:57:00' '16:00:00' '15:37:00'\n",
            " '12:46:00' '11:49:00' '10:26:00' '15:57:00' '09:57:00' '10:31:00'\n",
            " '08:15:00' '13:23:00' '14:51:00' '17:29:00' '14:12:00' '15:06:00'\n",
            " '14:53:00' '12:52:00' '14:16:00' '14:25:00' '13:25:00' '15:28:00'\n",
            " '11:05:00' '10:21:00' '09:58:00' '10:40:00' '10:27:00' '14:46:00'\n",
            " '07:47:00' '08:42:00' '15:11:00' '12:36:00' '11:31:00' '13:48:00'\n",
            " '16:51:00' '10:57:00' '20:14:00' '08:27:00' '22:05:00' '08:04:00'\n",
            " '12:07:00' '12:43:00' '12:34:00' '13:09:00' '08:38:00' '18:31:00'\n",
            " '20:12:00' '14:04:00' '19:18:00' '20:43:00' '19:04:00' '21:02:00'\n",
            " '21:42:00' '11:42:00' '23:14:00' '20:09:00' '19:40:00' '21:53:00'\n",
            " '19:13:00' '10:39:00' '21:01:00' '22:00:00' '18:50:00' '14:10:00'\n",
            " '18:10:00' '18:48:00' '09:52:00' '20:28:00' '17:41:00' '16:41:00'\n",
            " '14:32:00' '09:50:00' '15:34:00' '12:58:00' '15:27:00' '16:25:00'\n",
            " '15:04:00' '17:02:00' '12:15:00' '14:26:00' '18:52:00' '15:33:00'\n",
            " '16:08:00' '13:10:00' '13:59:00' '14:20:00' '09:39:00' '11:30:00'\n",
            " '14:47:00' '13:43:00' '08:19:00' '15:48:00' '08:20:00' '16:47:00'\n",
            " '17:12:00' '20:48:00' '22:16:00' '21:10:00' '18:49:00' '08:16:00'\n",
            " '14:01:00' '11:10:00' '12:38:00' '12:09:00' '10:30:00' '11:04:00'\n",
            " '09:09:00' '09:35:00' '19:03:00' '17:30:00' '20:36:00' '21:59:00'\n",
            " '20:42:00' '18:14:00' '18:01:00' '13:01:00' '19:21:00' '19:17:00'\n",
            " '12:12:00' '11:17:00' '08:35:00' '18:30:00' '21:07:00' '21:03:00'\n",
            " '08:52:00' '10:14:00' '17:21:00' '20:29:00' '20:39:00' '08:32:00'\n",
            " '11:56:00' '22:56:00' '12:48:00' '07:51:00' '09:02:00' '13:02:00'\n",
            " '10:37:00' '10:36:00' '08:28:00' '09:55:00' '10:28:00' '11:52:00'\n",
            " '09:13:00' '10:06:00' '09:12:00' '11:23:00' '09:04:00' '11:58:00'\n",
            " '09:43:00' '09:34:00' '11:35:00' '16:24:00' '13:41:00' '15:12:00'\n",
            " '13:52:00' '10:43:00' '10:42:00' '14:24:00' '13:44:00' '13:07:00'\n",
            " '13:18:00' '11:54:00' '17:32:00' '10:04:00' '12:25:00' '12:17:00'\n",
            " '13:24:00' '15:25:00' '11:51:00' '16:29:00' '13:31:00' '08:54:00'\n",
            " '08:08:00' '09:28:00' '10:47:00' '14:33:00' '14:49:00' '08:45:00'\n",
            " '07:58:00' '08:56:00' '10:03:00' '13:13:00' '07:59:00' '12:22:00'\n",
            " '13:45:00' '13:08:00' '09:07:00' '09:16:00' '13:40:00' '09:27:00'\n",
            " '14:44:00' '15:38:00' '13:30:00' '08:34:00' '14:15:00' '15:49:00'\n",
            " '13:21:00' '14:23:00' '12:53:00' '11:16:00' '07:54:00' '15:05:00'\n",
            " '14:14:00' '07:34:00' '09:22:00' '09:48:00' '10:45:00' '17:03:00'\n",
            " '16:19:00' '10:25:00' '11:39:00' '15:40:00' '12:28:00' '19:31:00'\n",
            " '18:46:00' '15:47:00' '20:44:00' '16:03:00' '18:24:00' '22:09:00'\n",
            " '18:42:00' '17:25:00' '19:45:00' '17:14:00' '21:46:00' '22:46:00'\n",
            " '19:34:00' '17:50:00' '22:21:00' '21:06:00' '16:59:00' '18:21:00'\n",
            " '16:54:00' '07:35:00' '14:06:00' '13:28:00' '12:16:00' '09:19:00'\n",
            " '14:30:00' '08:44:00' '19:42:00' '21:41:00' '19:43:00' '19:20:00'\n",
            " '08:39:00' '22:23:00' '21:27:00' '22:54:00' '22:57:00' '22:13:00'\n",
            " '13:33:00' '13:14:00' '18:45:00' '08:00:00' '13:27:00' '12:41:00'\n",
            " '08:53:00' '07:53:00' '13:29:00' '12:56:00' '13:39:00' '13:20:00'\n",
            " '14:18:00' '13:58:00' '12:30:00' '11:13:00' '11:55:00' '12:11:00'\n",
            " '07:37:00' '07:49:00' '11:26:00' '09:24:00' '09:23:00' '08:31:00'\n",
            " '08:29:00' '07:45:00' '10:35:00' '08:30:00' '10:33:00' '08:24:00'\n",
            " '08:40:00' '08:13:00' '10:05:00' '16:37:00' '15:43:00' '22:29:00'\n",
            " '22:38:00' '07:40:00' '18:19:00' '17:00:00' '15:09:00' '16:45:00'\n",
            " '16:02:00' '16:53:00' '19:26:00' '18:38:00' '18:36:00' '20:56:00'\n",
            " '17:31:00' '17:10:00' '23:40:00' '18:08:00' '21:17:00' '19:11:00'\n",
            " '19:06:00' '13:35:00' '14:43:00' '15:24:00' '17:39:00' '10:52:00'\n",
            " '13:11:00' '13:34:00' '11:02:00' '12:20:00' '13:38:00' '11:47:00'\n",
            " '13:16:00' '18:59:00' '19:19:00' '19:28:00' '17:23:00' '17:46:00'\n",
            " '17:35:00' '17:01:00' '22:58:00' '16:14:00' '17:48:00' '13:56:00'\n",
            " '17:49:00' '16:35:00' '14:34:00' '08:06:00' '08:03:00' '14:38:00'\n",
            " '13:36:00' '13:51:00' '09:33:00' '10:58:00' '14:58:00' '10:09:00'\n",
            " '15:21:00' '09:08:00' '20:03:00' '09:51:00' '14:09:00' '15:22:00'\n",
            " '15:30:00' '16:09:00' '11:19:00' '11:08:00' '08:41:00' '16:42:00'\n",
            " '16:38:00' '13:46:00' '15:58:00' '16:21:00' '07:50:00' '11:12:00'\n",
            " '17:07:00' '14:28:00' '14:39:00' '09:29:00' '17:20:00' '15:29:00'\n",
            " '11:29:00' '12:44:00' '12:06:00' '10:51:00' '08:33:00' '15:41:00'\n",
            " '20:02:00' '22:20:00' '14:59:00' '14:55:00' '20:35:00' '19:35:00'\n",
            " '16:49:00' '23:32:00' '14:36:00' '21:25:00' '22:19:00' '16:36:00'\n",
            " '15:10:00' '21:19:00' '21:43:00' '16:32:00' '18:43:00' '14:57:00'\n",
            " '09:36:00' '17:54:00' '16:57:00' '21:40:00' '17:51:00' '20:10:00'\n",
            " '21:14:00' '16:56:00' '15:51:00' '15:17:00' '15:36:00' '10:54:00'\n",
            " '18:03:00' '21:32:00' '19:36:00' '20:21:00' '16:28:00' '18:32:00'\n",
            " '16:48:00' '20:34:00' '21:26:00' '22:39:00' '19:12:00' '22:55:00'\n",
            " '23:00:00' '22:37:00' '21:05:00' '19:09:00' '20:51:00' '19:50:00'\n",
            " '20:22:00' '21:23:00' '20:23:00' '19:23:00' '21:00:00' '17:37:00'\n",
            " '22:02:00' '18:33:00' '19:52:00' '18:28:00' '21:08:00' '18:54:00'\n",
            " '20:19:00' '22:11:00' '20:06:00' '18:12:00' '17:59:00' '21:13:00'\n",
            " '19:51:00' '18:20:00' '19:57:00' '22:06:00' '16:30:00' '10:55:00'\n",
            " '18:11:00' '21:54:00' '18:37:00' '16:17:00' '21:45:00' '19:01:00'\n",
            " '11:59:00' '21:37:00' '21:47:00' '22:27:00' '21:09:00' '22:48:00'\n",
            " '23:23:00' '11:57:00' '17:55:00' '14:48:00' '20:46:00' '17:05:00'\n",
            " '21:48:00' '22:03:00' '22:45:00' '20:41:00' '19:05:00' '18:39:00'\n",
            " '18:27:00' '20:17:00' '21:24:00' '16:33:00' '23:26:00' '16:15:00'\n",
            " '22:30:00' '19:59:00' '15:54:00' '09:46:00' '15:19:00' '15:50:00'\n",
            " '14:19:00' '16:26:00' '14:37:00' '17:18:00' '16:12:00' '22:42:00'\n",
            " '20:08:00' '17:16:00' '19:33:00' '18:16:00' '19:10:00' '18:35:00'\n",
            " '21:21:00' '16:40:00' '23:31:00' '22:52:00' '21:22:00' '20:37:00'\n",
            " '18:22:00' '16:11:00' '17:06:00' '18:13:00' '17:19:00' '19:49:00'\n",
            " '20:49:00' '20:47:00' '22:07:00' '18:44:00' '20:15:00' '20:07:00'\n",
            " '22:49:00' '20:53:00' '20:05:00' '22:25:00' '22:31:00' '16:31:00'\n",
            " '09:53:00' '18:29:00' '21:44:00' '09:54:00' '18:05:00' '18:56:00'\n",
            " '19:48:00' '19:25:00' '22:36:00' '22:33:00' '22:12:00' '23:12:00'\n",
            " '22:26:00' '19:16:00' '07:56:00' '23:06:00' '23:01:00' '18:00:00'\n",
            " '17:27:00' '15:32:00' '21:20:00' '18:53:00' '15:56:00' '20:25:00'\n",
            " '19:15:00' '20:31:00' '16:16:00' '17:44:00' '12:26:00' '17:26:00'\n",
            " '14:56:00' '22:44:00' '23:17:00' '17:04:00' '19:56:00' '15:13:00'\n",
            " '20:45:00' '22:15:00' '15:53:00' '22:18:00' '21:55:00' '12:37:00'\n",
            " '14:31:00' '12:01:00' '23:20:00' '22:04:00' '20:50:00' '22:08:00'\n",
            " '21:29:00' '21:36:00' '18:06:00' '20:58:00' '18:26:00' '19:47:00'\n",
            " '18:07:00' '17:17:00' '16:22:00' '16:46:00' '16:34:00' '19:32:00'\n",
            " '23:04:00' '22:59:00' '23:24:00' '20:16:00' '16:58:00' '17:38:00'\n",
            " '21:38:00' '17:08:00' '14:05:00' '19:08:00' '15:42:00' '19:44:00'\n",
            " '16:06:00' '16:13:00' '17:34:00' '19:30:00' '20:24:00' '21:39:00'\n",
            " '11:41:00' '20:04:00' '16:50:00' '18:40:00' '18:15:00' '17:36:00'\n",
            " '18:23:00' '16:39:00' '17:28:00' '22:53:00' '17:45:00' '23:48:00'\n",
            " '23:18:00' '22:43:00' '21:33:00' '18:17:00' '00:31:00' '17:22:00'\n",
            " '14:52:00' '21:11:00' '20:52:00' '16:44:00' '19:22:00' '23:09:00'\n",
            " '23:02:00' '14:29:00' '16:10:00' '17:53:00' '15:01:00' '07:46:00'\n",
            " '22:17:00' '21:49:00' '22:41:00' '22:01:00' '23:44:00' '23:38:00'\n",
            " '21:31:00' '11:11:00' '19:41:00' '17:13:00' '15:14:00' '23:05:00'\n",
            " '21:34:00' '23:22:00' '23:10:00' '18:34:00' '19:53:00' '21:12:00'\n",
            " '14:11:00' '09:21:00' '19:24:00' '22:35:00' '20:13:00' '18:58:00'\n",
            " '07:24:00' '15:03:00' '00:00:00' '15:31:00' '23:39:00' '23:19:00'\n",
            " '23:41:00' '22:34:00' '22:40:00' '09:03:00' '23:07:00' '18:04:00'\n",
            " '15:08:00' '14:45:00' '20:33:00' '22:50:00' '16:43:00' '14:13:00'\n",
            " '12:32:00' '12:33:00' '21:51:00' '23:25:00' '22:24:00' '17:33:00'\n",
            " '23:21:00' '15:35:00' '22:47:00' '22:10:00' '22:22:00' '23:36:00'\n",
            " '00:07:00' '23:13:00' '23:11:00']\n"
          ]
        }
      ],
      "source": [
        "print(df_copy['Closure Time'].unique())"
      ]
    },
    {
      "cell_type": "code",
      "execution_count": 16,
      "id": "9f641db8",
      "metadata": {
        "id": "9f641db8",
        "colab": {
          "base_uri": "https://localhost:8080/"
        },
        "outputId": "eb8d5364-c3d3-46d0-cd37-9b1f7fa2b92e"
      },
      "outputs": [
        {
          "output_type": "stream",
          "name": "stdout",
          "text": [
            "object\n",
            "0    12:08:00\n",
            "1    13:57:00\n",
            "2    08:59:00\n",
            "3    08:22:00\n",
            "4    10:46:00\n",
            "5    09:42:00\n",
            "6    11:36:00\n",
            "7    09:37:00\n",
            "8    11:33:00\n",
            "9    12:50:00\n",
            "Name: Closure Time, dtype: object\n"
          ]
        }
      ],
      "source": [
        "print(df_copy['Closure Time'].dtype)\n",
        "print(df_copy['Closure Time'].head(10))"
      ]
    },
    {
      "cell_type": "code",
      "execution_count": 17,
      "id": "5c981b18",
      "metadata": {
        "id": "5c981b18"
      },
      "outputs": [],
      "source": [
        "df_copy['Closure Time'] = pd.to_datetime(\n",
        "    df_copy['Closure Time'],\n",
        "    format='%H:%M:%S',\n",
        "    errors='coerce'\n",
        ").dt.time"
      ]
    },
    {
      "cell_type": "code",
      "execution_count": 18,
      "id": "18cae45f",
      "metadata": {
        "id": "18cae45f",
        "colab": {
          "base_uri": "https://localhost:8080/"
        },
        "outputId": "0902b717-0d90-442d-de99-7ccb31f80f31"
      },
      "outputs": [
        {
          "output_type": "stream",
          "name": "stdout",
          "text": [
            "object\n",
            "0    12:08:00\n",
            "1    13:57:00\n",
            "2    08:59:00\n",
            "3    08:22:00\n",
            "4    10:46:00\n",
            "5    09:42:00\n",
            "6    11:36:00\n",
            "7    09:37:00\n",
            "8    11:33:00\n",
            "9    12:50:00\n",
            "Name: Closure Time, dtype: object\n",
            "Missing values: 0\n"
          ]
        }
      ],
      "source": [
        "print(df_copy['Closure Time'].dtype)\n",
        "print(df_copy['Closure Time'].head(10))\n",
        "print(\"Missing values:\", df_copy['Closure Time'].isna().sum())"
      ]
    },
    {
      "cell_type": "code",
      "execution_count": 19,
      "id": "ec1530f6",
      "metadata": {
        "id": "ec1530f6"
      },
      "outputs": [],
      "source": [
        "df_copy['Closure Time'] = pd.to_timedelta(\n",
        "    df_copy['Closure Time'].astype(str),\n",
        "    errors='coerce')"
      ]
    },
    {
      "cell_type": "code",
      "execution_count": 20,
      "id": "2ce92c00",
      "metadata": {
        "id": "2ce92c00",
        "colab": {
          "base_uri": "https://localhost:8080/"
        },
        "outputId": "a1541e67-5d18-4ce0-c404-4ffdd9aefcad"
      },
      "outputs": [
        {
          "output_type": "stream",
          "name": "stdout",
          "text": [
            "timedelta64[ns]\n",
            "0   0 days 12:08:00\n",
            "1   0 days 13:57:00\n",
            "2   0 days 08:59:00\n",
            "3   0 days 08:22:00\n",
            "4   0 days 10:46:00\n",
            "5   0 days 09:42:00\n",
            "6   0 days 11:36:00\n",
            "7   0 days 09:37:00\n",
            "8   0 days 11:33:00\n",
            "9   0 days 12:50:00\n",
            "Name: Closure Time, dtype: timedelta64[ns]\n",
            "Missing values: 0\n"
          ]
        }
      ],
      "source": [
        "print(df_copy['Closure Time'].dtype)\n",
        "print(df_copy['Closure Time'].head(10))\n",
        "print(\"Missing values:\", df_copy['Closure Time'].isna().sum())"
      ]
    },
    {
      "cell_type": "markdown",
      "id": "3a4a8ba1",
      "metadata": {
        "id": "3a4a8ba1"
      },
      "source": [
        "Incision Time:"
      ]
    },
    {
      "cell_type": "code",
      "execution_count": 21,
      "id": "0e5822ec",
      "metadata": {
        "id": "0e5822ec"
      },
      "outputs": [],
      "source": [
        "df_copy['Incision Time'] = pd.to_datetime(\n",
        "    df_copy['Incision Time'],\n",
        "    format='%H:%M:%S',\n",
        "    errors='coerce'\n",
        ").dt.time"
      ]
    },
    {
      "cell_type": "code",
      "execution_count": 22,
      "id": "2f9b5f30",
      "metadata": {
        "id": "2f9b5f30",
        "colab": {
          "base_uri": "https://localhost:8080/"
        },
        "outputId": "4448f882-601c-477f-fe16-66bfbe2005d7"
      },
      "outputs": [
        {
          "output_type": "stream",
          "name": "stdout",
          "text": [
            "object\n",
            "0    11:05:00\n",
            "1    13:10:00\n",
            "2    07:59:00\n",
            "3    07:41:00\n",
            "4    09:25:00\n",
            "5    09:10:00\n",
            "6    10:41:00\n",
            "7    09:21:00\n",
            "8    09:53:00\n",
            "9    12:28:00\n",
            "Name: Incision Time, dtype: object\n",
            "Missing values: 0\n"
          ]
        }
      ],
      "source": [
        "print(df_copy['Incision Time'].dtype)\n",
        "print(df_copy['Incision Time'].head(10))\n",
        "print(\"Missing values:\", df_copy['Incision Time'].isna().sum())"
      ]
    },
    {
      "cell_type": "code",
      "execution_count": 23,
      "id": "f3fa0d97",
      "metadata": {
        "id": "f3fa0d97"
      },
      "outputs": [],
      "source": [
        "df_copy['Incision Time'] = pd.to_timedelta(\n",
        "    df_copy['Incision Time'].astype(str),\n",
        "    errors='coerce')"
      ]
    },
    {
      "cell_type": "code",
      "execution_count": 24,
      "id": "6b778cf5",
      "metadata": {
        "id": "6b778cf5",
        "colab": {
          "base_uri": "https://localhost:8080/"
        },
        "outputId": "1bdd0842-36a5-4697-8804-e5cfa29cd095"
      },
      "outputs": [
        {
          "output_type": "stream",
          "name": "stdout",
          "text": [
            "timedelta64[ns]\n",
            "0   0 days 11:05:00\n",
            "1   0 days 13:10:00\n",
            "2   0 days 07:59:00\n",
            "3   0 days 07:41:00\n",
            "4   0 days 09:25:00\n",
            "5   0 days 09:10:00\n",
            "6   0 days 10:41:00\n",
            "7   0 days 09:21:00\n",
            "8   0 days 09:53:00\n",
            "9   0 days 12:28:00\n",
            "Name: Incision Time, dtype: timedelta64[ns]\n",
            "Missing values: 0\n"
          ]
        }
      ],
      "source": [
        "print(df_copy['Incision Time'].dtype)\n",
        "print(df_copy['Incision Time'].head(10))\n",
        "print(\"Missing values:\", df_copy['Incision Time'].isna().sum())"
      ]
    },
    {
      "cell_type": "markdown",
      "id": "0dbee873",
      "metadata": {
        "id": "0dbee873"
      },
      "source": [
        "Planned Start Time for Doctor Block:"
      ]
    },
    {
      "cell_type": "code",
      "execution_count": 25,
      "id": "70b52875",
      "metadata": {
        "id": "70b52875"
      },
      "outputs": [],
      "source": [
        "df_copy['Planned Start Time for Doctor Block'] = pd.to_datetime(\n",
        "    df_copy['Planned Start Time for Doctor Block'],\n",
        "    format='%H:%M:%S',\n",
        "    errors='coerce'\n",
        ").dt.time"
      ]
    },
    {
      "cell_type": "code",
      "execution_count": 26,
      "id": "91c44378",
      "metadata": {
        "id": "91c44378",
        "colab": {
          "base_uri": "https://localhost:8080/"
        },
        "outputId": "6ee118fc-2a0c-4f65-ba25-7749960f42fe"
      },
      "outputs": [
        {
          "output_type": "stream",
          "name": "stdout",
          "text": [
            "object\n",
            "0    07:00:00\n",
            "1    07:00:00\n",
            "2    07:00:00\n",
            "3    07:00:00\n",
            "4    07:00:00\n",
            "5    07:00:00\n",
            "6    10:00:00\n",
            "7    07:00:00\n",
            "8    07:00:00\n",
            "9    07:00:00\n",
            "Name: Planned Start Time for Doctor Block, dtype: object\n",
            "Missing values: 0\n"
          ]
        }
      ],
      "source": [
        "print(df_copy['Planned Start Time for Doctor Block'].dtype)\n",
        "print(df_copy['Planned Start Time for Doctor Block'].head(10))\n",
        "print(\"Missing values:\", df_copy['Planned Start Time for Doctor Block'].isna().sum())"
      ]
    },
    {
      "cell_type": "code",
      "execution_count": 27,
      "id": "83742496",
      "metadata": {
        "id": "83742496"
      },
      "outputs": [],
      "source": [
        "df_copy['Planned Start Time for Doctor Block'] = pd.to_timedelta(\n",
        "    df_copy['Planned Start Time for Doctor Block'].astype(str),\n",
        "    errors='coerce')"
      ]
    },
    {
      "cell_type": "code",
      "execution_count": 28,
      "id": "bf7d95e3",
      "metadata": {
        "id": "bf7d95e3",
        "colab": {
          "base_uri": "https://localhost:8080/"
        },
        "outputId": "2b48747e-b26a-41c1-f8ab-8ac88b5c615b"
      },
      "outputs": [
        {
          "output_type": "stream",
          "name": "stdout",
          "text": [
            "timedelta64[ns]\n",
            "0   0 days 07:00:00\n",
            "1   0 days 07:00:00\n",
            "2   0 days 07:00:00\n",
            "3   0 days 07:00:00\n",
            "4   0 days 07:00:00\n",
            "5   0 days 07:00:00\n",
            "6   0 days 10:00:00\n",
            "7   0 days 07:00:00\n",
            "8   0 days 07:00:00\n",
            "9   0 days 07:00:00\n",
            "Name: Planned Start Time for Doctor Block, dtype: timedelta64[ns]\n",
            "Missing values: 0\n"
          ]
        }
      ],
      "source": [
        "print(df_copy['Planned Start Time for Doctor Block'].dtype)\n",
        "print(df_copy['Planned Start Time for Doctor Block'].head(10))\n",
        "print(\"Missing values:\", df_copy['Planned Start Time for Doctor Block'].isna().sum())"
      ]
    },
    {
      "cell_type": "markdown",
      "id": "9c731492",
      "metadata": {
        "id": "9c731492"
      },
      "source": [
        "Actual Surgery Room Entry Time:"
      ]
    },
    {
      "cell_type": "code",
      "execution_count": 29,
      "id": "91f70f9c",
      "metadata": {
        "id": "91f70f9c"
      },
      "outputs": [],
      "source": [
        "df_copy['Actual Surgery Room Entry Time'] = pd.to_datetime(\n",
        "    df_copy['Actual Surgery Room Entry Time'],\n",
        "    format='%H:%M:%S',\n",
        "    errors='coerce'\n",
        ").dt.time"
      ]
    },
    {
      "cell_type": "code",
      "execution_count": 30,
      "id": "399f7d03",
      "metadata": {
        "id": "399f7d03",
        "colab": {
          "base_uri": "https://localhost:8080/"
        },
        "outputId": "4901741a-a934-495e-c1c3-94aa137b3da9"
      },
      "outputs": [
        {
          "output_type": "stream",
          "name": "stdout",
          "text": [
            "object\n",
            "0    10:35:00\n",
            "1    12:41:00\n",
            "2    07:20:00\n",
            "3    07:14:00\n",
            "4    09:06:00\n",
            "5    08:44:00\n",
            "6    10:23:00\n",
            "7    08:53:00\n",
            "8    09:27:00\n",
            "9    12:15:00\n",
            "Name: Actual Surgery Room Entry Time, dtype: object\n",
            "Missing values: 0\n"
          ]
        }
      ],
      "source": [
        "print(df_copy['Actual Surgery Room Entry Time'].dtype)\n",
        "print(df_copy['Actual Surgery Room Entry Time'].head(10))\n",
        "print(\"Missing values:\", df_copy['Actual Surgery Room Entry Time'].isna().sum())"
      ]
    },
    {
      "cell_type": "code",
      "execution_count": 31,
      "id": "52c9603c",
      "metadata": {
        "id": "52c9603c"
      },
      "outputs": [],
      "source": [
        "df_copy['Actual Surgery Room Entry Time'] = pd.to_timedelta(\n",
        "    df_copy['Actual Surgery Room Entry Time'].astype(str),\n",
        "    errors='coerce')"
      ]
    },
    {
      "cell_type": "code",
      "execution_count": 32,
      "id": "98ba9459",
      "metadata": {
        "id": "98ba9459",
        "colab": {
          "base_uri": "https://localhost:8080/"
        },
        "outputId": "fd6c7eab-69cf-4a86-8d72-2c0e173f1a8c"
      },
      "outputs": [
        {
          "output_type": "stream",
          "name": "stdout",
          "text": [
            "timedelta64[ns]\n",
            "0   0 days 10:35:00\n",
            "1   0 days 12:41:00\n",
            "2   0 days 07:20:00\n",
            "3   0 days 07:14:00\n",
            "4   0 days 09:06:00\n",
            "5   0 days 08:44:00\n",
            "6   0 days 10:23:00\n",
            "7   0 days 08:53:00\n",
            "8   0 days 09:27:00\n",
            "9   0 days 12:15:00\n",
            "Name: Actual Surgery Room Entry Time, dtype: timedelta64[ns]\n",
            "Missing values: 0\n"
          ]
        }
      ],
      "source": [
        "print(df_copy['Actual Surgery Room Entry Time'].dtype)\n",
        "print(df_copy['Actual Surgery Room Entry Time'].head(10))\n",
        "print(\"Missing values:\", df_copy['Actual Surgery Room Entry Time'].isna().sum())"
      ]
    },
    {
      "cell_type": "code",
      "execution_count": 33,
      "id": "99e683eb",
      "metadata": {
        "id": "99e683eb"
      },
      "outputs": [],
      "source": [
        "# List of columns that contain values in hours format only\n",
        "time_columns = [\n",
        "    'Actual Surgery Room Entry Time',\n",
        "    'Planned Start Time for Doctor Block',\n",
        "    'Incision Time',\n",
        "    'Closure Time',\n",
        "    'Planned End Time for Doctor Block']"
      ]
    },
    {
      "cell_type": "markdown",
      "source": [
        "Checking lines with illogical time intersections:"
      ],
      "metadata": {
        "id": "k9R8M9KBmwYH"
      },
      "id": "k9R8M9KBmwYH"
    },
    {
      "cell_type": "code",
      "source": [
        "import pandas as pd\n",
        "\n",
        "# List of columns being checked\n",
        "time_cols = [\"Entry DateTime\", \"Incision DateTime\", \"Closure DateTime\", \"Exit DateTime\"]\n",
        "\n",
        "# Columns in datetime format\n",
        "for col in time_cols:\n",
        "    df_copy[col] = pd.to_datetime(df_copy[col], errors='coerce')\n",
        "\n",
        "# Error count and list of deleted cells\n",
        "internal_corrections = 0\n",
        "external_corrections = 0\n",
        "deleted_cells = []\n",
        "\n",
        "# Cleaning up internal inconsistencies within a row\n",
        "def clean_internal_conflicts(row):\n",
        "    global internal_corrections\n",
        "    for i in range(len(time_cols) - 1):\n",
        "        col1 = time_cols[i]\n",
        "        col2 = time_cols[i + 1]\n",
        "        t1 = row[col1]\n",
        "        t2 = row[col2]\n",
        "\n",
        "        if pd.notnull(t1) and pd.notnull(t2) and t1 > t2:\n",
        "            prev_time = row[time_cols[i - 1]] if i > 0 else None\n",
        "            next_time = row[time_cols[i + 2]] if i + 2 < len(time_cols) else None\n",
        "\n",
        "            if prev_time is not None and pd.notnull(prev_time) and prev_time > t1:\n",
        "                bad_col = col1\n",
        "            elif next_time is not None and pd.notnull(next_time) and t2 > next_time:\n",
        "                bad_col = col2\n",
        "            else:\n",
        "                bad_col = col1  # default\n",
        "\n",
        "            deleted_cells.append((row.name, bad_col, row[bad_col]))\n",
        "            row[bad_col] = pd.NaT\n",
        "            internal_corrections += 1\n",
        "    return row\n",
        "\n",
        "df_copy = df_copy.apply(clean_internal_conflicts, axis=1)\n",
        "\n",
        "# Conflict between current Exit and next Entry\n",
        "df_copy[\"next_Entry DateTime\"] = df_copy[\"Entry DateTime\"].shift(-1)\n",
        "\n",
        "def fix_external_conflict(row):\n",
        "    global external_corrections\n",
        "    if pd.notnull(row[\"Exit DateTime\"]) and pd.notnull(row[\"next_Entry DateTime\"]):\n",
        "        if row[\"Exit DateTime\"] > row[\"next_Entry DateTime\"]:\n",
        "            deleted_cells.append((row.name, \"Exit DateTime\", row[\"Exit DateTime\"]))\n",
        "            row[\"Exit DateTime\"] = pd.NaT\n",
        "            external_corrections += 1\n",
        "    return row\n",
        "\n",
        "df_copy = df_copy.apply(fix_external_conflict, axis=1)\n",
        "df_copy.drop(columns=[\"next_Entry DateTime\"], inplace=True)\n",
        "\n",
        "# Conflict between current Entry and previous Exit → Always delete the Exit of the previous line\n",
        "df_copy[\"prev_Exit DateTime\"] = df_copy[\"Exit DateTime\"].shift(1)\n",
        "\n",
        "def fix_inter_row_conflict_strict(row):\n",
        "    global external_corrections\n",
        "    entry = row[\"Entry DateTime\"]\n",
        "    prev_exit = row[\"prev_Exit DateTime\"]\n",
        "\n",
        "    if pd.notnull(entry) and pd.notnull(prev_exit) and entry < prev_exit:\n",
        "        idx_prev = row.name - 1\n",
        "        deleted_cells.append((idx_prev, \"Exit DateTime\", df_copy.at[idx_prev, \"Exit DateTime\"]))\n",
        "        df_copy.at[idx_prev, \"Exit DateTime\"] = pd.NaT\n",
        "        external_corrections += 1\n",
        "\n",
        "    return row\n",
        "\n",
        "df_copy = df_copy.apply(fix_inter_row_conflict_strict, axis=1)\n",
        "df_copy.drop(columns=[\"prev_Exit DateTime\"], inplace=True)\n",
        "\n",
        "# summary\n",
        "print(f\"Cleaning finished:\")\n",
        "print(f\"{internal_corrections} Internal corrections were made within lines.\")\n",
        "print(f\"{external_corrections} Corrections of conflicts between lines have been made.\")\n",
        "\n",
        "# Show an example of deleted entries\n",
        "if deleted_cells:\n",
        "    print(\"\\n Example of deleted values (up to the first 5):\")\n",
        "    for row_idx, col, val in deleted_cells[:5]:\n",
        "        print(f\" row {row_idx}, column '{col}', Deleted entry: {val}\")\n",
        "else:\n",
        "    print(\"No entries were deleted.\")"
      ],
      "metadata": {
        "colab": {
          "base_uri": "https://localhost:8080/"
        },
        "id": "MyTlye5PIlhY",
        "outputId": "62e8b897-6200-467d-cb3e-c163ad70c9cc"
      },
      "id": "MyTlye5PIlhY",
      "execution_count": 34,
      "outputs": [
        {
          "output_type": "stream",
          "name": "stdout",
          "text": [
            "Cleaning finished:\n",
            "0 Internal corrections were made within lines.\n",
            "459 Corrections of conflicts between lines have been made.\n",
            "\n",
            " Example of deleted values (up to the first 5):\n",
            " row 48, column 'Exit DateTime', Deleted entry: 2023-12-11 14:02:00\n",
            " row 49, column 'Exit DateTime', Deleted entry: 2023-07-24 14:24:00\n",
            " row 75, column 'Exit DateTime', Deleted entry: 2023-09-21 17:48:00\n",
            " row 100, column 'Exit DateTime', Deleted entry: 2023-07-19 15:46:00\n",
            " row 110, column 'Exit DateTime', Deleted entry: 2023-07-25 18:01:00\n"
          ]
        }
      ]
    },
    {
      "cell_type": "markdown",
      "id": "5d508949",
      "metadata": {
        "id": "5d508949"
      },
      "source": [
        "SP, only consider shift boundaries!"
      ]
    },
    {
      "cell_type": "code",
      "execution_count": 35,
      "id": "81b9d685",
      "metadata": {
        "id": "81b9d685",
        "colab": {
          "base_uri": "https://localhost:8080/"
        },
        "outputId": "d41ffd78-6967-45fb-f93e-180ec9a79bff"
      },
      "outputs": [
        {
          "output_type": "stream",
          "name": "stdout",
          "text": [
            "Missing values at shift boundaries:\n",
            " Planned Start Time for Doctor Block    0\n",
            "Planned End Time for Doctor Block      0\n",
            "dtype: int64\n"
          ]
        }
      ],
      "source": [
        "# Checking how many missing values there are in the shift columns\n",
        "missing_values = df_copy[['Planned Start Time for Doctor Block', 'Planned End Time for Doctor Block']].isna().sum()\n",
        "print(\"Missing values at shift boundaries:\\n\", missing_values)"
      ]
    },
    {
      "cell_type": "code",
      "execution_count": 36,
      "id": "d436fba0",
      "metadata": {
        "id": "d436fba0"
      },
      "outputs": [],
      "source": [
        "# Convert date columns to datetime format\n",
        "date_columns = [\"Actual Surgery Room Entry Date\", \"Planned Start Date for Doctor Block\"]\n",
        "for col in date_columns:\n",
        "    df_copy[col] = pd.to_datetime(df[col], errors='coerce')  # Save the date only"
      ]
    },
    {
      "cell_type": "code",
      "execution_count": 37,
      "id": "23941606",
      "metadata": {
        "id": "23941606",
        "colab": {
          "base_uri": "https://localhost:8080/"
        },
        "outputId": "1e8fa51f-f4cb-40bf-b50d-54bbf2f5c3c3"
      },
      "outputs": [
        {
          "output_type": "stream",
          "name": "stdout",
          "text": [
            "datetime64[ns]\n"
          ]
        }
      ],
      "source": [
        "print(df_copy['Planned Start Date for Doctor Block'].dtype)"
      ]
    },
    {
      "cell_type": "code",
      "source": [
        "import pandas as pd\n",
        "import numpy as np\n",
        "\n",
        "# Convert columns to dates:\n",
        "datetime_cols = [\n",
        "    \"Actual Surgery Room Entry Date\",\n",
        "    \"End of Surgery Date (Exit from OR)\",\n",
        "    \"Planned Start Date for Doctor Block\",\n",
        "    \"Planned End Date for Doctor Block\"\n",
        "]\n",
        "for col in datetime_cols:\n",
        "    df_copy[col] = pd.to_datetime(df_copy[col], errors='coerce')\n",
        "\n",
        "# Creating new consolidated columns:\n",
        "df_copy[\"Planned Start DateTime\"] = df_copy[\"Planned Start Date for Doctor Block\"] + pd.to_timedelta(df_copy[\"Planned Start Time for Doctor Block\"].astype(str), errors='coerce')\n",
        "df_copy[\"Planned End DateTime\"] = df_copy[\"Planned End Date for Doctor Block\"] + pd.to_timedelta(df_copy[\"Planned End Time for Doctor Block\"].astype(str), errors='coerce')\n",
        "\n",
        "# Actual full surgery duration without shift restrictions:\n",
        "df_copy[\"S_p_raw\"] = df_copy[\"Closure DateTime\"] - df_copy[\"Incision DateTime\"]\n",
        "\n",
        "# Convert duration to decimal hours:\n",
        "df_copy[\"S_p_raw_hours\"] = df_copy[\"S_p_raw\"].dt.total_seconds() / 3600\n",
        "df_copy[\"S_p_raw_hours\"] = df_copy[\"S_p_raw_hours\"].round(5)\n",
        "\n",
        "# Actual duration of surgery within the block (shift) boundaries:\n",
        "df_copy[\"S_p_limited\"] = (\n",
        "    df_copy[[\"Closure DateTime\", \"Planned End DateTime\"]].min(axis=1) -\n",
        "    df_copy[[\"Incision DateTime\", \"Planned Start DateTime\"]].max(axis=1)\n",
        ").clip(lower=pd.Timedelta(0))\n",
        "\n",
        "df_copy.loc[\n",
        "    df_copy[['Incision DateTime', 'Closure DateTime', 'Planned Start DateTime', 'Planned End DateTime']].isnull().any(axis=1),\n",
        "    \"S_p_limited\"\n",
        "] = pd.NaT\n",
        "\n",
        "df_copy[\"S_p_hours_limited\"] = df_copy[\"S_p_limited\"].dt.total_seconds() / 3600\n",
        "df_copy.loc[df_copy[\"S_p_limited\"].isna(), \"S_p_hours_limited\"] = np.nan\n",
        "df_copy[\"S_p_hours_limited\"] = df_copy[\"S_p_hours_limited\"].round(5)\n",
        "\n",
        "df_sp_sum = df_copy.groupby(\n",
        "    ['Actual Surgery Room Entry Date', 'Actual Operating Room Number'],\n",
        "    as_index=False\n",
        ")['S_p_hours_limited'].sum()\n",
        "\n",
        "df_sp_sum.rename(columns={'S_p_hours_limited': 'total_SP_per_day_room'}, inplace=True)\n",
        "\n",
        "assert not df_sp_sum.duplicated(subset=[\"Actual Surgery Room Entry Date\", \"Actual Operating Room Number\"]).any()\n",
        "\n",
        "df_copy = df_copy.merge(\n",
        "    df_sp_sum,\n",
        "    on=['Actual Surgery Room Entry Date', 'Actual Operating Room Number'],\n",
        "    how='left'\n",
        ")\n",
        "# df_copy.to_excel(\"SP_check.xlsx\", index=False)"
      ],
      "metadata": {
        "id": "FM1bE9OvX7Ul"
      },
      "id": "FM1bE9OvX7Ul",
      "execution_count": 38,
      "outputs": []
    },
    {
      "cell_type": "markdown",
      "id": "fefa2603",
      "metadata": {
        "id": "fefa2603"
      },
      "source": [
        "SUP:"
      ]
    },
    {
      "cell_type": "code",
      "source": [
        "dt_cols = [\n",
        "    \"Planned Start DateTime\", \"Planned End DateTime\",\n",
        "    \"Entry DateTime\", \"Exit DateTime\",\n",
        "    \"Incision DateTime\", \"Closure DateTime\"\n",
        "]\n",
        "for col in dt_cols:\n",
        "    df_copy[col] = pd.to_datetime(df_copy[col], errors='coerce')\n",
        "\n",
        "df_copy[\"SU_p_before_limited\"] = (\n",
        "    (df_copy[\"Incision DateTime\"] - df_copy[\"Entry DateTime\"]).clip(lower=pd.Timedelta(0)) +\n",
        "    (df_copy[\"Exit DateTime\"] - df_copy[\"Closure DateTime\"]).clip(lower=pd.Timedelta(0))\n",
        ")\n",
        "df_copy[\"SU_p_before_hours\"] = df_copy[\"SU_p_before_limited\"].dt.total_seconds() / 3600\n",
        "\n",
        "prep_start = df_copy[[\"Entry DateTime\", \"Planned Start DateTime\"]].max(axis=1)\n",
        "prep_end = df_copy[[\"Incision DateTime\", \"Planned End DateTime\"]].min(axis=1)\n",
        "prep_duration = (prep_end - prep_start).clip(lower=pd.Timedelta(0))\n",
        "\n",
        "post_start = df_copy[[\"Closure DateTime\", \"Planned Start DateTime\"]].max(axis=1)\n",
        "post_end = df_copy[[\"Exit DateTime\", \"Planned End DateTime\"]].min(axis=1)\n",
        "post_duration = (post_end - post_start).clip(lower=pd.Timedelta(0))\n",
        "\n",
        "df_copy[\"SU_p_after_limited\"] = prep_duration + post_duration\n",
        "df_copy[\"SU_p_after_hours\"] = df_copy[\"SU_p_after_limited\"].dt.total_seconds() / 3600\n",
        "\n",
        "df_copy.loc[df_copy[[\n",
        "    'Entry DateTime', 'Incision DateTime', 'Closure DateTime', 'Exit DateTime',\n",
        "    'Planned Start DateTime', 'Planned End DateTime'\n",
        "]].isnull().any(axis=1), \"SU_p_after_limited\"] = pd.NaT\n",
        "\n",
        "df_copy[\"SU_p_after_hours\"] = df_copy[\"SU_p_after_limited\"].dt.total_seconds() / 3600\n",
        "df_copy.loc[df_copy[\"SU_p_after_limited\"].isna(), \"SU_p_after_hours\"] = np.nan\n",
        "\n",
        "su_grouped = df_copy.groupby(\n",
        "    [\"Actual Surgery Room Entry Date\", \"Actual Operating Room Number\"],\n",
        "    as_index=False\n",
        ")[\"SU_p_after_hours\"].sum().rename(columns={\"SU_p_after_hours\": \"SU_p_limited_hours\"})\n",
        "\n",
        "df_copy = df_copy.merge(\n",
        "    su_grouped,\n",
        "    on=[\"Actual Surgery Room Entry Date\", \"Actual Operating Room Number\"],\n",
        "    how=\"left\"\n",
        ")\n",
        "\n",
        "print(df_copy[[\n",
        "    \"Actual Surgery Room Entry Date\", \"Actual Operating Room Number\",\n",
        "    \"SU_p_before_hours\", \"SU_p_after_hours\", \"SU_p_limited_hours\"\n",
        "]].head())"
      ],
      "metadata": {
        "id": "b6AJL6lDaJ1h",
        "colab": {
          "base_uri": "https://localhost:8080/"
        },
        "outputId": "f2255c07-8584-446f-afa6-84d3f8fc828e"
      },
      "id": "b6AJL6lDaJ1h",
      "execution_count": 39,
      "outputs": [
        {
          "output_type": "stream",
          "name": "stdout",
          "text": [
            "  Actual Surgery Room Entry Date  Actual Operating Room Number  \\\n",
            "0                     2023-07-14                         20029   \n",
            "1                     2023-07-14                         20029   \n",
            "2                     2023-11-10                         20028   \n",
            "3                     2023-09-22                         20010   \n",
            "4                     2023-11-03                         20010   \n",
            "\n",
            "   SU_p_before_hours  SU_p_after_hours  SU_p_limited_hours  \n",
            "0           0.700000          0.700000            2.066667  \n",
            "1           0.783333          0.250000            2.066667  \n",
            "2                NaN               NaN            0.433333  \n",
            "3           0.666667          0.666667            1.516667  \n",
            "4                NaN               NaN            0.000000  \n"
          ]
        }
      ]
    },
    {
      "cell_type": "markdown",
      "id": "54f5e880",
      "metadata": {
        "id": "54f5e880"
      },
      "source": [
        "End of Surgery Time (Exit from OR):"
      ]
    },
    {
      "cell_type": "markdown",
      "source": [
        "SHR:"
      ],
      "metadata": {
        "id": "__WisOZlEWD7"
      },
      "id": "__WisOZlEWD7"
    },
    {
      "cell_type": "code",
      "source": [
        "# Calculate block duration in hours\n",
        "df_copy[\"Block Duration Hours\"] = (\n",
        "    df_copy[\"Planned End DateTime\"] - df_copy[\"Planned Start DateTime\"]\n",
        ").dt.total_seconds() / 3600\n",
        "\n",
        "# Get max block duration per surgeon per day and room\n",
        "df_max = df_copy.groupby(\n",
        "    ['Main Surgeon Code', 'Actual Surgery Room Entry Date', 'Actual Operating Room Number'],\n",
        "    as_index=False\n",
        ")['Block Duration Hours'].max()\n",
        "\n",
        "df_max.rename(columns={'Block Duration Hours': 'max_hours'}, inplace=True)\n",
        "\n",
        "# Sum the max values per day and room\n",
        "df_sum = df_max.groupby(\n",
        "    ['Actual Surgery Room Entry Date', 'Actual Operating Room Number'],\n",
        "    as_index=False\n",
        ")['max_hours'].sum()\n",
        "\n",
        "# Rename the result column to SH_r_hours\n",
        "df_sum.rename(columns={'max_hours': 'SH_r_hours'}, inplace=True)\n",
        "\n",
        "# Merge SH_r_hours back to df_copy\n",
        "df_copy = df_copy.merge(df_sum, on=['Actual Surgery Room Entry Date', 'Actual Operating Room Number'], how='left')"
      ],
      "metadata": {
        "id": "mXltxa-uezbl"
      },
      "id": "mXltxa-uezbl",
      "execution_count": 40,
      "outputs": []
    },
    {
      "cell_type": "markdown",
      "id": "ee641407",
      "metadata": {
        "id": "ee641407"
      },
      "source": [
        "Utilization rate:"
      ]
    },
    {
      "cell_type": "code",
      "execution_count": 41,
      "id": "00b31f40",
      "metadata": {
        "id": "00b31f40",
        "colab": {
          "base_uri": "https://localhost:8080/"
        },
        "outputId": "cc30cd04-0a5c-4fcc-c7c1-fe9dff21bf5b"
      },
      "outputs": [
        {
          "output_type": "stream",
          "name": "stdout",
          "text": [
            "['patient_id', 'Site Code', 'Main Surgeon Code', 'Activity Code', 'Activity Type Code', 'Planned SU Time (Large/Medium/Small)', 'Pre-Surgery Admission Date', 'Height', 'Weight', 'Patient Age (on Surgery Day)', 'Background Diseases/Diagnoses', 'Planned Surgery Date', 'Planned Surgery Time', 'Surgery Admission Date', 'Administrative Admission Time', 'אתר מתוכנן', 'Planned Operating Room Number', 'Pre-Surgical Admission Time Before Surgery', 'Surgical Team Codes', 'Anesthesiologist Code', 'Anesthesia Code', 'Type of Anesthesia', 'Cancellation Reason on Surgery Day', 'Actual Operating Room Number', 'Actual Surgery Room Entry Date', 'Actual Surgery Room Entry Time', 'Incision Time', 'Closure Time', 'End of Surgery Date (Exit from OR)', 'End of Surgery Time (Exit from OR)', 'Planned Surgery Duration', 'Recovery Room Entry Date', 'Recovery Room Entry Time', 'Recovery Room Exit Date', 'Recovery Room Exit Time', 'Planned Start Date for Doctor Block', 'Planned Start Time for Doctor Block', 'Planned End Date for Doctor Block', 'Planned End Time for Doctor Block', 'Readmission', 'strict_signature', 'No Show', 'Entry DateTime', 'Incision DateTime', 'Closure DateTime', 'Exit DateTime', 'Planned Surgery Time_Minutes', 'Administrative Admission Time_Minutes', 'Pre-Surgical Admission Time Before Surgery_Minutes', 'Actual Surgery Room Entry Time_Minutes', 'Incision Time_Minutes', 'Closure Time_Minutes', 'End of Surgery Time (Exit from OR)_Minutes', 'Recovery Room Entry Time_Minutes', 'Recovery Room Exit Time_Minutes', 'Planned Start Time for Doctor Block_Minutes', 'Planned End Time for Doctor Block_Minutes', 'Planned Start DateTime', 'Planned End DateTime', 'S_p_raw', 'S_p_raw_hours', 'S_p_limited', 'S_p_hours_limited', 'total_SP_per_day_room', 'SU_p_before_limited', 'SU_p_before_hours', 'SU_p_after_limited', 'SU_p_after_hours', 'SU_p_limited_hours', 'Block Duration Hours', 'SH_r_hours']\n"
          ]
        }
      ],
      "source": [
        "print(df_copy.columns.tolist())"
      ]
    },
    {
      "cell_type": "code",
      "source": [
        "# Clean the data before utilization calculation\n",
        "# Remove rows where there was a No-Show\n",
        "num_noshow = df_copy[\"No Show\"].sum()\n",
        "print(f\"Removed {num_noshow} rows due to No-Show status.\")\n",
        "df_copy = df_copy[df_copy[\"No Show\"] != True]\n",
        "\n",
        "# Remove rows with missing time components needed for utilization calculation\n",
        "required_cols = [\n",
        "    \"Incision DateTime\",\n",
        "    \"Closure DateTime\",\n",
        "    \"Planned Start DateTime\",\n",
        "    \"Planned End DateTime\",\n",
        "    \"Actual Surgery Room Entry Date\",\n",
        "    \"Actual Surgery Room Entry Time\",\n",
        "    \"End of Surgery Time (Exit from OR)\"\n",
        "]\n",
        "df_copy = df_copy.dropna(subset=required_cols)\n",
        "\n",
        "print(f\"Remaining rows for utilization calculation: {len(df_copy)}\")\n",
        "\n",
        "if all(col in df_copy.columns for col in [\"total_SP_per_day_room\", \"SU_p_limited_hours\", \"SH_r_hours\"]):\n",
        "    df_copy[\"daily_utilization_rate\"] = (\n",
        "        (df_copy[\"total_SP_per_day_room\"] + df_copy[\"SU_p_limited_hours\"]) /\n",
        "        df_copy[\"SH_r_hours\"]\n",
        "    ) * 100\n",
        "    print(f\"Calculated utilization for {df_copy['daily_utilization_rate'].notna().sum()} rows.\")\n",
        "\n",
        "    df_copy.loc[df_copy[\"SH_r_hours\"].isna(), \"daily_utilization_rate\"] = np.nan\n",
        "    df_copy.loc[df_copy[\"SH_r_hours\"] == 0, \"daily_utilization_rate\"] = np.nan\n",
        "else:\n",
        "    print(\"Missing columns required to calculate utilization\")"
      ],
      "metadata": {
        "id": "anBiQ7FKTFUw",
        "colab": {
          "base_uri": "https://localhost:8080/"
        },
        "outputId": "01cf16ac-bf97-428f-cbe0-acb4bad6ff41"
      },
      "id": "anBiQ7FKTFUw",
      "execution_count": 42,
      "outputs": [
        {
          "output_type": "stream",
          "name": "stdout",
          "text": [
            "Removed 0 rows due to No-Show status.\n",
            "Remaining rows for utilization calculation: 4405\n",
            "Calculated utilization for 4405 rows.\n"
          ]
        }
      ]
    },
    {
      "cell_type": "code",
      "source": [
        "df_copy = df_copy.merge(df_copy[[\"Planned Start Date for Doctor Block\",\n",
        "                                        \"Actual Operating Room Number\",\n",
        "                                        \"daily_utilization_rate\"]],\n",
        "                        on=[\"Planned Start Date for Doctor Block\", \"Actual Operating Room Number\"],\n",
        "                        how=\"left\")"
      ],
      "metadata": {
        "id": "2rJ05nlBHQyD"
      },
      "id": "2rJ05nlBHQyD",
      "execution_count": 43,
      "outputs": []
    },
    {
      "cell_type": "code",
      "source": [
        "from datetime import timedelta\n",
        "\n",
        "for col in time_columns:\n",
        "    if col in df_copy.columns:\n",
        "        df_copy[col] = df_copy[col].apply(\n",
        "            lambda x: f\"{int(x.total_seconds() // 3600):02}:{int((x.total_seconds() % 3600) // 60):02}:{int(x.total_seconds() % 60):02}\"\n",
        "            if isinstance(x, timedelta) else (x if isinstance(x, str) else \"\")\n",
        "        )"
      ],
      "metadata": {
        "id": "y_KGCp5KsmGt"
      },
      "id": "y_KGCp5KsmGt",
      "execution_count": 44,
      "outputs": []
    },
    {
      "cell_type": "code",
      "source": [
        "df_copy.to_excel(\"2024_data_with_UTR.xlsx\", index=False)"
      ],
      "metadata": {
        "id": "2yV8jRPZFT_-"
      },
      "id": "2yV8jRPZFT_-",
      "execution_count": 45,
      "outputs": []
    }
  ],
  "metadata": {
    "kernelspec": {
      "display_name": "Python 3",
      "name": "python3"
    },
    "language_info": {
      "codemirror_mode": {
        "name": "ipython",
        "version": 3
      },
      "file_extension": ".py",
      "mimetype": "text/x-python",
      "name": "python",
      "nbconvert_exporter": "python",
      "pygments_lexer": "ipython3",
      "version": "3.11.5"
    },
    "colab": {
      "provenance": [],
      "gpuType": "T4"
    },
    "accelerator": "GPU"
  },
  "nbformat": 4,
  "nbformat_minor": 5
}