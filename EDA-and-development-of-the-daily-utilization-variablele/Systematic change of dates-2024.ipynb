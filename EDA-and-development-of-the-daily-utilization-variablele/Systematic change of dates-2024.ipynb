{
  "nbformat": 4,
  "nbformat_minor": 0,
  "metadata": {
    "colab": {
      "provenance": []
    },
    "kernelspec": {
      "name": "python3",
      "display_name": "Python 3"
    },
    "language_info": {
      "name": "python"
    }
  },
  "cells": [
    {
      "cell_type": "markdown",
      "source": [
        "# Date Adjustment Document for 2024 EDA\n",
        "\n",
        "In this notebook, we implement the date modifications as specified in the EDA_2024 code file. Our aim is to update and standardize all date fields across the dataset to match the revised schedule, ensuring chronological consistency and preparing the data for downstream analysis.\n",
        "\n",
        "**What We Did and Why**  \n",
        "- **Identified Date Columns**: We reviewed every column containing date information (e.g., planned surgery date, actual OR entry/exit date, recovery and discharge dates) to locate fields requiring adjustment.  \n",
        "- **Applied Uniform Offset**: We defined a consistent offset or mapping rule (e.g., shifting all 2023 dates into 2024) and applied it programmatically to each relevant column.  \n",
        "- **Reparsed Timestamps**: After shifting dates, we reconverted combined date-time strings into proper `datetime` objects to maintain compatibility with prior analyses.  \n",
        "- **Validated Changes**: We compared summary statistics (min, max, counts by year and month) before and after transformation to confirm that every date was correctly adjusted.  \n",
        "- **Ensured Downstream Compatibility**: By aligning the dates with the assumptions used in our earlier EDA (see EDA_2024 notebook), we guarantee that feature engineering, conflict detection, and profiling steps operate on the intended temporal range.\n",
        "\n",
        "By following this process, we ensure that the 2024 dataset reflects the accurate time frame for all surgical events, enabling reliable chronological analyses and preserving the integrity of subsequent modeling efforts.  "
      ],
      "metadata": {
        "id": "66kkd7iOFQ9d"
      }
    },
    {
      "cell_type": "code",
      "execution_count": null,
      "metadata": {
        "id": "GHQzr-tGwf_g"
      },
      "outputs": [],
      "source": [
        "import pandas as pd\n",
        "\n",
        "df = pd.read_excel(\"2024_data_with_UTR_F.xlsx\")\n",
        "\n",
        "date_col = 'Pre-Surgery Admission Date'\n",
        "new_col = 'Pre-Surgery Admission Date NEW'\n",
        "\n",
        "df[date_col] = pd.to_datetime(df[date_col], errors='coerce')\n",
        "\n",
        "def replace_year(date):\n",
        "    if pd.isnull(date):\n",
        "        return pd.NaT\n",
        "    return date.replace(year=2024)\n",
        "\n",
        "df[new_col] = df[date_col].apply(replace_year)\n",
        "\n",
        "cols = list(df.columns)\n",
        "insert_at = cols.index(date_col) + 1\n",
        "cols.remove(new_col)\n",
        "cols.insert(insert_at, new_col)\n",
        "df = df[cols]\n",
        "\n",
        "df.to_excel(\"updated_dates_2024.xlsx\", index=False)"
      ]
    },
    {
      "cell_type": "code",
      "source": [
        "print(df[['Pre-Surgery Admission Date', 'Pre-Surgery Admission Date NEW']].head(10))"
      ],
      "metadata": {
        "colab": {
          "base_uri": "https://localhost:8080/"
        },
        "id": "RX7NcnQDwuXa",
        "outputId": "a3aa0d22-68a1-4863-f8f5-f06c33c397c7"
      },
      "execution_count": null,
      "outputs": [
        {
          "output_type": "stream",
          "name": "stdout",
          "text": [
            "  Pre-Surgery Admission Date Pre-Surgery Admission Date NEW\n",
            "0                 2023-07-06                     2024-07-06\n",
            "1                 2023-07-09                     2024-07-09\n",
            "2                 2023-10-29                     2024-10-29\n",
            "3                 2023-09-20                     2024-09-20\n",
            "4                 2023-11-02                     2024-11-02\n",
            "5                 2023-07-10                     2024-07-10\n",
            "6                 2023-09-18                     2024-09-18\n",
            "7                 2023-10-30                     2024-10-30\n",
            "8                 2023-11-02                     2024-11-02\n",
            "9                 2023-11-26                     2024-11-26\n"
          ]
        }
      ]
    },
    {
      "cell_type": "code",
      "source": [
        "df = pd.read_excel(\"updated_dates_2024.xlsx\")\n",
        "\n",
        "date_col = 'Planned Surgery Date'\n",
        "new_col = 'Planned Surgery Date NEW'\n",
        "\n",
        "df[date_col] = pd.to_datetime(df[date_col], errors='coerce')\n",
        "\n",
        "def replace_year(date):\n",
        "    if pd.isnull(date):\n",
        "        return pd.NaT\n",
        "    return date.replace(year=2024)\n",
        "\n",
        "df[new_col] = df[date_col].apply(replace_year)\n",
        "\n",
        "cols = list(df.columns)\n",
        "insert_at = cols.index(date_col) + 1\n",
        "cols.remove(new_col)\n",
        "cols.insert(insert_at, new_col)\n",
        "df = df[cols]\n",
        "\n",
        "df.to_excel(\"updated_dates_2024_1.xlsx\", index=False)"
      ],
      "metadata": {
        "id": "czjC9zvRxQz9"
      },
      "execution_count": null,
      "outputs": []
    },
    {
      "cell_type": "code",
      "source": [
        "print(df[['Planned Surgery Date', 'Planned Surgery Date NEW']].head(10))"
      ],
      "metadata": {
        "colab": {
          "base_uri": "https://localhost:8080/"
        },
        "id": "hQsmsHUByLY3",
        "outputId": "322762a2-3d18-48b0-f979-0c034a48dd83"
      },
      "execution_count": null,
      "outputs": [
        {
          "output_type": "stream",
          "name": "stdout",
          "text": [
            "  Planned Surgery Date Planned Surgery Date NEW\n",
            "0           2023-07-14               2024-07-14\n",
            "1           2023-07-14               2024-07-14\n",
            "2           2023-11-10               2024-11-10\n",
            "3           2023-09-22               2024-09-22\n",
            "4           2023-11-03               2024-11-03\n",
            "5           2023-07-14               2024-07-14\n",
            "6           2023-09-22               2024-09-22\n",
            "7           2023-11-10               2024-11-10\n",
            "8           2023-11-10               2024-11-10\n",
            "9           2023-12-08               2024-12-08\n"
          ]
        }
      ]
    },
    {
      "cell_type": "code",
      "source": [
        "df = pd.read_excel(\"updated_dates_2024_1.xlsx\")\n",
        "\n",
        "date_col = 'Surgery Admission Date'\n",
        "new_col = 'Surgery Admission Date NEW'\n",
        "\n",
        "df[date_col] = pd.to_datetime(df[date_col], errors='coerce')\n",
        "\n",
        "def replace_year(date):\n",
        "    if pd.isnull(date):\n",
        "        return pd.NaT\n",
        "    return date.replace(year=2024)\n",
        "\n",
        "df[new_col] = df[date_col].apply(replace_year)\n",
        "\n",
        "cols = list(df.columns)\n",
        "insert_at = cols.index(date_col) + 1\n",
        "cols.remove(new_col)\n",
        "cols.insert(insert_at, new_col)\n",
        "df = df[cols]\n",
        "\n",
        "df.to_excel(\"updated_dates_2024_2.xlsx\", index=False)"
      ],
      "metadata": {
        "id": "5y_ymb62yb3D"
      },
      "execution_count": null,
      "outputs": []
    },
    {
      "cell_type": "code",
      "source": [
        "print(df[['Surgery Admission Date', 'Surgery Admission Date NEW']].head(10))"
      ],
      "metadata": {
        "colab": {
          "base_uri": "https://localhost:8080/"
        },
        "id": "qalJRU_eyb0t",
        "outputId": "fdb9a6b9-51af-4f93-ae07-6d04ed19a4a1"
      },
      "execution_count": null,
      "outputs": [
        {
          "output_type": "stream",
          "name": "stdout",
          "text": [
            "  Surgery Admission Date Surgery Admission Date NEW\n",
            "0             2023-07-14                 2024-07-14\n",
            "1             2023-07-14                 2024-07-14\n",
            "2             2023-11-10                 2024-11-10\n",
            "3             2023-09-22                 2024-09-22\n",
            "4             2023-11-03                 2024-11-03\n",
            "5             2023-07-14                 2024-07-14\n",
            "6             2023-09-22                 2024-09-22\n",
            "7             2023-11-10                 2024-11-10\n",
            "8             2023-11-10                 2024-11-10\n",
            "9             2023-12-08                 2024-12-08\n"
          ]
        }
      ]
    },
    {
      "cell_type": "code",
      "source": [
        "df = pd.read_excel(\"updated_dates_2024_2.xlsx\")\n",
        "\n",
        "date_col = 'Actual Surgery Room Entry Date'\n",
        "new_col = 'Actual Surgery Room Entry Date NEW'\n",
        "\n",
        "df[date_col] = pd.to_datetime(df[date_col], errors='coerce')\n",
        "\n",
        "def replace_year(date):\n",
        "    if pd.isnull(date):\n",
        "        return pd.NaT\n",
        "    return date.replace(year=2024)\n",
        "\n",
        "df[new_col] = df[date_col].apply(replace_year)\n",
        "\n",
        "cols = list(df.columns)\n",
        "insert_at = cols.index(date_col) + 1\n",
        "cols.remove(new_col)\n",
        "cols.insert(insert_at, new_col)\n",
        "df = df[cols]\n",
        "\n",
        "df.to_excel(\"updated_dates_2024_3.xlsx\", index=False)"
      ],
      "metadata": {
        "id": "QD6VsK_tyvng"
      },
      "execution_count": null,
      "outputs": []
    },
    {
      "cell_type": "code",
      "source": [
        "print(df[['Actual Surgery Room Entry Date', 'Actual Surgery Room Entry Date NEW']].head(10))"
      ],
      "metadata": {
        "colab": {
          "base_uri": "https://localhost:8080/"
        },
        "id": "7Eh-XN4hy06q",
        "outputId": "f13b7fcc-91bf-4193-8a39-ac60599d585f"
      },
      "execution_count": null,
      "outputs": [
        {
          "output_type": "stream",
          "name": "stdout",
          "text": [
            "  Actual Surgery Room Entry Date Actual Surgery Room Entry Date NEW\n",
            "0                     2023-07-14                         2024-07-14\n",
            "1                     2023-07-14                         2024-07-14\n",
            "2                     2023-11-10                         2024-11-10\n",
            "3                     2023-09-22                         2024-09-22\n",
            "4                     2023-11-03                         2024-11-03\n",
            "5                     2023-07-14                         2024-07-14\n",
            "6                     2023-09-22                         2024-09-22\n",
            "7                     2023-11-10                         2024-11-10\n",
            "8                     2023-11-10                         2024-11-10\n",
            "9                     2023-12-08                         2024-12-08\n"
          ]
        }
      ]
    },
    {
      "cell_type": "code",
      "source": [
        "df = pd.read_excel(\"updated_dates_2024_3.xlsx\")\n",
        "\n",
        "date_col = 'End of Surgery Date (Exit from OR)'\n",
        "new_col = 'End of Surgery Date (Exit from OR) NEW'\n",
        "\n",
        "df[date_col] = pd.to_datetime(df[date_col], errors='coerce')\n",
        "\n",
        "def replace_year(date):\n",
        "    if pd.isnull(date):\n",
        "        return pd.NaT\n",
        "    return date.replace(year=2024)\n",
        "\n",
        "df[new_col] = df[date_col].apply(replace_year)\n",
        "\n",
        "cols = list(df.columns)\n",
        "insert_at = cols.index(date_col) + 1\n",
        "cols.remove(new_col)\n",
        "cols.insert(insert_at, new_col)\n",
        "df = df[cols]\n",
        "\n",
        "df.to_excel(\"updated_dates_2024_4.xlsx\", index=False)"
      ],
      "metadata": {
        "id": "yCTLtOZAy9iM"
      },
      "execution_count": null,
      "outputs": []
    },
    {
      "cell_type": "code",
      "source": [
        "print(df[['End of Surgery Date (Exit from OR)', 'End of Surgery Date (Exit from OR) NEW']].head(10))"
      ],
      "metadata": {
        "colab": {
          "base_uri": "https://localhost:8080/"
        },
        "id": "zstxSu1jzCD0",
        "outputId": "23005ad0-0775-4493-baa0-8d4a6450aeb7"
      },
      "execution_count": null,
      "outputs": [
        {
          "output_type": "stream",
          "name": "stdout",
          "text": [
            "  End of Surgery Date (Exit from OR) End of Surgery Date (Exit from OR) NEW\n",
            "0                         2023-07-14                             2024-07-14\n",
            "1                         2023-07-14                             2024-07-14\n",
            "2                         2023-11-10                             2024-11-10\n",
            "3                         2023-09-22                             2024-09-22\n",
            "4                         2023-11-03                             2024-11-03\n",
            "5                         2023-07-14                             2024-07-14\n",
            "6                         2023-09-22                             2024-09-22\n",
            "7                         2023-11-10                             2024-11-10\n",
            "8                         2023-11-10                             2024-11-10\n",
            "9                         2023-12-08                             2024-12-08\n"
          ]
        }
      ]
    },
    {
      "cell_type": "code",
      "source": [
        "df = pd.read_excel(\"updated_dates_2024_4.xlsx\")\n",
        "\n",
        "date_col = 'Recovery Room Entry Date'\n",
        "new_col = 'Recovery Room Entry Date NEW'\n",
        "\n",
        "df[date_col] = pd.to_datetime(df[date_col], errors='coerce')\n",
        "\n",
        "def replace_year(date):\n",
        "    if pd.isnull(date):\n",
        "        return pd.NaT\n",
        "    return date.replace(year=2024)\n",
        "\n",
        "df[new_col] = df[date_col].apply(replace_year)\n",
        "\n",
        "cols = list(df.columns)\n",
        "insert_at = cols.index(date_col) + 1\n",
        "cols.remove(new_col)\n",
        "cols.insert(insert_at, new_col)\n",
        "df = df[cols]\n",
        "\n",
        "df.to_excel(\"updated_dates_2024_5.xlsx\", index=False)"
      ],
      "metadata": {
        "id": "u3Yz74pdzMnI"
      },
      "execution_count": null,
      "outputs": []
    },
    {
      "cell_type": "code",
      "source": [
        "print(df[['Recovery Room Entry Date', 'Recovery Room Entry Date NEW']].head(10))"
      ],
      "metadata": {
        "colab": {
          "base_uri": "https://localhost:8080/"
        },
        "id": "A25q-X52zNUf",
        "outputId": "e9bc0d38-36ee-4144-a4e9-e27007b60502"
      },
      "execution_count": null,
      "outputs": [
        {
          "output_type": "stream",
          "name": "stdout",
          "text": [
            "  Recovery Room Entry Date Recovery Room Entry Date NEW\n",
            "0               2023-07-14                   2024-07-14\n",
            "1               2023-07-14                   2024-07-14\n",
            "2               2023-11-10                   2024-11-10\n",
            "3               2023-09-22                   2024-09-22\n",
            "4               2023-11-03                   2024-11-03\n",
            "5               2023-07-14                   2024-07-14\n",
            "6               2023-09-22                   2024-09-22\n",
            "7               2023-11-10                   2024-11-10\n",
            "8               2023-11-10                   2024-11-10\n",
            "9               2023-12-08                   2024-12-08\n"
          ]
        }
      ]
    },
    {
      "cell_type": "code",
      "source": [
        "df = pd.read_excel(\"updated_dates_2024_5.xlsx\")\n",
        "\n",
        "date_col = 'Recovery Room Exit Date'\n",
        "new_col = 'Recovery Room Exit Date NEW'\n",
        "\n",
        "df[date_col] = pd.to_datetime(df[date_col], errors='coerce')\n",
        "\n",
        "def replace_year(date):\n",
        "    if pd.isnull(date):\n",
        "        return pd.NaT\n",
        "    return date.replace(year=2024)\n",
        "\n",
        "df[new_col] = df[date_col].apply(replace_year)\n",
        "\n",
        "cols = list(df.columns)\n",
        "insert_at = cols.index(date_col) + 1\n",
        "cols.remove(new_col)\n",
        "cols.insert(insert_at, new_col)\n",
        "df = df[cols]\n",
        "\n",
        "df.to_excel(\"updated_dates_2024_6.xlsx\", index=False)"
      ],
      "metadata": {
        "id": "nsHRgugfzYcT"
      },
      "execution_count": null,
      "outputs": []
    },
    {
      "cell_type": "code",
      "source": [
        "print(df[['Recovery Room Exit Date', 'Recovery Room Exit Date NEW']].head(10))"
      ],
      "metadata": {
        "colab": {
          "base_uri": "https://localhost:8080/"
        },
        "id": "z3iEfNU8zeis",
        "outputId": "55c57c35-1b24-42d1-8866-fcc5b7bf13a2"
      },
      "execution_count": null,
      "outputs": [
        {
          "output_type": "stream",
          "name": "stdout",
          "text": [
            "  Recovery Room Exit Date Recovery Room Exit Date NEW\n",
            "0              2023-07-14                  2024-07-14\n",
            "1              2023-07-14                  2024-07-14\n",
            "2              2023-11-10                  2024-11-10\n",
            "3              2023-09-22                  2024-09-22\n",
            "4              2023-11-03                  2024-11-03\n",
            "5              2023-07-14                  2024-07-14\n",
            "6              2023-09-22                  2024-09-22\n",
            "7              2023-11-10                  2024-11-10\n",
            "8              2023-11-10                  2024-11-10\n",
            "9              2023-12-08                  2024-12-08\n"
          ]
        }
      ]
    },
    {
      "cell_type": "code",
      "source": [
        "df = pd.read_excel(\"updated_dates_2024_6.xlsx\")\n",
        "\n",
        "date_col = 'Planned Start Date for Doctor Block'\n",
        "new_col = 'Planned Start Date for Doctor Block NEW'\n",
        "\n",
        "df[date_col] = pd.to_datetime(df[date_col], errors='coerce')\n",
        "\n",
        "def replace_year(date):\n",
        "    if pd.isnull(date):\n",
        "        return pd.NaT\n",
        "    return date.replace(year=2024)\n",
        "\n",
        "df[new_col] = df[date_col].apply(replace_year)\n",
        "\n",
        "cols = list(df.columns)\n",
        "insert_at = cols.index(date_col) + 1\n",
        "cols.remove(new_col)\n",
        "cols.insert(insert_at, new_col)\n",
        "df = df[cols]\n",
        "\n",
        "df.to_excel(\"updated_dates_2024_7.xlsx\", index=False)"
      ],
      "metadata": {
        "id": "2ktp-11uzm0r"
      },
      "execution_count": null,
      "outputs": []
    },
    {
      "cell_type": "code",
      "source": [
        "print(df[['Planned Start Date for Doctor Block', 'Planned Start Date for Doctor Block NEW']].head(10))"
      ],
      "metadata": {
        "colab": {
          "base_uri": "https://localhost:8080/"
        },
        "id": "VsCafpKLzruK",
        "outputId": "e6cf9da8-4e8f-408f-cea9-cc86f76e9feb"
      },
      "execution_count": null,
      "outputs": [
        {
          "output_type": "stream",
          "name": "stdout",
          "text": [
            "  Planned Start Date for Doctor Block Planned Start Date for Doctor Block NEW\n",
            "0                          2023-07-14                              2024-07-14\n",
            "1                          2023-07-14                              2024-07-14\n",
            "2                          2023-11-10                              2024-11-10\n",
            "3                          2023-09-22                              2024-09-22\n",
            "4                          2023-11-03                              2024-11-03\n",
            "5                          2023-07-14                              2024-07-14\n",
            "6                          2023-09-22                              2024-09-22\n",
            "7                          2023-11-10                              2024-11-10\n",
            "8                          2023-11-10                              2024-11-10\n",
            "9                          2023-12-08                              2024-12-08\n"
          ]
        }
      ]
    },
    {
      "cell_type": "code",
      "source": [
        "df = pd.read_excel(\"updated_dates_2024_7.xlsx\")\n",
        "\n",
        "date_col = 'Entry DateTime'\n",
        "new_col = 'Entry DateTime NEW'\n",
        "\n",
        "df[date_col] = pd.to_datetime(df[date_col], errors='coerce')\n",
        "\n",
        "def change_to_2024(dt):\n",
        "    if pd.isnull(dt):\n",
        "        return pd.NaT\n",
        "    return dt.replace(year=2024)\n",
        "\n",
        "df[new_col] = df[date_col].apply(change_to_2024)\n",
        "\n",
        "cols = list(df.columns)\n",
        "insert_at = cols.index(date_col) + 1\n",
        "cols.remove(new_col)\n",
        "cols.insert(insert_at, new_col)\n",
        "df = df[cols]\n",
        "\n",
        "df.to_excel(\"updated_dates_2024_8.xlsx\", index=False)"
      ],
      "metadata": {
        "id": "9yRkkz5mzyAJ"
      },
      "execution_count": null,
      "outputs": []
    },
    {
      "cell_type": "code",
      "source": [
        "print(df[['Entry DateTime', 'Entry DateTime NEW']].head(10))"
      ],
      "metadata": {
        "colab": {
          "base_uri": "https://localhost:8080/"
        },
        "id": "qZ2HGgbYz2Ot",
        "outputId": "3fa9bf84-511e-4f2f-e061-8d9b9c483b18"
      },
      "execution_count": null,
      "outputs": [
        {
          "output_type": "stream",
          "name": "stdout",
          "text": [
            "       Entry DateTime  Entry DateTime NEW\n",
            "0 2023-07-14 10:35:00 2024-07-14 10:35:00\n",
            "1 2023-07-14 12:41:00 2024-07-14 12:41:00\n",
            "2 2023-11-10 07:20:00 2024-11-10 07:20:00\n",
            "3 2023-09-22 07:14:00 2024-09-22 07:14:00\n",
            "4 2023-11-03 09:06:00 2024-11-03 09:06:00\n",
            "5 2023-07-14 08:44:00 2024-07-14 08:44:00\n",
            "6 2023-09-22 08:53:00 2024-09-22 08:53:00\n",
            "7 2023-11-10 09:27:00 2024-11-10 09:27:00\n",
            "8 2023-11-10 12:15:00 2024-11-10 12:15:00\n",
            "9 2023-12-08 07:14:00 2024-12-08 07:14:00\n"
          ]
        }
      ]
    },
    {
      "cell_type": "code",
      "source": [
        "df = pd.read_excel(\"updated_dates_2024_8.xlsx\")\n",
        "\n",
        "date_col = 'Incision DateTime'\n",
        "new_col = 'Incision DateTime NEW'\n",
        "\n",
        "df[date_col] = pd.to_datetime(df[date_col], errors='coerce')\n",
        "\n",
        "def change_to_2024(dt):\n",
        "    if pd.isnull(dt):\n",
        "        return pd.NaT\n",
        "    return dt.replace(year=2024)\n",
        "\n",
        "df[new_col] = df[date_col].apply(change_to_2024)\n",
        "\n",
        "cols = list(df.columns)\n",
        "insert_at = cols.index(date_col) + 1\n",
        "cols.remove(new_col)\n",
        "cols.insert(insert_at, new_col)\n",
        "df = df[cols]\n",
        "\n",
        "df.to_excel(\"updated_dates_2024_9.xlsx\", index=False)"
      ],
      "metadata": {
        "id": "V26uXrKM0UqP"
      },
      "execution_count": null,
      "outputs": []
    },
    {
      "cell_type": "code",
      "source": [
        "print(df[['Incision DateTime', 'Incision DateTime NEW']].head(10))"
      ],
      "metadata": {
        "colab": {
          "base_uri": "https://localhost:8080/"
        },
        "id": "S7o3cOwQ9JB5",
        "outputId": "1e960cac-49ba-4555-fd0e-de0aea002ebe"
      },
      "execution_count": null,
      "outputs": [
        {
          "output_type": "stream",
          "name": "stdout",
          "text": [
            "    Incision DateTime Incision DateTime NEW\n",
            "0 2023-07-14 11:05:00   2024-07-14 11:05:00\n",
            "1 2023-07-14 13:10:00   2024-07-14 13:10:00\n",
            "2 2023-11-10 07:59:00   2024-11-10 07:59:00\n",
            "3 2023-09-22 07:41:00   2024-09-22 07:41:00\n",
            "4 2023-11-03 09:25:00   2024-11-03 09:25:00\n",
            "5 2023-07-14 09:10:00   2024-07-14 09:10:00\n",
            "6 2023-09-22 09:21:00   2024-09-22 09:21:00\n",
            "7 2023-11-10 09:53:00   2024-11-10 09:53:00\n",
            "8 2023-11-10 12:28:00   2024-11-10 12:28:00\n",
            "9 2023-12-08 07:30:00   2024-12-08 07:30:00\n"
          ]
        }
      ]
    },
    {
      "cell_type": "code",
      "source": [
        "df = pd.read_excel(\"updated_dates_2024_9.xlsx\")\n",
        "\n",
        "date_col = 'Closure DateTime'\n",
        "new_col = 'Closure DateTime NEW'\n",
        "\n",
        "df[date_col] = pd.to_datetime(df[date_col], errors='coerce')\n",
        "\n",
        "def change_to_2024(dt):\n",
        "    if pd.isnull(dt):\n",
        "        return pd.NaT\n",
        "    return dt.replace(year=2024)\n",
        "\n",
        "df[new_col] = df[date_col].apply(change_to_2024)\n",
        "\n",
        "cols = list(df.columns)\n",
        "insert_at = cols.index(date_col) + 1\n",
        "cols.remove(new_col)\n",
        "cols.insert(insert_at, new_col)\n",
        "df = df[cols]\n",
        "\n",
        "df.to_excel(\"updated_dates_2024_10.xlsx\", index=False)"
      ],
      "metadata": {
        "id": "yd0Uotlj9Snq"
      },
      "execution_count": null,
      "outputs": []
    },
    {
      "cell_type": "code",
      "source": [
        "print(df[['Closure DateTime', 'Closure DateTime NEW']].head(10))"
      ],
      "metadata": {
        "colab": {
          "base_uri": "https://localhost:8080/"
        },
        "id": "xn89mJ1J9V2c",
        "outputId": "edf407a0-f6cb-4591-bd64-8d05d6960db4"
      },
      "execution_count": null,
      "outputs": [
        {
          "output_type": "stream",
          "name": "stdout",
          "text": [
            "     Closure DateTime Closure DateTime NEW\n",
            "0 2023-07-14 12:08:00  2024-07-14 12:08:00\n",
            "1 2023-07-14 13:57:00  2024-07-14 13:57:00\n",
            "2 2023-11-10 08:59:00  2024-11-10 08:59:00\n",
            "3 2023-09-22 08:22:00  2024-09-22 08:22:00\n",
            "4 2023-11-03 10:46:00  2024-11-03 10:46:00\n",
            "5 2023-07-14 09:42:00  2024-07-14 09:42:00\n",
            "6 2023-09-22 09:37:00  2024-09-22 09:37:00\n",
            "7 2023-11-10 11:33:00  2024-11-10 11:33:00\n",
            "8 2023-11-10 12:50:00  2024-11-10 12:50:00\n",
            "9 2023-12-08 08:22:00  2024-12-08 08:22:00\n"
          ]
        }
      ]
    },
    {
      "cell_type": "code",
      "source": [
        "df = pd.read_excel(\"updated_dates_2024_10.xlsx\")\n",
        "\n",
        "date_col = 'Exit DateTime'\n",
        "new_col = 'Exit DateTime NEW'\n",
        "\n",
        "df[date_col] = pd.to_datetime(df[date_col], errors='coerce')\n",
        "\n",
        "def change_to_2024(dt):\n",
        "    if pd.isnull(dt):\n",
        "        return pd.NaT\n",
        "    return dt.replace(year=2024)\n",
        "\n",
        "df[new_col] = df[date_col].apply(change_to_2024)\n",
        "\n",
        "cols = list(df.columns)\n",
        "insert_at = cols.index(date_col) + 1\n",
        "cols.remove(new_col)\n",
        "cols.insert(insert_at, new_col)\n",
        "df = df[cols]\n",
        "\n",
        "df.to_excel(\"updated_dates_2024_11.xlsx\", index=False)"
      ],
      "metadata": {
        "id": "4_dhS9jX9f-h"
      },
      "execution_count": null,
      "outputs": []
    },
    {
      "cell_type": "code",
      "source": [
        "print(df[['Exit DateTime', 'Exit DateTime NEW']].head(10))"
      ],
      "metadata": {
        "colab": {
          "base_uri": "https://localhost:8080/"
        },
        "id": "jFaNrYEi9f3V",
        "outputId": "34a19b74-bc5c-49ae-8cda-f08b6ea0eb3d"
      },
      "execution_count": null,
      "outputs": [
        {
          "output_type": "stream",
          "name": "stdout",
          "text": [
            "        Exit DateTime   Exit DateTime NEW\n",
            "0 2023-07-14 12:20:00 2024-07-14 12:20:00\n",
            "1 2023-07-14 14:15:00 2024-07-14 14:15:00\n",
            "2                 NaT                 NaT\n",
            "3 2023-09-22 08:35:00 2024-09-22 08:35:00\n",
            "4                 NaT                 NaT\n",
            "5 2023-07-14 09:49:00 2024-07-14 09:49:00\n",
            "6 2023-09-22 09:52:00 2024-09-22 09:52:00\n",
            "7 2023-11-10 11:47:00 2024-11-10 11:47:00\n",
            "8 2023-11-10 12:57:00 2024-11-10 12:57:00\n",
            "9 2023-12-08 08:31:00 2024-12-08 08:31:00\n"
          ]
        }
      ]
    },
    {
      "cell_type": "code",
      "source": [
        "df = pd.read_excel(\"updated_dates_2024_11.xlsx\")\n",
        "\n",
        "date_col = 'Planned Start DateTime'\n",
        "new_col = 'Planned Start DateTime NEW'\n",
        "\n",
        "df[date_col] = pd.to_datetime(df[date_col], errors='coerce')\n",
        "\n",
        "def change_to_2024(dt):\n",
        "    if pd.isnull(dt):\n",
        "        return pd.NaT\n",
        "    return dt.replace(year=2024)\n",
        "\n",
        "df[new_col] = df[date_col].apply(change_to_2024)\n",
        "\n",
        "cols = list(df.columns)\n",
        "insert_at = cols.index(date_col) + 1\n",
        "cols.remove(new_col)\n",
        "cols.insert(insert_at, new_col)\n",
        "df = df[cols]\n",
        "\n",
        "df.to_excel(\"updated_dates_2024_12.xlsx\", index=False)"
      ],
      "metadata": {
        "id": "PhTbYKRF9r-J"
      },
      "execution_count": null,
      "outputs": []
    },
    {
      "cell_type": "code",
      "source": [
        "print(df[['Planned Start DateTime', 'Planned Start DateTime NEW']].head(10))"
      ],
      "metadata": {
        "colab": {
          "base_uri": "https://localhost:8080/"
        },
        "id": "JjCTr1Fm-Ji8",
        "outputId": "7a36c7c3-2537-4ad0-89e6-cc44406d9280"
      },
      "execution_count": null,
      "outputs": [
        {
          "output_type": "stream",
          "name": "stdout",
          "text": [
            "  Planned Start DateTime Planned Start DateTime NEW\n",
            "0    2023-07-14 07:00:00        2024-07-14 07:00:00\n",
            "1    2023-07-14 07:00:00        2024-07-14 07:00:00\n",
            "2    2023-11-10 07:00:00        2024-11-10 07:00:00\n",
            "3    2023-09-22 07:00:00        2024-09-22 07:00:00\n",
            "4    2023-11-03 07:00:00        2024-11-03 07:00:00\n",
            "5    2023-07-14 07:00:00        2024-07-14 07:00:00\n",
            "6    2023-09-22 07:00:00        2024-09-22 07:00:00\n",
            "7    2023-11-10 07:00:00        2024-11-10 07:00:00\n",
            "8    2023-11-10 07:00:00        2024-11-10 07:00:00\n",
            "9    2023-12-08 07:00:00        2024-12-08 07:00:00\n"
          ]
        }
      ]
    },
    {
      "cell_type": "code",
      "source": [
        "df = pd.read_excel(\"updated_dates_2024_12.xlsx\")\n",
        "\n",
        "date_col = 'Planned End DateTime'\n",
        "new_col = 'Planned End DateTime NEW'\n",
        "\n",
        "df[date_col] = pd.to_datetime(df[date_col], errors='coerce')\n",
        "\n",
        "def change_to_2024(dt):\n",
        "    if pd.isnull(dt):\n",
        "        return pd.NaT\n",
        "    return dt.replace(year=2024)\n",
        "\n",
        "df[new_col] = df[date_col].apply(change_to_2024)\n",
        "\n",
        "cols = list(df.columns)\n",
        "insert_at = cols.index(date_col) + 1\n",
        "cols.remove(new_col)\n",
        "cols.insert(insert_at, new_col)\n",
        "df = df[cols]\n",
        "\n",
        "df.to_excel(\"updated_dates_2024_13.xlsx\", index=False)"
      ],
      "metadata": {
        "id": "spkL8g5A94Mw"
      },
      "execution_count": null,
      "outputs": []
    },
    {
      "cell_type": "code",
      "source": [
        "print(df[['Planned End DateTime', 'Planned End DateTime NEW']].head(10))"
      ],
      "metadata": {
        "colab": {
          "base_uri": "https://localhost:8080/"
        },
        "id": "q3U4G6LK-VkC",
        "outputId": "d8d62587-fd20-475b-fbbf-ea0be4c5e7a1"
      },
      "execution_count": null,
      "outputs": [
        {
          "output_type": "stream",
          "name": "stdout",
          "text": [
            "  Planned End DateTime Planned End DateTime NEW\n",
            "0  2023-07-14 12:56:00      2024-07-14 12:56:00\n",
            "1  2023-07-14 12:56:00      2024-07-14 12:56:00\n",
            "2  2023-11-10 11:06:00      2024-11-10 11:06:00\n",
            "3  2023-09-22 09:36:00      2024-09-22 09:36:00\n",
            "4  2023-11-03 09:41:00      2024-11-03 09:41:00\n",
            "5  2023-07-14 12:56:00      2024-07-14 12:56:00\n",
            "6  2023-09-22 09:36:00      2024-09-22 09:36:00\n",
            "7  2023-11-10 11:06:00      2024-11-10 11:06:00\n",
            "8  2023-11-10 11:06:00      2024-11-10 11:06:00\n",
            "9  2023-12-08 12:10:00      2024-12-08 12:10:00\n"
          ]
        }
      ]
    },
    {
      "cell_type": "code",
      "source": [
        "df = pd.read_excel(\"updated_dates_2024_13.xlsx\")\n",
        "\n",
        "date_col = 'Planned End Date for Doctor Block'\n",
        "new_col = 'Planned End Date for Doctor Block NEW'\n",
        "\n",
        "df[date_col] = pd.to_datetime(df[date_col], errors='coerce')\n",
        "\n",
        "def replace_year(date):\n",
        "    if pd.isnull(date):\n",
        "        return pd.NaT\n",
        "    return date.replace(year=2024)\n",
        "\n",
        "df[new_col] = df[date_col].apply(replace_year)\n",
        "\n",
        "cols = list(df.columns)\n",
        "insert_at = cols.index(date_col) + 1\n",
        "cols.remove(new_col)\n",
        "cols.insert(insert_at, new_col)\n",
        "df = df[cols]\n",
        "\n",
        "df.to_excel(\"updated_dates_2024_14.xlsx\", index=False)"
      ],
      "metadata": {
        "id": "G-Wz5xqF-c-g"
      },
      "execution_count": null,
      "outputs": []
    },
    {
      "cell_type": "code",
      "source": [
        "print(df[['Planned End Date for Doctor Block', 'Planned End Date for Doctor Block NEW']].head(10))"
      ],
      "metadata": {
        "colab": {
          "base_uri": "https://localhost:8080/"
        },
        "id": "Cm46zq4F_qtv",
        "outputId": "d72a6cf1-fc32-4876-b7c7-40e3d4de5a24"
      },
      "execution_count": null,
      "outputs": [
        {
          "output_type": "stream",
          "name": "stdout",
          "text": [
            "  Planned End Date for Doctor Block Planned End Date for Doctor Block NEW\n",
            "0                        2023-07-14                            2024-07-14\n",
            "1                        2023-07-14                            2024-07-14\n",
            "2                        2023-11-10                            2024-11-10\n",
            "3                        2023-09-22                            2024-09-22\n",
            "4                        2023-11-03                            2024-11-03\n",
            "5                        2023-07-14                            2024-07-14\n",
            "6                        2023-09-22                            2024-09-22\n",
            "7                        2023-11-10                            2024-11-10\n",
            "8                        2023-11-10                            2024-11-10\n",
            "9                        2023-12-08                            2024-12-08\n"
          ]
        }
      ]
    }
  ]
}