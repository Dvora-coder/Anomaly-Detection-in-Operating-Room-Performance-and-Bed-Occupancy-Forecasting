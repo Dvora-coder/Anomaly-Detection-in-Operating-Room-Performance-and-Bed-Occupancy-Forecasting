{
  "cells": [
    {
      "cell_type": "markdown",
      "source": [
        "# Operating Room Utilization Rate Calculation for 2022\n",
        "\n",
        "In this notebook, we calculate the daily operating room utilization rate for each theatre during 2022 using the cleaned Assuta Ramat HaHayal dataset. Our goal is to derive a key performance indicator that reflects how effectively scheduled and unscheduled procedure hours occupy the total available block time, supporting capacity planning, efficiency analysis, and year-over-year comparisons.\n",
        "\n",
        "**1. Imports and Data Loading**  \n",
        "- We import essential libraries (`pandas`, `numpy`, `matplotlib.pyplot`, `seaborn`, `scipy.stats`, etc.).  \n",
        "- We load the pre-cleaned 2022 Excel file (`2022_data_Assuta_nomissings_for_stat_final.xlsx`) into a pandas DataFrame and inspect its head, schema, and basic summary.\n",
        "\n",
        "**2. Initial Inspection and Data Copy**  \n",
        "- We examine the DataFrame’s structure, column names, and data types to ensure integrity.  \n",
        "- We create a working copy (`df_copy`) to preserve the original raw data for reproducibility.\n",
        "\n",
        "**3. Removal of Irrelevant Records**  \n",
        "- We filter out any “No Show” entries that should not contribute to utilization metrics.  \n",
        "- We detect and drop fully duplicated rows to avoid inflating usage calculations.\n",
        "\n",
        "**4. Date and Time Parsing**  \n",
        "- We convert planned block dates and actual entry/exit dates into proper `datetime` objects.  \n",
        "- We parse time-only fields (planned start/end, incision, closure, actual entry/exit) into `datetime.time` or `timedelta`, handling invalid or missing values.\n",
        "\n",
        "**5. Timestamp Construction**  \n",
        "- We merge each planned date with its corresponding planned start and end times to form unified `Planned Start DateTime` and `Planned End DateTime` columns, enabling precise duration computations.\n",
        "\n",
        "**6. Service Hours (SH) Calculation**  \n",
        "- We compute each block’s available hours as the difference between planned end and start datetimes, converted to hours.  \n",
        "- We group by operating room and date, take the maximum block hours per room per day, and sum these to obtain total service hours (`SH_r_hours`).\n",
        "\n",
        "**7. Scheduled and Unscheduled Procedure Hours**  \n",
        "- **Scheduled Procedure Hours (SP):** We limit actual surgery durations to within each block window, convert to hours, and aggregate per room per day into `total_SP_per_day_room`.  \n",
        "- **Unscheduled Procedure Hours (SU):** We calculate any additional time used before incision or after closure but still within the block window, convert to hours, and aggregate per room per day into `SU_p_limited_hours`.\n",
        "\n",
        "**8. Utilization Rate Calculation**  \n",
        "- We define the daily utilization rate as:  \n",
        "  ```python\n",
        "  daily_utilization_rate = (total_SP_per_day_room + SU_p_limited_hours) / SH_r_hours * 100\n",
        "We handle edge cases by assigning NaN where service hours are zero or missing, preventing division errors.\n",
        "\n",
        "**9. Merging Results and Summary**\n",
        "\n",
        "We merge the calculated daily_utilization_rate back onto the main DataFrame by block date and operating room number.\n",
        "\n",
        "We compute summary statistics and generate distribution plots for both SH_r_hours and daily_utilization_rate to analyze efficiency patterns across 2022.\n",
        "\n",
        "**10. Export**\n",
        "\n",
        "We save the enriched dataset, including the new utilization metric, to 2022_data_with_UTR.xlsx for downstream analysis, visualization, and strategic decision-making.\n",
        "\n",
        "By following these steps, we produce a robust utilization metric for each operating room in 2022, enabling in-depth capacity assessments, identification of under- or over-utilized periods, and informed resource allocation."
      ],
      "metadata": {
        "id": "ZwweiVQ68Q2l"
      },
      "id": "ZwweiVQ68Q2l"
    },
    {
      "cell_type": "markdown",
      "id": "87882ba5",
      "metadata": {
        "id": "87882ba5"
      },
      "source": [
        "Calculating the target variable - utilization percentage:"
      ]
    },
    {
      "cell_type": "code",
      "execution_count": 1,
      "id": "890dc9d3",
      "metadata": {
        "id": "890dc9d3"
      },
      "outputs": [],
      "source": [
        "#Importing the right libraries:\n",
        "import pandas as pd\n",
        "import numpy as np\n",
        "import matplotlib.pyplot as plt\n",
        "import seaborn as sns\n",
        "from scipy import stats\n",
        "import warnings\n",
        "import itertools\n",
        "from pandas.api.types import is_numeric_dtype\n",
        "from scipy.stats import shapiro"
      ]
    },
    {
      "cell_type": "code",
      "source": [
        "file_path = r\"/content/2022_data_Assuta_nomissings_for_stat_final_1905.xlsx\"\n",
        "df = pd.read_excel(file_path)\n",
        "print(df.head())"
      ],
      "metadata": {
        "id": "L7s3T9uG7pH-",
        "colab": {
          "base_uri": "https://localhost:8080/"
        },
        "outputId": "399aaa9d-7e71-4761-dace-96ec4f04d7f6"
      },
      "id": "L7s3T9uG7pH-",
      "execution_count": 2,
      "outputs": [
        {
          "output_type": "stream",
          "name": "stdout",
          "text": [
            "   patient_id  Site Code Main Surgeon Code  Activity Code  Activity Type Code  \\\n",
            "0          61         20              2982          26.33                  19   \n",
            "1          62         20              2982          26.33                  19   \n",
            "2          63         20              2982          26.33                  19   \n",
            "3          64         20              2982          26.33                  19   \n",
            "4          66         20              2982          26.33                  19   \n",
            "\n",
            "   Planned SU Time (Large/Medium/Small) Pre-Surgery Admission Date  Height  \\\n",
            "0                                   0.0                 2022-08-29    1.55   \n",
            "1                                   9.0                 2022-01-20    1.57   \n",
            "2                                  13.0                 2022-11-24    1.68   \n",
            "3                                  14.0                 2022-03-09    1.64   \n",
            "4                                  18.0                 2022-09-05    1.62   \n",
            "\n",
            "   Weight  Patient Age (on Surgery Day)  ...  \\\n",
            "0    60.9                            51  ...   \n",
            "1    47.0                            28  ...   \n",
            "2    50.0                            55  ...   \n",
            "3    72.0                            33  ...   \n",
            "4    76.0                            49  ...   \n",
            "\n",
            "  Pre-Surgical Admission Time Before Surgery_Minutes  \\\n",
            "0                                                  2   \n",
            "1                                                  2   \n",
            "2                                                  2   \n",
            "3                                                  2   \n",
            "4                                                  2   \n",
            "\n",
            "  Actual Surgery Room Entry Time_Minutes Incision Time_Minutes  \\\n",
            "0                                      2                     2   \n",
            "1                                      2                     2   \n",
            "2                                      3                     3   \n",
            "3                                      2                     2   \n",
            "4                                      2                     2   \n",
            "\n",
            "  Closure Time_Minutes End of Surgery Time (Exit from OR)_Minutes  \\\n",
            "0                    3                                          3   \n",
            "1                    2                                          2   \n",
            "2                    4                                          2   \n",
            "3                    3                                          3   \n",
            "4                    2                                          2   \n",
            "\n",
            "  Recovery Room Entry Time_Minutes Recovery Room Exit Time_Minutes  \\\n",
            "0                                3                               3   \n",
            "1                                2                               2   \n",
            "2                                2                               3   \n",
            "3                                3                               3   \n",
            "4                                2                               2   \n",
            "\n",
            "  Post-Surgery Discharge Time_Minutes  \\\n",
            "0                                   2   \n",
            "1                                   3   \n",
            "2                                   4   \n",
            "3                                   2   \n",
            "4                                   4   \n",
            "\n",
            "  Planned Start Time for Doctor Block_Minutes  \\\n",
            "0                                           1   \n",
            "1                                           2   \n",
            "2                                           2   \n",
            "3                                           3   \n",
            "4                                           2   \n",
            "\n",
            "  Planned End Time for Doctor Block_Minutes  \n",
            "0                                         1  \n",
            "1                                         2  \n",
            "2                                         2  \n",
            "3                                         1  \n",
            "4                                         1  \n",
            "\n",
            "[5 rows x 62 columns]\n"
          ]
        }
      ]
    },
    {
      "cell_type": "code",
      "execution_count": 3,
      "id": "17ab80a8",
      "metadata": {
        "id": "17ab80a8",
        "colab": {
          "base_uri": "https://localhost:8080/"
        },
        "outputId": "7a960522-b6d7-4109-83d0-8ded65208936"
      },
      "outputs": [
        {
          "output_type": "stream",
          "name": "stdout",
          "text": [
            "Index(['patient_id', 'Site Code', 'Main Surgeon Code', 'Activity Code',\n",
            "       'Activity Type Code', 'Planned SU Time (Large/Medium/Small)',\n",
            "       'Pre-Surgery Admission Date', 'Height', 'Weight',\n",
            "       'Patient Age (on Surgery Day)', 'Background Diseases/Diagnoses',\n",
            "       'Planned Surgery Date', 'Planned Surgery Time',\n",
            "       'Surgery Admission Date', 'Administrative Admission Time',\n",
            "       'Planned Operating Room Number',\n",
            "       'Pre-Surgery Hospitalization Admission Date',\n",
            "       'Pre-Surgery Hospitalization Admission Time',\n",
            "       'Pre-Surgical Admission Time Before Surgery', 'Surgical Team Codes',\n",
            "       'Anesthesiologist Code', 'Anesthesia Code', 'Type of Anesthesia',\n",
            "       'Cancellation Reason on Surgery Day', 'Actual Operating Room Number',\n",
            "       'Actual Surgery Room Entry Date', 'Actual Surgery Room Entry Time',\n",
            "       'Incision Time', 'Closure Time', 'End of Surgery Date (Exit from OR)',\n",
            "       'End of Surgery Time (Exit from OR)', 'Planned Surgery Duration',\n",
            "       'Recovery Room Entry Date', 'Recovery Room Entry Time',\n",
            "       'Recovery Room Exit Date', 'Recovery Room Exit Time',\n",
            "       'Post-Surgery Discharge Date', 'Post-Surgery Discharge Time',\n",
            "       'Planned Start Date for Doctor Block',\n",
            "       'Planned Start Time for Doctor Block',\n",
            "       'Planned End Date for Doctor Block',\n",
            "       'Planned End Time for Doctor Block', 'Readmission', 'strict_signature',\n",
            "       'No Show', 'Entry DateTime', 'Incision DateTime', 'Closure DateTime',\n",
            "       'Exit DateTime', 'Planned Surgery Time_Minutes',\n",
            "       'Administrative Admission Time_Minutes',\n",
            "       'Pre-Surgery Hospitalization Admission Time_Minutes',\n",
            "       'Pre-Surgical Admission Time Before Surgery_Minutes',\n",
            "       'Actual Surgery Room Entry Time_Minutes', 'Incision Time_Minutes',\n",
            "       'Closure Time_Minutes', 'End of Surgery Time (Exit from OR)_Minutes',\n",
            "       'Recovery Room Entry Time_Minutes', 'Recovery Room Exit Time_Minutes',\n",
            "       'Post-Surgery Discharge Time_Minutes',\n",
            "       'Planned Start Time for Doctor Block_Minutes',\n",
            "       'Planned End Time for Doctor Block_Minutes'],\n",
            "      dtype='object')\n"
          ]
        }
      ],
      "source": [
        "print(df.columns)"
      ]
    },
    {
      "cell_type": "code",
      "execution_count": 4,
      "id": "31753d4d",
      "metadata": {
        "id": "31753d4d",
        "colab": {
          "base_uri": "https://localhost:8080/"
        },
        "outputId": "8a593771-4f80-4021-a94f-1380cd8f19d8"
      },
      "outputs": [
        {
          "output_type": "stream",
          "name": "stdout",
          "text": [
            "patient_id                                       int64\n",
            "Site Code                                        int64\n",
            "Main Surgeon Code                               object\n",
            "Activity Code                                  float64\n",
            "Activity Type Code                               int64\n",
            "                                                ...   \n",
            "Recovery Room Entry Time_Minutes                 int64\n",
            "Recovery Room Exit Time_Minutes                  int64\n",
            "Post-Surgery Discharge Time_Minutes              int64\n",
            "Planned Start Time for Doctor Block_Minutes      int64\n",
            "Planned End Time for Doctor Block_Minutes        int64\n",
            "Length: 62, dtype: object\n"
          ]
        }
      ],
      "source": [
        "print(df.dtypes)"
      ]
    },
    {
      "cell_type": "markdown",
      "id": "80f74dd7",
      "metadata": {
        "id": "80f74dd7"
      },
      "source": [
        "Step 1: Preparing and checking the time and date columns - converting to an appropriate data type"
      ]
    },
    {
      "cell_type": "code",
      "execution_count": 5,
      "id": "3dda8092",
      "metadata": {
        "id": "3dda8092"
      },
      "outputs": [],
      "source": [
        "df_copy=df.copy()"
      ]
    },
    {
      "cell_type": "code",
      "execution_count": 6,
      "id": "34112e6b",
      "metadata": {
        "id": "34112e6b",
        "colab": {
          "base_uri": "https://localhost:8080/"
        },
        "outputId": "9d23e570-2149-48e3-9693-6a7b79062647"
      },
      "outputs": [
        {
          "output_type": "stream",
          "name": "stdout",
          "text": [
            "Number of rows: 10769\n",
            "Number of columns: 62\n"
          ]
        }
      ],
      "source": [
        "print(f\"Number of rows: {df_copy.shape[0]}\")\n",
        "print(f\"Number of columns: {df_copy.shape[1]}\")"
      ]
    },
    {
      "cell_type": "code",
      "execution_count": 7,
      "id": "5359b7f2",
      "metadata": {
        "id": "5359b7f2",
        "colab": {
          "base_uri": "https://localhost:8080/"
        },
        "outputId": "6d9924e0-2648-4b24-abc6-69bd45d1b868"
      },
      "outputs": [
        {
          "output_type": "stream",
          "name": "stdout",
          "text": [
            "   patient_id  Site Code Main Surgeon Code  Activity Code  Activity Type Code  \\\n",
            "0          61         20              2982          26.33                  19   \n",
            "1          62         20              2982          26.33                  19   \n",
            "2          63         20              2982          26.33                  19   \n",
            "3          64         20              2982          26.33                  19   \n",
            "4          66         20              2982          26.33                  19   \n",
            "5          67         20              2982          26.33                  19   \n",
            "6          68         20              2982          26.33                  19   \n",
            "7          69         20              2982          26.33                  19   \n",
            "8          70         20              2982          26.33                  19   \n",
            "9          71         20              2982          26.33                  19   \n",
            "\n",
            "   Planned SU Time (Large/Medium/Small) Pre-Surgery Admission Date  Height  \\\n",
            "0                                   0.0                 2022-08-29    1.55   \n",
            "1                                   9.0                 2022-01-20    1.57   \n",
            "2                                  13.0                 2022-11-24    1.68   \n",
            "3                                  14.0                 2022-03-09    1.64   \n",
            "4                                  18.0                 2022-09-05    1.62   \n",
            "5                                  20.0                 2021-12-30    1.67   \n",
            "6                                  20.0                 2022-01-06    1.57   \n",
            "7                                  20.0                 2022-01-27    1.80   \n",
            "8                                  20.0                 2022-01-31    1.68   \n",
            "9                                  20.0                 2022-03-27    1.70   \n",
            "\n",
            "   Weight  Patient Age (on Surgery Day)  ...  \\\n",
            "0    60.9                            51  ...   \n",
            "1    47.0                            28  ...   \n",
            "2    50.0                            55  ...   \n",
            "3    72.0                            33  ...   \n",
            "4    76.0                            49  ...   \n",
            "5    59.0                            50  ...   \n",
            "6    54.8                            73  ...   \n",
            "7    70.0                            43  ...   \n",
            "8    50.0                            55  ...   \n",
            "9    67.0                            64  ...   \n",
            "\n",
            "  Pre-Surgical Admission Time Before Surgery_Minutes  \\\n",
            "0                                                  2   \n",
            "1                                                  2   \n",
            "2                                                  2   \n",
            "3                                                  2   \n",
            "4                                                  2   \n",
            "5                                                  2   \n",
            "6                                                  1   \n",
            "7                                                  2   \n",
            "8                                                  1   \n",
            "9                                                  1   \n",
            "\n",
            "  Actual Surgery Room Entry Time_Minutes Incision Time_Minutes  \\\n",
            "0                                      2                     2   \n",
            "1                                      2                     2   \n",
            "2                                      3                     3   \n",
            "3                                      2                     2   \n",
            "4                                      2                     2   \n",
            "5                                      2                     2   \n",
            "6                                      2                     2   \n",
            "7                                      2                     2   \n",
            "8                                      1                     1   \n",
            "9                                      1                     1   \n",
            "\n",
            "  Closure Time_Minutes End of Surgery Time (Exit from OR)_Minutes  \\\n",
            "0                    3                                          3   \n",
            "1                    2                                          2   \n",
            "2                    4                                          2   \n",
            "3                    3                                          3   \n",
            "4                    2                                          2   \n",
            "5                    2                                          2   \n",
            "6                    2                                          2   \n",
            "7                    2                                          2   \n",
            "8                    1                                          1   \n",
            "9                    1                                          1   \n",
            "\n",
            "  Recovery Room Entry Time_Minutes Recovery Room Exit Time_Minutes  \\\n",
            "0                                3                               3   \n",
            "1                                2                               2   \n",
            "2                                2                               3   \n",
            "3                                3                               3   \n",
            "4                                2                               2   \n",
            "5                                2                               2   \n",
            "6                                2                               2   \n",
            "7                                2                               3   \n",
            "8                                1                               1   \n",
            "9                                1                               2   \n",
            "\n",
            "  Post-Surgery Discharge Time_Minutes  \\\n",
            "0                                   2   \n",
            "1                                   3   \n",
            "2                                   4   \n",
            "3                                   2   \n",
            "4                                   4   \n",
            "5                                   2   \n",
            "6                                   4   \n",
            "7                                   2   \n",
            "8                                   4   \n",
            "9                                   2   \n",
            "\n",
            "  Planned Start Time for Doctor Block_Minutes  \\\n",
            "0                                           1   \n",
            "1                                           2   \n",
            "2                                           2   \n",
            "3                                           3   \n",
            "4                                           2   \n",
            "5                                           1   \n",
            "6                                           1   \n",
            "7                                           2   \n",
            "8                                           2   \n",
            "9                                           1   \n",
            "\n",
            "  Planned End Time for Doctor Block_Minutes  \n",
            "0                                         1  \n",
            "1                                         2  \n",
            "2                                         2  \n",
            "3                                         1  \n",
            "4                                         1  \n",
            "5                                         1  \n",
            "6                                         1  \n",
            "7                                         2  \n",
            "8                                         2  \n",
            "9                                         1  \n",
            "\n",
            "[10 rows x 62 columns]\n"
          ]
        }
      ],
      "source": [
        "print(df_copy.head(10))"
      ]
    },
    {
      "cell_type": "markdown",
      "id": "67e739b3",
      "metadata": {
        "id": "67e739b3"
      },
      "source": [
        "Handling duplicates and missing values of type NALL:"
      ]
    },
    {
      "cell_type": "code",
      "execution_count": 8,
      "id": "49b62afe",
      "metadata": {
        "id": "49b62afe",
        "colab": {
          "base_uri": "https://localhost:8080/"
        },
        "outputId": "cdbee070-3cf3-4065-8da6-4f478a8b9a6b"
      },
      "outputs": [
        {
          "output_type": "stream",
          "name": "stdout",
          "text": [
            "The number of completely repeating lines: 0\n"
          ]
        }
      ],
      "source": [
        "# Overall duplicate count (all rows):\n",
        "num_duplicates = df_copy.duplicated().sum()\n",
        "print(f\"The number of completely repeating lines: {num_duplicates}\")"
      ]
    },
    {
      "cell_type": "markdown",
      "source": [
        "As part of the EDA process, we noticed that there were lines that were merged under different IDs, even though it was the same person with different illnesses. This may simply be a human error, and therefore, to prevent harm to the UTR, only one representation of such a line was left."
      ],
      "metadata": {
        "id": "rd5KZ3sopFHy"
      },
      "id": "rd5KZ3sopFHy"
    },
    {
      "cell_type": "code",
      "source": [
        "key_columns = [\n",
        "    'Actual Operating Room Number',\n",
        "    'Actual Surgery Room Entry Date',\n",
        "    'Actual Surgery Room Entry Time',\n",
        "    'Incision Time',\n",
        "    'Closure Time',\n",
        "    'End of Surgery Date (Exit from OR)',\n",
        "    'End of Surgery Time (Exit from OR)'\n",
        "]\n",
        "\n",
        "before = len(df_copy)\n",
        "\n",
        "df_cleaned = df_copy.drop_duplicates(subset=key_columns)\n",
        "\n",
        "after = len(df_cleaned)\n",
        "print(f\"Removed {before - after} duplicate rows based on surgery key columns.\")"
      ],
      "metadata": {
        "colab": {
          "base_uri": "https://localhost:8080/"
        },
        "id": "FZtS-5USpEGq",
        "outputId": "8918b0d1-ef36-4bfc-e085-f0ccfe2bc3d3"
      },
      "id": "FZtS-5USpEGq",
      "execution_count": 9,
      "outputs": [
        {
          "output_type": "stream",
          "name": "stdout",
          "text": [
            "Removed 0 duplicate rows based on surgery key columns.\n"
          ]
        }
      ]
    },
    {
      "cell_type": "code",
      "source": [
        "df_copy=df_cleaned.copy()"
      ],
      "metadata": {
        "id": "nDohWPnsx48c"
      },
      "id": "nDohWPnsx48c",
      "execution_count": 10,
      "outputs": []
    },
    {
      "cell_type": "markdown",
      "source": [
        "We tried to merge the duplicate rows more effectively based on the following parameters: age, weight, height, surgery entry date, and surgeon code. We attempted to prevent data loss by combining the different values from the duplicate rows. However, the code did not work as expected and distorted the time-related data, resulting in incorrect utilization calculations."
      ],
      "metadata": {
        "id": "cxNQFwQLCDY4"
      },
      "id": "cxNQFwQLCDY4"
    },
    {
      "cell_type": "markdown",
      "id": "cd07f34a",
      "metadata": {
        "id": "cd07f34a"
      },
      "source": [
        "Planned End Time for Doctor Block:"
      ]
    },
    {
      "cell_type": "code",
      "execution_count": 11,
      "id": "1ed62bae",
      "metadata": {
        "id": "1ed62bae",
        "colab": {
          "base_uri": "https://localhost:8080/"
        },
        "outputId": "0b33d7d7-9fa1-4d66-8f23-44ef8bcaf402"
      },
      "outputs": [
        {
          "output_type": "stream",
          "name": "stdout",
          "text": [
            "['12:59:00' '14:37:00' '15:00:00' '13:00:00' '12:00:00' '12:38:00'\n",
            " '11:35:00' '13:38:00' '10:00:00' '10:25:00' '10:50:00' '08:37:00'\n",
            " '12:52:00' '11:24:00' '11:19:00' '14:00:00' '15:53:00' '10:58:00'\n",
            " '11:00:00' '10:52:00' '12:55:00' '12:51:00' '10:56:00' '09:57:00'\n",
            " '12:57:00' '08:26:00' '10:51:00' '10:53:00' '10:14:00' '10:30:00'\n",
            " '11:04:00' '09:35:00' '10:10:00' '09:44:00' '11:54:00' '11:13:00'\n",
            " '08:55:00' '09:42:00' '08:49:00' '08:43:00' '14:36:00' '10:18:00'\n",
            " '07:57:00' '11:32:00' '14:41:00' '14:53:00' '15:10:00' '13:55:00'\n",
            " '13:58:00' '09:24:00' '08:56:00' '09:48:00' '12:29:00' '12:35:00'\n",
            " '08:00:00' '07:35:00' '16:24:00' '15:54:00' '15:34:00' '08:15:00'\n",
            " '14:30:00' '08:13:00' '08:50:00' '10:55:00' '16:00:00' '17:13:00'\n",
            " '15:33:00' '13:40:00' '15:21:00' '14:13:00' '16:30:00' '13:35:00'\n",
            " '17:56:00' '07:42:00' '12:41:00' '10:20:00' '19:26:00' '16:50:00'\n",
            " '09:27:00' '14:49:00' '09:31:00' '13:10:00' '14:31:00' '14:54:00'\n",
            " '13:25:00' '09:00:00' '10:28:00' '10:46:00' '12:58:00' '14:28:00'\n",
            " '11:11:00' '11:50:00' '15:55:00' '13:44:00' '12:10:00' '10:15:00'\n",
            " '08:24:00' '11:33:00' '10:12:00' '16:18:00' '20:38:00' '22:00:00'\n",
            " '19:57:00' '15:47:00' '19:39:00' '12:15:00' '21:35:00' '20:27:00'\n",
            " '08:01:00' '14:35:00' '10:45:00' '15:26:00' '09:58:00' '17:41:00'\n",
            " '17:18:00' '11:27:00' '12:50:00' '13:16:00' '12:45:00' '15:29:00'\n",
            " '14:59:00' '11:59:00' '11:49:00' '09:55:00' '12:44:00' '12:30:00'\n",
            " '11:53:00' '13:15:00' '12:37:00' '12:31:00' '09:05:00' '11:29:00'\n",
            " '14:56:00' '13:59:00' '11:58:00' '13:41:00' '08:21:00' '07:50:00'\n",
            " '09:39:00' '08:22:00' '11:01:00' '11:30:00' '11:55:00' '14:40:00'\n",
            " '11:10:00' '14:50:00' '08:52:00' '10:57:00' '09:37:00' '15:38:00'\n",
            " '17:00:00' '14:39:00' '19:35:00' '19:11:00' '22:10:00' '13:43:00'\n",
            " '20:20:00' '21:00:00' '17:35:00' '19:19:00' '21:12:00' '20:00:00'\n",
            " '17:57:00' '22:24:00' '17:16:00' '19:30:00' '17:55:00' '21:44:00'\n",
            " '19:25:00' '14:06:00' '14:52:00' '21:45:00' '18:38:00' '20:56:00'\n",
            " '20:17:00' '18:54:00' '12:53:00' '19:15:00' '21:32:00' '15:40:00'\n",
            " '18:55:00' '09:25:00' '15:22:00' '20:24:00' '14:47:00' '20:15:00'\n",
            " '21:04:00' '12:34:00' '19:13:00' '19:00:00' '19:51:00' '12:20:00'\n",
            " '20:55:00' '14:09:00' '12:03:00' '14:23:00' '13:05:00' '12:12:00'\n",
            " '14:24:00' '13:54:00' '13:36:00' '22:20:00' '12:49:00' '13:57:00'\n",
            " '09:50:00' '08:19:00' '09:49:00' '14:44:00' '09:26:00' '10:08:00'\n",
            " '10:33:00' '12:18:00' '11:08:00' '10:54:00' '12:56:00' '12:25:00'\n",
            " '19:20:00' '13:17:00' '13:53:00' '10:59:00' '14:43:00' '08:48:00'\n",
            " '16:48:00' '18:30:00' '19:34:00' '13:50:00' '11:28:00' '20:25:00'\n",
            " '15:43:00' '11:48:00' '22:45:00' '18:12:00' '12:28:00' '16:08:00'\n",
            " '23:00:00' '13:47:00' '22:50:00' '20:44:00' '22:35:00' '11:47:00'\n",
            " '13:11:00' '12:22:00' '21:03:00' '12:19:00' '09:29:00' '10:47:00'\n",
            " '08:53:00' '13:20:00' '14:57:00' '20:28:00' '11:20:00' '22:30:00'\n",
            " '10:27:00' '10:36:00' '13:14:00' '10:38:00' '09:52:00' '21:10:00'\n",
            " '10:26:00' '13:02:00' '19:28:00' '14:33:00' '14:22:00' '13:07:00'\n",
            " '13:42:00' '14:17:00' '13:21:00' '13:52:00' '22:40:00' '14:55:00'\n",
            " '08:25:00' '14:32:00' '09:47:00' '11:34:00' '08:39:00' '11:23:00'\n",
            " '14:58:00' '14:04:00' '14:51:00' '14:45:00' '10:24:00' '11:36:00'\n",
            " '11:14:00' '14:21:00' '10:02:00' '15:37:00' '20:12:00' '20:49:00'\n",
            " '18:20:00' '19:58:00' '12:39:00' '21:57:00' '20:40:00' '19:38:00'\n",
            " '18:19:00' '21:17:00' '16:47:00' '20:30:00' '20:31:00' '17:58:00'\n",
            " '20:51:00' '20:10:00' '09:56:00' '09:45:00' '13:49:00' '09:54:00'\n",
            " '20:08:00' '15:44:00' '21:23:00' '09:13:00' '22:15:00' '21:56:00'\n",
            " '18:41:00' '22:43:00' '21:59:00' '11:40:00' '11:12:00' '09:22:00'\n",
            " '07:45:00' '09:21:00' '11:02:00' '08:31:00' '08:18:00' '09:43:00'\n",
            " '09:08:00' '12:11:00' '12:17:00' '11:44:00' '22:06:00' '17:06:00'\n",
            " '15:51:00' '11:03:00' '13:03:00' '10:39:00' '10:05:00' '10:40:00'\n",
            " '14:26:00' '12:16:00' '08:27:00' '11:07:00' '10:48:00' '13:34:00'\n",
            " '22:56:00' '22:59:00' '22:58:00' '22:47:00' '08:05:00' '22:28:00'\n",
            " '22:54:00' '20:29:00' '13:24:00' '13:33:00' '22:25:00' '15:27:00'\n",
            " '13:08:00' '22:46:00' '22:55:00' '12:40:00' '15:07:00' '12:42:00'\n",
            " '13:22:00' '22:53:00' '15:25:00' '14:18:00' '14:29:00' '13:51:00'\n",
            " '16:56:00' '12:05:00' '21:19:00' '13:37:00' '13:45:00' '13:04:00'\n",
            " '11:37:00' '10:35:00' '15:45:00' '18:00:00' '13:23:00' '16:25:00'\n",
            " '13:29:00' '09:40:00' '12:33:00' '09:38:00' '13:46:00' '13:28:00'\n",
            " '13:31:00' '14:38:00' '12:06:00' '14:12:00' '13:30:00' '14:20:00'\n",
            " '13:18:00' '11:57:00' '12:07:00' '11:25:00' '14:15:00' '11:56:00'\n",
            " '22:26:00' '11:21:00' '18:50:00' '07:52:00' '21:55:00' '19:47:00'\n",
            " '15:11:00' '21:46:00' '16:57:00' '11:15:00' '22:51:00' '15:58:00'\n",
            " '16:29:00' '16:16:00' '22:21:00' '16:55:00' '10:23:00' '16:58:00'\n",
            " '12:48:00' '16:32:00' '13:48:00' '13:56:00' '21:37:00' '22:13:00'\n",
            " '17:43:00' '16:03:00' '16:13:00' '16:06:00' '20:22:00' '18:13:00'\n",
            " '16:21:00' '22:48:00' '18:53:00' '15:36:00' '21:21:00' '11:06:00'\n",
            " '16:44:00' '18:47:00' '22:27:00' '16:34:00' '19:29:00' '22:04:00'\n",
            " '19:55:00' '07:54:00' '21:52:00' '14:46:00' '18:48:00' '16:15:00'\n",
            " '16:52:00' '17:28:00' '14:03:00' '16:04:00' '17:20:00' '17:42:00'\n",
            " '15:48:00' '15:03:00' '22:02:00' '16:12:00' '18:28:00' '17:48:00'\n",
            " '15:19:00' '12:08:00' '14:07:00' '14:05:00' '17:08:00' '11:26:00'\n",
            " '15:30:00' '21:50:00' '19:45:00' '18:33:00' '15:31:00' '09:30:00'\n",
            " '22:07:00' '20:47:00' '10:43:00' '22:57:00' '15:35:00' '15:46:00'\n",
            " '15:28:00' '18:36:00' '21:06:00' '16:38:00' '16:45:00' '21:49:00'\n",
            " '16:40:00' '09:36:00' '08:28:00' '20:50:00' '19:59:00' '20:35:00'\n",
            " '21:22:00' '17:59:00' '20:46:00' '19:04:00' '21:25:00' '18:45:00'\n",
            " '20:57:00' '17:54:00' '16:35:00' '21:58:00' '17:50:00' '09:46:00'\n",
            " '12:21:00' '11:41:00' '17:25:00' '09:06:00' '09:20:00' '12:09:00'\n",
            " '15:05:00' '12:54:00' '12:32:00' '14:27:00' '08:12:00' '09:16:00'\n",
            " '08:54:00' '22:05:00' '18:25:00' '17:45:00' '10:16:00' '09:15:00'\n",
            " '11:51:00' '09:09:00' '10:49:00' '11:39:00' '17:12:00' '15:14:00'\n",
            " '13:13:00' '15:50:00' '09:07:00' '08:16:00' '14:34:00' '20:54:00'\n",
            " '12:26:00' '11:22:00' '20:06:00' '16:51:00' '14:11:00' '13:06:00'\n",
            " '11:52:00' '12:36:00' '12:27:00' '12:24:00' '15:56:00' '13:39:00'\n",
            " '15:49:00' '13:01:00' '14:48:00' '21:09:00' '15:06:00' '17:34:00'\n",
            " '18:52:00' '21:24:00' '19:49:00' '18:27:00' '19:06:00' '15:52:00'\n",
            " '10:41:00' '08:40:00' '15:08:00' '18:04:00' '21:02:00' '18:56:00'\n",
            " '20:09:00' '15:57:00' '15:04:00' '11:17:00' '17:29:00' '16:49:00'\n",
            " '19:22:00' '19:16:00' '20:52:00' '11:16:00' '18:51:00' '21:51:00'\n",
            " '21:14:00' '17:19:00' '18:15:00' '18:40:00' '19:10:00' '18:05:00'\n",
            " '18:09:00' '11:38:00' '09:17:00' '11:09:00' '16:42:00' '22:34:00'\n",
            " '20:18:00' '21:47:00' '21:16:00' '18:07:00' '21:30:00' '22:12:00'\n",
            " '20:07:00' '18:35:00' '21:33:00' '14:19:00' '12:01:00' '11:42:00'\n",
            " '14:10:00' '12:02:00' '11:31:00' '14:25:00' '14:08:00' '13:27:00'\n",
            " '13:12:00' '12:13:00' '09:28:00' '08:14:00' '08:38:00' '11:45:00'\n",
            " '21:43:00' '17:38:00' '20:16:00' '19:36:00' '20:43:00' '12:47:00'\n",
            " '22:16:00' '16:02:00' '21:41:00' '22:14:00' '21:20:00' '12:23:00'\n",
            " '19:33:00' '19:37:00' '19:08:00' '16:28:00' '20:58:00' '20:53:00'\n",
            " '15:59:00' '21:40:00' '20:03:00' '21:15:00' '15:41:00' '15:15:00'\n",
            " '16:19:00' '14:42:00' '21:08:00' '21:48:00' '18:23:00' '15:12:00'\n",
            " '16:20:00' '15:18:00' '15:20:00' '15:16:00' '16:37:00' '14:01:00'\n",
            " '09:53:00' '12:46:00' '11:18:00' '14:02:00' '11:43:00' '09:51:00'\n",
            " '12:04:00' '16:22:00' '13:32:00' '15:24:00' '11:46:00' '22:38:00'\n",
            " '16:26:00' '17:02:00' '08:17:00' '22:31:00' '18:10:00' '22:44:00'\n",
            " '18:43:00' '09:10:00' '17:27:00' '21:27:00' '08:45:00' '10:37:00'\n",
            " '10:29:00' '10:44:00' '10:42:00' '18:37:00' '10:03:00' '10:04:00'\n",
            " '10:11:00' '08:42:00' '22:11:00' '19:14:00' '19:54:00' '09:34:00'\n",
            " '10:07:00' '10:06:00' '09:59:00' '08:06:00' '22:49:00' '21:39:00'\n",
            " '22:19:00' '15:42:00' '16:39:00' '15:39:00' '18:57:00' '19:48:00'\n",
            " '16:43:00' '20:05:00' '17:36:00' '22:41:00' '22:32:00' '22:52:00'\n",
            " '22:36:00' '22:37:00' '22:29:00' '22:22:00' '22:39:00' '22:01:00'\n",
            " '20:45:00' '19:01:00' '14:14:00' '17:40:00' '19:21:00' '18:01:00'\n",
            " '18:24:00' '20:23:00' '19:05:00' '16:23:00' '17:30:00' '21:26:00'\n",
            " '18:49:00' '16:41:00' '22:18:00' '19:50:00' '21:07:00' '11:05:00'\n",
            " '21:28:00' '22:23:00' '21:36:00' '19:18:00' '20:42:00' '17:49:00'\n",
            " '21:05:00' '18:26:00' '20:02:00' '18:46:00' '19:27:00' '17:37:00'\n",
            " '20:14:00' '19:56:00' '19:42:00' '21:11:00' '18:32:00' '22:17:00'\n",
            " '19:53:00' '17:24:00' '20:32:00' '18:03:00' '15:23:00' '21:01:00'\n",
            " '15:13:00' '15:09:00' '14:16:00' '17:05:00' '18:34:00' '22:09:00'\n",
            " '18:16:00' '21:53:00' '19:09:00' '20:13:00' '17:10:00' '21:29:00'\n",
            " '19:23:00' '17:21:00' '17:03:00' '19:31:00' '18:29:00' '17:33:00'\n",
            " '17:52:00' '19:40:00' '17:39:00' '17:22:00' '17:15:00' '16:05:00'\n",
            " '22:08:00' '13:26:00' '08:10:00' '18:22:00' '19:24:00' '09:02:00'\n",
            " '16:10:00' '13:09:00' '22:33:00' '17:44:00' '20:39:00' '20:33:00'\n",
            " '18:58:00' '20:37:00' '08:11:00' '15:32:00' '10:34:00' '10:31:00'\n",
            " '17:46:00' '17:17:00' '19:52:00' '20:48:00' '17:26:00' '21:38:00'\n",
            " '17:04:00' '21:42:00' '12:43:00' '10:22:00' '12:14:00' '08:30:00'\n",
            " '07:40:00' '09:01:00' '22:03:00' '17:11:00' '19:46:00' '18:02:00'\n",
            " '19:03:00' '21:31:00' '21:54:00' '22:42:00' '08:34:00' '20:59:00'\n",
            " '20:04:00' '18:21:00' '21:13:00' '19:12:00' '17:53:00' '20:26:00'\n",
            " '16:54:00' '08:41:00' '20:41:00' '18:31:00' '17:23:00' '18:11:00'\n",
            " '16:59:00' '18:39:00' '18:08:00' '16:27:00' '15:01:00' '19:07:00'\n",
            " '19:43:00' '18:59:00' '23:01:00' '18:18:00' '08:36:00' '20:36:00'\n",
            " '16:53:00' '21:34:00' '10:13:00' '16:07:00' '21:18:00' '07:55:00'\n",
            " '18:44:00' '18:14:00' '16:36:00' '08:08:00' '19:44:00' '17:14:00'\n",
            " '09:32:00' '10:09:00' '15:17:00' '09:14:00' '20:11:00' '16:09:00'\n",
            " '08:07:00' '18:17:00' '08:20:00' '08:33:00' '16:33:00' '15:02:00'\n",
            " '13:19:00' '19:41:00' '08:09:00' '08:35:00' '10:21:00' '07:58:00'\n",
            " '17:09:00' '08:04:00' '18:42:00' '07:39:00' '09:23:00' '17:47:00'\n",
            " '16:11:00' '16:31:00' '09:18:00' '20:19:00' '09:03:00' '07:59:00'\n",
            " '20:01:00' '18:06:00' '07:20:00']\n"
          ]
        }
      ],
      "source": [
        "# Print the unique values in a column:\n",
        "print(df_copy['Planned End Time for Doctor Block'].unique())"
      ]
    },
    {
      "cell_type": "code",
      "execution_count": 12,
      "id": "2e0f2bcd",
      "metadata": {
        "id": "2e0f2bcd",
        "colab": {
          "base_uri": "https://localhost:8080/"
        },
        "outputId": "1a2abf88-79de-4f9e-b648-745dbbc6ce3f"
      },
      "outputs": [
        {
          "output_type": "stream",
          "name": "stdout",
          "text": [
            "object\n",
            "0    12:59:00\n",
            "1    14:37:00\n",
            "2    15:00:00\n",
            "3    13:00:00\n",
            "4    12:00:00\n",
            "5    12:38:00\n",
            "6    12:38:00\n",
            "7    14:37:00\n",
            "8    14:37:00\n",
            "9    11:35:00\n",
            "Name: Planned End Time for Doctor Block, dtype: object\n"
          ]
        }
      ],
      "source": [
        "print(df_copy['Planned End Time for Doctor Block'].dtype)\n",
        "print(df_copy['Planned End Time for Doctor Block'].head(10))"
      ]
    },
    {
      "cell_type": "code",
      "execution_count": 13,
      "id": "59bc68fb",
      "metadata": {
        "id": "59bc68fb"
      },
      "outputs": [],
      "source": [
        "# Convert to datetime format and then save only the time:\n",
        "df_copy['Planned End Time for Doctor Block'] = pd.to_datetime(\n",
        "    df_copy['Planned End Time for Doctor Block'],\n",
        "    format='%H:%M:%S',\n",
        "    errors='coerce'  # Converts invalid values to NaT\n",
        ").dt.time"
      ]
    },
    {
      "cell_type": "code",
      "execution_count": 14,
      "id": "4d14c4a9",
      "metadata": {
        "id": "4d14c4a9",
        "colab": {
          "base_uri": "https://localhost:8080/"
        },
        "outputId": "b0951592-e626-48e8-e9a5-ba88f02990c4"
      },
      "outputs": [
        {
          "output_type": "stream",
          "name": "stdout",
          "text": [
            "object\n",
            "0    12:59:00\n",
            "1    14:37:00\n",
            "2    15:00:00\n",
            "3    13:00:00\n",
            "4    12:00:00\n",
            "5    12:38:00\n",
            "6    12:38:00\n",
            "7    14:37:00\n",
            "8    14:37:00\n",
            "9    11:35:00\n",
            "Name: Planned End Time for Doctor Block, dtype: object\n",
            "Missing values: 0\n"
          ]
        }
      ],
      "source": [
        "# Checking the column type and values\n",
        "print(df_copy['Planned End Time for Doctor Block'].dtype)  # Should return object but with type time\n",
        "print(df_copy['Planned End Time for Doctor Block'].head(10))\n",
        "print(\"Missing values:\", df_copy['Planned End Time for Doctor Block'].isna().sum())"
      ]
    },
    {
      "cell_type": "code",
      "execution_count": 15,
      "id": "d999b845",
      "metadata": {
        "id": "d999b845"
      },
      "outputs": [],
      "source": [
        "df_copy['Planned End Time for Doctor Block'] = pd.to_timedelta(\n",
        "    df_copy['Planned End Time for Doctor Block'].astype(str),\n",
        "    errors='coerce')"
      ]
    },
    {
      "cell_type": "code",
      "execution_count": 16,
      "id": "8628bead",
      "metadata": {
        "id": "8628bead",
        "colab": {
          "base_uri": "https://localhost:8080/"
        },
        "outputId": "788bcbb9-0fa0-4c70-d6f0-4a691c3fa1c7"
      },
      "outputs": [
        {
          "output_type": "stream",
          "name": "stdout",
          "text": [
            "timedelta64[ns]\n"
          ]
        }
      ],
      "source": [
        "print(df_copy['Planned End Time for Doctor Block'].dtype)"
      ]
    },
    {
      "cell_type": "markdown",
      "id": "d26c4f26",
      "metadata": {
        "id": "d26c4f26"
      },
      "source": [
        "Closure Time:"
      ]
    },
    {
      "cell_type": "code",
      "execution_count": 17,
      "id": "7ffe9da2",
      "metadata": {
        "id": "7ffe9da2",
        "colab": {
          "base_uri": "https://localhost:8080/"
        },
        "outputId": "d4b6af37-9da4-4d89-bc3f-6008c74d7a22"
      },
      "outputs": [
        {
          "output_type": "stream",
          "name": "stdout",
          "text": [
            "['15:37:00' '12:27:00' '20:09:00' ... '00:35:00' '23:42:00' '00:31:00']\n"
          ]
        }
      ],
      "source": [
        "print(df_copy['Closure Time'].unique())"
      ]
    },
    {
      "cell_type": "code",
      "execution_count": 18,
      "id": "9f641db8",
      "metadata": {
        "id": "9f641db8",
        "colab": {
          "base_uri": "https://localhost:8080/"
        },
        "outputId": "d840ff8d-70ee-48d0-f022-b476ac9c9153"
      },
      "outputs": [
        {
          "output_type": "stream",
          "name": "stdout",
          "text": [
            "object\n",
            "0    15:37:00\n",
            "1    12:27:00\n",
            "2    20:09:00\n",
            "3    14:35:00\n",
            "4    12:19:00\n",
            "5    13:40:00\n",
            "6    11:40:00\n",
            "7    13:54:00\n",
            "8    08:09:00\n",
            "9    09:55:00\n",
            "Name: Closure Time, dtype: object\n"
          ]
        }
      ],
      "source": [
        "print(df_copy['Closure Time'].dtype)\n",
        "print(df_copy['Closure Time'].head(10))"
      ]
    },
    {
      "cell_type": "code",
      "execution_count": 19,
      "id": "5c981b18",
      "metadata": {
        "id": "5c981b18"
      },
      "outputs": [],
      "source": [
        "df_copy['Closure Time'] = pd.to_datetime(\n",
        "    df_copy['Closure Time'],\n",
        "    format='%H:%M:%S',\n",
        "    errors='coerce'\n",
        ").dt.time"
      ]
    },
    {
      "cell_type": "code",
      "execution_count": 20,
      "id": "18cae45f",
      "metadata": {
        "id": "18cae45f",
        "colab": {
          "base_uri": "https://localhost:8080/"
        },
        "outputId": "4402de63-12f5-411f-ab4c-89b18d0c0bc5"
      },
      "outputs": [
        {
          "output_type": "stream",
          "name": "stdout",
          "text": [
            "object\n",
            "0    15:37:00\n",
            "1    12:27:00\n",
            "2    20:09:00\n",
            "3    14:35:00\n",
            "4    12:19:00\n",
            "5    13:40:00\n",
            "6    11:40:00\n",
            "7    13:54:00\n",
            "8    08:09:00\n",
            "9    09:55:00\n",
            "Name: Closure Time, dtype: object\n",
            "Missing values: 0\n"
          ]
        }
      ],
      "source": [
        "print(df_copy['Closure Time'].dtype)\n",
        "print(df_copy['Closure Time'].head(10))\n",
        "print(\"Missing values:\", df_copy['Closure Time'].isna().sum())"
      ]
    },
    {
      "cell_type": "code",
      "execution_count": 21,
      "id": "ec1530f6",
      "metadata": {
        "id": "ec1530f6"
      },
      "outputs": [],
      "source": [
        "df_copy['Closure Time'] = pd.to_timedelta(\n",
        "    df_copy['Closure Time'].astype(str),\n",
        "    errors='coerce')"
      ]
    },
    {
      "cell_type": "code",
      "execution_count": 22,
      "id": "2ce92c00",
      "metadata": {
        "id": "2ce92c00",
        "colab": {
          "base_uri": "https://localhost:8080/"
        },
        "outputId": "1936cd3d-f810-405f-d49a-d912b534e312"
      },
      "outputs": [
        {
          "output_type": "stream",
          "name": "stdout",
          "text": [
            "timedelta64[ns]\n",
            "0   0 days 15:37:00\n",
            "1   0 days 12:27:00\n",
            "2   0 days 20:09:00\n",
            "3   0 days 14:35:00\n",
            "4   0 days 12:19:00\n",
            "5   0 days 13:40:00\n",
            "6   0 days 11:40:00\n",
            "7   0 days 13:54:00\n",
            "8   0 days 08:09:00\n",
            "9   0 days 09:55:00\n",
            "Name: Closure Time, dtype: timedelta64[ns]\n",
            "Missing values: 0\n"
          ]
        }
      ],
      "source": [
        "print(df_copy['Closure Time'].dtype)\n",
        "print(df_copy['Closure Time'].head(10))\n",
        "print(\"Missing values:\", df_copy['Closure Time'].isna().sum())"
      ]
    },
    {
      "cell_type": "markdown",
      "id": "3a4a8ba1",
      "metadata": {
        "id": "3a4a8ba1"
      },
      "source": [
        "Incision Time:"
      ]
    },
    {
      "cell_type": "code",
      "execution_count": 23,
      "id": "0e5822ec",
      "metadata": {
        "id": "0e5822ec"
      },
      "outputs": [],
      "source": [
        "df_copy['Incision Time'] = pd.to_datetime(\n",
        "    df_copy['Incision Time'],\n",
        "    format='%H:%M:%S',\n",
        "    errors='coerce'\n",
        ").dt.time"
      ]
    },
    {
      "cell_type": "code",
      "execution_count": 24,
      "id": "2f9b5f30",
      "metadata": {
        "id": "2f9b5f30",
        "colab": {
          "base_uri": "https://localhost:8080/"
        },
        "outputId": "4d1062a5-2b5d-4084-e943-f23167bc650e"
      },
      "outputs": [
        {
          "output_type": "stream",
          "name": "stdout",
          "text": [
            "object\n",
            "0    13:06:00\n",
            "1    11:26:00\n",
            "2    13:48:00\n",
            "3    12:51:00\n",
            "4    11:28:00\n",
            "5    12:41:00\n",
            "6    10:21:00\n",
            "7    13:10:00\n",
            "8    07:51:00\n",
            "9    08:49:00\n",
            "Name: Incision Time, dtype: object\n",
            "Missing values: 0\n"
          ]
        }
      ],
      "source": [
        "print(df_copy['Incision Time'].dtype)\n",
        "print(df_copy['Incision Time'].head(10))\n",
        "print(\"Missing values:\", df_copy['Incision Time'].isna().sum())"
      ]
    },
    {
      "cell_type": "code",
      "execution_count": 25,
      "id": "f3fa0d97",
      "metadata": {
        "id": "f3fa0d97"
      },
      "outputs": [],
      "source": [
        "df_copy['Incision Time'] = pd.to_timedelta(\n",
        "    df_copy['Incision Time'].astype(str),\n",
        "    errors='coerce')"
      ]
    },
    {
      "cell_type": "code",
      "execution_count": 26,
      "id": "6b778cf5",
      "metadata": {
        "id": "6b778cf5",
        "colab": {
          "base_uri": "https://localhost:8080/"
        },
        "outputId": "d8882297-f646-4750-8fd5-8bd95a41196d"
      },
      "outputs": [
        {
          "output_type": "stream",
          "name": "stdout",
          "text": [
            "timedelta64[ns]\n",
            "0   0 days 13:06:00\n",
            "1   0 days 11:26:00\n",
            "2   0 days 13:48:00\n",
            "3   0 days 12:51:00\n",
            "4   0 days 11:28:00\n",
            "5   0 days 12:41:00\n",
            "6   0 days 10:21:00\n",
            "7   0 days 13:10:00\n",
            "8   0 days 07:51:00\n",
            "9   0 days 08:49:00\n",
            "Name: Incision Time, dtype: timedelta64[ns]\n",
            "Missing values: 0\n"
          ]
        }
      ],
      "source": [
        "print(df_copy['Incision Time'].dtype)\n",
        "print(df_copy['Incision Time'].head(10))\n",
        "print(\"Missing values:\", df_copy['Incision Time'].isna().sum())"
      ]
    },
    {
      "cell_type": "markdown",
      "id": "0dbee873",
      "metadata": {
        "id": "0dbee873"
      },
      "source": [
        "Planned Start Time for Doctor Block:"
      ]
    },
    {
      "cell_type": "code",
      "execution_count": 27,
      "id": "70b52875",
      "metadata": {
        "id": "70b52875"
      },
      "outputs": [],
      "source": [
        "df_copy['Planned Start Time for Doctor Block'] = pd.to_datetime(\n",
        "    df_copy['Planned Start Time for Doctor Block'],\n",
        "    format='%H:%M:%S',\n",
        "    errors='coerce'\n",
        ").dt.time"
      ]
    },
    {
      "cell_type": "code",
      "execution_count": 28,
      "id": "91c44378",
      "metadata": {
        "id": "91c44378",
        "colab": {
          "base_uri": "https://localhost:8080/"
        },
        "outputId": "fe8f6f6d-4be2-490c-e7c3-f6b2dbe33886"
      },
      "outputs": [
        {
          "output_type": "stream",
          "name": "stdout",
          "text": [
            "object\n",
            "0    07:00:00\n",
            "1    07:10:00\n",
            "2    08:00:00\n",
            "3    11:30:00\n",
            "4    07:10:00\n",
            "5    07:00:00\n",
            "6    07:00:00\n",
            "7    07:10:00\n",
            "8    07:10:00\n",
            "9    07:00:00\n",
            "Name: Planned Start Time for Doctor Block, dtype: object\n",
            "Missing values: 0\n"
          ]
        }
      ],
      "source": [
        "print(df_copy['Planned Start Time for Doctor Block'].dtype)\n",
        "print(df_copy['Planned Start Time for Doctor Block'].head(10))\n",
        "print(\"Missing values:\", df_copy['Planned Start Time for Doctor Block'].isna().sum())"
      ]
    },
    {
      "cell_type": "code",
      "execution_count": 29,
      "id": "83742496",
      "metadata": {
        "id": "83742496"
      },
      "outputs": [],
      "source": [
        "df_copy['Planned Start Time for Doctor Block'] = pd.to_timedelta(\n",
        "    df_copy['Planned Start Time for Doctor Block'].astype(str),\n",
        "    errors='coerce')"
      ]
    },
    {
      "cell_type": "code",
      "execution_count": 30,
      "id": "bf7d95e3",
      "metadata": {
        "id": "bf7d95e3",
        "colab": {
          "base_uri": "https://localhost:8080/"
        },
        "outputId": "2f49b772-eb90-47ba-cabd-5e3a5aae1fe8"
      },
      "outputs": [
        {
          "output_type": "stream",
          "name": "stdout",
          "text": [
            "timedelta64[ns]\n",
            "0   0 days 07:00:00\n",
            "1   0 days 07:10:00\n",
            "2   0 days 08:00:00\n",
            "3   0 days 11:30:00\n",
            "4   0 days 07:10:00\n",
            "5   0 days 07:00:00\n",
            "6   0 days 07:00:00\n",
            "7   0 days 07:10:00\n",
            "8   0 days 07:10:00\n",
            "9   0 days 07:00:00\n",
            "Name: Planned Start Time for Doctor Block, dtype: timedelta64[ns]\n",
            "Missing values: 0\n"
          ]
        }
      ],
      "source": [
        "print(df_copy['Planned Start Time for Doctor Block'].dtype)\n",
        "print(df_copy['Planned Start Time for Doctor Block'].head(10))\n",
        "print(\"Missing values:\", df_copy['Planned Start Time for Doctor Block'].isna().sum())"
      ]
    },
    {
      "cell_type": "markdown",
      "id": "9c731492",
      "metadata": {
        "id": "9c731492"
      },
      "source": [
        "Actual Surgery Room Entry Time:"
      ]
    },
    {
      "cell_type": "code",
      "execution_count": 31,
      "id": "91f70f9c",
      "metadata": {
        "id": "91f70f9c"
      },
      "outputs": [],
      "source": [
        "df_copy['Actual Surgery Room Entry Time'] = pd.to_datetime(\n",
        "    df_copy['Actual Surgery Room Entry Time'],\n",
        "    format='%H:%M:%S',\n",
        "    errors='coerce'\n",
        ").dt.time"
      ]
    },
    {
      "cell_type": "code",
      "execution_count": 32,
      "id": "399f7d03",
      "metadata": {
        "id": "399f7d03",
        "colab": {
          "base_uri": "https://localhost:8080/"
        },
        "outputId": "430a3519-e98f-4b0f-8251-03dc839cc606"
      },
      "outputs": [
        {
          "output_type": "stream",
          "name": "stdout",
          "text": [
            "object\n",
            "0    12:34:00\n",
            "1    11:08:00\n",
            "2    13:31:00\n",
            "3    12:29:00\n",
            "4    11:12:00\n",
            "5    12:22:00\n",
            "6    09:55:00\n",
            "7    12:53:00\n",
            "8    07:32:00\n",
            "9    08:30:00\n",
            "Name: Actual Surgery Room Entry Time, dtype: object\n",
            "Missing values: 0\n"
          ]
        }
      ],
      "source": [
        "print(df_copy['Actual Surgery Room Entry Time'].dtype)\n",
        "print(df_copy['Actual Surgery Room Entry Time'].head(10))\n",
        "print(\"Missing values:\", df_copy['Actual Surgery Room Entry Time'].isna().sum())"
      ]
    },
    {
      "cell_type": "code",
      "execution_count": 33,
      "id": "52c9603c",
      "metadata": {
        "id": "52c9603c"
      },
      "outputs": [],
      "source": [
        "df_copy['Actual Surgery Room Entry Time'] = pd.to_timedelta(\n",
        "    df_copy['Actual Surgery Room Entry Time'].astype(str),\n",
        "    errors='coerce')"
      ]
    },
    {
      "cell_type": "code",
      "execution_count": 34,
      "id": "98ba9459",
      "metadata": {
        "id": "98ba9459",
        "colab": {
          "base_uri": "https://localhost:8080/"
        },
        "outputId": "cbf103bd-610c-4736-ebc0-76d96112ace7"
      },
      "outputs": [
        {
          "output_type": "stream",
          "name": "stdout",
          "text": [
            "timedelta64[ns]\n",
            "0   0 days 12:34:00\n",
            "1   0 days 11:08:00\n",
            "2   0 days 13:31:00\n",
            "3   0 days 12:29:00\n",
            "4   0 days 11:12:00\n",
            "5   0 days 12:22:00\n",
            "6   0 days 09:55:00\n",
            "7   0 days 12:53:00\n",
            "8   0 days 07:32:00\n",
            "9   0 days 08:30:00\n",
            "Name: Actual Surgery Room Entry Time, dtype: timedelta64[ns]\n",
            "Missing values: 0\n"
          ]
        }
      ],
      "source": [
        "print(df_copy['Actual Surgery Room Entry Time'].dtype)\n",
        "print(df_copy['Actual Surgery Room Entry Time'].head(10))\n",
        "print(\"Missing values:\", df_copy['Actual Surgery Room Entry Time'].isna().sum())"
      ]
    },
    {
      "cell_type": "code",
      "execution_count": 35,
      "id": "99e683eb",
      "metadata": {
        "id": "99e683eb"
      },
      "outputs": [],
      "source": [
        "# List of columns that contain values in hours format only\n",
        "time_columns = [\n",
        "    'Actual Surgery Room Entry Time',\n",
        "    'Planned Start Time for Doctor Block',\n",
        "    'Incision Time',\n",
        "    'Closure Time',\n",
        "    'Planned End Time for Doctor Block']"
      ]
    },
    {
      "cell_type": "markdown",
      "source": [
        "Checking lines with illogical time intersections:"
      ],
      "metadata": {
        "id": "k9R8M9KBmwYH"
      },
      "id": "k9R8M9KBmwYH"
    },
    {
      "cell_type": "code",
      "source": [
        "import pandas as pd\n",
        "\n",
        "# List of columns being checked\n",
        "time_cols = [\"Entry DateTime\", \"Incision DateTime\", \"Closure DateTime\", \"Exit DateTime\"]\n",
        "\n",
        "# Columns in datetime format\n",
        "for col in time_cols:\n",
        "    df_copy[col] = pd.to_datetime(df_copy[col], errors='coerce')\n",
        "\n",
        "# Error count and list of deleted cells\n",
        "internal_corrections = 0\n",
        "external_corrections = 0\n",
        "deleted_cells = []\n",
        "\n",
        "# Cleaning up internal inconsistencies within a row\n",
        "def clean_internal_conflicts(row):\n",
        "    global internal_corrections\n",
        "    for i in range(len(time_cols) - 1):\n",
        "        col1 = time_cols[i]\n",
        "        col2 = time_cols[i + 1]\n",
        "        t1 = row[col1]\n",
        "        t2 = row[col2]\n",
        "\n",
        "        if pd.notnull(t1) and pd.notnull(t2) and t1 > t2:\n",
        "            prev_time = row[time_cols[i - 1]] if i > 0 else None\n",
        "            next_time = row[time_cols[i + 2]] if i + 2 < len(time_cols) else None\n",
        "\n",
        "            if prev_time is not None and pd.notnull(prev_time) and prev_time > t1:\n",
        "                bad_col = col1\n",
        "            elif next_time is not None and pd.notnull(next_time) and t2 > next_time:\n",
        "                bad_col = col2\n",
        "            else:\n",
        "                bad_col = col1  #default\n",
        "\n",
        "            deleted_cells.append((row.name, bad_col, row[bad_col]))\n",
        "            row[bad_col] = pd.NaT\n",
        "            internal_corrections += 1\n",
        "    return row\n",
        "\n",
        "df_copy = df_copy.apply(clean_internal_conflicts, axis=1)\n",
        "\n",
        "# Conflict between current Exit and next Entry\n",
        "df_copy[\"next_Entry DateTime\"] = df_copy[\"Entry DateTime\"].shift(-1)\n",
        "\n",
        "def fix_external_conflict(row):\n",
        "    global external_corrections\n",
        "    if pd.notnull(row[\"Exit DateTime\"]) and pd.notnull(row[\"next_Entry DateTime\"]):\n",
        "        if row[\"Exit DateTime\"] > row[\"next_Entry DateTime\"]:\n",
        "            deleted_cells.append((row.name, \"Exit DateTime\", row[\"Exit DateTime\"]))\n",
        "            row[\"Exit DateTime\"] = pd.NaT\n",
        "            external_corrections += 1\n",
        "    return row\n",
        "\n",
        "df_copy = df_copy.apply(fix_external_conflict, axis=1)\n",
        "df_copy.drop(columns=[\"next_Entry DateTime\"], inplace=True)\n",
        "\n",
        "# Conflict between current Entry and previous Exit → Always delete the Exit of the previous line\n",
        "df_copy[\"prev_Exit DateTime\"] = df_copy[\"Exit DateTime\"].shift(1)\n",
        "\n",
        "def fix_inter_row_conflict_strict(row):\n",
        "    global external_corrections\n",
        "    entry = row[\"Entry DateTime\"]\n",
        "    prev_exit = row[\"prev_Exit DateTime\"]\n",
        "\n",
        "    if pd.notnull(entry) and pd.notnull(prev_exit) and entry < prev_exit:\n",
        "        idx_prev = row.name - 1\n",
        "        deleted_cells.append((idx_prev, \"Exit DateTime\", df_copy.at[idx_prev, \"Exit DateTime\"]))\n",
        "        df_copy.at[idx_prev, \"Exit DateTime\"] = pd.NaT\n",
        "        external_corrections += 1\n",
        "\n",
        "    return row\n",
        "\n",
        "df_copy = df_copy.apply(fix_inter_row_conflict_strict, axis=1)\n",
        "df_copy.drop(columns=[\"prev_Exit DateTime\"], inplace=True)\n",
        "\n",
        "# summary\n",
        "print(f\"Cleaning finished:\")\n",
        "print(f\"{internal_corrections} Internal corrections were made within lines.\")\n",
        "print(f\"{external_corrections} Corrections of conflicts between lines have been made.\")\n",
        "\n",
        "# Show an example of deleted entries\n",
        "if deleted_cells:\n",
        "    print(\"\\n Example of deleted values (up to the first 5):\")\n",
        "    for row_idx, col, val in deleted_cells[:5]:\n",
        "        print(f\" row {row_idx}, column '{col}', Deleted entry: {val}\")\n",
        "else:\n",
        "    print(\"No entries were deleted.\")"
      ],
      "metadata": {
        "colab": {
          "base_uri": "https://localhost:8080/"
        },
        "id": "MyTlye5PIlhY",
        "outputId": "37136f52-46d5-46b6-cbef-54d73187cc64"
      },
      "id": "MyTlye5PIlhY",
      "execution_count": 36,
      "outputs": [
        {
          "output_type": "stream",
          "name": "stdout",
          "text": [
            "Cleaning finished:\n",
            "0 Internal corrections were made within lines.\n",
            "1084 Corrections of conflicts between lines have been made.\n",
            "\n",
            " Example of deleted values (up to the first 5):\n",
            " row 16, column 'Exit DateTime', Deleted entry: 2022-10-21 08:45:00\n",
            " row 23, column 'Exit DateTime', Deleted entry: 2022-04-01 08:02:00\n",
            " row 33, column 'Exit DateTime', Deleted entry: 2022-03-25 13:13:00\n",
            " row 52, column 'Exit DateTime', Deleted entry: 2022-03-17 11:07:00\n",
            " row 78, column 'Exit DateTime', Deleted entry: 2022-07-20 10:11:00\n"
          ]
        }
      ]
    },
    {
      "cell_type": "markdown",
      "id": "5d508949",
      "metadata": {
        "id": "5d508949"
      },
      "source": [
        "SP, only consider shift boundaries!"
      ]
    },
    {
      "cell_type": "code",
      "execution_count": 37,
      "id": "81b9d685",
      "metadata": {
        "id": "81b9d685",
        "colab": {
          "base_uri": "https://localhost:8080/"
        },
        "outputId": "3b19a216-f184-4621-d5af-305edc7c240a"
      },
      "outputs": [
        {
          "output_type": "stream",
          "name": "stdout",
          "text": [
            "Missing values at shift boundaries:\n",
            " Planned Start Time for Doctor Block    0\n",
            "Planned End Time for Doctor Block      0\n",
            "dtype: int64\n"
          ]
        }
      ],
      "source": [
        "# Checking how many missing values there are in the shift columns\n",
        "missing_values = df_copy[['Planned Start Time for Doctor Block', 'Planned End Time for Doctor Block']].isna().sum()\n",
        "print(\"Missing values at shift boundaries:\\n\", missing_values)"
      ]
    },
    {
      "cell_type": "code",
      "execution_count": 38,
      "id": "d436fba0",
      "metadata": {
        "id": "d436fba0"
      },
      "outputs": [],
      "source": [
        "# Convert date columns to datetime format\n",
        "date_columns = [\"Actual Surgery Room Entry Date\", \"Planned Start Date for Doctor Block\"]\n",
        "for col in date_columns:\n",
        "    df_copy[col] = pd.to_datetime(df[col], errors='coerce')  # Save the date only"
      ]
    },
    {
      "cell_type": "code",
      "execution_count": 39,
      "id": "23941606",
      "metadata": {
        "id": "23941606",
        "colab": {
          "base_uri": "https://localhost:8080/"
        },
        "outputId": "adc5eb2a-66ea-404e-e856-edbbf9e15d90"
      },
      "outputs": [
        {
          "output_type": "stream",
          "name": "stdout",
          "text": [
            "datetime64[ns]\n"
          ]
        }
      ],
      "source": [
        "print(df_copy['Planned Start Date for Doctor Block'].dtype)"
      ]
    },
    {
      "cell_type": "code",
      "source": [
        "import pandas as pd\n",
        "import numpy as np\n",
        "\n",
        "# Convert columns to dates:\n",
        "datetime_cols = [\n",
        "    \"Actual Surgery Room Entry Date\",\n",
        "    \"End of Surgery Date (Exit from OR)\",\n",
        "    \"Planned Start Date for Doctor Block\",\n",
        "    \"Planned End Date for Doctor Block\"\n",
        "]\n",
        "for col in datetime_cols:\n",
        "    df_copy[col] = pd.to_datetime(df_copy[col], errors='coerce')\n",
        "\n",
        "# Creating new consolidated columns:\n",
        "df_copy[\"Planned Start DateTime\"] = df_copy[\"Planned Start Date for Doctor Block\"] + pd.to_timedelta(df_copy[\"Planned Start Time for Doctor Block\"].astype(str), errors='coerce')\n",
        "df_copy[\"Planned End DateTime\"] = df_copy[\"Planned End Date for Doctor Block\"] + pd.to_timedelta(df_copy[\"Planned End Time for Doctor Block\"].astype(str), errors='coerce')\n",
        "# df_copy[\"Incision DateTime\"] = df_copy[\"Actual Surgery Room Entry Date\"] + pd.to_timedelta(df_copy[\"Incision Time\"].astype(str), errors='coerce')\n",
        "# df_copy[\"Closure DateTime\"] = df_copy[\"End of Surgery Date (Exit from OR)\"] + pd.to_timedelta(df_copy[\"Closure Time\"].astype(str), errors='coerce')\n",
        "\n",
        "# Actual full surgery duration without shift restrictions:\n",
        "df_copy[\"S_p_raw\"] = df_copy[\"Closure DateTime\"] - df_copy[\"Incision DateTime\"]\n",
        "\n",
        "# Convert duration to decimal hours:\n",
        "df_copy[\"S_p_raw_hours\"] = df_copy[\"S_p_raw\"].dt.total_seconds() / 3600\n",
        "df_copy[\"S_p_raw_hours\"] = df_copy[\"S_p_raw_hours\"].round(5)\n",
        "\n",
        "# Actual duration of surgery within the block (shift) boundaries:\n",
        "df_copy[\"S_p_limited\"] = (\n",
        "    df_copy[[\"Closure DateTime\", \"Planned End DateTime\"]].min(axis=1) -\n",
        "    df_copy[[\"Incision DateTime\", \"Planned Start DateTime\"]].max(axis=1)\n",
        ").clip(lower=pd.Timedelta(0))\n",
        "\n",
        "df_copy.loc[\n",
        "    df_copy[['Incision DateTime', 'Closure DateTime', 'Planned Start DateTime', 'Planned End DateTime']].isnull().any(axis=1),\n",
        "    \"S_p_limited\"\n",
        "] = pd.NaT\n",
        "\n",
        "df_copy[\"S_p_hours_limited\"] = df_copy[\"S_p_limited\"].dt.total_seconds() / 3600\n",
        "df_copy.loc[df_copy[\"S_p_limited\"].isna(), \"S_p_hours_limited\"] = np.nan\n",
        "df_copy[\"S_p_hours_limited\"] = df_copy[\"S_p_hours_limited\"].round(5)\n",
        "\n",
        "df_sp_sum = df_copy.groupby(\n",
        "    ['Actual Surgery Room Entry Date', 'Actual Operating Room Number'],\n",
        "    as_index=False\n",
        ")['S_p_hours_limited'].sum()\n",
        "\n",
        "df_sp_sum.rename(columns={'S_p_hours_limited': 'total_SP_per_day_room'}, inplace=True)\n",
        "\n",
        "assert not df_sp_sum.duplicated(subset=[\"Actual Surgery Room Entry Date\", \"Actual Operating Room Number\"]).any()\n",
        "\n",
        "df_copy = df_copy.merge(\n",
        "    df_sp_sum,\n",
        "    on=['Actual Surgery Room Entry Date', 'Actual Operating Room Number'],\n",
        "    how='left'\n",
        ")"
      ],
      "metadata": {
        "id": "FM1bE9OvX7Ul"
      },
      "id": "FM1bE9OvX7Ul",
      "execution_count": 40,
      "outputs": []
    },
    {
      "cell_type": "markdown",
      "id": "fefa2603",
      "metadata": {
        "id": "fefa2603"
      },
      "source": [
        "SUP:"
      ]
    },
    {
      "cell_type": "code",
      "source": [
        "dt_cols = [\n",
        "    \"Planned Start DateTime\", \"Planned End DateTime\",\n",
        "    \"Entry DateTime\", \"Exit DateTime\",\n",
        "    \"Incision DateTime\", \"Closure DateTime\"\n",
        "]\n",
        "for col in dt_cols:\n",
        "    df_copy[col] = pd.to_datetime(df_copy[col], errors='coerce')\n",
        "\n",
        "df_copy[\"SU_p_before_limited\"] = (\n",
        "    (df_copy[\"Incision DateTime\"] - df_copy[\"Entry DateTime\"]).clip(lower=pd.Timedelta(0)) +\n",
        "    (df_copy[\"Exit DateTime\"] - df_copy[\"Closure DateTime\"]).clip(lower=pd.Timedelta(0))\n",
        ")\n",
        "df_copy[\"SU_p_before_hours\"] = df_copy[\"SU_p_before_limited\"].dt.total_seconds() / 3600\n",
        "\n",
        "prep_start = df_copy[[\"Entry DateTime\", \"Planned Start DateTime\"]].max(axis=1)\n",
        "prep_end = df_copy[[\"Incision DateTime\", \"Planned End DateTime\"]].min(axis=1)\n",
        "prep_duration = (prep_end - prep_start).clip(lower=pd.Timedelta(0))\n",
        "\n",
        "post_start = df_copy[[\"Closure DateTime\", \"Planned Start DateTime\"]].max(axis=1)\n",
        "post_end = df_copy[[\"Exit DateTime\", \"Planned End DateTime\"]].min(axis=1)\n",
        "post_duration = (post_end - post_start).clip(lower=pd.Timedelta(0))\n",
        "\n",
        "df_copy[\"SU_p_after_limited\"] = prep_duration + post_duration\n",
        "df_copy[\"SU_p_after_hours\"] = df_copy[\"SU_p_after_limited\"].dt.total_seconds() / 3600\n",
        "\n",
        "df_copy.loc[df_copy[[\n",
        "    'Entry DateTime', 'Incision DateTime', 'Closure DateTime', 'Exit DateTime',\n",
        "    'Planned Start DateTime', 'Planned End DateTime'\n",
        "]].isnull().any(axis=1), \"SU_p_after_limited\"] = pd.NaT\n",
        "\n",
        "df_copy[\"SU_p_after_hours\"] = df_copy[\"SU_p_after_limited\"].dt.total_seconds() / 3600\n",
        "df_copy.loc[df_copy[\"SU_p_after_limited\"].isna(), \"SU_p_after_hours\"] = np.nan\n",
        "\n",
        "su_grouped = df_copy.groupby(\n",
        "    [\"Actual Surgery Room Entry Date\", \"Actual Operating Room Number\"],\n",
        "    as_index=False\n",
        ")[\"SU_p_after_hours\"].sum().rename(columns={\"SU_p_after_hours\": \"SU_p_limited_hours\"})\n",
        "\n",
        "df_copy = df_copy.merge(\n",
        "    su_grouped,\n",
        "    on=[\"Actual Surgery Room Entry Date\", \"Actual Operating Room Number\"],\n",
        "    how=\"left\"\n",
        ")\n",
        "\n",
        "print(df_copy[[\n",
        "    \"Actual Surgery Room Entry Date\", \"Actual Operating Room Number\",\n",
        "    \"SU_p_before_hours\", \"SU_p_after_hours\", \"SU_p_limited_hours\"\n",
        "]].head())"
      ],
      "metadata": {
        "id": "b6AJL6lDaJ1h",
        "colab": {
          "base_uri": "https://localhost:8080/"
        },
        "outputId": "1b70e072-64f4-4e2a-afd0-6130df4a3ea8"
      },
      "id": "b6AJL6lDaJ1h",
      "execution_count": 41,
      "outputs": [
        {
          "output_type": "stream",
          "name": "stdout",
          "text": [
            "  Actual Surgery Room Entry Date  Actual Operating Room Number  \\\n",
            "0                     2022-09-02                         20029   \n",
            "1                     2022-02-04                         20028   \n",
            "2                     2022-12-16                         20029   \n",
            "3                     2022-03-11                         20016   \n",
            "4                     2022-09-09                         20006   \n",
            "\n",
            "   SU_p_before_hours  SU_p_after_hours  SU_p_limited_hours  \n",
            "0                NaN               NaN            0.400000  \n",
            "1           0.516667          0.516667            1.066667  \n",
            "2                NaN               NaN            0.000000  \n",
            "3           0.550000          0.366667            0.366667  \n",
            "4                NaN               NaN            0.000000  \n"
          ]
        }
      ]
    },
    {
      "cell_type": "markdown",
      "source": [
        "SHR:"
      ],
      "metadata": {
        "id": "g7QM8xu48CZG"
      },
      "id": "g7QM8xu48CZG"
    },
    {
      "cell_type": "code",
      "source": [
        "# Calculate block duration in hours\n",
        "df_copy[\"Block Duration Hours\"] = (\n",
        "    df_copy[\"Planned End DateTime\"] - df_copy[\"Planned Start DateTime\"]\n",
        ").dt.total_seconds() / 3600\n",
        "\n",
        "# Get max block duration per surgeon per day and room\n",
        "df_max = df_copy.groupby(\n",
        "    ['Main Surgeon Code', 'Actual Surgery Room Entry Date', 'Actual Operating Room Number'],\n",
        "    as_index=False\n",
        ")['Block Duration Hours'].max()\n",
        "\n",
        "df_max.rename(columns={'Block Duration Hours': 'max_hours'}, inplace=True)\n",
        "\n",
        "# Sum the max values per day and room\n",
        "df_sum = df_max.groupby(\n",
        "    ['Actual Surgery Room Entry Date', 'Actual Operating Room Number'],\n",
        "    as_index=False\n",
        ")['max_hours'].sum()\n",
        "\n",
        "# Rename the result column to SH_r_hours\n",
        "df_sum.rename(columns={'max_hours': 'SH_r_hours'}, inplace=True)\n",
        "\n",
        "# Merge SH_r_hours back to df_copy\n",
        "df_copy = df_copy.merge(df_sum, on=['Actual Surgery Room Entry Date', 'Actual Operating Room Number'], how='left')"
      ],
      "metadata": {
        "id": "mXltxa-uezbl"
      },
      "id": "mXltxa-uezbl",
      "execution_count": 42,
      "outputs": []
    },
    {
      "cell_type": "markdown",
      "id": "ee641407",
      "metadata": {
        "id": "ee641407"
      },
      "source": [
        "Utilization rate:"
      ]
    },
    {
      "cell_type": "code",
      "execution_count": 43,
      "id": "00b31f40",
      "metadata": {
        "id": "00b31f40",
        "colab": {
          "base_uri": "https://localhost:8080/"
        },
        "outputId": "e33aca21-f8c1-4269-d4a8-132696049438"
      },
      "outputs": [
        {
          "output_type": "stream",
          "name": "stdout",
          "text": [
            "['patient_id', 'Site Code', 'Main Surgeon Code', 'Activity Code', 'Activity Type Code', 'Planned SU Time (Large/Medium/Small)', 'Pre-Surgery Admission Date', 'Height', 'Weight', 'Patient Age (on Surgery Day)', 'Background Diseases/Diagnoses', 'Planned Surgery Date', 'Planned Surgery Time', 'Surgery Admission Date', 'Administrative Admission Time', 'Planned Operating Room Number', 'Pre-Surgery Hospitalization Admission Date', 'Pre-Surgery Hospitalization Admission Time', 'Pre-Surgical Admission Time Before Surgery', 'Surgical Team Codes', 'Anesthesiologist Code', 'Anesthesia Code', 'Type of Anesthesia', 'Cancellation Reason on Surgery Day', 'Actual Operating Room Number', 'Actual Surgery Room Entry Date', 'Actual Surgery Room Entry Time', 'Incision Time', 'Closure Time', 'End of Surgery Date (Exit from OR)', 'End of Surgery Time (Exit from OR)', 'Planned Surgery Duration', 'Recovery Room Entry Date', 'Recovery Room Entry Time', 'Recovery Room Exit Date', 'Recovery Room Exit Time', 'Post-Surgery Discharge Date', 'Post-Surgery Discharge Time', 'Planned Start Date for Doctor Block', 'Planned Start Time for Doctor Block', 'Planned End Date for Doctor Block', 'Planned End Time for Doctor Block', 'Readmission', 'strict_signature', 'No Show', 'Entry DateTime', 'Incision DateTime', 'Closure DateTime', 'Exit DateTime', 'Planned Surgery Time_Minutes', 'Administrative Admission Time_Minutes', 'Pre-Surgery Hospitalization Admission Time_Minutes', 'Pre-Surgical Admission Time Before Surgery_Minutes', 'Actual Surgery Room Entry Time_Minutes', 'Incision Time_Minutes', 'Closure Time_Minutes', 'End of Surgery Time (Exit from OR)_Minutes', 'Recovery Room Entry Time_Minutes', 'Recovery Room Exit Time_Minutes', 'Post-Surgery Discharge Time_Minutes', 'Planned Start Time for Doctor Block_Minutes', 'Planned End Time for Doctor Block_Minutes', 'Planned Start DateTime', 'Planned End DateTime', 'S_p_raw', 'S_p_raw_hours', 'S_p_limited', 'S_p_hours_limited', 'total_SP_per_day_room', 'SU_p_before_limited', 'SU_p_before_hours', 'SU_p_after_limited', 'SU_p_after_hours', 'SU_p_limited_hours', 'Block Duration Hours', 'SH_r_hours']\n"
          ]
        }
      ],
      "source": [
        "print(df_copy.columns.tolist())"
      ]
    },
    {
      "cell_type": "code",
      "source": [
        "# Clean the data before utilization calculation\n",
        "# Remove rows where there was a No-Show\n",
        "num_noshow = df_copy[\"No Show\"].sum()\n",
        "print(f\"Removed {num_noshow} rows due to No-Show status.\")\n",
        "df_copy = df_copy[df_copy[\"No Show\"] != True]\n",
        "\n",
        "# Remove rows with missing time components needed for utilization calculation\n",
        "required_cols = [\n",
        "    \"Incision DateTime\",\n",
        "    \"Closure DateTime\",\n",
        "    \"Planned Start DateTime\",\n",
        "    \"Planned End DateTime\",\n",
        "    \"Actual Surgery Room Entry Date\",\n",
        "    \"Actual Surgery Room Entry Time\",\n",
        "    \"End of Surgery Time (Exit from OR)\"\n",
        "]\n",
        "df_copy = df_copy.dropna(subset=required_cols)\n",
        "\n",
        "print(f\"Remaining rows for utilization calculation: {len(df_copy)}\")\n",
        "\n",
        "if all(col in df_copy.columns for col in [\"total_SP_per_day_room\", \"SU_p_limited_hours\", \"SH_r_hours\"]):\n",
        "    df_copy[\"daily_utilization_rate\"] = (\n",
        "        (df_copy[\"total_SP_per_day_room\"] + df_copy[\"SU_p_limited_hours\"]) /\n",
        "        df_copy[\"SH_r_hours\"]\n",
        "    ) * 100\n",
        "    print(f\"Calculated utilization for {df_copy['daily_utilization_rate'].notna().sum()} rows.\")\n",
        "\n",
        "    df_copy.loc[df_copy[\"SH_r_hours\"].isna(), \"daily_utilization_rate\"] = np.nan\n",
        "    df_copy.loc[df_copy[\"SH_r_hours\"] == 0, \"daily_utilization_rate\"] = np.nan\n",
        "else:\n",
        "    print(\"Missing columns required to calculate utilization\")"
      ],
      "metadata": {
        "id": "anBiQ7FKTFUw",
        "colab": {
          "base_uri": "https://localhost:8080/"
        },
        "outputId": "22bdd64c-04d2-4a7b-9769-6758c717eb04"
      },
      "id": "anBiQ7FKTFUw",
      "execution_count": 44,
      "outputs": [
        {
          "output_type": "stream",
          "name": "stdout",
          "text": [
            "Removed 0 rows due to No-Show status.\n",
            "Remaining rows for utilization calculation: 10088\n",
            "Calculated utilization for 10088 rows.\n"
          ]
        }
      ]
    },
    {
      "cell_type": "code",
      "source": [
        "df_copy = df_copy.merge(df_copy[[\"Planned Start Date for Doctor Block\",\n",
        "                                        \"Actual Operating Room Number\",\n",
        "                                        \"daily_utilization_rate\"]],\n",
        "                        on=[\"Planned Start Date for Doctor Block\", \"Actual Operating Room Number\"],\n",
        "                        how=\"left\")"
      ],
      "metadata": {
        "id": "2rJ05nlBHQyD"
      },
      "id": "2rJ05nlBHQyD",
      "execution_count": 45,
      "outputs": []
    },
    {
      "cell_type": "code",
      "source": [
        "from datetime import timedelta\n",
        "\n",
        "for col in time_columns:\n",
        "    if col in df_copy.columns:\n",
        "        df_copy[col] = df_copy[col].apply(\n",
        "            lambda x: f\"{int(x.total_seconds() // 3600):02}:{int((x.total_seconds() % 3600) // 60):02}:{int(x.total_seconds() % 60):02}\"\n",
        "            if isinstance(x, timedelta) else (x if isinstance(x, str) else \"\")\n",
        "        )"
      ],
      "metadata": {
        "id": "y_KGCp5KsmGt"
      },
      "id": "y_KGCp5KsmGt",
      "execution_count": 46,
      "outputs": []
    },
    {
      "cell_type": "code",
      "source": [
        "df_copy.to_excel(\"2022_data_with_UTR.xlsx\", index=False)"
      ],
      "metadata": {
        "id": "2yV8jRPZFT_-"
      },
      "id": "2yV8jRPZFT_-",
      "execution_count": 47,
      "outputs": []
    }
  ],
  "metadata": {
    "kernelspec": {
      "display_name": "Python 3",
      "name": "python3"
    },
    "language_info": {
      "codemirror_mode": {
        "name": "ipython",
        "version": 3
      },
      "file_extension": ".py",
      "mimetype": "text/x-python",
      "name": "python",
      "nbconvert_exporter": "python",
      "pygments_lexer": "ipython3",
      "version": "3.11.5"
    },
    "colab": {
      "provenance": [],
      "gpuType": "T4"
    },
    "accelerator": "GPU"
  },
  "nbformat": 4,
  "nbformat_minor": 5
}