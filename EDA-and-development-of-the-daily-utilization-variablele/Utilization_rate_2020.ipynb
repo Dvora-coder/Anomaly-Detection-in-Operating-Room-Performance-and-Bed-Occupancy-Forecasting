{
  "cells": [
    {
      "cell_type": "markdown",
      "source": [
        "# Operating Room Utilization Rate Calculation for 2020\n",
        "\n",
        "In this notebook, we calculate the daily operating room utilization rate during 2020 using the cleaned Assuta Ramat HaHayal dataset.\n",
        "\n",
        "**1. Imports and Data Loading**  \n",
        "- We import essential libraries (`pandas`, `numpy`, `matplotlib.pyplot`, `seaborn`, `scipy.stats`, etc.) and load the pre-cleaned Excel file (`2020_data_Assuta_nomissings_for_stat_final_1005.xlsx`) into a DataFrame.\n",
        "\n",
        "**2. Initial Inspection and Copy**  \n",
        "- We inspect the first rows, columns, and data types to verify correct parsing.  \n",
        "- We create a working copy (`df_copy`) to preserve the original raw data.\n",
        "\n",
        "**3. Time and Date Conversion**  \n",
        "- We convert all relevant time-only columns (planned block times, incision, closure, actual entry/exit) first to `datetime.time` or `timedelta`, then to full `datetime` where appropriate.  \n",
        "- We convert key date columns (e.g., actual room entry date, planned block dates) to `datetime` objects.\n",
        "\n",
        "**4. Conflict Detection and Resolution**  \n",
        "- We define and apply a function to detect internal chronological conflicts within each record (e.g., exit before incision) and correct or remove inconsistent entries.  \n",
        "- We log the number of internal and external corrections and review any deleted records.\n",
        "\n",
        "**5. Timestamp Construction**  \n",
        "- We merge each planned date with its corresponding planned start and end time to form unified `Planned Start DateTime` and `Planned End DateTime` columns, enabling accurate duration calculations.\n",
        "\n",
        "**6. Feature Engineering for Utilization Components**  \n",
        "- **Service Hours (SH):** We compute each block's duration (`Planned End DateTime - Planned Start DateTime`) in hours, group by surgeon, date, and room to extract the maximum block hours per room per day, and sum these to obtain `SH_r_hours`.  \n",
        "- **Scheduled Procedure Hours (SP):** We calculate limited scheduled surgery durations within each block window, convert to hours, and aggregate per room per day into `total_SP_per_day_room`.  \n",
        "- **Unscheduled Procedure Hours (SU):** We compute any additional time used before incision or after closure but within the block window, convert to hours, and aggregate per room per day into `SU_p_limited_hours`.\n",
        "\n",
        "**7. Utilization Rate Calculation**  \n",
        "- We calculate the daily utilization rate as:  \n",
        "  ```python\n",
        "  daily_utilization_rate = (total_SP_per_day_room + SU_p_limited_hours) / SH_r_hours * 100\n",
        "We assign NaN for days or rooms with zero or missing service hours to avoid invalid ratios.\n",
        "\n",
        "**8. Merging and Formatting**\n",
        "\n",
        "We merge the calculated daily_utilization_rate back onto the main DataFrame by block date and operating room number.\n",
        "\n",
        "We format all time-based columns as HH:MM:SS strings for clarity.\n",
        "\n",
        "**9. Export**\n",
        "\n",
        "We save the enriched dataset, including the new utilization metric, to 2020_data_with_UTR.xlsx for downstream analysis and visualization.\n",
        "\n",
        "By following these steps, we enrich the 2020 surgical dataset with a robust utilization metric, enabling year-over-year comparisons, identification of under- or over-utilized periods, and informed resource-allocation decisions."
      ],
      "metadata": {
        "id": "ygB1iZ3Uzxhc"
      },
      "id": "ygB1iZ3Uzxhc"
    },
    {
      "cell_type": "markdown",
      "id": "87882ba5",
      "metadata": {
        "id": "87882ba5"
      },
      "source": [
        "Calculating the target variable - utilization percentage:"
      ]
    },
    {
      "cell_type": "code",
      "execution_count": 1,
      "id": "890dc9d3",
      "metadata": {
        "id": "890dc9d3"
      },
      "outputs": [],
      "source": [
        "#Importing the right libraries:\n",
        "import pandas as pd\n",
        "import numpy as np\n",
        "import matplotlib.pyplot as plt\n",
        "import seaborn as sns\n",
        "from scipy import stats\n",
        "import warnings\n",
        "import itertools\n",
        "from pandas.api.types import is_numeric_dtype\n",
        "from scipy.stats import shapiro"
      ]
    },
    {
      "cell_type": "code",
      "source": [
        "file_path = r\"/content/2020_data_Assuta_nomissings_for_stat_final_1005.xlsx\"\n",
        "df = pd.read_excel(file_path)\n",
        "print(df.head())"
      ],
      "metadata": {
        "id": "L7s3T9uG7pH-",
        "colab": {
          "base_uri": "https://localhost:8080/"
        },
        "outputId": "a727ebda-a422-4f80-fcf6-559c182ef658"
      },
      "id": "L7s3T9uG7pH-",
      "execution_count": 2,
      "outputs": [
        {
          "output_type": "stream",
          "name": "stdout",
          "text": [
            "   patient_id  Site Code Main Surgeon Code  Activity Code  Activity Type Code  \\\n",
            "0          45         20              2982          26.33                  19   \n",
            "1          46         20              2982          26.33                  19   \n",
            "2          51         20              2982          26.33                  19   \n",
            "3          53         20              2982          26.33                  19   \n",
            "4          54         20              2982          26.33                  19   \n",
            "\n",
            "   Planned SU Time (Large/Medium/Small) Pre-Surgery Admission Date  Height  \\\n",
            "0                                  17.0                 2020-10-05    1.70   \n",
            "1                                  20.0                 2020-01-06    1.75   \n",
            "2                                  20.0                 2019-12-30    1.56   \n",
            "3                                  20.0                 2020-02-03    1.56   \n",
            "4                                  20.0                 2020-02-10    1.76   \n",
            "\n",
            "   Weight  Patient Age (on Surgery Day)  ...  \\\n",
            "0    57.0                          50.0  ...   \n",
            "1   108.0                          20.0  ...   \n",
            "2    80.0                          69.0  ...   \n",
            "3    45.0                          28.0  ...   \n",
            "4    78.0                          52.0  ...   \n",
            "\n",
            "  Pre-Surgical Admission Time Before Surgery_Minutes  \\\n",
            "0                                                  1   \n",
            "1                                                  1   \n",
            "2                                                  1   \n",
            "3                                                  2   \n",
            "4                                                  1   \n",
            "\n",
            "  Actual Surgery Room Entry Time_Minutes Incision Time_Minutes  \\\n",
            "0                                      1                     1   \n",
            "1                                      1                     1   \n",
            "2                                      2                     2   \n",
            "3                                      2                     2   \n",
            "4                                      2                     2   \n",
            "\n",
            "  Closure Time_Minutes End of Surgery Time (Exit from OR)_Minutes  \\\n",
            "0                    1                                          1   \n",
            "1                    1                                          1   \n",
            "2                    2                                          2   \n",
            "3                    2                                          3   \n",
            "4                    1                                          2   \n",
            "\n",
            "  Recovery Room Entry Time_Minutes Recovery Room Exit Time_Minutes  \\\n",
            "0                                1                               1   \n",
            "1                                1                               1   \n",
            "2                                2                               2   \n",
            "3                                2                               3   \n",
            "4                                2                               2   \n",
            "\n",
            "  Post-Surgery Discharge Time_Minutes  \\\n",
            "0                                   2   \n",
            "1                                   2   \n",
            "2                                   2   \n",
            "3                                   2   \n",
            "4                                   1   \n",
            "\n",
            "  Planned Start Time for Doctor Block_Minutes  \\\n",
            "0                                           2   \n",
            "1                                           1   \n",
            "2                                           1   \n",
            "3                                           1   \n",
            "4                                           1   \n",
            "\n",
            "  Planned End Time for Doctor Block_Minutes  \n",
            "0                                         1  \n",
            "1                                         1  \n",
            "2                                         1  \n",
            "3                                         2  \n",
            "4                                         2  \n",
            "\n",
            "[5 rows x 62 columns]\n"
          ]
        }
      ]
    },
    {
      "cell_type": "code",
      "execution_count": 3,
      "id": "17ab80a8",
      "metadata": {
        "id": "17ab80a8",
        "colab": {
          "base_uri": "https://localhost:8080/"
        },
        "outputId": "10dc3798-63af-4b01-dfb6-4800a20be645"
      },
      "outputs": [
        {
          "output_type": "stream",
          "name": "stdout",
          "text": [
            "Index(['patient_id', 'Site Code', 'Main Surgeon Code', 'Activity Code',\n",
            "       'Activity Type Code', 'Planned SU Time (Large/Medium/Small)',\n",
            "       'Pre-Surgery Admission Date', 'Height', 'Weight',\n",
            "       'Patient Age (on Surgery Day)', 'Background Diseases/Diagnoses',\n",
            "       'Planned Surgery Date', 'Planned Surgery Time',\n",
            "       'Surgery Admission Date', 'Administrative Admission Time',\n",
            "       'Planned Operating Room Number',\n",
            "       'Pre-Surgery Hospitalization Admission Date',\n",
            "       'Pre-Surgery Hospitalization Admission Time',\n",
            "       'Pre-Surgical Admission Time Before Surgery', 'Surgical Team Codes',\n",
            "       'Anesthesiologist Code', 'Anesthesia Code', 'Type of Anesthesia',\n",
            "       'Cancellation Reason on Surgery Day', 'Actual Operating Room Number',\n",
            "       'Actual Surgery Room Entry Date', 'Actual Surgery Room Entry Time',\n",
            "       'Incision Time', 'Closure Time', 'End of Surgery Date (Exit from OR)',\n",
            "       'End of Surgery Time (Exit from OR)', 'Planned Surgery Duration',\n",
            "       'Recovery Room Entry Date', 'Recovery Room Entry Time',\n",
            "       'Recovery Room Exit Date', 'Recovery Room Exit Time',\n",
            "       'Post-Surgery Discharge Date', 'Post-Surgery Discharge Time',\n",
            "       'Planned Start Date for Doctor Block',\n",
            "       'Planned Start Time for Doctor Block',\n",
            "       'Planned End Date for Doctor Block',\n",
            "       'Planned End Time for Doctor Block', 'Readmission', 'strict_signature',\n",
            "       'No Show', 'Entry DateTime', 'Incision DateTime', 'Closure DateTime',\n",
            "       'Exit DateTime', 'Planned Surgery Time_Minutes',\n",
            "       'Administrative Admission Time_Minutes',\n",
            "       'Pre-Surgery Hospitalization Admission Time_Minutes',\n",
            "       'Pre-Surgical Admission Time Before Surgery_Minutes',\n",
            "       'Actual Surgery Room Entry Time_Minutes', 'Incision Time_Minutes',\n",
            "       'Closure Time_Minutes', 'End of Surgery Time (Exit from OR)_Minutes',\n",
            "       'Recovery Room Entry Time_Minutes', 'Recovery Room Exit Time_Minutes',\n",
            "       'Post-Surgery Discharge Time_Minutes',\n",
            "       'Planned Start Time for Doctor Block_Minutes',\n",
            "       'Planned End Time for Doctor Block_Minutes'],\n",
            "      dtype='object')\n"
          ]
        }
      ],
      "source": [
        "print(df.columns)"
      ]
    },
    {
      "cell_type": "code",
      "execution_count": 4,
      "id": "31753d4d",
      "metadata": {
        "id": "31753d4d",
        "colab": {
          "base_uri": "https://localhost:8080/"
        },
        "outputId": "6f6c6ae8-f8e3-43d4-b207-b389bea42c76"
      },
      "outputs": [
        {
          "output_type": "stream",
          "name": "stdout",
          "text": [
            "patient_id                                       int64\n",
            "Site Code                                        int64\n",
            "Main Surgeon Code                               object\n",
            "Activity Code                                  float64\n",
            "Activity Type Code                               int64\n",
            "                                                ...   \n",
            "Recovery Room Entry Time_Minutes                 int64\n",
            "Recovery Room Exit Time_Minutes                  int64\n",
            "Post-Surgery Discharge Time_Minutes              int64\n",
            "Planned Start Time for Doctor Block_Minutes      int64\n",
            "Planned End Time for Doctor Block_Minutes        int64\n",
            "Length: 62, dtype: object\n"
          ]
        }
      ],
      "source": [
        "print(df.dtypes)"
      ]
    },
    {
      "cell_type": "markdown",
      "id": "80f74dd7",
      "metadata": {
        "id": "80f74dd7"
      },
      "source": [
        "Step 1: Preparing and checking the time and date columns - converting to an appropriate data type"
      ]
    },
    {
      "cell_type": "code",
      "execution_count": 5,
      "id": "3dda8092",
      "metadata": {
        "id": "3dda8092"
      },
      "outputs": [],
      "source": [
        "df_copy=df.copy()"
      ]
    },
    {
      "cell_type": "code",
      "execution_count": 6,
      "id": "34112e6b",
      "metadata": {
        "id": "34112e6b",
        "colab": {
          "base_uri": "https://localhost:8080/"
        },
        "outputId": "c0cae4dc-7400-4a75-b516-abf5c6ebb5c0"
      },
      "outputs": [
        {
          "output_type": "stream",
          "name": "stdout",
          "text": [
            "Number of rows: 12920\n",
            "Number of columns: 62\n"
          ]
        }
      ],
      "source": [
        "print(f\"Number of rows: {df_copy.shape[0]}\")\n",
        "print(f\"Number of columns: {df_copy.shape[1]}\")"
      ]
    },
    {
      "cell_type": "code",
      "execution_count": 7,
      "id": "5359b7f2",
      "metadata": {
        "id": "5359b7f2",
        "colab": {
          "base_uri": "https://localhost:8080/"
        },
        "outputId": "47bbc921-47dc-4cff-aa52-8c3e52608f9b"
      },
      "outputs": [
        {
          "output_type": "stream",
          "name": "stdout",
          "text": [
            "   patient_id  Site Code Main Surgeon Code  Activity Code  Activity Type Code  \\\n",
            "0          45         20              2982          26.33                  19   \n",
            "1          46         20              2982          26.33                  19   \n",
            "2          51         20              2982          26.33                  19   \n",
            "3          53         20              2982          26.33                  19   \n",
            "4          54         20              2982          26.33                  19   \n",
            "5          55         20              2982          26.33                  19   \n",
            "6          57         20              2982          26.33                  19   \n",
            "7          59         20              2982          26.33                  19   \n",
            "8          61         20              2982          26.33                  19   \n",
            "9          62         20              2982          26.33                  19   \n",
            "\n",
            "   Planned SU Time (Large/Medium/Small) Pre-Surgery Admission Date  Height  \\\n",
            "0                                  17.0                 2020-10-05    1.70   \n",
            "1                                  20.0                 2020-01-06    1.75   \n",
            "2                                  20.0                 2019-12-30    1.56   \n",
            "3                                  20.0                 2020-02-03    1.56   \n",
            "4                                  20.0                 2020-02-10    1.76   \n",
            "5                                  20.0                 2020-08-10    1.72   \n",
            "6                                  20.0                 2020-11-09    1.90   \n",
            "7                                  20.0                 2020-12-07    1.72   \n",
            "8                                   0.0                 2020-01-29    1.64   \n",
            "9                                  20.0                 2020-07-06    1.60   \n",
            "\n",
            "   Weight  Patient Age (on Surgery Day)  ...  \\\n",
            "0    57.0                          50.0  ...   \n",
            "1   108.0                          20.0  ...   \n",
            "2    80.0                          69.0  ...   \n",
            "3    45.0                          28.0  ...   \n",
            "4    78.0                          52.0  ...   \n",
            "5    62.0                          16.0  ...   \n",
            "6    95.0                          49.0  ...   \n",
            "7    52.0                          35.0  ...   \n",
            "8    70.0                          45.0  ...   \n",
            "9    59.0                          28.0  ...   \n",
            "\n",
            "  Pre-Surgical Admission Time Before Surgery_Minutes  \\\n",
            "0                                                  1   \n",
            "1                                                  1   \n",
            "2                                                  1   \n",
            "3                                                  2   \n",
            "4                                                  1   \n",
            "5                                                  1   \n",
            "6                                                  1   \n",
            "7                                                  1   \n",
            "8                                                  2   \n",
            "9                                                  1   \n",
            "\n",
            "  Actual Surgery Room Entry Time_Minutes Incision Time_Minutes  \\\n",
            "0                                      1                     1   \n",
            "1                                      1                     1   \n",
            "2                                      2                     2   \n",
            "3                                      2                     2   \n",
            "4                                      2                     2   \n",
            "5                                      1                     1   \n",
            "6                                      1                     1   \n",
            "7                                      1                     1   \n",
            "8                                      3                     2   \n",
            "9                                      1                     1   \n",
            "\n",
            "  Closure Time_Minutes End of Surgery Time (Exit from OR)_Minutes  \\\n",
            "0                    1                                          1   \n",
            "1                    1                                          1   \n",
            "2                    2                                          2   \n",
            "3                    2                                          3   \n",
            "4                    1                                          2   \n",
            "5                    1                                          1   \n",
            "6                    1                                          1   \n",
            "7                    1                                          1   \n",
            "8                    3                                          3   \n",
            "9                    1                                          1   \n",
            "\n",
            "  Recovery Room Entry Time_Minutes Recovery Room Exit Time_Minutes  \\\n",
            "0                                1                               1   \n",
            "1                                1                               1   \n",
            "2                                2                               2   \n",
            "3                                2                               3   \n",
            "4                                2                               2   \n",
            "5                                1                               1   \n",
            "6                                1                               1   \n",
            "7                                1                               1   \n",
            "8                                3                               3   \n",
            "9                                1                               1   \n",
            "\n",
            "  Post-Surgery Discharge Time_Minutes  \\\n",
            "0                                   2   \n",
            "1                                   2   \n",
            "2                                   2   \n",
            "3                                   2   \n",
            "4                                   1   \n",
            "5                                   4   \n",
            "6                                   2   \n",
            "7                                   2   \n",
            "8                                   2   \n",
            "9                                   4   \n",
            "\n",
            "  Planned Start Time for Doctor Block_Minutes  \\\n",
            "0                                           2   \n",
            "1                                           1   \n",
            "2                                           1   \n",
            "3                                           1   \n",
            "4                                           1   \n",
            "5                                           1   \n",
            "6                                           1   \n",
            "7                                           1   \n",
            "8                                           3   \n",
            "9                                           1   \n",
            "\n",
            "  Planned End Time for Doctor Block_Minutes  \n",
            "0                                         1  \n",
            "1                                         1  \n",
            "2                                         1  \n",
            "3                                         2  \n",
            "4                                         2  \n",
            "5                                         1  \n",
            "6                                         1  \n",
            "7                                         1  \n",
            "8                                         2  \n",
            "9                                         1  \n",
            "\n",
            "[10 rows x 62 columns]\n"
          ]
        }
      ],
      "source": [
        "print(df_copy.head(10))"
      ]
    },
    {
      "cell_type": "markdown",
      "id": "67e739b3",
      "metadata": {
        "id": "67e739b3"
      },
      "source": [
        "Handling duplicates and missing values of type NALL:"
      ]
    },
    {
      "cell_type": "code",
      "execution_count": 8,
      "id": "49b62afe",
      "metadata": {
        "id": "49b62afe",
        "colab": {
          "base_uri": "https://localhost:8080/"
        },
        "outputId": "8f1fee3c-6bcf-4028-de0c-7c86dc9659c4"
      },
      "outputs": [
        {
          "output_type": "stream",
          "name": "stdout",
          "text": [
            "The number of completely repeating lines: 0\n"
          ]
        }
      ],
      "source": [
        "# Overall duplicate count (all rows):\n",
        "num_duplicates = df_copy.duplicated().sum()\n",
        "print(f\"The number of completely repeating lines: {num_duplicates}\")"
      ]
    },
    {
      "cell_type": "markdown",
      "source": [
        "We tried to merge the duplicate rows more effectively based on the following parameters: age, weight, height, surgery entry date, and surgeon code. We attempted to prevent data loss by combining the different values from the duplicate rows. However, the code did not work as expected and distorted the time-related data, resulting in incorrect utilization calculations."
      ],
      "metadata": {
        "id": "cxNQFwQLCDY4"
      },
      "id": "cxNQFwQLCDY4"
    },
    {
      "cell_type": "markdown",
      "id": "cd07f34a",
      "metadata": {
        "id": "cd07f34a"
      },
      "source": [
        "Planned End Time for Doctor Block:"
      ]
    },
    {
      "cell_type": "code",
      "execution_count": 9,
      "id": "1ed62bae",
      "metadata": {
        "id": "1ed62bae",
        "colab": {
          "base_uri": "https://localhost:8080/"
        },
        "outputId": "80669403-381f-44df-c34f-7e2be4594fab"
      },
      "outputs": [
        {
          "output_type": "stream",
          "name": "stdout",
          "text": [
            "['10:30:00' '12:27:00' '13:45:00' '10:20:00' '12:50:00' '12:45:00'\n",
            " '14:55:00' '08:40:00' '13:00:00' '13:40:00' '08:45:00' '12:51:00'\n",
            " '10:00:00' '11:00:00' '12:30:00' '10:31:00' '09:55:00' '10:10:00'\n",
            " '09:36:00' '11:10:00' '08:50:00' '12:16:00' '12:35:00' '10:33:00'\n",
            " '09:40:00' '11:50:00' '11:12:00' '09:59:00' '11:35:00' '12:37:00'\n",
            " '14:04:00' '15:00:00' '11:14:00' '13:19:00' '13:33:00' '13:42:00'\n",
            " '13:49:00' '14:00:00' '14:50:00' '14:51:00' '13:22:00' '14:47:00'\n",
            " '13:47:00' '09:20:00' '13:51:00' '11:25:00' '09:07:00' '14:25:00'\n",
            " '10:47:00' '12:53:00' '10:58:00' '09:00:00' '12:07:00' '10:46:00'\n",
            " '11:32:00' '09:31:00' '10:14:00' '09:26:00' '09:15:00' '10:55:00'\n",
            " '11:48:00' '11:53:00' '11:38:00' '10:40:00' '11:06:00' '10:25:00'\n",
            " '10:16:00' '13:56:00' '11:03:00' '15:50:00' '09:53:00' '11:15:00'\n",
            " '11:57:00' '09:13:00' '12:00:00' '12:13:00' '12:14:00' '12:55:00'\n",
            " '07:51:00' '14:07:00' '11:45:00' '14:30:00' '13:55:00' '10:45:00'\n",
            " '09:49:00' '11:24:00' '11:18:00' '12:05:00' '11:02:00' '11:59:00'\n",
            " '11:40:00' '10:24:00' '10:26:00' '10:43:00' '08:15:00' '09:54:00'\n",
            " '09:50:00' '08:26:00' '08:09:00' '07:54:00' '11:54:00' '08:48:00'\n",
            " '08:11:00' '09:09:00' '08:59:00' '08:52:00' '10:41:00' '08:10:00'\n",
            " '14:37:00' '07:45:00' '09:45:00' '08:53:00' '09:43:00' '08:55:00'\n",
            " '11:43:00' '13:23:00' '12:58:00' '13:58:00' '09:46:00' '08:03:00'\n",
            " '07:42:00' '14:36:00' '07:29:00' '08:58:00' '14:58:00' '08:33:00'\n",
            " '07:47:00' '12:28:00' '10:49:00' '13:06:00' '13:25:00' '12:46:00'\n",
            " '09:30:00' '12:48:00' '12:41:00' '12:17:00' '11:27:00' '08:07:00'\n",
            " '09:17:00' '09:32:00' '08:28:00' '18:00:00' '22:26:00' '08:00:00'\n",
            " '22:39:00' '14:38:00' '15:24:00' '15:55:00' '13:27:00' '16:30:00'\n",
            " '18:06:00' '15:10:00' '15:30:00' '17:00:00' '18:30:00' '16:27:00'\n",
            " '16:45:00' '17:45:00' '14:45:00' '09:48:00' '14:15:00' '20:15:00'\n",
            " '15:44:00' '17:12:00' '10:57:00' '19:25:00' '09:04:00' '16:50:00'\n",
            " '12:08:00' '16:41:00' '14:42:00' '13:05:00' '13:12:00' '09:41:00'\n",
            " '13:15:00' '09:56:00' '15:54:00' '08:12:00' '14:57:00' '14:46:00'\n",
            " '12:34:00' '10:23:00' '14:26:00' '10:54:00' '10:51:00' '09:52:00'\n",
            " '11:20:00' '11:44:00' '11:41:00' '13:30:00' '14:53:00' '10:35:00'\n",
            " '09:25:00' '14:10:00' '14:32:00' '10:59:00' '12:20:00' '14:59:00'\n",
            " '13:10:00' '12:02:00' '10:52:00' '08:18:00' '12:23:00' '11:17:00'\n",
            " '09:12:00' '08:22:00' '08:47:00' '18:37:00' '16:29:00' '17:19:00'\n",
            " '18:16:00' '22:30:00' '19:49:00' '12:11:00' '15:22:00' '15:34:00'\n",
            " '19:55:00' '14:28:00' '22:38:00' '19:52:00' '22:35:00' '22:24:00'\n",
            " '13:17:00' '20:21:00' '22:41:00' '14:40:00' '16:55:00' '11:22:00'\n",
            " '18:57:00' '16:54:00' '14:33:00' '17:22:00' '17:02:00' '11:21:00'\n",
            " '15:32:00' '13:50:00' '14:52:00' '16:14:00' '14:29:00' '10:34:00'\n",
            " '15:51:00' '13:28:00' '15:03:00' '14:43:00' '15:58:00' '14:56:00'\n",
            " '16:05:00' '12:56:00' '16:00:00' '13:20:00' '11:05:00' '14:05:00'\n",
            " '11:55:00' '08:38:00' '12:18:00' '19:21:00' '21:30:00' '16:09:00'\n",
            " '16:28:00' '13:26:00' '17:07:00' '20:30:00' '12:12:00' '12:22:00'\n",
            " '12:10:00' '12:29:00' '14:34:00' '14:44:00' '09:42:00' '17:51:00'\n",
            " '14:20:00' '11:28:00' '15:25:00' '10:19:00' '13:38:00' '19:40:00'\n",
            " '21:23:00' '22:15:00' '20:00:00' '20:53:00' '18:24:00' '20:17:00'\n",
            " '22:03:00' '20:12:00' '19:28:00' '19:38:00' '21:13:00' '22:57:00'\n",
            " '20:47:00' '20:28:00' '18:34:00' '17:09:00' '21:15:00' '18:25:00'\n",
            " '19:58:00' '20:44:00' '22:07:00' '20:52:00' '23:00:00' '20:50:00'\n",
            " '22:36:00' '18:11:00' '22:13:00' '13:02:00' '11:49:00' '12:32:00'\n",
            " '11:39:00' '13:29:00' '08:54:00' '07:55:00' '10:29:00' '08:44:00'\n",
            " '09:33:00' '09:34:00' '11:07:00' '11:30:00' '10:04:00' '08:49:00'\n",
            " '10:36:00' '09:21:00' '09:24:00' '11:19:00' '11:42:00' '19:47:00'\n",
            " '15:57:00' '11:51:00' '10:21:00' '14:35:00' '16:39:00' '11:37:00'\n",
            " '17:18:00' '10:05:00' '12:40:00' '13:44:00' '15:45:00' '13:39:00'\n",
            " '13:07:00' '12:52:00' '12:57:00' '15:40:00' '09:05:00' '15:20:00'\n",
            " '12:15:00' '14:01:00' '11:56:00' '14:14:00' '10:28:00' '08:43:00'\n",
            " '22:51:00' '22:50:00' '22:53:00' '11:58:00' '15:42:00' '08:16:00'\n",
            " '22:40:00' '21:55:00' '15:06:00' '14:17:00' '15:43:00' '14:27:00'\n",
            " '14:24:00' '13:46:00' '13:41:00' '14:03:00' '18:49:00' '13:53:00'\n",
            " '10:38:00' '12:36:00' '13:37:00' '19:15:00' '15:26:00' '17:50:00'\n",
            " '10:13:00' '18:43:00' '10:56:00' '21:59:00' '15:41:00' '22:27:00'\n",
            " '22:44:00' '21:18:00' '15:59:00' '18:20:00' '21:50:00' '21:54:00'\n",
            " '14:48:00' '22:48:00' '19:35:00' '19:14:00' '21:10:00' '20:03:00'\n",
            " '21:40:00' '14:11:00' '18:35:00' '18:39:00' '20:55:00' '14:21:00'\n",
            " '20:25:00' '19:57:00' '19:00:00' '20:40:00' '22:58:00' '21:00:00'\n",
            " '21:44:00' '22:45:00' '11:11:00' '13:34:00' '12:38:00' '10:44:00'\n",
            " '11:13:00' '12:09:00' '22:00:00' '14:02:00' '08:24:00' '15:18:00'\n",
            " '11:16:00' '15:52:00' '20:16:00' '16:31:00' '13:36:00' '09:10:00'\n",
            " '12:39:00' '12:54:00' '21:07:00' '13:08:00' '13:52:00' '22:12:00'\n",
            " '11:36:00' '07:46:00' '21:21:00' '11:31:00' '08:56:00' '09:06:00'\n",
            " '22:56:00' '22:55:00' '22:59:00' '22:54:00' '09:57:00' '20:57:00'\n",
            " '17:08:00' '12:03:00' '21:20:00' '21:16:00' '21:03:00' '17:53:00'\n",
            " '22:43:00' '18:28:00' '16:10:00' '20:45:00' '12:25:00' '20:10:00'\n",
            " '21:58:00' '17:10:00' '22:25:00' '11:23:00' '21:56:00' '21:05:00'\n",
            " '19:45:00' '15:16:00' '15:56:00' '17:26:00' '22:09:00' '19:50:00'\n",
            " '13:48:00' '15:15:00' '14:54:00' '13:54:00' '12:33:00' '14:06:00'\n",
            " '15:11:00' '14:19:00' '13:32:00' '18:15:00' '10:15:00' '09:39:00'\n",
            " '14:39:00' '13:03:00' '14:49:00' '12:44:00' '13:35:00' '10:48:00'\n",
            " '12:43:00' '17:48:00' '08:29:00' '13:57:00' '14:41:00' '16:25:00'\n",
            " '13:09:00' '14:08:00' '08:30:00' '22:16:00' '17:20:00' '13:59:00'\n",
            " '21:14:00' '09:08:00' '13:43:00' '12:26:00' '10:39:00' '11:47:00'\n",
            " '14:12:00' '20:24:00' '16:32:00' '13:13:00' '12:21:00' '08:42:00'\n",
            " '19:05:00' '19:16:00' '22:06:00' '13:04:00' '17:34:00' '21:53:00'\n",
            " '13:01:00' '22:47:00' '17:59:00' '22:42:00' '18:40:00' '11:46:00'\n",
            " '16:59:00' '20:36:00' '21:41:00' '21:19:00' '16:57:00' '22:20:00'\n",
            " '15:19:00' '22:49:00' '16:11:00' '21:39:00' '16:26:00' '16:35:00'\n",
            " '16:48:00' '20:32:00' '21:57:00' '16:34:00' '21:47:00' '16:49:00'\n",
            " '18:55:00' '14:13:00' '16:42:00' '17:57:00' '16:01:00' '21:51:00'\n",
            " '18:29:00' '15:36:00' '17:58:00' '21:26:00' '15:31:00' '15:01:00'\n",
            " '21:48:00' '19:44:00' '16:15:00' '15:46:00' '15:35:00' '17:54:00'\n",
            " '19:59:00' '18:48:00' '16:20:00' '18:41:00' '19:22:00' '18:45:00'\n",
            " '09:28:00' '18:01:00' '16:18:00' '18:52:00' '17:55:00' '16:40:00'\n",
            " '15:28:00' '17:33:00' '15:48:00' '18:50:00' '15:29:00' '18:59:00'\n",
            " '17:30:00' '20:56:00' '21:32:00' '21:11:00' '18:54:00' '11:26:00'\n",
            " '16:53:00' '17:35:00' '15:49:00' '08:46:00' '19:31:00' '20:38:00'\n",
            " '17:44:00' '18:19:00' '22:21:00' '22:01:00' '20:39:00' '18:17:00'\n",
            " '10:37:00' '11:08:00' '11:52:00' '19:30:00' '21:34:00' '21:28:00'\n",
            " '20:35:00' '13:24:00' '09:29:00' '13:14:00' '13:21:00' '17:40:00'\n",
            " '16:16:00' '13:18:00' '09:14:00' '18:56:00' '18:21:00' '16:47:00'\n",
            " '10:01:00' '09:35:00' '12:31:00' '09:51:00' '12:59:00' '11:29:00'\n",
            " '15:37:00' '16:17:00' '13:31:00' '08:19:00' '21:22:00' '19:51:00'\n",
            " '20:48:00' '10:50:00' '20:05:00' '11:04:00' '10:32:00' '14:09:00'\n",
            " '14:18:00' '08:25:00' '08:06:00' '18:58:00' '21:06:00' '21:02:00'\n",
            " '21:01:00' '21:35:00' '18:23:00' '18:38:00' '21:38:00' '19:20:00'\n",
            " '19:24:00' '20:20:00' '17:06:00' '19:10:00' '22:10:00' '21:08:00'\n",
            " '19:29:00' '17:47:00' '20:26:00' '20:23:00' '20:18:00' '18:32:00'\n",
            " '18:26:00' '21:31:00' '19:12:00' '22:11:00' '17:16:00' '19:34:00'\n",
            " '18:33:00' '15:17:00' '15:27:00' '20:06:00' '14:22:00' '15:12:00'\n",
            " '17:28:00' '17:15:00' '18:09:00' '15:47:00' '19:04:00' '15:38:00'\n",
            " '10:22:00' '15:02:00' '22:52:00' '22:37:00' '20:34:00' '20:59:00'\n",
            " '17:42:00' '20:46:00' '16:24:00' '22:28:00' '21:04:00' '20:04:00'\n",
            " '19:32:00' '19:02:00' '20:41:00' '19:36:00' '17:29:00' '12:19:00'\n",
            " '19:11:00' '16:56:00' '21:36:00' '08:35:00' '20:54:00' '19:42:00'\n",
            " '21:43:00' '22:18:00' '20:43:00' '09:11:00' '22:14:00' '09:01:00'\n",
            " '08:51:00' '20:08:00' '20:11:00' '21:29:00' '22:08:00' '16:33:00'\n",
            " '18:14:00' '20:14:00' '22:04:00' '18:10:00' '22:29:00' '21:37:00'\n",
            " '20:27:00' '19:54:00' '18:46:00' '20:51:00' '19:13:00' '21:52:00'\n",
            " '13:16:00' '18:07:00' '12:47:00' '12:42:00' '18:47:00' '13:11:00'\n",
            " '19:07:00' '15:13:00' '15:21:00' '19:53:00' '15:14:00' '17:14:00'\n",
            " '08:31:00' '10:27:00' '11:34:00' '09:22:00' '18:36:00' '10:08:00'\n",
            " '08:34:00' '08:39:00' '10:53:00' '00:07:00' '18:05:00' '09:19:00'\n",
            " '10:11:00' '18:44:00' '14:23:00' '07:57:00' '08:20:00' '21:42:00'\n",
            " '20:58:00' '21:49:00' '22:34:00' '22:17:00' '15:53:00' '16:51:00'\n",
            " '16:03:00' '18:42:00' '20:29:00' '20:49:00' '20:42:00' '16:12:00'\n",
            " '18:18:00' '18:12:00' '22:22:00' '21:27:00' '22:31:00' '22:46:00'\n",
            " '20:01:00' '17:36:00' '21:45:00' '19:19:00' '21:25:00' '19:46:00'\n",
            " '16:08:00' '09:38:00' '19:23:00' '23:47:00' '18:03:00' '17:25:00'\n",
            " '22:23:00' '21:24:00' '17:31:00' '19:39:00' '12:04:00' '21:33:00'\n",
            " '20:37:00' '19:37:00' '18:04:00' '17:49:00' '11:01:00' '15:05:00'\n",
            " '16:44:00' '15:33:00' '15:39:00' '22:33:00' '19:08:00' '23:03:00'\n",
            " '16:13:00' '16:58:00' '16:23:00' '19:48:00' '19:18:00' '22:32:00'\n",
            " '20:13:00' '09:16:00' '12:49:00' '19:43:00' '18:13:00' '17:05:00'\n",
            " '15:09:00' '16:21:00' '12:24:00' '21:17:00' '10:09:00' '18:22:00'\n",
            " '18:51:00' '15:07:00' '20:09:00' '08:13:00' '07:53:00' '22:02:00'\n",
            " '11:09:00' '15:23:00' '16:43:00' '18:53:00' '20:22:00' '19:09:00'\n",
            " '19:56:00' '08:27:00' '07:35:00' '12:01:00' '22:19:00' '18:27:00'\n",
            " '17:38:00' '16:52:00' '21:09:00' '22:05:00' '09:18:00' '20:19:00'\n",
            " '18:08:00' '17:56:00' '07:59:00' '19:26:00' '19:06:00' '17:46:00'\n",
            " '17:43:00' '16:22:00' '10:18:00' '20:31:00' '11:33:00' '14:31:00'\n",
            " '19:03:00' '21:46:00' '19:27:00' '18:31:00' '17:27:00' '17:17:00'\n",
            " '16:37:00' '17:21:00' '09:27:00' '17:13:00' '08:37:00' '10:42:00'\n",
            " '17:24:00' '17:37:00' '16:38:00' '17:32:00' '12:06:00' '15:04:00'\n",
            " '09:58:00' '08:36:00' '10:12:00' '17:52:00' '09:44:00' '18:02:00'\n",
            " '08:23:00' '16:46:00' '19:41:00' '21:12:00' '07:56:00' '17:23:00'\n",
            " '14:16:00' '08:05:00' '09:37:00' '10:06:00' '16:19:00' '10:07:00'\n",
            " '16:07:00' '07:50:00' '15:08:00' '09:47:00' '17:41:00' '20:07:00']\n"
          ]
        }
      ],
      "source": [
        "# Print the unique values in a column:\n",
        "print(df_copy['Planned End Time for Doctor Block'].unique())"
      ]
    },
    {
      "cell_type": "code",
      "execution_count": 10,
      "id": "2e0f2bcd",
      "metadata": {
        "id": "2e0f2bcd",
        "colab": {
          "base_uri": "https://localhost:8080/"
        },
        "outputId": "28879293-072d-420b-c5cd-7d6808302fb3"
      },
      "outputs": [
        {
          "output_type": "stream",
          "name": "stdout",
          "text": [
            "object\n",
            "0    10:30:00\n",
            "1    12:27:00\n",
            "2    12:27:00\n",
            "3    13:45:00\n",
            "4    13:45:00\n",
            "5    10:20:00\n",
            "6    12:50:00\n",
            "7    12:45:00\n",
            "8    14:55:00\n",
            "9    08:40:00\n",
            "Name: Planned End Time for Doctor Block, dtype: object\n"
          ]
        }
      ],
      "source": [
        "print(df_copy['Planned End Time for Doctor Block'].dtype)\n",
        "print(df_copy['Planned End Time for Doctor Block'].head(10))"
      ]
    },
    {
      "cell_type": "code",
      "execution_count": 11,
      "id": "59bc68fb",
      "metadata": {
        "id": "59bc68fb"
      },
      "outputs": [],
      "source": [
        "# Convert to datetime format and then save only the time:\n",
        "df_copy['Planned End Time for Doctor Block'] = pd.to_datetime(\n",
        "    df_copy['Planned End Time for Doctor Block'],\n",
        "    format='%H:%M:%S',\n",
        "    errors='coerce'  # Converts invalid values to NaT\n",
        ").dt.time"
      ]
    },
    {
      "cell_type": "code",
      "execution_count": 12,
      "id": "4d14c4a9",
      "metadata": {
        "id": "4d14c4a9",
        "colab": {
          "base_uri": "https://localhost:8080/"
        },
        "outputId": "ec2e76ed-8223-4ee3-e264-ebac49fc2389"
      },
      "outputs": [
        {
          "output_type": "stream",
          "name": "stdout",
          "text": [
            "object\n",
            "0    10:30:00\n",
            "1    12:27:00\n",
            "2    12:27:00\n",
            "3    13:45:00\n",
            "4    13:45:00\n",
            "5    10:20:00\n",
            "6    12:50:00\n",
            "7    12:45:00\n",
            "8    14:55:00\n",
            "9    08:40:00\n",
            "Name: Planned End Time for Doctor Block, dtype: object\n",
            "Missing values: 0\n"
          ]
        }
      ],
      "source": [
        "# Checking the column type and values\n",
        "print(df_copy['Planned End Time for Doctor Block'].dtype)  # Should return object but with type time\n",
        "print(df_copy['Planned End Time for Doctor Block'].head(10))\n",
        "print(\"Missing values:\", df_copy['Planned End Time for Doctor Block'].isna().sum())"
      ]
    },
    {
      "cell_type": "code",
      "execution_count": 13,
      "id": "d999b845",
      "metadata": {
        "id": "d999b845"
      },
      "outputs": [],
      "source": [
        "df_copy['Planned End Time for Doctor Block'] = pd.to_timedelta(\n",
        "    df_copy['Planned End Time for Doctor Block'].astype(str),\n",
        "    errors='coerce')"
      ]
    },
    {
      "cell_type": "code",
      "execution_count": 14,
      "id": "8628bead",
      "metadata": {
        "id": "8628bead",
        "colab": {
          "base_uri": "https://localhost:8080/"
        },
        "outputId": "0a0aeabd-c093-4bc3-98a9-7a87e05bc8c9"
      },
      "outputs": [
        {
          "output_type": "stream",
          "name": "stdout",
          "text": [
            "timedelta64[ns]\n"
          ]
        }
      ],
      "source": [
        "print(df_copy['Planned End Time for Doctor Block'].dtype)"
      ]
    },
    {
      "cell_type": "markdown",
      "id": "d26c4f26",
      "metadata": {
        "id": "d26c4f26"
      },
      "source": [
        "Closure Time:"
      ]
    },
    {
      "cell_type": "code",
      "execution_count": 15,
      "id": "7ffe9da2",
      "metadata": {
        "id": "7ffe9da2",
        "colab": {
          "base_uri": "https://localhost:8080/"
        },
        "outputId": "5d0a3b56-cacb-4e8a-a4a1-258553d80d57"
      },
      "outputs": [
        {
          "output_type": "stream",
          "name": "stdout",
          "text": [
            "['08:39:00' '08:23:00' '13:01:00' '14:20:00' '10:04:00' '10:31:00'\n",
            " '08:56:00' '09:07:00' '15:05:00' '08:48:00' '09:12:00' '10:43:00'\n",
            " '11:16:00' '12:06:00' '15:09:00' '11:07:00' '10:25:00' '14:44:00'\n",
            " '09:30:00' '12:57:00' '09:57:00' '11:29:00' '11:48:00' '10:22:00'\n",
            " '10:38:00' '09:41:00' '08:44:00' '09:28:00' '12:59:00' '09:00:00'\n",
            " '09:14:00' '10:33:00' '12:35:00' '14:21:00' '14:13:00' '09:49:00'\n",
            " '09:45:00' '11:21:00' '10:41:00' '09:47:00' '10:29:00' '15:11:00'\n",
            " '15:47:00' '13:21:00' '10:35:00' '08:42:00' '12:32:00' '12:38:00'\n",
            " '09:50:00' '08:54:00' '08:43:00' '10:18:00' '13:22:00' '10:37:00'\n",
            " '12:43:00' '10:45:00' '12:23:00' '11:36:00' '10:07:00' '12:02:00'\n",
            " '08:36:00' '14:37:00' '08:41:00' '13:20:00' '11:46:00' '13:49:00'\n",
            " '10:52:00' '08:47:00' '08:33:00' '10:28:00' '10:55:00' '13:40:00'\n",
            " '12:37:00' '09:37:00' '13:16:00' '09:15:00' '08:20:00' '08:29:00'\n",
            " '12:22:00' '10:57:00' '08:34:00' '08:18:00' '12:39:00' '08:15:00'\n",
            " '11:34:00' '09:02:00' '08:53:00' '16:47:00' '09:29:00' '09:53:00'\n",
            " '09:05:00' '10:06:00' '09:39:00' '13:56:00' '12:40:00' '10:53:00'\n",
            " '09:40:00' '10:03:00' '15:06:00' '15:23:00' '09:11:00' '09:54:00'\n",
            " '12:03:00' '16:52:00' '11:26:00' '12:25:00' '10:44:00' '13:48:00'\n",
            " '08:07:00' '13:07:00' '12:51:00' '12:55:00' '14:00:00' '12:15:00'\n",
            " '12:11:00' '13:37:00' '11:55:00' '11:41:00' '11:01:00' '14:02:00'\n",
            " '09:26:00' '11:44:00' '14:15:00' '14:57:00' '14:24:00' '13:45:00'\n",
            " '15:34:00' '13:03:00' '14:32:00' '09:22:00' '09:31:00' '13:10:00'\n",
            " '08:37:00' '14:04:00' '08:51:00' '07:54:00' '10:23:00' '11:24:00'\n",
            " '13:15:00' '12:20:00' '10:49:00' '08:45:00' '09:46:00' '09:56:00'\n",
            " '08:10:00' '09:24:00' '07:46:00' '10:32:00' '11:42:00' '08:49:00'\n",
            " '08:04:00' '07:35:00' '07:29:00' '07:32:00' '07:47:00' '11:17:00'\n",
            " '08:17:00' '09:48:00' '08:12:00' '10:00:00' '07:28:00' '07:43:00'\n",
            " '07:30:00' '07:40:00' '08:50:00' '11:00:00' '11:25:00' '07:56:00'\n",
            " '07:51:00' '07:57:00' '11:20:00' '08:52:00' '10:39:00' '10:01:00'\n",
            " '07:37:00' '08:38:00' '08:57:00' '13:30:00' '10:08:00' '07:42:00'\n",
            " '10:40:00' '12:27:00' '13:12:00' '13:41:00' '10:20:00' '09:01:00'\n",
            " '07:53:00' '13:58:00' '08:06:00' '12:30:00' '07:48:00' '14:49:00'\n",
            " '08:26:00' '09:33:00' '10:17:00' '07:58:00' '12:08:00' '07:41:00'\n",
            " '08:21:00' '08:14:00' '11:45:00' '10:19:00' '08:19:00' '13:05:00'\n",
            " '08:25:00' '09:58:00' '08:27:00' '14:50:00' '12:50:00' '11:59:00'\n",
            " '12:28:00' '12:19:00' '09:21:00' '15:08:00' '08:03:00' '11:31:00'\n",
            " '17:05:00' '08:40:00' '19:14:00' '10:30:00' '18:10:00' '07:49:00'\n",
            " '11:04:00' '13:35:00' '09:17:00' '18:16:00' '20:28:00' '13:39:00'\n",
            " '15:26:00' '16:25:00' '14:34:00' '13:24:00' '15:43:00' '16:39:00'\n",
            " '16:22:00' '12:18:00' '16:01:00' '14:59:00' '14:51:00' '17:41:00'\n",
            " '20:42:00' '19:55:00' '14:35:00' '17:04:00' '17:35:00' '16:42:00'\n",
            " '16:00:00' '14:48:00' '09:52:00' '14:36:00' '19:08:00' '15:41:00'\n",
            " '18:15:00' '13:29:00' '21:40:00' '10:34:00' '14:09:00' '18:52:00'\n",
            " '19:43:00' '09:10:00' '11:57:00' '10:14:00' '18:53:00' '16:35:00'\n",
            " '16:24:00' '13:27:00' '11:58:00' '10:27:00' '13:34:00' '12:34:00'\n",
            " '10:05:00' '15:21:00' '14:28:00' '15:01:00' '09:59:00' '08:01:00'\n",
            " '09:16:00' '14:23:00' '08:13:00' '10:51:00' '16:20:00' '17:42:00'\n",
            " '11:23:00' '08:31:00' '12:07:00' '11:37:00' '10:02:00' '10:12:00'\n",
            " '13:31:00' '08:11:00' '14:41:00' '14:16:00' '13:11:00' '08:59:00'\n",
            " '11:43:00' '14:31:00' '12:00:00' '13:36:00' '11:50:00' '14:42:00'\n",
            " '11:56:00' '14:22:00' '11:12:00' '10:58:00' '07:59:00' '09:23:00'\n",
            " '11:14:00' '08:02:00' '08:00:00' '16:04:00' '16:49:00' '16:45:00'\n",
            " '21:48:00' '19:15:00' '15:28:00' '15:53:00' '18:35:00' '12:09:00'\n",
            " '20:15:00' '15:19:00' '20:58:00' '20:11:00' '17:22:00' '21:00:00'\n",
            " '22:28:00' '15:51:00' '20:23:00' '21:15:00' '15:04:00' '16:48:00'\n",
            " '17:02:00' '11:47:00' '10:09:00' '15:00:00' '22:07:00' '18:12:00'\n",
            " '10:26:00' '14:07:00' '12:33:00' '12:04:00' '17:56:00' '15:42:00'\n",
            " '16:16:00' '12:05:00' '14:52:00' '12:44:00' '14:06:00' '12:49:00'\n",
            " '16:40:00' '13:06:00' '13:47:00' '15:24:00' '13:02:00' '13:04:00'\n",
            " '13:50:00' '08:16:00' '15:25:00' '13:54:00' '14:54:00' '12:54:00'\n",
            " '15:31:00' '17:57:00' '15:27:00' '15:57:00' '11:30:00' '15:32:00'\n",
            " '15:39:00' '17:47:00' '11:09:00' '13:14:00' '11:40:00' '14:17:00'\n",
            " '13:52:00' '10:21:00' '14:14:00' '11:13:00' '14:30:00' '15:14:00'\n",
            " '10:24:00' '18:04:00' '13:43:00' '11:05:00' '12:16:00' '13:13:00'\n",
            " '13:26:00' '11:38:00' '14:03:00' '14:12:00' '18:39:00' '19:45:00'\n",
            " '20:51:00' '11:28:00' '16:27:00' '17:10:00' '21:07:00' '07:50:00'\n",
            " '13:25:00' '10:11:00' '12:10:00' '12:58:00' '12:31:00' '12:21:00'\n",
            " '13:08:00' '08:08:00' '10:54:00' '13:33:00' '14:18:00' '15:20:00'\n",
            " '09:51:00' '15:55:00' '21:30:00' '18:14:00' '15:15:00' '14:26:00'\n",
            " '16:55:00' '20:09:00' '12:56:00' '18:44:00' '16:12:00' '19:22:00'\n",
            " '20:55:00' '20:24:00' '20:32:00' '20:20:00' '19:42:00' '20:44:00'\n",
            " '20:49:00' '18:00:00' '20:17:00' '19:40:00' '20:16:00' '15:49:00'\n",
            " '17:44:00' '19:35:00' '19:53:00' '22:32:00' '15:56:00' '16:03:00'\n",
            " '17:37:00' '15:16:00' '21:12:00' '18:13:00' '21:50:00' '16:11:00'\n",
            " '17:14:00' '21:05:00' '22:10:00' '22:52:00' '22:45:00' '12:12:00'\n",
            " '08:28:00' '13:38:00' '09:35:00' '10:15:00' '14:39:00' '10:50:00'\n",
            " '14:11:00' '14:29:00' '08:24:00' '12:41:00' '11:33:00' '11:54:00'\n",
            " '08:30:00' '15:38:00' '09:04:00' '12:48:00' '08:46:00' '17:54:00'\n",
            " '17:38:00' '08:32:00' '13:44:00' '09:18:00' '09:42:00' '08:35:00'\n",
            " '09:08:00' '09:43:00' '10:48:00' '07:45:00' '08:58:00' '08:22:00'\n",
            " '21:28:00' '15:50:00' '07:39:00' '15:13:00' '09:09:00' '19:47:00'\n",
            " '22:33:00' '15:18:00' '15:36:00' '14:45:00' '16:30:00' '18:11:00'\n",
            " '10:42:00' '11:22:00' '09:03:00' '15:33:00' '12:36:00' '11:11:00'\n",
            " '15:03:00' '17:28:00' '19:20:00' '16:50:00' '10:13:00' '12:53:00'\n",
            " '17:15:00' '14:25:00' '09:55:00' '11:32:00' '16:37:00' '09:06:00'\n",
            " '12:47:00' '10:10:00' '15:22:00' '16:26:00' '15:48:00' '11:19:00'\n",
            " '11:49:00' '12:29:00' '11:03:00' '08:09:00' '19:38:00' '15:10:00'\n",
            " '10:56:00' '07:52:00' '00:49:00' '23:17:00' '14:01:00' '21:56:00'\n",
            " '22:59:00' '22:20:00' '09:13:00' '09:36:00' '07:44:00' '10:16:00'\n",
            " '16:31:00' '07:36:00' '11:51:00' '09:44:00' '21:27:00' '13:51:00'\n",
            " '10:46:00' '12:46:00' '14:40:00' '11:52:00' '10:36:00' '12:42:00'\n",
            " '11:15:00' '09:32:00' '13:17:00' '15:45:00' '17:49:00' '12:52:00'\n",
            " '07:34:00' '16:41:00' '11:08:00' '10:59:00' '17:00:00' '11:53:00'\n",
            " '12:01:00' '20:45:00' '21:08:00' '19:26:00' '19:44:00' '16:10:00'\n",
            " '21:31:00' '14:05:00' '21:16:00' '13:19:00' '16:15:00' '21:29:00'\n",
            " '19:11:00' '18:22:00' '18:21:00' '17:45:00' '09:27:00' '17:26:00'\n",
            " '20:08:00' '21:03:00' '21:04:00' '20:31:00' '18:40:00' '16:32:00'\n",
            " '18:46:00' '20:50:00' '18:20:00' '18:25:00' '18:28:00' '19:27:00'\n",
            " '17:51:00' '17:18:00' '20:05:00' '18:05:00' '17:20:00' '13:55:00'\n",
            " '19:21:00' '20:22:00' '20:06:00' '17:53:00' '20:21:00' '16:23:00'\n",
            " '17:58:00' '18:03:00' '19:19:00' '11:18:00' '18:56:00' '09:20:00'\n",
            " '20:10:00' '11:02:00' '20:19:00' '15:35:00' '13:18:00' '15:29:00'\n",
            " '11:10:00' '22:43:00' '23:56:00' '17:01:00' '09:38:00' '20:36:00'\n",
            " '21:53:00' '11:39:00' '21:55:00' '21:06:00' '22:14:00' '13:59:00'\n",
            " '13:53:00' '23:21:00' '23:05:00' '21:14:00' '22:50:00' '21:20:00'\n",
            " '12:13:00' '22:01:00' '22:37:00' '21:23:00' '20:35:00' '20:02:00'\n",
            " '21:47:00' '23:19:00' '21:58:00' '21:34:00' '22:53:00' '21:22:00'\n",
            " '21:54:00' '21:17:00' '21:43:00' '20:56:00' '22:00:00' '23:06:00'\n",
            " '20:38:00' '16:58:00' '22:08:00' '22:56:00' '22:48:00' '19:17:00'\n",
            " '15:12:00' '17:43:00' '18:50:00' '20:41:00' '19:18:00' '19:09:00'\n",
            " '22:34:00' '22:42:00' '21:52:00' '21:21:00' '22:12:00' '22:55:00'\n",
            " '16:13:00' '20:54:00' '16:19:00' '21:11:00' '21:35:00' '19:48:00'\n",
            " '17:30:00' '23:02:00' '23:34:00' '19:01:00' '18:38:00' '19:58:00'\n",
            " '20:03:00' '21:02:00' '18:55:00' '15:44:00' '18:41:00' '17:34:00'\n",
            " '16:07:00' '16:57:00' '20:57:00' '16:46:00' '21:57:00' '16:51:00'\n",
            " '22:57:00' '13:42:00' '22:13:00' '19:03:00' '19:54:00' '19:39:00'\n",
            " '12:26:00' '17:46:00' '12:14:00' '17:48:00' '14:19:00' '07:55:00'\n",
            " '16:18:00' '08:05:00' '12:24:00' '19:04:00' '18:09:00' '09:19:00'\n",
            " '15:17:00' '13:00:00' '17:23:00' '14:56:00' '09:25:00' '12:45:00'\n",
            " '20:53:00' '17:40:00' '19:50:00' '11:06:00' '20:25:00' '18:31:00'\n",
            " '17:11:00' '17:16:00' '20:59:00' '22:36:00' '22:17:00' '22:30:00'\n",
            " '22:16:00' '23:33:00' '15:02:00' '15:40:00' '18:43:00' '19:12:00'\n",
            " '18:49:00' '18:42:00' '18:23:00' '14:47:00' '21:01:00' '23:54:00'\n",
            " '20:00:00' '23:31:00' '19:34:00' '23:20:00' '11:35:00' '23:37:00'\n",
            " '21:32:00' '20:47:00' '21:18:00' '15:54:00' '21:38:00' '17:03:00'\n",
            " '21:59:00' '17:39:00' '22:18:00' '18:45:00' '13:57:00' '20:52:00'\n",
            " '21:39:00' '16:53:00' '18:36:00' '15:58:00' '18:18:00' '16:05:00'\n",
            " '20:48:00' '16:43:00' '21:49:00' '19:59:00' '20:04:00' '19:56:00'\n",
            " '18:02:00' '18:07:00' '18:59:00' '17:33:00' '14:43:00' '19:36:00'\n",
            " '20:43:00' '19:02:00' '16:29:00' '19:51:00' '14:27:00' '14:33:00'\n",
            " '15:37:00' '22:11:00' '22:22:00' '17:59:00' '18:29:00' '19:49:00'\n",
            " '17:31:00' '16:14:00' '15:52:00' '14:55:00' '14:38:00' '16:36:00'\n",
            " '19:00:00' '23:00:00' '18:01:00' '18:24:00' '18:51:00' '22:44:00'\n",
            " '19:07:00' '17:50:00' '16:08:00' '19:16:00' '19:06:00' '19:30:00'\n",
            " '22:24:00' '18:06:00' '18:17:00' '17:36:00' '19:10:00' '23:55:00'\n",
            " '22:05:00' '00:10:00' '22:49:00' '17:09:00' '22:58:00' '09:34:00'\n",
            " '00:21:00' '14:46:00' '12:17:00' '22:46:00' '13:32:00' '18:57:00'\n",
            " '23:24:00' '15:59:00' '16:09:00' '10:47:00' '22:09:00' '13:28:00'\n",
            " '17:07:00' '17:08:00' '18:30:00' '20:33:00' '08:55:00' '14:08:00'\n",
            " '18:26:00' '17:21:00' '17:12:00' '21:13:00' '18:54:00' '17:29:00'\n",
            " '21:51:00' '21:36:00' '19:29:00' '17:17:00' '16:59:00' '21:09:00'\n",
            " '21:10:00' '18:34:00' '16:33:00' '17:52:00' '17:25:00' '20:13:00'\n",
            " '22:15:00' '21:19:00' '19:23:00' '16:02:00' '16:34:00' '18:19:00'\n",
            " '11:27:00' '17:06:00' '13:46:00' '16:54:00' '19:52:00' '22:03:00'\n",
            " '17:19:00' '22:35:00' '19:41:00' '22:06:00' '20:26:00' '21:41:00'\n",
            " '20:40:00' '22:19:00' '15:46:00' '20:12:00' '19:46:00' '16:56:00'\n",
            " '17:24:00' '19:37:00' '19:24:00' '19:28:00' '19:33:00' '18:08:00'\n",
            " '19:32:00' '19:05:00' '18:58:00' '21:26:00' '18:37:00' '18:27:00'\n",
            " '20:27:00' '23:28:00' '23:08:00' '23:07:00' '21:44:00' '20:30:00'\n",
            " '22:21:00' '07:38:00' '19:25:00' '16:06:00' '19:31:00' '07:31:00'\n",
            " '07:33:00' '22:04:00' '23:09:00' '20:18:00' '23:11:00' '00:00:00'\n",
            " '16:38:00' '18:48:00' '21:42:00' '21:45:00' '16:44:00' '23:14:00'\n",
            " '21:25:00' '23:41:00' '21:46:00' '16:28:00' '17:32:00' '16:17:00'\n",
            " '17:13:00' '17:55:00' '18:32:00' '15:30:00' '14:53:00' '14:10:00'\n",
            " '23:42:00' '13:09:00' '16:21:00' '20:07:00' '13:23:00' '22:41:00'\n",
            " '17:27:00' '14:58:00' '20:14:00' '00:01:00' '21:24:00' '19:13:00'\n",
            " '22:31:00' '22:51:00' '20:37:00' '22:39:00' '19:57:00' '20:34:00'\n",
            " '18:47:00' '22:40:00' '22:38:00' '20:39:00' '22:23:00' '23:15:00'\n",
            " '22:26:00' '00:19:00' '23:18:00' '21:33:00' '23:49:00' '22:02:00'\n",
            " '22:25:00' '22:27:00' '00:33:00' '23:30:00' '23:39:00' '23:40:00'\n",
            " '20:01:00' '15:07:00' '23:26:00' '23:01:00' '23:25:00' '23:22:00'\n",
            " '18:33:00' '00:13:00' '00:14:00' '22:54:00' '21:37:00' '00:07:00'\n",
            " '23:10:00' '06:37:00' '20:46:00' '23:58:00' '23:13:00' '23:04:00'\n",
            " '22:47:00' '00:16:00' '23:44:00' '23:35:00' '20:29:00' '23:03:00'\n",
            " '00:17:00' '01:26:00' '00:58:00' '23:12:00' '23:46:00' '23:38:00'\n",
            " '23:50:00' '07:26:00' '23:27:00' '23:16:00' '00:04:00' '00:20:00'\n",
            " '00:22:00' '23:29:00' '23:59:00']\n"
          ]
        }
      ],
      "source": [
        "print(df_copy['Closure Time'].unique())"
      ]
    },
    {
      "cell_type": "code",
      "execution_count": 16,
      "id": "9f641db8",
      "metadata": {
        "id": "9f641db8",
        "colab": {
          "base_uri": "https://localhost:8080/"
        },
        "outputId": "25319faa-268c-4f9e-ede3-7614206a31f5"
      },
      "outputs": [
        {
          "output_type": "stream",
          "name": "stdout",
          "text": [
            "object\n",
            "0    08:39:00\n",
            "1    08:23:00\n",
            "2    13:01:00\n",
            "3    14:20:00\n",
            "4    10:04:00\n",
            "5    10:31:00\n",
            "6    08:56:00\n",
            "7    09:07:00\n",
            "8    15:05:00\n",
            "9    08:48:00\n",
            "Name: Closure Time, dtype: object\n"
          ]
        }
      ],
      "source": [
        "print(df_copy['Closure Time'].dtype)\n",
        "print(df_copy['Closure Time'].head(10))"
      ]
    },
    {
      "cell_type": "code",
      "execution_count": 17,
      "id": "5c981b18",
      "metadata": {
        "id": "5c981b18"
      },
      "outputs": [],
      "source": [
        "df_copy['Closure Time'] = pd.to_datetime(\n",
        "    df_copy['Closure Time'],\n",
        "    format='%H:%M:%S',\n",
        "    errors='coerce'\n",
        ").dt.time"
      ]
    },
    {
      "cell_type": "code",
      "execution_count": 18,
      "id": "18cae45f",
      "metadata": {
        "id": "18cae45f",
        "colab": {
          "base_uri": "https://localhost:8080/"
        },
        "outputId": "2fd637bd-abe4-4628-ab92-5dc9027cbfe4"
      },
      "outputs": [
        {
          "output_type": "stream",
          "name": "stdout",
          "text": [
            "object\n",
            "0    08:39:00\n",
            "1    08:23:00\n",
            "2    13:01:00\n",
            "3    14:20:00\n",
            "4    10:04:00\n",
            "5    10:31:00\n",
            "6    08:56:00\n",
            "7    09:07:00\n",
            "8    15:05:00\n",
            "9    08:48:00\n",
            "Name: Closure Time, dtype: object\n",
            "Missing values: 0\n"
          ]
        }
      ],
      "source": [
        "print(df_copy['Closure Time'].dtype)\n",
        "print(df_copy['Closure Time'].head(10))\n",
        "print(\"Missing values:\", df_copy['Closure Time'].isna().sum())"
      ]
    },
    {
      "cell_type": "code",
      "execution_count": 19,
      "id": "ec1530f6",
      "metadata": {
        "id": "ec1530f6"
      },
      "outputs": [],
      "source": [
        "df_copy['Closure Time'] = pd.to_timedelta(\n",
        "    df_copy['Closure Time'].astype(str),\n",
        "    errors='coerce')"
      ]
    },
    {
      "cell_type": "code",
      "execution_count": 20,
      "id": "2ce92c00",
      "metadata": {
        "id": "2ce92c00",
        "colab": {
          "base_uri": "https://localhost:8080/"
        },
        "outputId": "2bf13777-7b0b-4522-ce5f-0dd623301160"
      },
      "outputs": [
        {
          "output_type": "stream",
          "name": "stdout",
          "text": [
            "timedelta64[ns]\n",
            "0   0 days 08:39:00\n",
            "1   0 days 08:23:00\n",
            "2   0 days 13:01:00\n",
            "3   0 days 14:20:00\n",
            "4   0 days 10:04:00\n",
            "5   0 days 10:31:00\n",
            "6   0 days 08:56:00\n",
            "7   0 days 09:07:00\n",
            "8   0 days 15:05:00\n",
            "9   0 days 08:48:00\n",
            "Name: Closure Time, dtype: timedelta64[ns]\n",
            "Missing values: 0\n"
          ]
        }
      ],
      "source": [
        "print(df_copy['Closure Time'].dtype)\n",
        "print(df_copy['Closure Time'].head(10))\n",
        "print(\"Missing values:\", df_copy['Closure Time'].isna().sum())"
      ]
    },
    {
      "cell_type": "markdown",
      "id": "3a4a8ba1",
      "metadata": {
        "id": "3a4a8ba1"
      },
      "source": [
        "Incision Time:"
      ]
    },
    {
      "cell_type": "code",
      "execution_count": 21,
      "id": "0e5822ec",
      "metadata": {
        "id": "0e5822ec"
      },
      "outputs": [],
      "source": [
        "df_copy['Incision Time'] = pd.to_datetime(\n",
        "    df_copy['Incision Time'],\n",
        "    format='%H:%M:%S',\n",
        "    errors='coerce'\n",
        ").dt.time"
      ]
    },
    {
      "cell_type": "code",
      "execution_count": 22,
      "id": "2f9b5f30",
      "metadata": {
        "id": "2f9b5f30",
        "colab": {
          "base_uri": "https://localhost:8080/"
        },
        "outputId": "ec374c3f-f54d-44d1-b4d9-b25b53867099"
      },
      "outputs": [
        {
          "output_type": "stream",
          "name": "stdout",
          "text": [
            "object\n",
            "0    07:21:00\n",
            "1    07:33:00\n",
            "2    11:37:00\n",
            "3    13:11:00\n",
            "4    10:54:00\n",
            "5    09:11:00\n",
            "6    07:57:00\n",
            "7    07:40:00\n",
            "8    13:38:00\n",
            "9    07:45:00\n",
            "Name: Incision Time, dtype: object\n",
            "Missing values: 0\n"
          ]
        }
      ],
      "source": [
        "print(df_copy['Incision Time'].dtype)\n",
        "print(df_copy['Incision Time'].head(10))\n",
        "print(\"Missing values:\", df_copy['Incision Time'].isna().sum())"
      ]
    },
    {
      "cell_type": "code",
      "execution_count": 23,
      "id": "f3fa0d97",
      "metadata": {
        "id": "f3fa0d97"
      },
      "outputs": [],
      "source": [
        "df_copy['Incision Time'] = pd.to_timedelta(\n",
        "    df_copy['Incision Time'].astype(str),\n",
        "    errors='coerce')"
      ]
    },
    {
      "cell_type": "code",
      "execution_count": 24,
      "id": "6b778cf5",
      "metadata": {
        "id": "6b778cf5",
        "colab": {
          "base_uri": "https://localhost:8080/"
        },
        "outputId": "725bc093-722f-4466-cc56-c62bf6bae60c"
      },
      "outputs": [
        {
          "output_type": "stream",
          "name": "stdout",
          "text": [
            "timedelta64[ns]\n",
            "0   0 days 07:21:00\n",
            "1   0 days 07:33:00\n",
            "2   0 days 11:37:00\n",
            "3   0 days 13:11:00\n",
            "4   0 days 10:54:00\n",
            "5   0 days 09:11:00\n",
            "6   0 days 07:57:00\n",
            "7   0 days 07:40:00\n",
            "8   0 days 13:38:00\n",
            "9   0 days 07:45:00\n",
            "Name: Incision Time, dtype: timedelta64[ns]\n",
            "Missing values: 0\n"
          ]
        }
      ],
      "source": [
        "print(df_copy['Incision Time'].dtype)\n",
        "print(df_copy['Incision Time'].head(10))\n",
        "print(\"Missing values:\", df_copy['Incision Time'].isna().sum())"
      ]
    },
    {
      "cell_type": "markdown",
      "id": "0dbee873",
      "metadata": {
        "id": "0dbee873"
      },
      "source": [
        "Planned Start Time for Doctor Block:"
      ]
    },
    {
      "cell_type": "code",
      "execution_count": 25,
      "id": "70b52875",
      "metadata": {
        "id": "70b52875"
      },
      "outputs": [],
      "source": [
        "df_copy['Planned Start Time for Doctor Block'] = pd.to_datetime(\n",
        "    df_copy['Planned Start Time for Doctor Block'],\n",
        "    format='%H:%M:%S',\n",
        "    errors='coerce'\n",
        ").dt.time"
      ]
    },
    {
      "cell_type": "code",
      "execution_count": 26,
      "id": "91c44378",
      "metadata": {
        "id": "91c44378",
        "colab": {
          "base_uri": "https://localhost:8080/"
        },
        "outputId": "9017f127-8893-4acb-c561-0006a82adcad"
      },
      "outputs": [
        {
          "output_type": "stream",
          "name": "stdout",
          "text": [
            "object\n",
            "0    07:05:00\n",
            "1    07:00:00\n",
            "2    07:00:00\n",
            "3    07:00:00\n",
            "4    07:00:00\n",
            "5    07:00:00\n",
            "6    07:00:00\n",
            "7    07:00:00\n",
            "8    13:00:00\n",
            "9    07:00:00\n",
            "Name: Planned Start Time for Doctor Block, dtype: object\n",
            "Missing values: 0\n"
          ]
        }
      ],
      "source": [
        "print(df_copy['Planned Start Time for Doctor Block'].dtype)\n",
        "print(df_copy['Planned Start Time for Doctor Block'].head(10))\n",
        "print(\"Missing values:\", df_copy['Planned Start Time for Doctor Block'].isna().sum())"
      ]
    },
    {
      "cell_type": "code",
      "execution_count": 27,
      "id": "83742496",
      "metadata": {
        "id": "83742496"
      },
      "outputs": [],
      "source": [
        "df_copy['Planned Start Time for Doctor Block'] = pd.to_timedelta(\n",
        "    df_copy['Planned Start Time for Doctor Block'].astype(str),\n",
        "    errors='coerce')"
      ]
    },
    {
      "cell_type": "code",
      "execution_count": 28,
      "id": "bf7d95e3",
      "metadata": {
        "id": "bf7d95e3",
        "colab": {
          "base_uri": "https://localhost:8080/"
        },
        "outputId": "13a56fb5-318f-44f1-8e7b-6c475aaa788a"
      },
      "outputs": [
        {
          "output_type": "stream",
          "name": "stdout",
          "text": [
            "timedelta64[ns]\n",
            "0   0 days 07:05:00\n",
            "1   0 days 07:00:00\n",
            "2   0 days 07:00:00\n",
            "3   0 days 07:00:00\n",
            "4   0 days 07:00:00\n",
            "5   0 days 07:00:00\n",
            "6   0 days 07:00:00\n",
            "7   0 days 07:00:00\n",
            "8   0 days 13:00:00\n",
            "9   0 days 07:00:00\n",
            "Name: Planned Start Time for Doctor Block, dtype: timedelta64[ns]\n",
            "Missing values: 0\n"
          ]
        }
      ],
      "source": [
        "print(df_copy['Planned Start Time for Doctor Block'].dtype)\n",
        "print(df_copy['Planned Start Time for Doctor Block'].head(10))\n",
        "print(\"Missing values:\", df_copy['Planned Start Time for Doctor Block'].isna().sum())"
      ]
    },
    {
      "cell_type": "markdown",
      "id": "9c731492",
      "metadata": {
        "id": "9c731492"
      },
      "source": [
        "Actual Surgery Room Entry Time:"
      ]
    },
    {
      "cell_type": "code",
      "execution_count": 29,
      "id": "91f70f9c",
      "metadata": {
        "id": "91f70f9c"
      },
      "outputs": [],
      "source": [
        "df_copy['Actual Surgery Room Entry Time'] = pd.to_datetime(\n",
        "    df_copy['Actual Surgery Room Entry Time'],\n",
        "    format='%H:%M:%S',\n",
        "    errors='coerce'\n",
        ").dt.time"
      ]
    },
    {
      "cell_type": "code",
      "execution_count": 30,
      "id": "399f7d03",
      "metadata": {
        "id": "399f7d03",
        "colab": {
          "base_uri": "https://localhost:8080/"
        },
        "outputId": "c1643442-78f8-4fc0-b0b2-dad6b515b8f6"
      },
      "outputs": [
        {
          "output_type": "stream",
          "name": "stdout",
          "text": [
            "object\n",
            "0    07:07:00\n",
            "1    07:07:00\n",
            "2    11:10:00\n",
            "3    12:58:00\n",
            "4    10:34:00\n",
            "5    08:47:00\n",
            "6    07:18:00\n",
            "7    07:10:00\n",
            "8    13:18:00\n",
            "9    07:07:00\n",
            "Name: Actual Surgery Room Entry Time, dtype: object\n",
            "Missing values: 0\n"
          ]
        }
      ],
      "source": [
        "print(df_copy['Actual Surgery Room Entry Time'].dtype)\n",
        "print(df_copy['Actual Surgery Room Entry Time'].head(10))\n",
        "print(\"Missing values:\", df_copy['Actual Surgery Room Entry Time'].isna().sum())"
      ]
    },
    {
      "cell_type": "code",
      "execution_count": 31,
      "id": "52c9603c",
      "metadata": {
        "id": "52c9603c"
      },
      "outputs": [],
      "source": [
        "df_copy['Actual Surgery Room Entry Time'] = pd.to_timedelta(\n",
        "    df_copy['Actual Surgery Room Entry Time'].astype(str),\n",
        "    errors='coerce')"
      ]
    },
    {
      "cell_type": "code",
      "execution_count": 32,
      "id": "98ba9459",
      "metadata": {
        "id": "98ba9459",
        "colab": {
          "base_uri": "https://localhost:8080/"
        },
        "outputId": "38a07c2f-6f10-463a-d6d0-7c01f8d59adb"
      },
      "outputs": [
        {
          "output_type": "stream",
          "name": "stdout",
          "text": [
            "timedelta64[ns]\n",
            "0   0 days 07:07:00\n",
            "1   0 days 07:07:00\n",
            "2   0 days 11:10:00\n",
            "3   0 days 12:58:00\n",
            "4   0 days 10:34:00\n",
            "5   0 days 08:47:00\n",
            "6   0 days 07:18:00\n",
            "7   0 days 07:10:00\n",
            "8   0 days 13:18:00\n",
            "9   0 days 07:07:00\n",
            "Name: Actual Surgery Room Entry Time, dtype: timedelta64[ns]\n",
            "Missing values: 0\n"
          ]
        }
      ],
      "source": [
        "print(df_copy['Actual Surgery Room Entry Time'].dtype)\n",
        "print(df_copy['Actual Surgery Room Entry Time'].head(10))\n",
        "print(\"Missing values:\", df_copy['Actual Surgery Room Entry Time'].isna().sum())"
      ]
    },
    {
      "cell_type": "code",
      "execution_count": 33,
      "id": "99e683eb",
      "metadata": {
        "id": "99e683eb"
      },
      "outputs": [],
      "source": [
        "# List of columns that contain values in hours format only\n",
        "time_columns = [\n",
        "    'Actual Surgery Room Entry Time',\n",
        "    'Planned Start Time for Doctor Block',\n",
        "    'Incision Time',\n",
        "    'Closure Time',\n",
        "    'Planned End Time for Doctor Block']"
      ]
    },
    {
      "cell_type": "markdown",
      "source": [
        "Checking lines with illogical time intersections:"
      ],
      "metadata": {
        "id": "k9R8M9KBmwYH"
      },
      "id": "k9R8M9KBmwYH"
    },
    {
      "cell_type": "code",
      "source": [
        "import pandas as pd\n",
        "\n",
        "# List of columns being checked\n",
        "time_cols = [\"Entry DateTime\", \"Incision DateTime\", \"Closure DateTime\", \"Exit DateTime\"]\n",
        "\n",
        "# Make sure the columns are in datetime format:\n",
        "for col in time_cols:\n",
        "    df_copy[col] = pd.to_datetime(df_copy[col], errors='coerce')\n",
        "\n",
        "# Error count and list of deleted cells\n",
        "internal_corrections = 0\n",
        "external_corrections = 0\n",
        "deleted_cells = []\n",
        "\n",
        "# Cleaning up internal inconsistencies within a row\n",
        "def clean_internal_conflicts(row):\n",
        "    global internal_corrections\n",
        "    for i in range(len(time_cols) - 1):\n",
        "        col1 = time_cols[i]\n",
        "        col2 = time_cols[i + 1]\n",
        "        t1 = row[col1]\n",
        "        t2 = row[col2]\n",
        "\n",
        "        if pd.notnull(t1) and pd.notnull(t2) and t1 > t2:\n",
        "            prev_time = row[time_cols[i - 1]] if i > 0 else None\n",
        "            next_time = row[time_cols[i + 2]] if i + 2 < len(time_cols) else None\n",
        "\n",
        "            if prev_time is not None and pd.notnull(prev_time) and prev_time > t1:\n",
        "                bad_col = col1\n",
        "            elif next_time is not None and pd.notnull(next_time) and t2 > next_time:\n",
        "                bad_col = col2\n",
        "            else:\n",
        "                bad_col = col1  # default\n",
        "\n",
        "            deleted_cells.append((row.name, bad_col, row[bad_col]))\n",
        "            row[bad_col] = pd.NaT\n",
        "            internal_corrections += 1\n",
        "    return row\n",
        "\n",
        "df_copy = df_copy.apply(clean_internal_conflicts, axis=1)\n",
        "\n",
        "# Conflict between current Exit and next Entry\n",
        "df_copy[\"next_Entry DateTime\"] = df_copy[\"Entry DateTime\"].shift(-1)\n",
        "\n",
        "def fix_external_conflict(row):\n",
        "    global external_corrections\n",
        "    if pd.notnull(row[\"Exit DateTime\"]) and pd.notnull(row[\"next_Entry DateTime\"]):\n",
        "        if row[\"Exit DateTime\"] > row[\"next_Entry DateTime\"]:\n",
        "            deleted_cells.append((row.name, \"Exit DateTime\", row[\"Exit DateTime\"]))\n",
        "            row[\"Exit DateTime\"] = pd.NaT\n",
        "            external_corrections += 1\n",
        "    return row\n",
        "\n",
        "df_copy = df_copy.apply(fix_external_conflict, axis=1)\n",
        "df_copy.drop(columns=[\"next_Entry DateTime\"], inplace=True)\n",
        "\n",
        "# Conflict between current Entry and previous Exit → Always delete the Exit of the previous line\n",
        "df_copy[\"prev_Exit DateTime\"] = df_copy[\"Exit DateTime\"].shift(1)\n",
        "\n",
        "def fix_inter_row_conflict_strict(row):\n",
        "    global external_corrections\n",
        "    entry = row[\"Entry DateTime\"]\n",
        "    prev_exit = row[\"prev_Exit DateTime\"]\n",
        "\n",
        "    if pd.notnull(entry) and pd.notnull(prev_exit) and entry < prev_exit:\n",
        "        idx_prev = row.name - 1\n",
        "        deleted_cells.append((idx_prev, \"Exit DateTime\", df_copy.at[idx_prev, \"Exit DateTime\"]))\n",
        "        df_copy.at[idx_prev, \"Exit DateTime\"] = pd.NaT\n",
        "        external_corrections += 1\n",
        "\n",
        "    return row\n",
        "\n",
        "df_copy = df_copy.apply(fix_inter_row_conflict_strict, axis=1)\n",
        "df_copy.drop(columns=[\"prev_Exit DateTime\"], inplace=True)\n",
        "\n",
        "# summary\n",
        "print(f\"Cleaning finished:\")\n",
        "print(f\"{internal_corrections} Internal corrections were made within lines.\")\n",
        "print(f\"{external_corrections} Corrections of conflicts between lines have been made.\")\n",
        "\n",
        "# Show an example of deleted entries\n",
        "if deleted_cells:\n",
        "    print(\"\\n Example of deleted entries\")\n",
        "    for row_idx, col, val in deleted_cells[:5]:\n",
        "        print(f\" Row {row_idx}, column '{col}', deleted value: {val}\")\n",
        "else:\n",
        "    print(\" No entries were deleted.\")"
      ],
      "metadata": {
        "colab": {
          "base_uri": "https://localhost:8080/"
        },
        "id": "MyTlye5PIlhY",
        "outputId": "7161a8ea-93e1-4f77-f133-03196698c3a9"
      },
      "id": "MyTlye5PIlhY",
      "execution_count": 34,
      "outputs": [
        {
          "output_type": "stream",
          "name": "stdout",
          "text": [
            "Cleaning finished:\n",
            "0 Internal corrections were made within lines.\n",
            "899 Corrections of conflicts between lines have been made.\n",
            "\n",
            " Example of deleted entries\n",
            " Row 9, column 'Exit DateTime', deleted value: 2020-07-10 08:55:00\n",
            " Row 28, column 'Exit DateTime', deleted value: 2020-09-06 13:13:00\n",
            " Row 36, column 'Exit DateTime', deleted value: 2020-10-26 09:52:00\n",
            " Row 39, column 'Exit DateTime', deleted value: 2020-11-22 09:54:00\n",
            " Row 87, column 'Exit DateTime', deleted value: 2020-12-04 08:37:00\n"
          ]
        }
      ]
    },
    {
      "cell_type": "markdown",
      "id": "5d508949",
      "metadata": {
        "id": "5d508949"
      },
      "source": [
        "SP, only consider shift boundaries!"
      ]
    },
    {
      "cell_type": "code",
      "execution_count": 35,
      "id": "81b9d685",
      "metadata": {
        "id": "81b9d685",
        "colab": {
          "base_uri": "https://localhost:8080/"
        },
        "outputId": "97c01dd3-ad2c-4b76-db2c-1144ad15723a"
      },
      "outputs": [
        {
          "output_type": "stream",
          "name": "stdout",
          "text": [
            "Missing values at shift boundaries:\n",
            " Planned Start Time for Doctor Block    0\n",
            "Planned End Time for Doctor Block      0\n",
            "dtype: int64\n"
          ]
        }
      ],
      "source": [
        "# Checking how many missing values there are in the shift columns\n",
        "missing_values = df_copy[['Planned Start Time for Doctor Block', 'Planned End Time for Doctor Block']].isna().sum()\n",
        "print(\"Missing values at shift boundaries:\\n\", missing_values)"
      ]
    },
    {
      "cell_type": "code",
      "execution_count": 36,
      "id": "d436fba0",
      "metadata": {
        "id": "d436fba0"
      },
      "outputs": [],
      "source": [
        "# Convert date columns to datetime format\n",
        "date_columns = [\"Actual Surgery Room Entry Date\", \"Planned Start Date for Doctor Block\"]\n",
        "for col in date_columns:\n",
        "    df_copy[col] = pd.to_datetime(df[col], errors='coerce')  # Save the date only"
      ]
    },
    {
      "cell_type": "code",
      "execution_count": 37,
      "id": "23941606",
      "metadata": {
        "id": "23941606",
        "colab": {
          "base_uri": "https://localhost:8080/"
        },
        "outputId": "86b320bd-0718-4b9b-9312-f56e56ad31cd"
      },
      "outputs": [
        {
          "output_type": "stream",
          "name": "stdout",
          "text": [
            "datetime64[ns]\n"
          ]
        }
      ],
      "source": [
        "print(df_copy['Planned Start Date for Doctor Block'].dtype)"
      ]
    },
    {
      "cell_type": "code",
      "source": [
        "import pandas as pd\n",
        "import numpy as np\n",
        "\n",
        "# Convert columns to dates:\n",
        "datetime_cols = [\n",
        "    \"Actual Surgery Room Entry Date\",\n",
        "    \"End of Surgery Date (Exit from OR)\",\n",
        "    \"Planned Start Date for Doctor Block\",\n",
        "    \"Planned End Date for Doctor Block\"\n",
        "]\n",
        "for col in datetime_cols:\n",
        "    df_copy[col] = pd.to_datetime(df_copy[col], errors='coerce')\n",
        "\n",
        "# Creating new consolidated columns:\n",
        "df_copy[\"Planned Start DateTime\"] = df_copy[\"Planned Start Date for Doctor Block\"] + pd.to_timedelta(df_copy[\"Planned Start Time for Doctor Block\"].astype(str), errors='coerce')\n",
        "df_copy[\"Planned End DateTime\"] = df_copy[\"Planned End Date for Doctor Block\"] + pd.to_timedelta(df_copy[\"Planned End Time for Doctor Block\"].astype(str), errors='coerce')\n",
        "\n",
        "# Actual full surgery duration without shift restrictions:\n",
        "df_copy[\"S_p_raw\"] = df_copy[\"Closure DateTime\"] - df_copy[\"Incision DateTime\"]\n",
        "\n",
        "# Convert duration to decimal hours:\n",
        "df_copy[\"S_p_raw_hours\"] = df_copy[\"S_p_raw\"].dt.total_seconds() / 3600\n",
        "df_copy[\"S_p_raw_hours\"] = df_copy[\"S_p_raw_hours\"].round(5)\n",
        "\n",
        "# Actual duration of surgery within the block (shift) boundaries:\n",
        "df_copy[\"S_p_limited\"] = (\n",
        "    df_copy[[\"Closure DateTime\", \"Planned End DateTime\"]].min(axis=1) -\n",
        "    df_copy[[\"Incision DateTime\", \"Planned Start DateTime\"]].max(axis=1)\n",
        ").clip(lower=pd.Timedelta(0))\n",
        "\n",
        "df_copy.loc[\n",
        "    df_copy[['Incision DateTime', 'Closure DateTime', 'Planned Start DateTime', 'Planned End DateTime']].isnull().any(axis=1),\n",
        "    \"S_p_limited\"\n",
        "] = pd.NaT\n",
        "\n",
        "df_copy[\"S_p_hours_limited\"] = df_copy[\"S_p_limited\"].dt.total_seconds() / 3600\n",
        "df_copy.loc[df_copy[\"S_p_limited\"].isna(), \"S_p_hours_limited\"] = np.nan\n",
        "df_copy[\"S_p_hours_limited\"] = df_copy[\"S_p_hours_limited\"].round(5)\n",
        "\n",
        "df_sp_sum = df_copy.groupby(\n",
        "    ['Actual Surgery Room Entry Date', 'Actual Operating Room Number'],\n",
        "    as_index=False\n",
        ")['S_p_hours_limited'].sum()\n",
        "\n",
        "df_sp_sum.rename(columns={'S_p_hours_limited': 'total_SP_per_day_room'}, inplace=True)\n",
        "\n",
        "assert not df_sp_sum.duplicated(subset=[\"Actual Surgery Room Entry Date\", \"Actual Operating Room Number\"]).any()\n",
        "\n",
        "df_copy = df_copy.merge(\n",
        "    df_sp_sum,\n",
        "    on=['Actual Surgery Room Entry Date', 'Actual Operating Room Number'],\n",
        "    how='left'\n",
        ")"
      ],
      "metadata": {
        "id": "FM1bE9OvX7Ul"
      },
      "id": "FM1bE9OvX7Ul",
      "execution_count": 38,
      "outputs": []
    },
    {
      "cell_type": "markdown",
      "id": "fefa2603",
      "metadata": {
        "id": "fefa2603"
      },
      "source": [
        "SUP:"
      ]
    },
    {
      "cell_type": "code",
      "source": [
        "dt_cols = [\n",
        "    \"Planned Start DateTime\", \"Planned End DateTime\",\n",
        "    \"Entry DateTime\", \"Exit DateTime\",\n",
        "    \"Incision DateTime\", \"Closure DateTime\"\n",
        "]\n",
        "for col in dt_cols:\n",
        "    df_copy[col] = pd.to_datetime(df_copy[col], errors='coerce')\n",
        "\n",
        "df_copy[\"SU_p_before_limited\"] = (\n",
        "    (df_copy[\"Incision DateTime\"] - df_copy[\"Entry DateTime\"]).clip(lower=pd.Timedelta(0)) +\n",
        "    (df_copy[\"Exit DateTime\"] - df_copy[\"Closure DateTime\"]).clip(lower=pd.Timedelta(0))\n",
        ")\n",
        "df_copy[\"SU_p_before_hours\"] = df_copy[\"SU_p_before_limited\"].dt.total_seconds() / 3600\n",
        "\n",
        "prep_start = df_copy[[\"Entry DateTime\", \"Planned Start DateTime\"]].max(axis=1)\n",
        "prep_end = df_copy[[\"Incision DateTime\", \"Planned End DateTime\"]].min(axis=1)\n",
        "prep_duration = (prep_end - prep_start).clip(lower=pd.Timedelta(0))\n",
        "\n",
        "post_start = df_copy[[\"Closure DateTime\", \"Planned Start DateTime\"]].max(axis=1)\n",
        "post_end = df_copy[[\"Exit DateTime\", \"Planned End DateTime\"]].min(axis=1)\n",
        "post_duration = (post_end - post_start).clip(lower=pd.Timedelta(0))\n",
        "\n",
        "df_copy[\"SU_p_after_limited\"] = prep_duration + post_duration\n",
        "df_copy[\"SU_p_after_hours\"] = df_copy[\"SU_p_after_limited\"].dt.total_seconds() / 3600\n",
        "\n",
        "df_copy.loc[df_copy[[\n",
        "    'Entry DateTime', 'Incision DateTime', 'Closure DateTime', 'Exit DateTime',\n",
        "    'Planned Start DateTime', 'Planned End DateTime'\n",
        "]].isnull().any(axis=1), \"SU_p_after_limited\"] = pd.NaT\n",
        "\n",
        "df_copy[\"SU_p_after_hours\"] = df_copy[\"SU_p_after_limited\"].dt.total_seconds() / 3600\n",
        "df_copy.loc[df_copy[\"SU_p_after_limited\"].isna(), \"SU_p_after_hours\"] = np.nan\n",
        "\n",
        "su_grouped = df_copy.groupby(\n",
        "    [\"Actual Surgery Room Entry Date\", \"Actual Operating Room Number\"],\n",
        "    as_index=False\n",
        ")[\"SU_p_after_hours\"].sum().rename(columns={\"SU_p_after_hours\": \"SU_p_limited_hours\"})\n",
        "\n",
        "df_copy = df_copy.merge(\n",
        "    su_grouped,\n",
        "    on=[\"Actual Surgery Room Entry Date\", \"Actual Operating Room Number\"],\n",
        "    how=\"left\"\n",
        ")\n",
        "\n",
        "print(df_copy[[\n",
        "    \"Actual Surgery Room Entry Date\", \"Actual Operating Room Number\",\n",
        "    \"SU_p_before_hours\", \"SU_p_after_hours\", \"SU_p_limited_hours\"\n",
        "]].head())"
      ],
      "metadata": {
        "id": "b6AJL6lDaJ1h",
        "colab": {
          "base_uri": "https://localhost:8080/"
        },
        "outputId": "0dfa1ab4-b524-4e9c-95b5-f3cdd5b3c33b"
      },
      "id": "b6AJL6lDaJ1h",
      "execution_count": 39,
      "outputs": [
        {
          "output_type": "stream",
          "name": "stdout",
          "text": [
            "  Actual Surgery Room Entry Date  Actual Operating Room Number  \\\n",
            "0                     2020-10-16                         20011   \n",
            "1                     2020-01-10                         20016   \n",
            "2                     2020-01-10                         20016   \n",
            "3                     2020-02-14                         20013   \n",
            "4                     2020-02-14                         20013   \n",
            "\n",
            "   SU_p_before_hours  SU_p_after_hours  SU_p_limited_hours  \n",
            "0                NaN               NaN            0.133333  \n",
            "1           0.633333          0.633333            1.916667  \n",
            "2           0.600000          0.450000            1.916667  \n",
            "3                NaN               NaN            0.000000  \n",
            "4                NaN               NaN            0.000000  \n"
          ]
        }
      ]
    },
    {
      "cell_type": "markdown",
      "id": "45d67968",
      "metadata": {
        "id": "45d67968"
      },
      "source": [
        "SHR:"
      ]
    },
    {
      "cell_type": "code",
      "source": [
        "#Calculate block duration in hours\n",
        "df_copy[\"Block Duration Hours\"] = (\n",
        "    df_copy[\"Planned End DateTime\"] - df_copy[\"Planned Start DateTime\"]\n",
        ").dt.total_seconds() / 3600\n",
        "\n",
        "# Get max block duration per surgeon per day and room\n",
        "df_max = df_copy.groupby(\n",
        "    ['Main Surgeon Code', 'Actual Surgery Room Entry Date', 'Actual Operating Room Number'],\n",
        "    as_index=False\n",
        ")['Block Duration Hours'].max()\n",
        "\n",
        "df_max.rename(columns={'Block Duration Hours': 'max_hours'}, inplace=True)\n",
        "\n",
        "# Sum the max values per day and room\n",
        "df_sum = df_max.groupby(\n",
        "    ['Actual Surgery Room Entry Date', 'Actual Operating Room Number'],\n",
        "    as_index=False\n",
        ")['max_hours'].sum()\n",
        "\n",
        "# Rename the result column to SH_r_hours\n",
        "df_sum.rename(columns={'max_hours': 'SH_r_hours'}, inplace=True)\n",
        "\n",
        "# Merge SH_r_hours back to df_copy\n",
        "df_copy = df_copy.merge(df_sum, on=['Actual Surgery Room Entry Date', 'Actual Operating Room Number'], how='left')"
      ],
      "metadata": {
        "id": "mXltxa-uezbl"
      },
      "id": "mXltxa-uezbl",
      "execution_count": 40,
      "outputs": []
    },
    {
      "cell_type": "markdown",
      "id": "ee641407",
      "metadata": {
        "id": "ee641407"
      },
      "source": [
        "Utilization rate:"
      ]
    },
    {
      "cell_type": "code",
      "execution_count": 41,
      "id": "00b31f40",
      "metadata": {
        "id": "00b31f40",
        "colab": {
          "base_uri": "https://localhost:8080/"
        },
        "outputId": "da590992-b389-40c4-cdfe-c33b0401181b"
      },
      "outputs": [
        {
          "output_type": "stream",
          "name": "stdout",
          "text": [
            "['patient_id', 'Site Code', 'Main Surgeon Code', 'Activity Code', 'Activity Type Code', 'Planned SU Time (Large/Medium/Small)', 'Pre-Surgery Admission Date', 'Height', 'Weight', 'Patient Age (on Surgery Day)', 'Background Diseases/Diagnoses', 'Planned Surgery Date', 'Planned Surgery Time', 'Surgery Admission Date', 'Administrative Admission Time', 'Planned Operating Room Number', 'Pre-Surgery Hospitalization Admission Date', 'Pre-Surgery Hospitalization Admission Time', 'Pre-Surgical Admission Time Before Surgery', 'Surgical Team Codes', 'Anesthesiologist Code', 'Anesthesia Code', 'Type of Anesthesia', 'Cancellation Reason on Surgery Day', 'Actual Operating Room Number', 'Actual Surgery Room Entry Date', 'Actual Surgery Room Entry Time', 'Incision Time', 'Closure Time', 'End of Surgery Date (Exit from OR)', 'End of Surgery Time (Exit from OR)', 'Planned Surgery Duration', 'Recovery Room Entry Date', 'Recovery Room Entry Time', 'Recovery Room Exit Date', 'Recovery Room Exit Time', 'Post-Surgery Discharge Date', 'Post-Surgery Discharge Time', 'Planned Start Date for Doctor Block', 'Planned Start Time for Doctor Block', 'Planned End Date for Doctor Block', 'Planned End Time for Doctor Block', 'Readmission', 'strict_signature', 'No Show', 'Entry DateTime', 'Incision DateTime', 'Closure DateTime', 'Exit DateTime', 'Planned Surgery Time_Minutes', 'Administrative Admission Time_Minutes', 'Pre-Surgery Hospitalization Admission Time_Minutes', 'Pre-Surgical Admission Time Before Surgery_Minutes', 'Actual Surgery Room Entry Time_Minutes', 'Incision Time_Minutes', 'Closure Time_Minutes', 'End of Surgery Time (Exit from OR)_Minutes', 'Recovery Room Entry Time_Minutes', 'Recovery Room Exit Time_Minutes', 'Post-Surgery Discharge Time_Minutes', 'Planned Start Time for Doctor Block_Minutes', 'Planned End Time for Doctor Block_Minutes', 'Planned Start DateTime', 'Planned End DateTime', 'S_p_raw', 'S_p_raw_hours', 'S_p_limited', 'S_p_hours_limited', 'total_SP_per_day_room', 'SU_p_before_limited', 'SU_p_before_hours', 'SU_p_after_limited', 'SU_p_after_hours', 'SU_p_limited_hours', 'Block Duration Hours', 'SH_r_hours']\n"
          ]
        }
      ],
      "source": [
        "print(df_copy.columns.tolist())"
      ]
    },
    {
      "cell_type": "code",
      "source": [
        "# Clean the data before utilization calculation\n",
        "\n",
        "# Remove rows where there was a No-Show\n",
        "num_noshow = df_copy[\"No Show\"].sum()\n",
        "print(f\"Removed {num_noshow} rows due to No-Show status.\")\n",
        "df_copy = df_copy[df_copy[\"No Show\"] != True]\n",
        "\n",
        "# Remove rows with missing time components needed for utilization calculation\n",
        "required_cols = [\n",
        "    \"Incision DateTime\",\n",
        "    \"Closure DateTime\",\n",
        "    \"Planned Start DateTime\",\n",
        "    \"Planned End DateTime\",\n",
        "    \"Actual Surgery Room Entry Date\",\n",
        "    \"Actual Surgery Room Entry Time\",\n",
        "    \"End of Surgery Time (Exit from OR)\"\n",
        "]\n",
        "df_copy = df_copy.dropna(subset=required_cols)\n",
        "\n",
        "print(f\"Remaining rows for utilization calculation: {len(df_copy)}\")\n",
        "\n",
        "if all(col in df_copy.columns for col in [\"total_SP_per_day_room\", \"SU_p_limited_hours\", \"SH_r_hours\"]):\n",
        "    df_copy[\"daily_utilization_rate\"] = (\n",
        "        (df_copy[\"total_SP_per_day_room\"] + df_copy[\"SU_p_limited_hours\"]) /\n",
        "        df_copy[\"SH_r_hours\"]\n",
        "    ) * 100\n",
        "    print(f\"Calculated utilization for {df_copy['daily_utilization_rate'].notna().sum()} rows.\")\n",
        "\n",
        "    df_copy.loc[df_copy[\"SH_r_hours\"].isna(), \"daily_utilization_rate\"] = np.nan\n",
        "    df_copy.loc[df_copy[\"SH_r_hours\"] == 0, \"daily_utilization_rate\"] = np.nan\n",
        "else:\n",
        "    print(\"Missing columns required to calculate utilization\")"
      ],
      "metadata": {
        "id": "anBiQ7FKTFUw",
        "colab": {
          "base_uri": "https://localhost:8080/"
        },
        "outputId": "50f11a3a-ef2f-46bb-bf47-34ed70cd8852"
      },
      "id": "anBiQ7FKTFUw",
      "execution_count": 42,
      "outputs": [
        {
          "output_type": "stream",
          "name": "stdout",
          "text": [
            "Removed 0 rows due to No-Show status.\n",
            "Remaining rows for utilization calculation: 12267\n",
            "Calculated utilization for 12267 rows.\n"
          ]
        }
      ]
    },
    {
      "cell_type": "code",
      "source": [
        "df_copy = df_copy.merge(df_copy[[\"Planned Start Date for Doctor Block\",\n",
        "                                        \"Actual Operating Room Number\",\n",
        "                                        \"daily_utilization_rate\"]],\n",
        "                        on=[\"Planned Start Date for Doctor Block\", \"Actual Operating Room Number\"],\n",
        "                        how=\"left\")"
      ],
      "metadata": {
        "id": "2rJ05nlBHQyD"
      },
      "id": "2rJ05nlBHQyD",
      "execution_count": 43,
      "outputs": []
    },
    {
      "cell_type": "code",
      "source": [
        "from datetime import timedelta\n",
        "\n",
        "for col in time_columns:\n",
        "    if col in df_copy.columns:\n",
        "        df_copy[col] = df_copy[col].apply(\n",
        "            lambda x: f\"{int(x.total_seconds() // 3600):02}:{int((x.total_seconds() % 3600) // 60):02}:{int(x.total_seconds() % 60):02}\"\n",
        "            if isinstance(x, timedelta) else (x if isinstance(x, str) else \"\")\n",
        "        )"
      ],
      "metadata": {
        "id": "y_KGCp5KsmGt"
      },
      "id": "y_KGCp5KsmGt",
      "execution_count": 44,
      "outputs": []
    },
    {
      "cell_type": "code",
      "source": [
        "df_copy.to_excel(\"2020_data_with_UTR.xlsx\", index=False)"
      ],
      "metadata": {
        "id": "2yV8jRPZFT_-"
      },
      "id": "2yV8jRPZFT_-",
      "execution_count": 45,
      "outputs": []
    }
  ],
  "metadata": {
    "kernelspec": {
      "display_name": "Python 3",
      "name": "python3"
    },
    "language_info": {
      "codemirror_mode": {
        "name": "ipython",
        "version": 3
      },
      "file_extension": ".py",
      "mimetype": "text/x-python",
      "name": "python",
      "nbconvert_exporter": "python",
      "pygments_lexer": "ipython3",
      "version": "3.11.5"
    },
    "colab": {
      "provenance": [],
      "gpuType": "T4"
    },
    "accelerator": "GPU"
  },
  "nbformat": 4,
  "nbformat_minor": 5
}